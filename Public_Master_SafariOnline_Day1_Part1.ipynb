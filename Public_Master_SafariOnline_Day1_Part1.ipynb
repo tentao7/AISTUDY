{
  "nbformat": 4,
  "nbformat_minor": 0,
  "metadata": {
    "colab": {
      "name": "Public-Master-SafariOnline-Day1-Part1.ipynb",
      "provenance": [],
      "collapsed_sections": [
        "Lgxm56T_u38j",
        "0kmgxW7Sxa6j",
        "kn-P-e_hjvK5",
        "10NtU6hV4nT6",
        "fdm3kA-Fo4pI",
        "Y_pr0ArieP7-",
        "P3xpdAnD3aqo",
        "5Kh5LRGT4CA1",
        "N9zJtAd5K8AK",
        "378G9oDxLd7J"
      ],
      "include_colab_link": true
    },
    "kernelspec": {
      "name": "python3",
      "display_name": "Python 3"
    },
    "accelerator": "GPU"
  },
  "cells": [
    {
      "cell_type": "markdown",
      "metadata": {
        "id": "view-in-github",
        "colab_type": "text"
      },
      "source": [
        "<a href=\"https://colab.research.google.com/github/tentao7/AISTUDY/blob/master/Public_Master_SafariOnline_Day1_Part1.ipynb\" target=\"_parent\"><img src=\"https://colab.research.google.com/assets/colab-badge.svg\" alt=\"Open In Colab\"/></a>"
      ]
    },
    {
      "cell_type": "markdown",
      "metadata": {
        "id": "4J2lIggJLUMS",
        "colab_type": "text"
      },
      "source": [
        "# **Essential Machine Learning and Exploratory Data Analysis with Python and Jupyter Notebook**\n",
        "\n"
      ]
    },
    {
      "cell_type": "markdown",
      "metadata": {
        "id": "c_Id55m6Jsbu",
        "colab_type": "text"
      },
      "source": [
        "## Pragmatic AI Labs\n",
        "\n"
      ]
    },
    {
      "cell_type": "markdown",
      "metadata": {
        "id": "e5p96AqpSDZa",
        "colab_type": "text"
      },
      "source": [
        "![alt text](https://paiml.com/images/logo_with_slogan_white_background.png)\n",
        "\n",
        "This notebook was produced by [Pragmatic AI Labs](https://paiml.com/).  You can continue learning about these topics by:\n",
        "\n",
        "*   Buying a copy of [Pragmatic AI: An Introduction to Cloud-Based Machine Learning](http://www.informit.com/store/pragmatic-ai-an-introduction-to-cloud-based-machine-9780134863917)\n",
        "*   Reading an online copy of [Pragmatic AI:Pragmatic AI: An Introduction to Cloud-Based Machine Learning](https://www.safaribooksonline.com/library/view/pragmatic-ai-an/9780134863924/)\n",
        "*  Watching video [Essential Machine Learning and AI with Python and Jupyter Notebook-Video-SafariOnline](https://www.safaribooksonline.com/videos/essential-machine-learning/9780135261118) on Safari Books Online.\n",
        "* Watching video [AWS Certified Machine Learning-Speciality](https://learning.oreilly.com/videos/aws-certified-machine/9780135556597)\n",
        "* Purchasing video [Essential Machine Learning and AI with Python and Jupyter Notebook- Purchase Video](http://www.informit.com/store/essential-machine-learning-and-ai-with-python-and-jupyter-9780135261095)\n",
        "*   Viewing more content at [noahgift.com](https://noahgift.com/)\n",
        "\n",
        "### Additional Related Topics from Noah Gift\n",
        "\n",
        "His most recent books are:\n",
        "\n",
        "*   [Pragmatic A.I.:   An introduction to Cloud-Based Machine Learning (Pearson, 2018)](https://www.amazon.com/Pragmatic-AI-Introduction-Cloud-Based-Analytics/dp/0134863860)\n",
        "*   [Python for DevOps (O'Reilly, 2020)](https://www.amazon.com/Python-DevOps-Ruthlessly-Effective-Automation/dp/149205769X). \n",
        "\n",
        "His most recent video courses are:\n",
        "\n",
        "*   [Essential Machine Learning and A.I. with Python and Jupyter Notebook LiveLessons (Pearson, 2018)](https://learning.oreilly.com/videos/essential-machine-learning/9780135261118)\n",
        "*   [AWS Certified Machine Learning-Specialty (ML-S) (Pearson, 2019)](https://learning.oreilly.com/videos/aws-certified-machine/9780135556597)\n",
        "*   [Python for Data Science Complete Video Course Video Training (Pearson, 2019)](https://learning.oreilly.com/videos/python-for-data/9780135687253)\n",
        "*   [AWS Certified Big Data - Specialty Complete Video Course and Practice Test Video Training (Pearson, 2019)](https://learning.oreilly.com/videos/aws-certified-big/9780135772324)\n",
        "*   [Building A.I. Applications on Google Cloud Platform (Pearson, 2019)](https://learning.oreilly.com/videos/building-ai-applications/9780135973462)\n",
        "*   [Pragmatic AI and Machine Learning Core Principles (Pearson, 2019)](https://learning.oreilly.com/videos/pragmatic-ai-and/9780136554714)\n",
        "*   [Data Engineering with Python and AWS Lambda (Pearson, 2019)](https://learning.oreilly.com/videos/data-engineering-with/9780135964330)\n",
        "\n",
        "His most recent online courses are:\n",
        "\n",
        "*   [Microservices with this Udacity DevOps Nanodegree (Udacity, 2019)](https://www.udacity.com/course/cloud-dev-ops-nanodegree--nd9991)\n",
        "*   [Command Line Automation in Python (DataCamp, 2019)](https://www.datacamp.com/instructors/ndgift)\n",
        "\n"
      ]
    },
    {
      "cell_type": "markdown",
      "metadata": {
        "id": "HWKUOfEBUMLS",
        "colab_type": "text"
      },
      "source": [
        "## Part 1.1: Introductory Concepts in Python, Jupyter and Colab\n",
        "\n",
        "* [Read related material covered in Chapter 1 of Pragmatic AI](https://www.safaribooksonline.com/library/view/pragmatic-ai-an/9780134863924/ch01.xhtml#ch01)\n",
        "\n",
        "* [Watch video section:  Lesson 1:  Introducing Data Science Coding with Python Fundamentals](https://www.safaribooksonline.com/videos/essential-machine-learning/9780135261118/9780135261118-EMLA_01_01_00)"
      ]
    },
    {
      "cell_type": "markdown",
      "metadata": {
        "id": "nP_6tcHM7yFm",
        "colab_type": "text"
      },
      "source": [
        "### Using IPython, Jupyter, Colab and Python executable\n",
        "\n",
        "\n"
      ]
    },
    {
      "cell_type": "markdown",
      "metadata": {
        "id": "n7JKyOrPkITH",
        "colab_type": "text"
      },
      "source": [
        "#### Using IPython\n",
        "\n",
        "Very similar to Jupyter, but run from terminal:\n",
        "\n",
        "*   IPython predates Jupyter\n",
        "*   Both Jupyter and IPython accept *!ls -l* format to execute shell commands\n",
        "\n"
      ]
    },
    {
      "cell_type": "code",
      "metadata": {
        "id": "YR3ZddpWM-uh",
        "colab_type": "code",
        "outputId": "75332541-304e-4255-bd80-8021fa190b42",
        "colab": {
          "base_uri": "https://localhost:8080/",
          "height": 55
        }
      },
      "source": [
        "!ls -l"
      ],
      "execution_count": 1,
      "outputs": [
        {
          "output_type": "stream",
          "text": [
            "total 4\n",
            "drwxr-xr-x 1 root root 4096 May 29 18:19 sample_data\n"
          ],
          "name": "stdout"
        }
      ]
    },
    {
      "cell_type": "code",
      "metadata": {
        "id": "RETmEcecyCVf",
        "colab_type": "code",
        "outputId": "c550da6e-d934-4336-aa0e-da279950ab05",
        "colab": {
          "base_uri": "https://localhost:8080/",
          "height": 34
        }
      },
      "source": [
        "var = !ls -l\n",
        "type(var)"
      ],
      "execution_count": 0,
      "outputs": [
        {
          "output_type": "execute_result",
          "data": {
            "text/plain": [
              "IPython.utils.text.SList"
            ]
          },
          "metadata": {
            "tags": []
          },
          "execution_count": 2
        }
      ]
    },
    {
      "cell_type": "code",
      "metadata": {
        "id": "dQMhyAm8sxSc",
        "colab_type": "code",
        "colab": {}
      },
      "source": [
        "#var.fields?"
      ],
      "execution_count": 0,
      "outputs": []
    },
    {
      "cell_type": "code",
      "metadata": {
        "id": "qGSSYqVOyJEP",
        "colab_type": "code",
        "outputId": "6cda1772-4401-4d13-90e8-be5bf1c24951",
        "colab": {
          "base_uri": "https://localhost:8080/",
          "height": 34
        }
      },
      "source": [
        "var.grep(\"data\")"
      ],
      "execution_count": 0,
      "outputs": [
        {
          "output_type": "execute_result",
          "data": {
            "text/plain": [
              "['drwxr-xr-x 1 root root 4096 Nov 21 16:30 sample_data']"
            ]
          },
          "metadata": {
            "tags": []
          },
          "execution_count": 3
        }
      ]
    },
    {
      "cell_type": "markdown",
      "metadata": {
        "id": "Pci2aotqPIME",
        "colab_type": "text"
      },
      "source": [
        "#### Jupyter Notebook\n",
        "\n",
        "\n",
        "Many flavors of Jupyter Notebook.  A few popular ones:\n",
        "\n",
        "* ![Jupyter](https://user-images.githubusercontent.com/58792/40282633-395be25c-5c27-11e8-9e40-357ea4216562.png)\n",
        "* ![JupyterHug](https://user-images.githubusercontent.com/58792/40282632-387efe32-5c27-11e8-9f02-6f95f2fee223.png)\n",
        "* ![Colab](https://user-images.githubusercontent.com/58792/40282631-384f8cf6-5c27-11e8-9209-3f0d22de0d81.png)\n",
        "* ![Kaggle](https://user-images.githubusercontent.com/58792/40282634-3985c3a6-5c27-11e8-8c53-06fbdedce847.png)\n",
        "* ![Sagemaker](https://user-images.githubusercontent.com/58792/40282635-39a3bdd4-5c27-11e8-81d5-6533a3b84771.png)\n",
        "\n",
        "#### Hosted Commercial Flavors\n",
        "\n",
        "* [Google Colaboratory](https://colab.research.google.com/notebook):  Free\n",
        "* [Kaggle](https://www.kaggle.com/):  Free\n",
        "\n",
        "\n",
        "#### Pure Open Source\n",
        "\n",
        "* [Jupyter](http://jupyter.org/) standalone, original\n",
        "* [JupyterHub](https://github.com/jupyterhub/jupyterhub) multi-user, docker friendly\n",
        "\n",
        "#### Hybrid Solutions\n",
        "\n",
        "* Running Jupyter on [AWS Spot Instances](https://aws.amazon.com/ec2/spot/)\n",
        "* [Google Data Lab](https://cloud.google.com/datalab/)\n",
        "* [Azure Data Science Virtual Machines](https://azure.microsoft.com/en-us/services/virtual-machines/data-science-virtual-machines/)\n",
        "* [AWS Sagemaker](https://aws.amazon.com/sagemaker/)\n",
        "* [Azure Machine Learning Studio](https://studio.azureml.net/)\n"
      ]
    },
    {
      "cell_type": "markdown",
      "metadata": {
        "id": "lh4tsf3-p-lw",
        "colab_type": "text"
      },
      "source": [
        "#### Colab Notebook Key Features\n",
        "\n",
        "* [12.1 Perform Colaboratory basics ](https://www.safaribooksonline.com/videos/essential-machine-learning/9780135261118/9780135261118-EMLA_01_12_01)\n",
        "\n",
        "* [12.2 Use Advanced Colab Features](https://www.safaribooksonline.com/videos/essential-machine-learning/9780135261118/9780135261118-EMLA_01_12_02)"
      ]
    },
    {
      "cell_type": "markdown",
      "metadata": {
        "id": "V-xv1E3YqDK4",
        "colab_type": "text"
      },
      "source": [
        "*  Can enable both TPU and GPU runtimes\n",
        "*  Can upload regular Jupyter Notebooks into colab\n",
        "*  Can have a Google Drive Full of Colab Notebooks\n",
        "*  Can sync colab notebooks to Github.  Here is an example of a [gist of this notebook](https://gist.github.com/noahgift/c69200e05c057cf239fc7ea0be62e043)\n",
        "*  Can connect to a [local runtime](https://research.google.com/colaboratory/local-runtimes.html)\n",
        "* Can create [forms in Colab](https://colab.research.google.com/notebooks/forms.ipynb)\n",
        "\n",
        "\n",
        "\n"
      ]
    },
    {
      "cell_type": "markdown",
      "metadata": {
        "id": "hPWO_zyRopXN",
        "colab_type": "text"
      },
      "source": [
        "##### Mount GDrive\n"
      ]
    },
    {
      "cell_type": "code",
      "metadata": {
        "id": "XI73HZNLobp4",
        "colab_type": "code",
        "outputId": "f9810fa8-fc58-40ac-e9c3-61d47e6b1dd6",
        "colab": {
          "base_uri": "https://localhost:8080/",
          "height": 124
        }
      },
      "source": [
        "from google.colab import drive\n",
        "drive.mount('/content/gdrive', force_remount=True)"
      ],
      "execution_count": 0,
      "outputs": [
        {
          "output_type": "stream",
          "text": [
            "Go to this URL in a browser: https://accounts.google.com/o/oauth2/auth?client_id=947318989803-6bn6qk8qdgf4n4g3pfee6491hc0brc4i.apps.googleusercontent.com&redirect_uri=urn%3Aietf%3Awg%3Aoauth%3A2.0%3Aoob&scope=email%20https%3A%2F%2Fwww.googleapis.com%2Fauth%2Fdocs.test%20https%3A%2F%2Fwww.googleapis.com%2Fauth%2Fdrive%20https%3A%2F%2Fwww.googleapis.com%2Fauth%2Fdrive.photos.readonly%20https%3A%2F%2Fwww.googleapis.com%2Fauth%2Fpeopleapi.readonly&response_type=code\n",
            "\n",
            "Enter your authorization code:\n",
            "··········\n",
            "Mounted at /content/gdrive\n"
          ],
          "name": "stdout"
        }
      ]
    },
    {
      "cell_type": "code",
      "metadata": {
        "id": "UNyzZwgmoxwm",
        "colab_type": "code",
        "outputId": "7a0d2711-c2ad-457e-ae40-86ec8b7dc706",
        "colab": {
          "base_uri": "https://localhost:8080/",
          "height": 34
        }
      },
      "source": [
        "import os;os.listdir(\"/content/gdrive/My Drive/awsml\")"
      ],
      "execution_count": 0,
      "outputs": [
        {
          "output_type": "execute_result",
          "data": {
            "text/plain": [
              "['kaggle.json', 'credentials', 'config', 'cloudai-7ab42a4d8a43.json']"
            ]
          },
          "metadata": {
            "tags": []
          },
          "execution_count": 7
        }
      ]
    },
    {
      "cell_type": "markdown",
      "metadata": {
        "id": "3jX9349SpLbr",
        "colab_type": "text"
      },
      "source": [
        "#### Magic Commands"
      ]
    },
    {
      "cell_type": "markdown",
      "metadata": {
        "id": "Zf35CYV9PrjS",
        "colab_type": "text"
      },
      "source": [
        "##### %timeit"
      ]
    },
    {
      "cell_type": "code",
      "metadata": {
        "id": "tMpMJH0rfAEg",
        "colab_type": "code",
        "outputId": "aa17743a-4779-4904-f7b1-2069aa753c99",
        "colab": {
          "base_uri": "https://localhost:8080/",
          "height": 88
        }
      },
      "source": [
        "too_many_decimals = 1.912345897\n",
        "\n",
        "print(\"built in Python Round\")\n",
        "%timeit round(too_many_decimals, 2)\n"
      ],
      "execution_count": 0,
      "outputs": [
        {
          "output_type": "stream",
          "text": [
            "built in Python Round\n",
            "The slowest run took 21.81 times longer than the fastest. This could mean that an intermediate result is being cached.\n",
            "1000000 loops, best of 3: 476 ns per loop\n"
          ],
          "name": "stdout"
        }
      ]
    },
    {
      "cell_type": "markdown",
      "metadata": {
        "id": "p_KLutZKq5yN",
        "colab_type": "text"
      },
      "source": [
        "##### %alias"
      ]
    },
    {
      "cell_type": "code",
      "metadata": {
        "id": "jyIZLH6UpMou",
        "colab_type": "code",
        "colab": {}
      },
      "source": [
        "alias lscsv ls -l sample_data/*.csv "
      ],
      "execution_count": 0,
      "outputs": []
    },
    {
      "cell_type": "code",
      "metadata": {
        "id": "BNJ6bKtGpVn3",
        "colab_type": "code",
        "outputId": "70fbbc10-df46-4686-e849-171572234a37",
        "colab": {
          "base_uri": "https://localhost:8080/",
          "height": 86
        }
      },
      "source": [
        "lscsv"
      ],
      "execution_count": 0,
      "outputs": [
        {
          "output_type": "stream",
          "text": [
            "-rw-r--r-- 1 root root   301141 Nov 21 16:30 sample_data/california_housing_test.csv\n",
            "-rw-r--r-- 1 root root  1706430 Nov 21 16:30 sample_data/california_housing_train.csv\n",
            "-rw-r--r-- 1 root root 18289443 Nov 21 16:30 sample_data/mnist_test.csv\n",
            "-rw-r--r-- 1 root root 36523880 Nov 21 16:30 sample_data/mnist_train_small.csv\n"
          ],
          "name": "stdout"
        }
      ]
    },
    {
      "cell_type": "markdown",
      "metadata": {
        "id": "AE1cfp41rcwL",
        "colab_type": "text"
      },
      "source": [
        "[Reference These]\n",
        "https://ipython.readthedocs.io/en/stable/interactive/magics.html"
      ]
    },
    {
      "cell_type": "markdown",
      "metadata": {
        "id": "MnsQIiDurIPp",
        "colab_type": "text"
      },
      "source": [
        "##### %who"
      ]
    },
    {
      "cell_type": "markdown",
      "metadata": {
        "id": "ljy17rdjrWD9",
        "colab_type": "text"
      },
      "source": [
        "Print variables"
      ]
    },
    {
      "cell_type": "code",
      "metadata": {
        "id": "mUFS07KpPfE6",
        "colab_type": "code",
        "colab": {}
      },
      "source": [
        "var1=1"
      ],
      "execution_count": 0,
      "outputs": []
    },
    {
      "cell_type": "code",
      "metadata": {
        "id": "ACyoq3IsrNZV",
        "colab_type": "code",
        "outputId": "e7375966-10d7-4878-cb6d-0827a3a4e984",
        "colab": {
          "base_uri": "https://localhost:8080/",
          "height": 34
        }
      },
      "source": [
        "who"
      ],
      "execution_count": 0,
      "outputs": [
        {
          "output_type": "stream",
          "text": [
            "too_many_decimals\t var\t var1\t \n"
          ],
          "name": "stdout"
        }
      ]
    },
    {
      "cell_type": "code",
      "metadata": {
        "id": "MURtyzAMrZ1Z",
        "colab_type": "code",
        "outputId": "e83f529d-a300-4a84-cdb7-07b013ff7326",
        "colab": {
          "base_uri": "https://localhost:8080/",
          "height": 34
        }
      },
      "source": [
        "too_many_decimals"
      ],
      "execution_count": 0,
      "outputs": [
        {
          "output_type": "execute_result",
          "data": {
            "text/plain": [
              "1.912345897"
            ]
          },
          "metadata": {
            "tags": []
          },
          "execution_count": 11
        }
      ]
    },
    {
      "cell_type": "markdown",
      "metadata": {
        "id": "l9z-cAQow-BO",
        "colab_type": "text"
      },
      "source": [
        "##### %writefile"
      ]
    },
    {
      "cell_type": "code",
      "metadata": {
        "id": "luIP2qKqxJmB",
        "colab_type": "code",
        "outputId": "a788dfce-ebb6-40eb-d7d4-72f9d741af03",
        "colab": {
          "base_uri": "https://localhost:8080/",
          "height": 34
        }
      },
      "source": [
        "%%writefile magic_stuff.py\n",
        "import pandas as pd\n",
        "df = pd.read_csv(\n",
        "    \"https://raw.githubusercontent.com/noahgift/food/master/data/features.en.openfoodfacts.org.products.csv\")\n",
        "df.drop([\"Unnamed: 0\", \"exceeded\", \"g_sum\", \"energy_100g\"], axis=1, inplace=True) #drop two rows we don't need\n",
        "df = df.drop(df.index[[1,11877]]) #drop outlier\n",
        "df.rename(index=str, columns={\"reconstructed_energy\": \"energy_100g\"}, inplace=True)\n",
        "print(df.head())"
      ],
      "execution_count": 0,
      "outputs": [
        {
          "output_type": "stream",
          "text": [
            "Writing magic_stuff.py\n"
          ],
          "name": "stdout"
        }
      ]
    },
    {
      "cell_type": "code",
      "metadata": {
        "id": "uok6ppvvxRo9",
        "colab_type": "code",
        "outputId": "fa7a01c4-2475-41bd-b908-642ecdece110",
        "colab": {
          "base_uri": "https://localhost:8080/",
          "height": 137
        }
      },
      "source": [
        "cat magic_stuff.py"
      ],
      "execution_count": 0,
      "outputs": [
        {
          "output_type": "stream",
          "text": [
            "import pandas as pd\n",
            "df = pd.read_csv(\n",
            "    \"https://raw.githubusercontent.com/noahgift/food/master/data/features.en.openfoodfacts.org.products.csv\")\n",
            "df.drop([\"Unnamed: 0\", \"exceeded\", \"g_sum\", \"energy_100g\"], axis=1, inplace=True) #drop two rows we don't need\n",
            "df = df.drop(df.index[[1,11877]]) #drop outlier\n",
            "df.rename(index=str, columns={\"reconstructed_energy\": \"energy_100g\"}, inplace=True)\n",
            "print(df.head())"
          ],
          "name": "stdout"
        }
      ]
    },
    {
      "cell_type": "code",
      "metadata": {
        "id": "STjEo5XFPxM0",
        "colab_type": "code",
        "outputId": "756ec940-7f56-414b-ce25-d82d84bb146a",
        "colab": {
          "base_uri": "https://localhost:8080/",
          "height": 154
        }
      },
      "source": [
        "!python magic_stuff.py"
      ],
      "execution_count": 0,
      "outputs": [
        {
          "output_type": "stream",
          "text": [
            "   fat_100g  ...                         product\n",
            "0     28.57  ...  Banana Chips Sweetened (Whole)\n",
            "2     57.14  ...          Organic Salted Nut Mix\n",
            "3     18.75  ...                  Organic Muesli\n",
            "4     36.67  ...                   Zen Party Mix\n",
            "5     18.18  ...            Cinnamon Nut Granola\n",
            "\n",
            "[5 rows x 7 columns]\n"
          ],
          "name": "stdout"
        }
      ]
    },
    {
      "cell_type": "code",
      "metadata": {
        "id": "0jUCwijQ0_-t",
        "colab_type": "code",
        "outputId": "4ed5faf8-420a-443a-8058-7ff7d49d94dd",
        "colab": {
          "base_uri": "https://localhost:8080/",
          "height": 103
        }
      },
      "source": [
        "!pip install -q pylint"
      ],
      "execution_count": 0,
      "outputs": [
        {
          "output_type": "stream",
          "text": [
            "\u001b[K     |████████████████████████████████| 307kB 6.3MB/s \n",
            "\u001b[K     |████████████████████████████████| 215kB 46.8MB/s \n",
            "\u001b[K     |████████████████████████████████| 51kB 6.8MB/s \n",
            "\u001b[K     |████████████████████████████████| 737kB 33.2MB/s \n",
            "\u001b[K     |████████████████████████████████| 61kB 7.5MB/s \n",
            "\u001b[?25h"
          ],
          "name": "stdout"
        }
      ]
    },
    {
      "cell_type": "code",
      "metadata": {
        "id": "Xf8MwJfy1FqQ",
        "colab_type": "code",
        "outputId": "af66fe71-fbd3-4ab2-e493-be5560ba26b4",
        "colab": {
          "base_uri": "https://localhost:8080/",
          "height": 257
        }
      },
      "source": [
        "!pylint magic_stuff.py"
      ],
      "execution_count": 0,
      "outputs": [
        {
          "output_type": "stream",
          "text": [
            "************* Module magic_stuff\n",
            "magic_stuff.py:3:0: C0301: Line too long (109/100) (line-too-long)\n",
            "magic_stuff.py:4:0: C0301: Line too long (110/100) (line-too-long)\n",
            "magic_stuff.py:5:24: C0326: Exactly one space required after comma\n",
            "df = df.drop(df.index[[1,11877]]) #drop outlier\n",
            "                        ^ (bad-whitespace)\n",
            "magic_stuff.py:7:0: C0304: Final newline missing (missing-final-newline)\n",
            "magic_stuff.py:1:0: C0114: Missing module docstring (missing-module-docstring)\n",
            "magic_stuff.py:2:0: C0103: Constant name \"df\" doesn't conform to UPPER_CASE naming style (invalid-name)\n",
            "magic_stuff.py:5:0: C0103: Constant name \"df\" doesn't conform to UPPER_CASE naming style (invalid-name)\n",
            "\n",
            "------------------------------------\n",
            "Your code has been rated at -1.67/10\n",
            "\n"
          ],
          "name": "stdout"
        }
      ]
    },
    {
      "cell_type": "markdown",
      "metadata": {
        "id": "TtVDMB8EwJqG",
        "colab_type": "text"
      },
      "source": [
        "##### Bash"
      ]
    },
    {
      "cell_type": "code",
      "metadata": {
        "id": "YC03T7XUuF1k",
        "colab_type": "code",
        "outputId": "064fb8e9-dff1-442b-cd04-85d2b78d9b59",
        "colab": {
          "base_uri": "https://localhost:8080/",
          "height": 206
        }
      },
      "source": [
        "%%bash\n",
        "uname -a\n",
        "ls\n",
        "ps"
      ],
      "execution_count": 0,
      "outputs": [
        {
          "output_type": "stream",
          "text": [
            "Linux 203e34c4f7d0 4.14.137+ #1 SMP Thu Aug 8 02:47:02 PDT 2019 x86_64 x86_64 x86_64 GNU/Linux\n",
            "magic_stuff.py\n",
            "sample_data\n",
            "    PID TTY          TIME CMD\n",
            "      1 ?        00:00:00 run.sh\n",
            "     10 ?        00:00:01 node\n",
            "     20 ?        00:00:02 jupyter-noteboo\n",
            "    122 ?        00:00:00 tail\n",
            "    132 ?        00:00:04 python3\n",
            "    312 ?        00:00:00 bash\n",
            "    315 ?        00:00:00 ps\n"
          ],
          "name": "stdout"
        }
      ]
    },
    {
      "cell_type": "code",
      "metadata": {
        "id": "HI8JuclMt0p2",
        "colab_type": "code",
        "outputId": "94f23cd0-3c46-4ca2-e4da-9008df04d539",
        "colab": {
          "base_uri": "https://localhost:8080/",
          "height": 34
        }
      },
      "source": [
        "!uname -a"
      ],
      "execution_count": 0,
      "outputs": [
        {
          "output_type": "stream",
          "text": [
            "Linux 203e34c4f7d0 4.14.137+ #1 SMP Thu Aug 8 02:47:02 PDT 2019 x86_64 x86_64 x86_64 GNU/Linux\n"
          ],
          "name": "stdout"
        }
      ]
    },
    {
      "cell_type": "markdown",
      "metadata": {
        "id": "ohA_HAOewNMT",
        "colab_type": "text"
      },
      "source": [
        "##### Python2"
      ]
    },
    {
      "cell_type": "code",
      "metadata": {
        "id": "eioZW4txwO7-",
        "colab_type": "code",
        "outputId": "ce67b96d-6884-40ae-b6d9-b87cc1e7c00d",
        "colab": {
          "base_uri": "https://localhost:8080/",
          "height": 34
        }
      },
      "source": [
        "%%python2\n",
        "print \"old school\"\n"
      ],
      "execution_count": 0,
      "outputs": [
        {
          "output_type": "stream",
          "text": [
            "old school\n"
          ],
          "name": "stdout"
        }
      ]
    },
    {
      "cell_type": "markdown",
      "metadata": {
        "id": "A2sW1aQ-wuPH",
        "colab_type": "text"
      },
      "source": [
        "##### HTML"
      ]
    },
    {
      "cell_type": "code",
      "metadata": {
        "id": "C8ueccG-wv8Z",
        "colab_type": "code",
        "outputId": "94c0e0e9-c7e5-433e-bdad-776a61794001",
        "colab": {
          "base_uri": "https://localhost:8080/",
          "height": 74
        }
      },
      "source": [
        "%%html\n",
        "<h1>Only The Best Tags and People</h>"
      ],
      "execution_count": 0,
      "outputs": [
        {
          "output_type": "display_data",
          "data": {
            "text/html": [
              "<h1>Only The Best Tags and People</h>"
            ],
            "text/plain": [
              "<IPython.core.display.HTML object>"
            ]
          },
          "metadata": {
            "tags": []
          }
        }
      ]
    },
    {
      "cell_type": "markdown",
      "metadata": {
        "id": "Lgxm56T_u38j",
        "colab_type": "text"
      },
      "source": [
        "##### Upload to Colab"
      ]
    },
    {
      "cell_type": "code",
      "metadata": {
        "id": "EPDqMKh2eukw",
        "colab_type": "code",
        "outputId": "4210fd22-1884-430e-e7ab-43327e36e6ba",
        "colab": {
          "base_uri": "https://localhost:8080/",
          "height": 34
        }
      },
      "source": [
        "import IPython\n",
        "from google.colab import output\n",
        "\n",
        "display(IPython.display.Javascript('''\n",
        "  window.someValue = new Promise(resolve => {\n",
        "    setTimeout(() => {\n",
        "      resolve(\"hello world!\");\n",
        "    }, 100);\n",
        "  });\n",
        "'''))\n",
        "\n",
        "\n",
        "value = output.eval_js('someValue');\n",
        "value"
      ],
      "execution_count": 0,
      "outputs": [
        {
          "output_type": "display_data",
          "data": {
            "application/javascript": [
              "\n",
              "  window.someValue = new Promise(resolve => {\n",
              "    setTimeout(() => {\n",
              "      resolve(\"hello world!\");\n",
              "    }, 100);\n",
              "  });\n"
            ],
            "text/plain": [
              "<IPython.core.display.Javascript object>"
            ]
          },
          "metadata": {
            "tags": []
          }
        },
        {
          "output_type": "execute_result",
          "data": {
            "text/plain": [
              "'hello world!'"
            ]
          },
          "metadata": {
            "tags": []
          },
          "execution_count": 21
        }
      ]
    },
    {
      "cell_type": "code",
      "metadata": {
        "id": "iXE_tpgYvr7p",
        "colab_type": "code",
        "colab": {}
      },
      "source": [
        "!pip install --upgrade -q gspread"
      ],
      "execution_count": 0,
      "outputs": []
    },
    {
      "cell_type": "code",
      "metadata": {
        "id": "C3OJaHBSvr69",
        "colab_type": "code",
        "colab": {}
      },
      "source": [
        "from google.colab import auth\n",
        "auth.authenticate_user()\n",
        "\n",
        "import gspread\n",
        "from oauth2client.client import GoogleCredentials\n",
        "\n",
        "gc = gspread.authorize(GoogleCredentials.get_application_default())\n",
        "\n",
        "worksheet = gc.open('Your spreadsheet name').sheet1\n",
        "\n",
        "# get_all_values gives a list of rows.\n",
        "rows = worksheet.get_all_values()\n",
        "print(rows)\n",
        "\n",
        "# Convert to a DataFrame and render.\n",
        "import pandas as pd\n",
        "pd.DataFrame.from_records(rows)"
      ],
      "execution_count": 0,
      "outputs": []
    },
    {
      "cell_type": "code",
      "metadata": {
        "id": "3IMbpwPE2Aeb",
        "colab_type": "code",
        "outputId": "983acd82-4e89-4855-8953-5c2d8f0b8416",
        "colab": {
          "base_uri": "https://localhost:8080/",
          "height": 123
        }
      },
      "source": [
        "# load an example dataset\n",
        "from vega_datasets import data\n",
        "cars = data.cars()\n",
        "\n",
        "# plot the dataset, referencing dataframe column names\n",
        "import altair as alt\n",
        "alt.Chart(cars).mark_bar().encode(\n",
        "  x='mean(Miles_per_Gallon)',\n",
        "  y='Origin',\n",
        "  color='Origin'\n",
        ")"
      ],
      "execution_count": 0,
      "outputs": [
        {
          "output_type": "execute_result",
          "data": {
            "text/plain": [
              "alt.Chart(...)"
            ],
            "text/html": [
              "<!DOCTYPE html>\n",
              "<html>\n",
              "<head>\n",
              "  <style>\n",
              "    .vega-actions a {\n",
              "        margin-right: 12px;\n",
              "        color: #757575;\n",
              "        font-weight: normal;\n",
              "        font-size: 13px;\n",
              "    }\n",
              "    .error {\n",
              "        color: red;\n",
              "    }\n",
              "  </style>\n",
              "  <script type=\"text/javascript\" src=\"https://cdn.jsdelivr.net/npm//vega@5\"></script>\n",
              "  <script type=\"text/javascript\" src=\"https://cdn.jsdelivr.net/npm//vega-lite@3.4.0\"></script>\n",
              "  <script type=\"text/javascript\" src=\"https://cdn.jsdelivr.net/npm//vega-embed@4\"></script>\n",
              "</head>\n",
              "<body>\n",
              "  <div id=\"altair-viz\"></div>\n",
              "  <script>\n",
              "    (function(vegaEmbed) {\n",
              "      var spec = {\"config\": {\"view\": {\"width\": 400, \"height\": 300}, \"mark\": {\"tooltip\": null}}, \"data\": {\"name\": \"data-f02450ab61490a1363517a0190416235\"}, \"mark\": \"bar\", \"encoding\": {\"color\": {\"type\": \"nominal\", \"field\": \"Origin\"}, \"x\": {\"type\": \"quantitative\", \"aggregate\": \"mean\", \"field\": \"Miles_per_Gallon\"}, \"y\": {\"type\": \"nominal\", \"field\": \"Origin\"}}, \"$schema\": \"https://vega.github.io/schema/vega-lite/v3.4.0.json\", \"datasets\": {\"data-f02450ab61490a1363517a0190416235\": [{\"Acceleration\": 12.0, \"Cylinders\": 8, \"Displacement\": 307.0, \"Horsepower\": 130.0, \"Miles_per_Gallon\": 18.0, \"Name\": \"chevrolet chevelle malibu\", \"Origin\": \"USA\", \"Weight_in_lbs\": 3504, \"Year\": \"1970-01-01T00:00:00\"}, {\"Acceleration\": 11.5, \"Cylinders\": 8, \"Displacement\": 350.0, \"Horsepower\": 165.0, \"Miles_per_Gallon\": 15.0, \"Name\": \"buick skylark 320\", \"Origin\": \"USA\", \"Weight_in_lbs\": 3693, \"Year\": \"1970-01-01T00:00:00\"}, {\"Acceleration\": 11.0, \"Cylinders\": 8, \"Displacement\": 318.0, \"Horsepower\": 150.0, \"Miles_per_Gallon\": 18.0, \"Name\": \"plymouth satellite\", \"Origin\": \"USA\", \"Weight_in_lbs\": 3436, \"Year\": \"1970-01-01T00:00:00\"}, {\"Acceleration\": 12.0, \"Cylinders\": 8, \"Displacement\": 304.0, \"Horsepower\": 150.0, \"Miles_per_Gallon\": 16.0, \"Name\": \"amc rebel sst\", \"Origin\": \"USA\", \"Weight_in_lbs\": 3433, \"Year\": \"1970-01-01T00:00:00\"}, {\"Acceleration\": 10.5, \"Cylinders\": 8, \"Displacement\": 302.0, \"Horsepower\": 140.0, \"Miles_per_Gallon\": 17.0, \"Name\": \"ford torino\", \"Origin\": \"USA\", \"Weight_in_lbs\": 3449, \"Year\": \"1970-01-01T00:00:00\"}, {\"Acceleration\": 10.0, \"Cylinders\": 8, \"Displacement\": 429.0, \"Horsepower\": 198.0, \"Miles_per_Gallon\": 15.0, \"Name\": \"ford galaxie 500\", \"Origin\": \"USA\", \"Weight_in_lbs\": 4341, \"Year\": \"1970-01-01T00:00:00\"}, {\"Acceleration\": 9.0, \"Cylinders\": 8, \"Displacement\": 454.0, \"Horsepower\": 220.0, \"Miles_per_Gallon\": 14.0, \"Name\": \"chevrolet impala\", \"Origin\": \"USA\", \"Weight_in_lbs\": 4354, \"Year\": \"1970-01-01T00:00:00\"}, {\"Acceleration\": 8.5, \"Cylinders\": 8, \"Displacement\": 440.0, \"Horsepower\": 215.0, \"Miles_per_Gallon\": 14.0, \"Name\": \"plymouth fury iii\", \"Origin\": \"USA\", \"Weight_in_lbs\": 4312, \"Year\": \"1970-01-01T00:00:00\"}, {\"Acceleration\": 10.0, \"Cylinders\": 8, \"Displacement\": 455.0, \"Horsepower\": 225.0, \"Miles_per_Gallon\": 14.0, \"Name\": \"pontiac catalina\", \"Origin\": \"USA\", \"Weight_in_lbs\": 4425, \"Year\": \"1970-01-01T00:00:00\"}, {\"Acceleration\": 8.5, \"Cylinders\": 8, \"Displacement\": 390.0, \"Horsepower\": 190.0, \"Miles_per_Gallon\": 15.0, \"Name\": \"amc ambassador dpl\", \"Origin\": \"USA\", \"Weight_in_lbs\": 3850, \"Year\": \"1970-01-01T00:00:00\"}, {\"Acceleration\": 17.5, \"Cylinders\": 4, \"Displacement\": 133.0, \"Horsepower\": 115.0, \"Miles_per_Gallon\": null, \"Name\": \"citroen ds-21 pallas\", \"Origin\": \"Europe\", \"Weight_in_lbs\": 3090, \"Year\": \"1970-01-01T00:00:00\"}, {\"Acceleration\": 11.5, \"Cylinders\": 8, \"Displacement\": 350.0, \"Horsepower\": 165.0, \"Miles_per_Gallon\": null, \"Name\": \"chevrolet chevelle concours (sw)\", \"Origin\": \"USA\", \"Weight_in_lbs\": 4142, \"Year\": \"1970-01-01T00:00:00\"}, {\"Acceleration\": 11.0, \"Cylinders\": 8, \"Displacement\": 351.0, \"Horsepower\": 153.0, \"Miles_per_Gallon\": null, \"Name\": \"ford torino (sw)\", \"Origin\": \"USA\", \"Weight_in_lbs\": 4034, \"Year\": \"1970-01-01T00:00:00\"}, {\"Acceleration\": 10.5, \"Cylinders\": 8, \"Displacement\": 383.0, \"Horsepower\": 175.0, \"Miles_per_Gallon\": null, \"Name\": \"plymouth satellite (sw)\", \"Origin\": \"USA\", \"Weight_in_lbs\": 4166, \"Year\": \"1970-01-01T00:00:00\"}, {\"Acceleration\": 11.0, \"Cylinders\": 8, \"Displacement\": 360.0, \"Horsepower\": 175.0, \"Miles_per_Gallon\": null, \"Name\": \"amc rebel sst (sw)\", \"Origin\": \"USA\", \"Weight_in_lbs\": 3850, \"Year\": \"1970-01-01T00:00:00\"}, {\"Acceleration\": 10.0, \"Cylinders\": 8, \"Displacement\": 383.0, \"Horsepower\": 170.0, \"Miles_per_Gallon\": 15.0, \"Name\": \"dodge challenger se\", \"Origin\": \"USA\", \"Weight_in_lbs\": 3563, \"Year\": \"1970-01-01T00:00:00\"}, {\"Acceleration\": 8.0, \"Cylinders\": 8, \"Displacement\": 340.0, \"Horsepower\": 160.0, \"Miles_per_Gallon\": 14.0, \"Name\": \"plymouth 'cuda 340\", \"Origin\": \"USA\", \"Weight_in_lbs\": 3609, \"Year\": \"1970-01-01T00:00:00\"}, {\"Acceleration\": 8.0, \"Cylinders\": 8, \"Displacement\": 302.0, \"Horsepower\": 140.0, \"Miles_per_Gallon\": null, \"Name\": \"ford mustang boss 302\", \"Origin\": \"USA\", \"Weight_in_lbs\": 3353, \"Year\": \"1970-01-01T00:00:00\"}, {\"Acceleration\": 9.5, \"Cylinders\": 8, \"Displacement\": 400.0, \"Horsepower\": 150.0, \"Miles_per_Gallon\": 15.0, \"Name\": \"chevrolet monte carlo\", \"Origin\": \"USA\", \"Weight_in_lbs\": 3761, \"Year\": \"1970-01-01T00:00:00\"}, {\"Acceleration\": 10.0, \"Cylinders\": 8, \"Displacement\": 455.0, \"Horsepower\": 225.0, \"Miles_per_Gallon\": 14.0, \"Name\": \"buick estate wagon (sw)\", \"Origin\": \"USA\", \"Weight_in_lbs\": 3086, \"Year\": \"1970-01-01T00:00:00\"}, {\"Acceleration\": 15.0, \"Cylinders\": 4, \"Displacement\": 113.0, \"Horsepower\": 95.0, \"Miles_per_Gallon\": 24.0, \"Name\": \"toyota corona mark ii\", \"Origin\": \"Japan\", \"Weight_in_lbs\": 2372, \"Year\": \"1970-01-01T00:00:00\"}, {\"Acceleration\": 15.5, \"Cylinders\": 6, \"Displacement\": 198.0, \"Horsepower\": 95.0, \"Miles_per_Gallon\": 22.0, \"Name\": \"plymouth duster\", \"Origin\": \"USA\", \"Weight_in_lbs\": 2833, \"Year\": \"1970-01-01T00:00:00\"}, {\"Acceleration\": 15.5, \"Cylinders\": 6, \"Displacement\": 199.0, \"Horsepower\": 97.0, \"Miles_per_Gallon\": 18.0, \"Name\": \"amc hornet\", \"Origin\": \"USA\", \"Weight_in_lbs\": 2774, \"Year\": \"1970-01-01T00:00:00\"}, {\"Acceleration\": 16.0, \"Cylinders\": 6, \"Displacement\": 200.0, \"Horsepower\": 85.0, \"Miles_per_Gallon\": 21.0, \"Name\": \"ford maverick\", \"Origin\": \"USA\", \"Weight_in_lbs\": 2587, \"Year\": \"1970-01-01T00:00:00\"}, {\"Acceleration\": 14.5, \"Cylinders\": 4, \"Displacement\": 97.0, \"Horsepower\": 88.0, \"Miles_per_Gallon\": 27.0, \"Name\": \"datsun pl510\", \"Origin\": \"Japan\", \"Weight_in_lbs\": 2130, \"Year\": \"1970-01-01T00:00:00\"}, {\"Acceleration\": 20.5, \"Cylinders\": 4, \"Displacement\": 97.0, \"Horsepower\": 46.0, \"Miles_per_Gallon\": 26.0, \"Name\": \"volkswagen 1131 deluxe sedan\", \"Origin\": \"Europe\", \"Weight_in_lbs\": 1835, \"Year\": \"1970-01-01T00:00:00\"}, {\"Acceleration\": 17.5, \"Cylinders\": 4, \"Displacement\": 110.0, \"Horsepower\": 87.0, \"Miles_per_Gallon\": 25.0, \"Name\": \"peugeot 504\", \"Origin\": \"Europe\", \"Weight_in_lbs\": 2672, \"Year\": \"1970-01-01T00:00:00\"}, {\"Acceleration\": 14.5, \"Cylinders\": 4, \"Displacement\": 107.0, \"Horsepower\": 90.0, \"Miles_per_Gallon\": 24.0, \"Name\": \"audi 100 ls\", \"Origin\": \"Europe\", \"Weight_in_lbs\": 2430, \"Year\": \"1970-01-01T00:00:00\"}, {\"Acceleration\": 17.5, \"Cylinders\": 4, \"Displacement\": 104.0, \"Horsepower\": 95.0, \"Miles_per_Gallon\": 25.0, \"Name\": \"saab 99e\", \"Origin\": \"Europe\", \"Weight_in_lbs\": 2375, \"Year\": \"1970-01-01T00:00:00\"}, {\"Acceleration\": 12.5, \"Cylinders\": 4, \"Displacement\": 121.0, \"Horsepower\": 113.0, \"Miles_per_Gallon\": 26.0, \"Name\": \"bmw 2002\", \"Origin\": \"Europe\", \"Weight_in_lbs\": 2234, \"Year\": \"1970-01-01T00:00:00\"}, {\"Acceleration\": 15.0, \"Cylinders\": 6, \"Displacement\": 199.0, \"Horsepower\": 90.0, \"Miles_per_Gallon\": 21.0, \"Name\": \"amc gremlin\", \"Origin\": \"USA\", \"Weight_in_lbs\": 2648, \"Year\": \"1970-01-01T00:00:00\"}, {\"Acceleration\": 14.0, \"Cylinders\": 8, \"Displacement\": 360.0, \"Horsepower\": 215.0, \"Miles_per_Gallon\": 10.0, \"Name\": \"ford f250\", \"Origin\": \"USA\", \"Weight_in_lbs\": 4615, \"Year\": \"1970-01-01T00:00:00\"}, {\"Acceleration\": 15.0, \"Cylinders\": 8, \"Displacement\": 307.0, \"Horsepower\": 200.0, \"Miles_per_Gallon\": 10.0, \"Name\": \"chevy c20\", \"Origin\": \"USA\", \"Weight_in_lbs\": 4376, \"Year\": \"1970-01-01T00:00:00\"}, {\"Acceleration\": 13.5, \"Cylinders\": 8, \"Displacement\": 318.0, \"Horsepower\": 210.0, \"Miles_per_Gallon\": 11.0, \"Name\": \"dodge d200\", \"Origin\": \"USA\", \"Weight_in_lbs\": 4382, \"Year\": \"1970-01-01T00:00:00\"}, {\"Acceleration\": 18.5, \"Cylinders\": 8, \"Displacement\": 304.0, \"Horsepower\": 193.0, \"Miles_per_Gallon\": 9.0, \"Name\": \"hi 1200d\", \"Origin\": \"USA\", \"Weight_in_lbs\": 4732, \"Year\": \"1970-01-01T00:00:00\"}, {\"Acceleration\": 14.5, \"Cylinders\": 4, \"Displacement\": 97.0, \"Horsepower\": 88.0, \"Miles_per_Gallon\": 27.0, \"Name\": \"datsun pl510\", \"Origin\": \"Japan\", \"Weight_in_lbs\": 2130, \"Year\": \"1971-01-01T00:00:00\"}, {\"Acceleration\": 15.5, \"Cylinders\": 4, \"Displacement\": 140.0, \"Horsepower\": 90.0, \"Miles_per_Gallon\": 28.0, \"Name\": \"chevrolet vega 2300\", \"Origin\": \"USA\", \"Weight_in_lbs\": 2264, \"Year\": \"1971-01-01T00:00:00\"}, {\"Acceleration\": 14.0, \"Cylinders\": 4, \"Displacement\": 113.0, \"Horsepower\": 95.0, \"Miles_per_Gallon\": 25.0, \"Name\": \"toyota corona\", \"Origin\": \"Japan\", \"Weight_in_lbs\": 2228, \"Year\": \"1971-01-01T00:00:00\"}, {\"Acceleration\": 19.0, \"Cylinders\": 4, \"Displacement\": 98.0, \"Horsepower\": null, \"Miles_per_Gallon\": 25.0, \"Name\": \"ford pinto\", \"Origin\": \"USA\", \"Weight_in_lbs\": 2046, \"Year\": \"1971-01-01T00:00:00\"}, {\"Acceleration\": 20.0, \"Cylinders\": 4, \"Displacement\": 97.0, \"Horsepower\": 48.0, \"Miles_per_Gallon\": null, \"Name\": \"volkswagen super beetle 117\", \"Origin\": \"Europe\", \"Weight_in_lbs\": 1978, \"Year\": \"1971-01-01T00:00:00\"}, {\"Acceleration\": 13.0, \"Cylinders\": 6, \"Displacement\": 232.0, \"Horsepower\": 100.0, \"Miles_per_Gallon\": 19.0, \"Name\": \"amc gremlin\", \"Origin\": \"USA\", \"Weight_in_lbs\": 2634, \"Year\": \"1971-01-01T00:00:00\"}, {\"Acceleration\": 15.5, \"Cylinders\": 6, \"Displacement\": 225.0, \"Horsepower\": 105.0, \"Miles_per_Gallon\": 16.0, \"Name\": \"plymouth satellite custom\", \"Origin\": \"USA\", \"Weight_in_lbs\": 3439, \"Year\": \"1971-01-01T00:00:00\"}, {\"Acceleration\": 15.5, \"Cylinders\": 6, \"Displacement\": 250.0, \"Horsepower\": 100.0, \"Miles_per_Gallon\": 17.0, \"Name\": \"chevrolet chevelle malibu\", \"Origin\": \"USA\", \"Weight_in_lbs\": 3329, \"Year\": \"1971-01-01T00:00:00\"}, {\"Acceleration\": 15.5, \"Cylinders\": 6, \"Displacement\": 250.0, \"Horsepower\": 88.0, \"Miles_per_Gallon\": 19.0, \"Name\": \"ford torino 500\", \"Origin\": \"USA\", \"Weight_in_lbs\": 3302, \"Year\": \"1971-01-01T00:00:00\"}, {\"Acceleration\": 15.5, \"Cylinders\": 6, \"Displacement\": 232.0, \"Horsepower\": 100.0, \"Miles_per_Gallon\": 18.0, \"Name\": \"amc matador\", \"Origin\": \"USA\", \"Weight_in_lbs\": 3288, \"Year\": \"1971-01-01T00:00:00\"}, {\"Acceleration\": 12.0, \"Cylinders\": 8, \"Displacement\": 350.0, \"Horsepower\": 165.0, \"Miles_per_Gallon\": 14.0, \"Name\": \"chevrolet impala\", \"Origin\": \"USA\", \"Weight_in_lbs\": 4209, \"Year\": \"1971-01-01T00:00:00\"}, {\"Acceleration\": 11.5, \"Cylinders\": 8, \"Displacement\": 400.0, \"Horsepower\": 175.0, \"Miles_per_Gallon\": 14.0, \"Name\": \"pontiac catalina brougham\", \"Origin\": \"USA\", \"Weight_in_lbs\": 4464, \"Year\": \"1971-01-01T00:00:00\"}, {\"Acceleration\": 13.5, \"Cylinders\": 8, \"Displacement\": 351.0, \"Horsepower\": 153.0, \"Miles_per_Gallon\": 14.0, \"Name\": \"ford galaxie 500\", \"Origin\": \"USA\", \"Weight_in_lbs\": 4154, \"Year\": \"1971-01-01T00:00:00\"}, {\"Acceleration\": 13.0, \"Cylinders\": 8, \"Displacement\": 318.0, \"Horsepower\": 150.0, \"Miles_per_Gallon\": 14.0, \"Name\": \"plymouth fury iii\", \"Origin\": \"USA\", \"Weight_in_lbs\": 4096, \"Year\": \"1971-01-01T00:00:00\"}, {\"Acceleration\": 11.5, \"Cylinders\": 8, \"Displacement\": 383.0, \"Horsepower\": 180.0, \"Miles_per_Gallon\": 12.0, \"Name\": \"dodge monaco (sw)\", \"Origin\": \"USA\", \"Weight_in_lbs\": 4955, \"Year\": \"1971-01-01T00:00:00\"}, {\"Acceleration\": 12.0, \"Cylinders\": 8, \"Displacement\": 400.0, \"Horsepower\": 170.0, \"Miles_per_Gallon\": 13.0, \"Name\": \"ford country squire (sw)\", \"Origin\": \"USA\", \"Weight_in_lbs\": 4746, \"Year\": \"1971-01-01T00:00:00\"}, {\"Acceleration\": 12.0, \"Cylinders\": 8, \"Displacement\": 400.0, \"Horsepower\": 175.0, \"Miles_per_Gallon\": 13.0, \"Name\": \"pontiac safari (sw)\", \"Origin\": \"USA\", \"Weight_in_lbs\": 5140, \"Year\": \"1971-01-01T00:00:00\"}, {\"Acceleration\": 13.5, \"Cylinders\": 6, \"Displacement\": 258.0, \"Horsepower\": 110.0, \"Miles_per_Gallon\": 18.0, \"Name\": \"amc hornet sportabout (sw)\", \"Origin\": \"USA\", \"Weight_in_lbs\": 2962, \"Year\": \"1971-01-01T00:00:00\"}, {\"Acceleration\": 19.0, \"Cylinders\": 4, \"Displacement\": 140.0, \"Horsepower\": 72.0, \"Miles_per_Gallon\": 22.0, \"Name\": \"chevrolet vega (sw)\", \"Origin\": \"USA\", \"Weight_in_lbs\": 2408, \"Year\": \"1971-01-01T00:00:00\"}, {\"Acceleration\": 15.0, \"Cylinders\": 6, \"Displacement\": 250.0, \"Horsepower\": 100.0, \"Miles_per_Gallon\": 19.0, \"Name\": \"pontiac firebird\", \"Origin\": \"USA\", \"Weight_in_lbs\": 3282, \"Year\": \"1971-01-01T00:00:00\"}, {\"Acceleration\": 14.5, \"Cylinders\": 6, \"Displacement\": 250.0, \"Horsepower\": 88.0, \"Miles_per_Gallon\": 18.0, \"Name\": \"ford mustang\", \"Origin\": \"USA\", \"Weight_in_lbs\": 3139, \"Year\": \"1971-01-01T00:00:00\"}, {\"Acceleration\": 14.0, \"Cylinders\": 4, \"Displacement\": 122.0, \"Horsepower\": 86.0, \"Miles_per_Gallon\": 23.0, \"Name\": \"mercury capri 2000\", \"Origin\": \"USA\", \"Weight_in_lbs\": 2220, \"Year\": \"1971-01-01T00:00:00\"}, {\"Acceleration\": 14.0, \"Cylinders\": 4, \"Displacement\": 116.0, \"Horsepower\": 90.0, \"Miles_per_Gallon\": 28.0, \"Name\": \"opel 1900\", \"Origin\": \"Europe\", \"Weight_in_lbs\": 2123, \"Year\": \"1971-01-01T00:00:00\"}, {\"Acceleration\": 19.5, \"Cylinders\": 4, \"Displacement\": 79.0, \"Horsepower\": 70.0, \"Miles_per_Gallon\": 30.0, \"Name\": \"peugeot 304\", \"Origin\": \"Europe\", \"Weight_in_lbs\": 2074, \"Year\": \"1971-01-01T00:00:00\"}, {\"Acceleration\": 14.5, \"Cylinders\": 4, \"Displacement\": 88.0, \"Horsepower\": 76.0, \"Miles_per_Gallon\": 30.0, \"Name\": \"fiat 124b\", \"Origin\": \"Europe\", \"Weight_in_lbs\": 2065, \"Year\": \"1971-01-01T00:00:00\"}, {\"Acceleration\": 19.0, \"Cylinders\": 4, \"Displacement\": 71.0, \"Horsepower\": 65.0, \"Miles_per_Gallon\": 31.0, \"Name\": \"toyota corolla 1200\", \"Origin\": \"Japan\", \"Weight_in_lbs\": 1773, \"Year\": \"1971-01-01T00:00:00\"}, {\"Acceleration\": 18.0, \"Cylinders\": 4, \"Displacement\": 72.0, \"Horsepower\": 69.0, \"Miles_per_Gallon\": 35.0, \"Name\": \"datsun 1200\", \"Origin\": \"Japan\", \"Weight_in_lbs\": 1613, \"Year\": \"1971-01-01T00:00:00\"}, {\"Acceleration\": 19.0, \"Cylinders\": 4, \"Displacement\": 97.0, \"Horsepower\": 60.0, \"Miles_per_Gallon\": 27.0, \"Name\": \"volkswagen model 111\", \"Origin\": \"Europe\", \"Weight_in_lbs\": 1834, \"Year\": \"1971-01-01T00:00:00\"}, {\"Acceleration\": 20.5, \"Cylinders\": 4, \"Displacement\": 91.0, \"Horsepower\": 70.0, \"Miles_per_Gallon\": 26.0, \"Name\": \"plymouth cricket\", \"Origin\": \"USA\", \"Weight_in_lbs\": 1955, \"Year\": \"1971-01-01T00:00:00\"}, {\"Acceleration\": 15.5, \"Cylinders\": 4, \"Displacement\": 113.0, \"Horsepower\": 95.0, \"Miles_per_Gallon\": 24.0, \"Name\": \"toyota corona hardtop\", \"Origin\": \"Japan\", \"Weight_in_lbs\": 2278, \"Year\": \"1972-01-01T00:00:00\"}, {\"Acceleration\": 17.0, \"Cylinders\": 4, \"Displacement\": 97.5, \"Horsepower\": 80.0, \"Miles_per_Gallon\": 25.0, \"Name\": \"dodge colt hardtop\", \"Origin\": \"USA\", \"Weight_in_lbs\": 2126, \"Year\": \"1972-01-01T00:00:00\"}, {\"Acceleration\": 23.5, \"Cylinders\": 4, \"Displacement\": 97.0, \"Horsepower\": 54.0, \"Miles_per_Gallon\": 23.0, \"Name\": \"volkswagen type 3\", \"Origin\": \"Europe\", \"Weight_in_lbs\": 2254, \"Year\": \"1972-01-01T00:00:00\"}, {\"Acceleration\": 19.5, \"Cylinders\": 4, \"Displacement\": 140.0, \"Horsepower\": 90.0, \"Miles_per_Gallon\": 20.0, \"Name\": \"chevrolet vega\", \"Origin\": \"USA\", \"Weight_in_lbs\": 2408, \"Year\": \"1972-01-01T00:00:00\"}, {\"Acceleration\": 16.5, \"Cylinders\": 4, \"Displacement\": 122.0, \"Horsepower\": 86.0, \"Miles_per_Gallon\": 21.0, \"Name\": \"ford pinto runabout\", \"Origin\": \"USA\", \"Weight_in_lbs\": 2226, \"Year\": \"1972-01-01T00:00:00\"}, {\"Acceleration\": 12.0, \"Cylinders\": 8, \"Displacement\": 350.0, \"Horsepower\": 165.0, \"Miles_per_Gallon\": 13.0, \"Name\": \"chevrolet impala\", \"Origin\": \"USA\", \"Weight_in_lbs\": 4274, \"Year\": \"1972-01-01T00:00:00\"}, {\"Acceleration\": 12.0, \"Cylinders\": 8, \"Displacement\": 400.0, \"Horsepower\": 175.0, \"Miles_per_Gallon\": 14.0, \"Name\": \"pontiac catalina\", \"Origin\": \"USA\", \"Weight_in_lbs\": 4385, \"Year\": \"1972-01-01T00:00:00\"}, {\"Acceleration\": 13.5, \"Cylinders\": 8, \"Displacement\": 318.0, \"Horsepower\": 150.0, \"Miles_per_Gallon\": 15.0, \"Name\": \"plymouth fury iii\", \"Origin\": \"USA\", \"Weight_in_lbs\": 4135, \"Year\": \"1972-01-01T00:00:00\"}, {\"Acceleration\": 13.0, \"Cylinders\": 8, \"Displacement\": 351.0, \"Horsepower\": 153.0, \"Miles_per_Gallon\": 14.0, \"Name\": \"ford galaxie 500\", \"Origin\": \"USA\", \"Weight_in_lbs\": 4129, \"Year\": \"1972-01-01T00:00:00\"}, {\"Acceleration\": 11.5, \"Cylinders\": 8, \"Displacement\": 304.0, \"Horsepower\": 150.0, \"Miles_per_Gallon\": 17.0, \"Name\": \"amc ambassador sst\", \"Origin\": \"USA\", \"Weight_in_lbs\": 3672, \"Year\": \"1972-01-01T00:00:00\"}, {\"Acceleration\": 11.0, \"Cylinders\": 8, \"Displacement\": 429.0, \"Horsepower\": 208.0, \"Miles_per_Gallon\": 11.0, \"Name\": \"mercury marquis\", \"Origin\": \"USA\", \"Weight_in_lbs\": 4633, \"Year\": \"1972-01-01T00:00:00\"}, {\"Acceleration\": 13.5, \"Cylinders\": 8, \"Displacement\": 350.0, \"Horsepower\": 155.0, \"Miles_per_Gallon\": 13.0, \"Name\": \"buick lesabre custom\", \"Origin\": \"USA\", \"Weight_in_lbs\": 4502, \"Year\": \"1972-01-01T00:00:00\"}, {\"Acceleration\": 13.5, \"Cylinders\": 8, \"Displacement\": 350.0, \"Horsepower\": 160.0, \"Miles_per_Gallon\": 12.0, \"Name\": \"oldsmobile delta 88 royale\", \"Origin\": \"USA\", \"Weight_in_lbs\": 4456, \"Year\": \"1972-01-01T00:00:00\"}, {\"Acceleration\": 12.5, \"Cylinders\": 8, \"Displacement\": 400.0, \"Horsepower\": 190.0, \"Miles_per_Gallon\": 13.0, \"Name\": \"chrysler newport royal\", \"Origin\": \"USA\", \"Weight_in_lbs\": 4422, \"Year\": \"1972-01-01T00:00:00\"}, {\"Acceleration\": 13.5, \"Cylinders\": 3, \"Displacement\": 70.0, \"Horsepower\": 97.0, \"Miles_per_Gallon\": 19.0, \"Name\": \"mazda rx2 coupe\", \"Origin\": \"Japan\", \"Weight_in_lbs\": 2330, \"Year\": \"1972-01-01T00:00:00\"}, {\"Acceleration\": 12.5, \"Cylinders\": 8, \"Displacement\": 304.0, \"Horsepower\": 150.0, \"Miles_per_Gallon\": 15.0, \"Name\": \"amc matador (sw)\", \"Origin\": \"USA\", \"Weight_in_lbs\": 3892, \"Year\": \"1972-01-01T00:00:00\"}, {\"Acceleration\": 14.0, \"Cylinders\": 8, \"Displacement\": 307.0, \"Horsepower\": 130.0, \"Miles_per_Gallon\": 13.0, \"Name\": \"chevrolet chevelle concours (sw)\", \"Origin\": \"USA\", \"Weight_in_lbs\": 4098, \"Year\": \"1972-01-01T00:00:00\"}, {\"Acceleration\": 16.0, \"Cylinders\": 8, \"Displacement\": 302.0, \"Horsepower\": 140.0, \"Miles_per_Gallon\": 13.0, \"Name\": \"ford gran torino (sw)\", \"Origin\": \"USA\", \"Weight_in_lbs\": 4294, \"Year\": \"1972-01-01T00:00:00\"}, {\"Acceleration\": 14.0, \"Cylinders\": 8, \"Displacement\": 318.0, \"Horsepower\": 150.0, \"Miles_per_Gallon\": 14.0, \"Name\": \"plymouth satellite custom (sw)\", \"Origin\": \"USA\", \"Weight_in_lbs\": 4077, \"Year\": \"1972-01-01T00:00:00\"}, {\"Acceleration\": 14.5, \"Cylinders\": 4, \"Displacement\": 121.0, \"Horsepower\": 112.0, \"Miles_per_Gallon\": 18.0, \"Name\": \"volvo 145e (sw)\", \"Origin\": \"Europe\", \"Weight_in_lbs\": 2933, \"Year\": \"1972-01-01T00:00:00\"}, {\"Acceleration\": 18.0, \"Cylinders\": 4, \"Displacement\": 121.0, \"Horsepower\": 76.0, \"Miles_per_Gallon\": 22.0, \"Name\": \"volkswagen 411 (sw)\", \"Origin\": \"Europe\", \"Weight_in_lbs\": 2511, \"Year\": \"1972-01-01T00:00:00\"}, {\"Acceleration\": 19.5, \"Cylinders\": 4, \"Displacement\": 120.0, \"Horsepower\": 87.0, \"Miles_per_Gallon\": 21.0, \"Name\": \"peugeot 504 (sw)\", \"Origin\": \"Europe\", \"Weight_in_lbs\": 2979, \"Year\": \"1972-01-01T00:00:00\"}, {\"Acceleration\": 18.0, \"Cylinders\": 4, \"Displacement\": 96.0, \"Horsepower\": 69.0, \"Miles_per_Gallon\": 26.0, \"Name\": \"renault 12 (sw)\", \"Origin\": \"Europe\", \"Weight_in_lbs\": 2189, \"Year\": \"1972-01-01T00:00:00\"}, {\"Acceleration\": 16.0, \"Cylinders\": 4, \"Displacement\": 122.0, \"Horsepower\": 86.0, \"Miles_per_Gallon\": 22.0, \"Name\": \"ford pinto (sw)\", \"Origin\": \"USA\", \"Weight_in_lbs\": 2395, \"Year\": \"1972-01-01T00:00:00\"}, {\"Acceleration\": 17.0, \"Cylinders\": 4, \"Displacement\": 97.0, \"Horsepower\": 92.0, \"Miles_per_Gallon\": 28.0, \"Name\": \"datsun 510 (sw)\", \"Origin\": \"Japan\", \"Weight_in_lbs\": 2288, \"Year\": \"1972-01-01T00:00:00\"}, {\"Acceleration\": 14.5, \"Cylinders\": 4, \"Displacement\": 120.0, \"Horsepower\": 97.0, \"Miles_per_Gallon\": 23.0, \"Name\": \"toyouta corona mark ii (sw)\", \"Origin\": \"Japan\", \"Weight_in_lbs\": 2506, \"Year\": \"1972-01-01T00:00:00\"}, {\"Acceleration\": 15.0, \"Cylinders\": 4, \"Displacement\": 98.0, \"Horsepower\": 80.0, \"Miles_per_Gallon\": 28.0, \"Name\": \"dodge colt (sw)\", \"Origin\": \"USA\", \"Weight_in_lbs\": 2164, \"Year\": \"1972-01-01T00:00:00\"}, {\"Acceleration\": 16.5, \"Cylinders\": 4, \"Displacement\": 97.0, \"Horsepower\": 88.0, \"Miles_per_Gallon\": 27.0, \"Name\": \"toyota corolla 1600 (sw)\", \"Origin\": \"Japan\", \"Weight_in_lbs\": 2100, \"Year\": \"1972-01-01T00:00:00\"}, {\"Acceleration\": 13.0, \"Cylinders\": 8, \"Displacement\": 350.0, \"Horsepower\": 175.0, \"Miles_per_Gallon\": 13.0, \"Name\": \"buick century 350\", \"Origin\": \"USA\", \"Weight_in_lbs\": 4100, \"Year\": \"1973-01-01T00:00:00\"}, {\"Acceleration\": 11.5, \"Cylinders\": 8, \"Displacement\": 304.0, \"Horsepower\": 150.0, \"Miles_per_Gallon\": 14.0, \"Name\": \"amc matador\", \"Origin\": \"USA\", \"Weight_in_lbs\": 3672, \"Year\": \"1973-01-01T00:00:00\"}, {\"Acceleration\": 13.0, \"Cylinders\": 8, \"Displacement\": 350.0, \"Horsepower\": 145.0, \"Miles_per_Gallon\": 13.0, \"Name\": \"chevrolet malibu\", \"Origin\": \"USA\", \"Weight_in_lbs\": 3988, \"Year\": \"1973-01-01T00:00:00\"}, {\"Acceleration\": 14.5, \"Cylinders\": 8, \"Displacement\": 302.0, \"Horsepower\": 137.0, \"Miles_per_Gallon\": 14.0, \"Name\": \"ford gran torino\", \"Origin\": \"USA\", \"Weight_in_lbs\": 4042, \"Year\": \"1973-01-01T00:00:00\"}, {\"Acceleration\": 12.5, \"Cylinders\": 8, \"Displacement\": 318.0, \"Horsepower\": 150.0, \"Miles_per_Gallon\": 15.0, \"Name\": \"dodge coronet custom\", \"Origin\": \"USA\", \"Weight_in_lbs\": 3777, \"Year\": \"1973-01-01T00:00:00\"}, {\"Acceleration\": 11.5, \"Cylinders\": 8, \"Displacement\": 429.0, \"Horsepower\": 198.0, \"Miles_per_Gallon\": 12.0, \"Name\": \"mercury marquis brougham\", \"Origin\": \"USA\", \"Weight_in_lbs\": 4952, \"Year\": \"1973-01-01T00:00:00\"}, {\"Acceleration\": 12.0, \"Cylinders\": 8, \"Displacement\": 400.0, \"Horsepower\": 150.0, \"Miles_per_Gallon\": 13.0, \"Name\": \"chevrolet caprice classic\", \"Origin\": \"USA\", \"Weight_in_lbs\": 4464, \"Year\": \"1973-01-01T00:00:00\"}, {\"Acceleration\": 13.0, \"Cylinders\": 8, \"Displacement\": 351.0, \"Horsepower\": 158.0, \"Miles_per_Gallon\": 13.0, \"Name\": \"ford ltd\", \"Origin\": \"USA\", \"Weight_in_lbs\": 4363, \"Year\": \"1973-01-01T00:00:00\"}, {\"Acceleration\": 14.5, \"Cylinders\": 8, \"Displacement\": 318.0, \"Horsepower\": 150.0, \"Miles_per_Gallon\": 14.0, \"Name\": \"plymouth fury gran sedan\", \"Origin\": \"USA\", \"Weight_in_lbs\": 4237, \"Year\": \"1973-01-01T00:00:00\"}, {\"Acceleration\": 11.0, \"Cylinders\": 8, \"Displacement\": 440.0, \"Horsepower\": 215.0, \"Miles_per_Gallon\": 13.0, \"Name\": \"chrysler new yorker brougham\", \"Origin\": \"USA\", \"Weight_in_lbs\": 4735, \"Year\": \"1973-01-01T00:00:00\"}, {\"Acceleration\": 11.0, \"Cylinders\": 8, \"Displacement\": 455.0, \"Horsepower\": 225.0, \"Miles_per_Gallon\": 12.0, \"Name\": \"buick electra 225 custom\", \"Origin\": \"USA\", \"Weight_in_lbs\": 4951, \"Year\": \"1973-01-01T00:00:00\"}, {\"Acceleration\": 11.0, \"Cylinders\": 8, \"Displacement\": 360.0, \"Horsepower\": 175.0, \"Miles_per_Gallon\": 13.0, \"Name\": \"amc ambassador brougham\", \"Origin\": \"USA\", \"Weight_in_lbs\": 3821, \"Year\": \"1973-01-01T00:00:00\"}, {\"Acceleration\": 16.5, \"Cylinders\": 6, \"Displacement\": 225.0, \"Horsepower\": 105.0, \"Miles_per_Gallon\": 18.0, \"Name\": \"plymouth valiant\", \"Origin\": \"USA\", \"Weight_in_lbs\": 3121, \"Year\": \"1973-01-01T00:00:00\"}, {\"Acceleration\": 18.0, \"Cylinders\": 6, \"Displacement\": 250.0, \"Horsepower\": 100.0, \"Miles_per_Gallon\": 16.0, \"Name\": \"chevrolet nova custom\", \"Origin\": \"USA\", \"Weight_in_lbs\": 3278, \"Year\": \"1973-01-01T00:00:00\"}, {\"Acceleration\": 16.0, \"Cylinders\": 6, \"Displacement\": 232.0, \"Horsepower\": 100.0, \"Miles_per_Gallon\": 18.0, \"Name\": \"amc hornet\", \"Origin\": \"USA\", \"Weight_in_lbs\": 2945, \"Year\": \"1973-01-01T00:00:00\"}, {\"Acceleration\": 16.5, \"Cylinders\": 6, \"Displacement\": 250.0, \"Horsepower\": 88.0, \"Miles_per_Gallon\": 18.0, \"Name\": \"ford maverick\", \"Origin\": \"USA\", \"Weight_in_lbs\": 3021, \"Year\": \"1973-01-01T00:00:00\"}, {\"Acceleration\": 16.0, \"Cylinders\": 6, \"Displacement\": 198.0, \"Horsepower\": 95.0, \"Miles_per_Gallon\": 23.0, \"Name\": \"plymouth duster\", \"Origin\": \"USA\", \"Weight_in_lbs\": 2904, \"Year\": \"1973-01-01T00:00:00\"}, {\"Acceleration\": 21.0, \"Cylinders\": 4, \"Displacement\": 97.0, \"Horsepower\": 46.0, \"Miles_per_Gallon\": 26.0, \"Name\": \"volkswagen super beetle\", \"Origin\": \"Europe\", \"Weight_in_lbs\": 1950, \"Year\": \"1973-01-01T00:00:00\"}, {\"Acceleration\": 14.0, \"Cylinders\": 8, \"Displacement\": 400.0, \"Horsepower\": 150.0, \"Miles_per_Gallon\": 11.0, \"Name\": \"chevrolet impala\", \"Origin\": \"USA\", \"Weight_in_lbs\": 4997, \"Year\": \"1973-01-01T00:00:00\"}, {\"Acceleration\": 12.5, \"Cylinders\": 8, \"Displacement\": 400.0, \"Horsepower\": 167.0, \"Miles_per_Gallon\": 12.0, \"Name\": \"ford country\", \"Origin\": \"USA\", \"Weight_in_lbs\": 4906, \"Year\": \"1973-01-01T00:00:00\"}, {\"Acceleration\": 13.0, \"Cylinders\": 8, \"Displacement\": 360.0, \"Horsepower\": 170.0, \"Miles_per_Gallon\": 13.0, \"Name\": \"plymouth custom suburb\", \"Origin\": \"USA\", \"Weight_in_lbs\": 4654, \"Year\": \"1973-01-01T00:00:00\"}, {\"Acceleration\": 12.5, \"Cylinders\": 8, \"Displacement\": 350.0, \"Horsepower\": 180.0, \"Miles_per_Gallon\": 12.0, \"Name\": \"oldsmobile vista cruiser\", \"Origin\": \"USA\", \"Weight_in_lbs\": 4499, \"Year\": \"1973-01-01T00:00:00\"}, {\"Acceleration\": 15.0, \"Cylinders\": 6, \"Displacement\": 232.0, \"Horsepower\": 100.0, \"Miles_per_Gallon\": 18.0, \"Name\": \"amc gremlin\", \"Origin\": \"USA\", \"Weight_in_lbs\": 2789, \"Year\": \"1973-01-01T00:00:00\"}, {\"Acceleration\": 19.0, \"Cylinders\": 4, \"Displacement\": 97.0, \"Horsepower\": 88.0, \"Miles_per_Gallon\": 20.0, \"Name\": \"toyota carina\", \"Origin\": \"Japan\", \"Weight_in_lbs\": 2279, \"Year\": \"1973-01-01T00:00:00\"}, {\"Acceleration\": 19.5, \"Cylinders\": 4, \"Displacement\": 140.0, \"Horsepower\": 72.0, \"Miles_per_Gallon\": 21.0, \"Name\": \"chevrolet vega\", \"Origin\": \"USA\", \"Weight_in_lbs\": 2401, \"Year\": \"1973-01-01T00:00:00\"}, {\"Acceleration\": 16.5, \"Cylinders\": 4, \"Displacement\": 108.0, \"Horsepower\": 94.0, \"Miles_per_Gallon\": 22.0, \"Name\": \"datsun 610\", \"Origin\": \"Japan\", \"Weight_in_lbs\": 2379, \"Year\": \"1973-01-01T00:00:00\"}, {\"Acceleration\": 13.5, \"Cylinders\": 3, \"Displacement\": 70.0, \"Horsepower\": 90.0, \"Miles_per_Gallon\": 18.0, \"Name\": \"maxda rx3\", \"Origin\": \"Japan\", \"Weight_in_lbs\": 2124, \"Year\": \"1973-01-01T00:00:00\"}, {\"Acceleration\": 18.5, \"Cylinders\": 4, \"Displacement\": 122.0, \"Horsepower\": 85.0, \"Miles_per_Gallon\": 19.0, \"Name\": \"ford pinto\", \"Origin\": \"USA\", \"Weight_in_lbs\": 2310, \"Year\": \"1973-01-01T00:00:00\"}, {\"Acceleration\": 14.0, \"Cylinders\": 6, \"Displacement\": 155.0, \"Horsepower\": 107.0, \"Miles_per_Gallon\": 21.0, \"Name\": \"mercury capri v6\", \"Origin\": \"USA\", \"Weight_in_lbs\": 2472, \"Year\": \"1973-01-01T00:00:00\"}, {\"Acceleration\": 15.5, \"Cylinders\": 4, \"Displacement\": 98.0, \"Horsepower\": 90.0, \"Miles_per_Gallon\": 26.0, \"Name\": \"fiat 124 sport coupe\", \"Origin\": \"Europe\", \"Weight_in_lbs\": 2265, \"Year\": \"1973-01-01T00:00:00\"}, {\"Acceleration\": 13.0, \"Cylinders\": 8, \"Displacement\": 350.0, \"Horsepower\": 145.0, \"Miles_per_Gallon\": 15.0, \"Name\": \"chevrolet monte carlo s\", \"Origin\": \"USA\", \"Weight_in_lbs\": 4082, \"Year\": \"1973-01-01T00:00:00\"}, {\"Acceleration\": 9.5, \"Cylinders\": 8, \"Displacement\": 400.0, \"Horsepower\": 230.0, \"Miles_per_Gallon\": 16.0, \"Name\": \"pontiac grand prix\", \"Origin\": \"USA\", \"Weight_in_lbs\": 4278, \"Year\": \"1973-01-01T00:00:00\"}, {\"Acceleration\": 19.5, \"Cylinders\": 4, \"Displacement\": 68.0, \"Horsepower\": 49.0, \"Miles_per_Gallon\": 29.0, \"Name\": \"fiat 128\", \"Origin\": \"Europe\", \"Weight_in_lbs\": 1867, \"Year\": \"1973-01-01T00:00:00\"}, {\"Acceleration\": 15.5, \"Cylinders\": 4, \"Displacement\": 116.0, \"Horsepower\": 75.0, \"Miles_per_Gallon\": 24.0, \"Name\": \"opel manta\", \"Origin\": \"Europe\", \"Weight_in_lbs\": 2158, \"Year\": \"1973-01-01T00:00:00\"}, {\"Acceleration\": 14.0, \"Cylinders\": 4, \"Displacement\": 114.0, \"Horsepower\": 91.0, \"Miles_per_Gallon\": 20.0, \"Name\": \"audi 100ls\", \"Origin\": \"Europe\", \"Weight_in_lbs\": 2582, \"Year\": \"1973-01-01T00:00:00\"}, {\"Acceleration\": 15.5, \"Cylinders\": 4, \"Displacement\": 121.0, \"Horsepower\": 112.0, \"Miles_per_Gallon\": 19.0, \"Name\": \"volvo 144ea\", \"Origin\": \"Europe\", \"Weight_in_lbs\": 2868, \"Year\": \"1973-01-01T00:00:00\"}, {\"Acceleration\": 11.0, \"Cylinders\": 8, \"Displacement\": 318.0, \"Horsepower\": 150.0, \"Miles_per_Gallon\": 15.0, \"Name\": \"dodge dart custom\", \"Origin\": \"USA\", \"Weight_in_lbs\": 3399, \"Year\": \"1973-01-01T00:00:00\"}, {\"Acceleration\": 14.0, \"Cylinders\": 4, \"Displacement\": 121.0, \"Horsepower\": 110.0, \"Miles_per_Gallon\": 24.0, \"Name\": \"saab 99le\", \"Origin\": \"Europe\", \"Weight_in_lbs\": 2660, \"Year\": \"1973-01-01T00:00:00\"}, {\"Acceleration\": 13.5, \"Cylinders\": 6, \"Displacement\": 156.0, \"Horsepower\": 122.0, \"Miles_per_Gallon\": 20.0, \"Name\": \"toyota mark ii\", \"Origin\": \"Japan\", \"Weight_in_lbs\": 2807, \"Year\": \"1973-01-01T00:00:00\"}, {\"Acceleration\": 11.0, \"Cylinders\": 8, \"Displacement\": 350.0, \"Horsepower\": 180.0, \"Miles_per_Gallon\": 11.0, \"Name\": \"oldsmobile omega\", \"Origin\": \"USA\", \"Weight_in_lbs\": 3664, \"Year\": \"1973-01-01T00:00:00\"}, {\"Acceleration\": 16.5, \"Cylinders\": 6, \"Displacement\": 198.0, \"Horsepower\": 95.0, \"Miles_per_Gallon\": 20.0, \"Name\": \"plymouth duster\", \"Origin\": \"USA\", \"Weight_in_lbs\": 3102, \"Year\": \"1974-01-01T00:00:00\"}, {\"Acceleration\": 17.0, \"Cylinders\": 6, \"Displacement\": 200.0, \"Horsepower\": null, \"Miles_per_Gallon\": 21.0, \"Name\": \"ford maverick\", \"Origin\": \"USA\", \"Weight_in_lbs\": 2875, \"Year\": \"1974-01-01T00:00:00\"}, {\"Acceleration\": 16.0, \"Cylinders\": 6, \"Displacement\": 232.0, \"Horsepower\": 100.0, \"Miles_per_Gallon\": 19.0, \"Name\": \"amc hornet\", \"Origin\": \"USA\", \"Weight_in_lbs\": 2901, \"Year\": \"1974-01-01T00:00:00\"}, {\"Acceleration\": 17.0, \"Cylinders\": 6, \"Displacement\": 250.0, \"Horsepower\": 100.0, \"Miles_per_Gallon\": 15.0, \"Name\": \"chevrolet nova\", \"Origin\": \"USA\", \"Weight_in_lbs\": 3336, \"Year\": \"1974-01-01T00:00:00\"}, {\"Acceleration\": 19.0, \"Cylinders\": 4, \"Displacement\": 79.0, \"Horsepower\": 67.0, \"Miles_per_Gallon\": 31.0, \"Name\": \"datsun b210\", \"Origin\": \"Japan\", \"Weight_in_lbs\": 1950, \"Year\": \"1974-01-01T00:00:00\"}, {\"Acceleration\": 16.5, \"Cylinders\": 4, \"Displacement\": 122.0, \"Horsepower\": 80.0, \"Miles_per_Gallon\": 26.0, \"Name\": \"ford pinto\", \"Origin\": \"USA\", \"Weight_in_lbs\": 2451, \"Year\": \"1974-01-01T00:00:00\"}, {\"Acceleration\": 21.0, \"Cylinders\": 4, \"Displacement\": 71.0, \"Horsepower\": 65.0, \"Miles_per_Gallon\": 32.0, \"Name\": \"toyota corolla 1200\", \"Origin\": \"Japan\", \"Weight_in_lbs\": 1836, \"Year\": \"1974-01-01T00:00:00\"}, {\"Acceleration\": 17.0, \"Cylinders\": 4, \"Displacement\": 140.0, \"Horsepower\": 75.0, \"Miles_per_Gallon\": 25.0, \"Name\": \"chevrolet vega\", \"Origin\": \"USA\", \"Weight_in_lbs\": 2542, \"Year\": \"1974-01-01T00:00:00\"}, {\"Acceleration\": 17.0, \"Cylinders\": 6, \"Displacement\": 250.0, \"Horsepower\": 100.0, \"Miles_per_Gallon\": 16.0, \"Name\": \"chevrolet chevelle malibu classic\", \"Origin\": \"USA\", \"Weight_in_lbs\": 3781, \"Year\": \"1974-01-01T00:00:00\"}, {\"Acceleration\": 18.0, \"Cylinders\": 6, \"Displacement\": 258.0, \"Horsepower\": 110.0, \"Miles_per_Gallon\": 16.0, \"Name\": \"amc matador\", \"Origin\": \"USA\", \"Weight_in_lbs\": 3632, \"Year\": \"1974-01-01T00:00:00\"}, {\"Acceleration\": 16.5, \"Cylinders\": 6, \"Displacement\": 225.0, \"Horsepower\": 105.0, \"Miles_per_Gallon\": 18.0, \"Name\": \"plymouth satellite sebring\", \"Origin\": \"USA\", \"Weight_in_lbs\": 3613, \"Year\": \"1974-01-01T00:00:00\"}, {\"Acceleration\": 14.0, \"Cylinders\": 8, \"Displacement\": 302.0, \"Horsepower\": 140.0, \"Miles_per_Gallon\": 16.0, \"Name\": \"ford gran torino\", \"Origin\": \"USA\", \"Weight_in_lbs\": 4141, \"Year\": \"1974-01-01T00:00:00\"}, {\"Acceleration\": 14.5, \"Cylinders\": 8, \"Displacement\": 350.0, \"Horsepower\": 150.0, \"Miles_per_Gallon\": 13.0, \"Name\": \"buick century luxus (sw)\", \"Origin\": \"USA\", \"Weight_in_lbs\": 4699, \"Year\": \"1974-01-01T00:00:00\"}, {\"Acceleration\": 13.5, \"Cylinders\": 8, \"Displacement\": 318.0, \"Horsepower\": 150.0, \"Miles_per_Gallon\": 14.0, \"Name\": \"dodge coronet custom (sw)\", \"Origin\": \"USA\", \"Weight_in_lbs\": 4457, \"Year\": \"1974-01-01T00:00:00\"}, {\"Acceleration\": 16.0, \"Cylinders\": 8, \"Displacement\": 302.0, \"Horsepower\": 140.0, \"Miles_per_Gallon\": 14.0, \"Name\": \"ford gran torino (sw)\", \"Origin\": \"USA\", \"Weight_in_lbs\": 4638, \"Year\": \"1974-01-01T00:00:00\"}, {\"Acceleration\": 15.5, \"Cylinders\": 8, \"Displacement\": 304.0, \"Horsepower\": 150.0, \"Miles_per_Gallon\": 14.0, \"Name\": \"amc matador (sw)\", \"Origin\": \"USA\", \"Weight_in_lbs\": 4257, \"Year\": \"1974-01-01T00:00:00\"}, {\"Acceleration\": 16.5, \"Cylinders\": 4, \"Displacement\": 98.0, \"Horsepower\": 83.0, \"Miles_per_Gallon\": 29.0, \"Name\": \"audi fox\", \"Origin\": \"Europe\", \"Weight_in_lbs\": 2219, \"Year\": \"1974-01-01T00:00:00\"}, {\"Acceleration\": 15.5, \"Cylinders\": 4, \"Displacement\": 79.0, \"Horsepower\": 67.0, \"Miles_per_Gallon\": 26.0, \"Name\": \"volkswagen dasher\", \"Origin\": \"Europe\", \"Weight_in_lbs\": 1963, \"Year\": \"1974-01-01T00:00:00\"}, {\"Acceleration\": 14.5, \"Cylinders\": 4, \"Displacement\": 97.0, \"Horsepower\": 78.0, \"Miles_per_Gallon\": 26.0, \"Name\": \"opel manta\", \"Origin\": \"Europe\", \"Weight_in_lbs\": 2300, \"Year\": \"1974-01-01T00:00:00\"}, {\"Acceleration\": 16.5, \"Cylinders\": 4, \"Displacement\": 76.0, \"Horsepower\": 52.0, \"Miles_per_Gallon\": 31.0, \"Name\": \"toyota corona\", \"Origin\": \"Japan\", \"Weight_in_lbs\": 1649, \"Year\": \"1974-01-01T00:00:00\"}, {\"Acceleration\": 19.0, \"Cylinders\": 4, \"Displacement\": 83.0, \"Horsepower\": 61.0, \"Miles_per_Gallon\": 32.0, \"Name\": \"datsun 710\", \"Origin\": \"Japan\", \"Weight_in_lbs\": 2003, \"Year\": \"1974-01-01T00:00:00\"}, {\"Acceleration\": 14.5, \"Cylinders\": 4, \"Displacement\": 90.0, \"Horsepower\": 75.0, \"Miles_per_Gallon\": 28.0, \"Name\": \"dodge colt\", \"Origin\": \"USA\", \"Weight_in_lbs\": 2125, \"Year\": \"1974-01-01T00:00:00\"}, {\"Acceleration\": 15.5, \"Cylinders\": 4, \"Displacement\": 90.0, \"Horsepower\": 75.0, \"Miles_per_Gallon\": 24.0, \"Name\": \"fiat 128\", \"Origin\": \"Europe\", \"Weight_in_lbs\": 2108, \"Year\": \"1974-01-01T00:00:00\"}, {\"Acceleration\": 14.0, \"Cylinders\": 4, \"Displacement\": 116.0, \"Horsepower\": 75.0, \"Miles_per_Gallon\": 26.0, \"Name\": \"fiat 124 tc\", \"Origin\": \"Europe\", \"Weight_in_lbs\": 2246, \"Year\": \"1974-01-01T00:00:00\"}, {\"Acceleration\": 15.0, \"Cylinders\": 4, \"Displacement\": 120.0, \"Horsepower\": 97.0, \"Miles_per_Gallon\": 24.0, \"Name\": \"honda civic\", \"Origin\": \"Japan\", \"Weight_in_lbs\": 2489, \"Year\": \"1974-01-01T00:00:00\"}, {\"Acceleration\": 15.5, \"Cylinders\": 4, \"Displacement\": 108.0, \"Horsepower\": 93.0, \"Miles_per_Gallon\": 26.0, \"Name\": \"subaru\", \"Origin\": \"Japan\", \"Weight_in_lbs\": 2391, \"Year\": \"1974-01-01T00:00:00\"}, {\"Acceleration\": 16.0, \"Cylinders\": 4, \"Displacement\": 79.0, \"Horsepower\": 67.0, \"Miles_per_Gallon\": 31.0, \"Name\": \"fiat x1.9\", \"Origin\": \"Europe\", \"Weight_in_lbs\": 2000, \"Year\": \"1974-01-01T00:00:00\"}, {\"Acceleration\": 16.0, \"Cylinders\": 6, \"Displacement\": 225.0, \"Horsepower\": 95.0, \"Miles_per_Gallon\": 19.0, \"Name\": \"plymouth valiant custom\", \"Origin\": \"USA\", \"Weight_in_lbs\": 3264, \"Year\": \"1975-01-01T00:00:00\"}, {\"Acceleration\": 16.0, \"Cylinders\": 6, \"Displacement\": 250.0, \"Horsepower\": 105.0, \"Miles_per_Gallon\": 18.0, \"Name\": \"chevrolet nova\", \"Origin\": \"USA\", \"Weight_in_lbs\": 3459, \"Year\": \"1975-01-01T00:00:00\"}, {\"Acceleration\": 21.0, \"Cylinders\": 6, \"Displacement\": 250.0, \"Horsepower\": 72.0, \"Miles_per_Gallon\": 15.0, \"Name\": \"mercury monarch\", \"Origin\": \"USA\", \"Weight_in_lbs\": 3432, \"Year\": \"1975-01-01T00:00:00\"}, {\"Acceleration\": 19.5, \"Cylinders\": 6, \"Displacement\": 250.0, \"Horsepower\": 72.0, \"Miles_per_Gallon\": 15.0, \"Name\": \"ford maverick\", \"Origin\": \"USA\", \"Weight_in_lbs\": 3158, \"Year\": \"1975-01-01T00:00:00\"}, {\"Acceleration\": 11.5, \"Cylinders\": 8, \"Displacement\": 400.0, \"Horsepower\": 170.0, \"Miles_per_Gallon\": 16.0, \"Name\": \"pontiac catalina\", \"Origin\": \"USA\", \"Weight_in_lbs\": 4668, \"Year\": \"1975-01-01T00:00:00\"}, {\"Acceleration\": 14.0, \"Cylinders\": 8, \"Displacement\": 350.0, \"Horsepower\": 145.0, \"Miles_per_Gallon\": 15.0, \"Name\": \"chevrolet bel air\", \"Origin\": \"USA\", \"Weight_in_lbs\": 4440, \"Year\": \"1975-01-01T00:00:00\"}, {\"Acceleration\": 14.5, \"Cylinders\": 8, \"Displacement\": 318.0, \"Horsepower\": 150.0, \"Miles_per_Gallon\": 16.0, \"Name\": \"plymouth grand fury\", \"Origin\": \"USA\", \"Weight_in_lbs\": 4498, \"Year\": \"1975-01-01T00:00:00\"}, {\"Acceleration\": 13.5, \"Cylinders\": 8, \"Displacement\": 351.0, \"Horsepower\": 148.0, \"Miles_per_Gallon\": 14.0, \"Name\": \"ford ltd\", \"Origin\": \"USA\", \"Weight_in_lbs\": 4657, \"Year\": \"1975-01-01T00:00:00\"}, {\"Acceleration\": 21.0, \"Cylinders\": 6, \"Displacement\": 231.0, \"Horsepower\": 110.0, \"Miles_per_Gallon\": 17.0, \"Name\": \"buick century\", \"Origin\": \"USA\", \"Weight_in_lbs\": 3907, \"Year\": \"1975-01-01T00:00:00\"}, {\"Acceleration\": 18.5, \"Cylinders\": 6, \"Displacement\": 250.0, \"Horsepower\": 105.0, \"Miles_per_Gallon\": 16.0, \"Name\": \"chevroelt chevelle malibu\", \"Origin\": \"USA\", \"Weight_in_lbs\": 3897, \"Year\": \"1975-01-01T00:00:00\"}, {\"Acceleration\": 19.0, \"Cylinders\": 6, \"Displacement\": 258.0, \"Horsepower\": 110.0, \"Miles_per_Gallon\": 15.0, \"Name\": \"amc matador\", \"Origin\": \"USA\", \"Weight_in_lbs\": 3730, \"Year\": \"1975-01-01T00:00:00\"}, {\"Acceleration\": 19.0, \"Cylinders\": 6, \"Displacement\": 225.0, \"Horsepower\": 95.0, \"Miles_per_Gallon\": 18.0, \"Name\": \"plymouth fury\", \"Origin\": \"USA\", \"Weight_in_lbs\": 3785, \"Year\": \"1975-01-01T00:00:00\"}, {\"Acceleration\": 15.0, \"Cylinders\": 6, \"Displacement\": 231.0, \"Horsepower\": 110.0, \"Miles_per_Gallon\": 21.0, \"Name\": \"buick skyhawk\", \"Origin\": \"USA\", \"Weight_in_lbs\": 3039, \"Year\": \"1975-01-01T00:00:00\"}, {\"Acceleration\": 13.5, \"Cylinders\": 8, \"Displacement\": 262.0, \"Horsepower\": 110.0, \"Miles_per_Gallon\": 20.0, \"Name\": \"chevrolet monza 2+2\", \"Origin\": \"USA\", \"Weight_in_lbs\": 3221, \"Year\": \"1975-01-01T00:00:00\"}, {\"Acceleration\": 12.0, \"Cylinders\": 8, \"Displacement\": 302.0, \"Horsepower\": 129.0, \"Miles_per_Gallon\": 13.0, \"Name\": \"ford mustang ii\", \"Origin\": \"USA\", \"Weight_in_lbs\": 3169, \"Year\": \"1975-01-01T00:00:00\"}, {\"Acceleration\": 16.0, \"Cylinders\": 4, \"Displacement\": 97.0, \"Horsepower\": 75.0, \"Miles_per_Gallon\": 29.0, \"Name\": \"toyota corolla\", \"Origin\": \"Japan\", \"Weight_in_lbs\": 2171, \"Year\": \"1975-01-01T00:00:00\"}, {\"Acceleration\": 17.0, \"Cylinders\": 4, \"Displacement\": 140.0, \"Horsepower\": 83.0, \"Miles_per_Gallon\": 23.0, \"Name\": \"ford pinto\", \"Origin\": \"USA\", \"Weight_in_lbs\": 2639, \"Year\": \"1975-01-01T00:00:00\"}, {\"Acceleration\": 16.0, \"Cylinders\": 6, \"Displacement\": 232.0, \"Horsepower\": 100.0, \"Miles_per_Gallon\": 20.0, \"Name\": \"amc gremlin\", \"Origin\": \"USA\", \"Weight_in_lbs\": 2914, \"Year\": \"1975-01-01T00:00:00\"}, {\"Acceleration\": 18.5, \"Cylinders\": 4, \"Displacement\": 140.0, \"Horsepower\": 78.0, \"Miles_per_Gallon\": 23.0, \"Name\": \"pontiac astro\", \"Origin\": \"USA\", \"Weight_in_lbs\": 2592, \"Year\": \"1975-01-01T00:00:00\"}, {\"Acceleration\": 13.5, \"Cylinders\": 4, \"Displacement\": 134.0, \"Horsepower\": 96.0, \"Miles_per_Gallon\": 24.0, \"Name\": \"toyota corona\", \"Origin\": \"Japan\", \"Weight_in_lbs\": 2702, \"Year\": \"1975-01-01T00:00:00\"}, {\"Acceleration\": 16.5, \"Cylinders\": 4, \"Displacement\": 90.0, \"Horsepower\": 71.0, \"Miles_per_Gallon\": 25.0, \"Name\": \"volkswagen dasher\", \"Origin\": \"Europe\", \"Weight_in_lbs\": 2223, \"Year\": \"1975-01-01T00:00:00\"}, {\"Acceleration\": 17.0, \"Cylinders\": 4, \"Displacement\": 119.0, \"Horsepower\": 97.0, \"Miles_per_Gallon\": 24.0, \"Name\": \"datsun 710\", \"Origin\": \"Japan\", \"Weight_in_lbs\": 2545, \"Year\": \"1975-01-01T00:00:00\"}, {\"Acceleration\": 14.5, \"Cylinders\": 6, \"Displacement\": 171.0, \"Horsepower\": 97.0, \"Miles_per_Gallon\": 18.0, \"Name\": \"ford pinto\", \"Origin\": \"USA\", \"Weight_in_lbs\": 2984, \"Year\": \"1975-01-01T00:00:00\"}, {\"Acceleration\": 14.0, \"Cylinders\": 4, \"Displacement\": 90.0, \"Horsepower\": 70.0, \"Miles_per_Gallon\": 29.0, \"Name\": \"volkswagen rabbit\", \"Origin\": \"Europe\", \"Weight_in_lbs\": 1937, \"Year\": \"1975-01-01T00:00:00\"}, {\"Acceleration\": 17.0, \"Cylinders\": 6, \"Displacement\": 232.0, \"Horsepower\": 90.0, \"Miles_per_Gallon\": 19.0, \"Name\": \"amc pacer\", \"Origin\": \"USA\", \"Weight_in_lbs\": 3211, \"Year\": \"1975-01-01T00:00:00\"}, {\"Acceleration\": 15.0, \"Cylinders\": 4, \"Displacement\": 115.0, \"Horsepower\": 95.0, \"Miles_per_Gallon\": 23.0, \"Name\": \"audi 100ls\", \"Origin\": \"Europe\", \"Weight_in_lbs\": 2694, \"Year\": \"1975-01-01T00:00:00\"}, {\"Acceleration\": 17.0, \"Cylinders\": 4, \"Displacement\": 120.0, \"Horsepower\": 88.0, \"Miles_per_Gallon\": 23.0, \"Name\": \"peugeot 504\", \"Origin\": \"Europe\", \"Weight_in_lbs\": 2957, \"Year\": \"1975-01-01T00:00:00\"}, {\"Acceleration\": 14.5, \"Cylinders\": 4, \"Displacement\": 121.0, \"Horsepower\": 98.0, \"Miles_per_Gallon\": 22.0, \"Name\": \"volvo 244dl\", \"Origin\": \"Europe\", \"Weight_in_lbs\": 2945, \"Year\": \"1975-01-01T00:00:00\"}, {\"Acceleration\": 13.5, \"Cylinders\": 4, \"Displacement\": 121.0, \"Horsepower\": 115.0, \"Miles_per_Gallon\": 25.0, \"Name\": \"saab 99le\", \"Origin\": \"Europe\", \"Weight_in_lbs\": 2671, \"Year\": \"1975-01-01T00:00:00\"}, {\"Acceleration\": 17.5, \"Cylinders\": 4, \"Displacement\": 91.0, \"Horsepower\": 53.0, \"Miles_per_Gallon\": 33.0, \"Name\": \"honda civic cvcc\", \"Origin\": \"Japan\", \"Weight_in_lbs\": 1795, \"Year\": \"1975-01-01T00:00:00\"}, {\"Acceleration\": 15.5, \"Cylinders\": 4, \"Displacement\": 107.0, \"Horsepower\": 86.0, \"Miles_per_Gallon\": 28.0, \"Name\": \"fiat 131\", \"Origin\": \"Europe\", \"Weight_in_lbs\": 2464, \"Year\": \"1976-01-01T00:00:00\"}, {\"Acceleration\": 16.9, \"Cylinders\": 4, \"Displacement\": 116.0, \"Horsepower\": 81.0, \"Miles_per_Gallon\": 25.0, \"Name\": \"opel 1900\", \"Origin\": \"Europe\", \"Weight_in_lbs\": 2220, \"Year\": \"1976-01-01T00:00:00\"}, {\"Acceleration\": 14.9, \"Cylinders\": 4, \"Displacement\": 140.0, \"Horsepower\": 92.0, \"Miles_per_Gallon\": 25.0, \"Name\": \"capri ii\", \"Origin\": \"USA\", \"Weight_in_lbs\": 2572, \"Year\": \"1976-01-01T00:00:00\"}, {\"Acceleration\": 17.7, \"Cylinders\": 4, \"Displacement\": 98.0, \"Horsepower\": 79.0, \"Miles_per_Gallon\": 26.0, \"Name\": \"dodge colt\", \"Origin\": \"USA\", \"Weight_in_lbs\": 2255, \"Year\": \"1976-01-01T00:00:00\"}, {\"Acceleration\": 15.3, \"Cylinders\": 4, \"Displacement\": 101.0, \"Horsepower\": 83.0, \"Miles_per_Gallon\": 27.0, \"Name\": \"renault 12tl\", \"Origin\": \"Europe\", \"Weight_in_lbs\": 2202, \"Year\": \"1976-01-01T00:00:00\"}, {\"Acceleration\": 13.0, \"Cylinders\": 8, \"Displacement\": 305.0, \"Horsepower\": 140.0, \"Miles_per_Gallon\": 17.5, \"Name\": \"chevrolet chevelle malibu classic\", \"Origin\": \"USA\", \"Weight_in_lbs\": 4215, \"Year\": \"1976-01-01T00:00:00\"}, {\"Acceleration\": 13.0, \"Cylinders\": 8, \"Displacement\": 318.0, \"Horsepower\": 150.0, \"Miles_per_Gallon\": 16.0, \"Name\": \"dodge coronet brougham\", \"Origin\": \"USA\", \"Weight_in_lbs\": 4190, \"Year\": \"1976-01-01T00:00:00\"}, {\"Acceleration\": 13.9, \"Cylinders\": 8, \"Displacement\": 304.0, \"Horsepower\": 120.0, \"Miles_per_Gallon\": 15.5, \"Name\": \"amc matador\", \"Origin\": \"USA\", \"Weight_in_lbs\": 3962, \"Year\": \"1976-01-01T00:00:00\"}, {\"Acceleration\": 12.8, \"Cylinders\": 8, \"Displacement\": 351.0, \"Horsepower\": 152.0, \"Miles_per_Gallon\": 14.5, \"Name\": \"ford gran torino\", \"Origin\": \"USA\", \"Weight_in_lbs\": 4215, \"Year\": \"1976-01-01T00:00:00\"}, {\"Acceleration\": 15.4, \"Cylinders\": 6, \"Displacement\": 225.0, \"Horsepower\": 100.0, \"Miles_per_Gallon\": 22.0, \"Name\": \"plymouth valiant\", \"Origin\": \"USA\", \"Weight_in_lbs\": 3233, \"Year\": \"1976-01-01T00:00:00\"}, {\"Acceleration\": 14.5, \"Cylinders\": 6, \"Displacement\": 250.0, \"Horsepower\": 105.0, \"Miles_per_Gallon\": 22.0, \"Name\": \"chevrolet nova\", \"Origin\": \"USA\", \"Weight_in_lbs\": 3353, \"Year\": \"1976-01-01T00:00:00\"}, {\"Acceleration\": 17.6, \"Cylinders\": 6, \"Displacement\": 200.0, \"Horsepower\": 81.0, \"Miles_per_Gallon\": 24.0, \"Name\": \"ford maverick\", \"Origin\": \"USA\", \"Weight_in_lbs\": 3012, \"Year\": \"1976-01-01T00:00:00\"}, {\"Acceleration\": 17.6, \"Cylinders\": 6, \"Displacement\": 232.0, \"Horsepower\": 90.0, \"Miles_per_Gallon\": 22.5, \"Name\": \"amc hornet\", \"Origin\": \"USA\", \"Weight_in_lbs\": 3085, \"Year\": \"1976-01-01T00:00:00\"}, {\"Acceleration\": 22.2, \"Cylinders\": 4, \"Displacement\": 85.0, \"Horsepower\": 52.0, \"Miles_per_Gallon\": 29.0, \"Name\": \"chevrolet chevette\", \"Origin\": \"USA\", \"Weight_in_lbs\": 2035, \"Year\": \"1976-01-01T00:00:00\"}, {\"Acceleration\": 22.1, \"Cylinders\": 4, \"Displacement\": 98.0, \"Horsepower\": 60.0, \"Miles_per_Gallon\": 24.5, \"Name\": \"chevrolet woody\", \"Origin\": \"USA\", \"Weight_in_lbs\": 2164, \"Year\": \"1976-01-01T00:00:00\"}, {\"Acceleration\": 14.2, \"Cylinders\": 4, \"Displacement\": 90.0, \"Horsepower\": 70.0, \"Miles_per_Gallon\": 29.0, \"Name\": \"vw rabbit\", \"Origin\": \"Europe\", \"Weight_in_lbs\": 1937, \"Year\": \"1976-01-01T00:00:00\"}, {\"Acceleration\": 17.4, \"Cylinders\": 4, \"Displacement\": 91.0, \"Horsepower\": 53.0, \"Miles_per_Gallon\": 33.0, \"Name\": \"honda civic\", \"Origin\": \"Japan\", \"Weight_in_lbs\": 1795, \"Year\": \"1976-01-01T00:00:00\"}, {\"Acceleration\": 17.7, \"Cylinders\": 6, \"Displacement\": 225.0, \"Horsepower\": 100.0, \"Miles_per_Gallon\": 20.0, \"Name\": \"dodge aspen se\", \"Origin\": \"USA\", \"Weight_in_lbs\": 3651, \"Year\": \"1976-01-01T00:00:00\"}, {\"Acceleration\": 21.0, \"Cylinders\": 6, \"Displacement\": 250.0, \"Horsepower\": 78.0, \"Miles_per_Gallon\": 18.0, \"Name\": \"ford granada ghia\", \"Origin\": \"USA\", \"Weight_in_lbs\": 3574, \"Year\": \"1976-01-01T00:00:00\"}, {\"Acceleration\": 16.2, \"Cylinders\": 6, \"Displacement\": 250.0, \"Horsepower\": 110.0, \"Miles_per_Gallon\": 18.5, \"Name\": \"pontiac ventura sj\", \"Origin\": \"USA\", \"Weight_in_lbs\": 3645, \"Year\": \"1976-01-01T00:00:00\"}, {\"Acceleration\": 17.8, \"Cylinders\": 6, \"Displacement\": 258.0, \"Horsepower\": 95.0, \"Miles_per_Gallon\": 17.5, \"Name\": \"amc pacer d/l\", \"Origin\": \"USA\", \"Weight_in_lbs\": 3193, \"Year\": \"1976-01-01T00:00:00\"}, {\"Acceleration\": 12.2, \"Cylinders\": 4, \"Displacement\": 97.0, \"Horsepower\": 71.0, \"Miles_per_Gallon\": 29.5, \"Name\": \"volkswagen rabbit\", \"Origin\": \"Europe\", \"Weight_in_lbs\": 1825, \"Year\": \"1976-01-01T00:00:00\"}, {\"Acceleration\": 17.0, \"Cylinders\": 4, \"Displacement\": 85.0, \"Horsepower\": 70.0, \"Miles_per_Gallon\": 32.0, \"Name\": \"datsun b-210\", \"Origin\": \"Japan\", \"Weight_in_lbs\": 1990, \"Year\": \"1976-01-01T00:00:00\"}, {\"Acceleration\": 16.4, \"Cylinders\": 4, \"Displacement\": 97.0, \"Horsepower\": 75.0, \"Miles_per_Gallon\": 28.0, \"Name\": \"toyota corolla\", \"Origin\": \"Japan\", \"Weight_in_lbs\": 2155, \"Year\": \"1976-01-01T00:00:00\"}, {\"Acceleration\": 13.6, \"Cylinders\": 4, \"Displacement\": 140.0, \"Horsepower\": 72.0, \"Miles_per_Gallon\": 26.5, \"Name\": \"ford pinto\", \"Origin\": \"USA\", \"Weight_in_lbs\": 2565, \"Year\": \"1976-01-01T00:00:00\"}, {\"Acceleration\": 15.7, \"Cylinders\": 4, \"Displacement\": 130.0, \"Horsepower\": 102.0, \"Miles_per_Gallon\": 20.0, \"Name\": \"volvo 245\", \"Origin\": \"Europe\", \"Weight_in_lbs\": 3150, \"Year\": \"1976-01-01T00:00:00\"}, {\"Acceleration\": 13.2, \"Cylinders\": 8, \"Displacement\": 318.0, \"Horsepower\": 150.0, \"Miles_per_Gallon\": 13.0, \"Name\": \"plymouth volare premier v8\", \"Origin\": \"USA\", \"Weight_in_lbs\": 3940, \"Year\": \"1976-01-01T00:00:00\"}, {\"Acceleration\": 21.9, \"Cylinders\": 4, \"Displacement\": 120.0, \"Horsepower\": 88.0, \"Miles_per_Gallon\": 19.0, \"Name\": \"peugeot 504\", \"Origin\": \"Europe\", \"Weight_in_lbs\": 3270, \"Year\": \"1976-01-01T00:00:00\"}, {\"Acceleration\": 15.5, \"Cylinders\": 6, \"Displacement\": 156.0, \"Horsepower\": 108.0, \"Miles_per_Gallon\": 19.0, \"Name\": \"toyota mark ii\", \"Origin\": \"Japan\", \"Weight_in_lbs\": 2930, \"Year\": \"1976-01-01T00:00:00\"}, {\"Acceleration\": 16.7, \"Cylinders\": 6, \"Displacement\": 168.0, \"Horsepower\": 120.0, \"Miles_per_Gallon\": 16.5, \"Name\": \"mercedes-benz 280s\", \"Origin\": \"Europe\", \"Weight_in_lbs\": 3820, \"Year\": \"1976-01-01T00:00:00\"}, {\"Acceleration\": 12.1, \"Cylinders\": 8, \"Displacement\": 350.0, \"Horsepower\": 180.0, \"Miles_per_Gallon\": 16.5, \"Name\": \"cadillac seville\", \"Origin\": \"USA\", \"Weight_in_lbs\": 4380, \"Year\": \"1976-01-01T00:00:00\"}, {\"Acceleration\": 12.0, \"Cylinders\": 8, \"Displacement\": 350.0, \"Horsepower\": 145.0, \"Miles_per_Gallon\": 13.0, \"Name\": \"chevy c10\", \"Origin\": \"USA\", \"Weight_in_lbs\": 4055, \"Year\": \"1976-01-01T00:00:00\"}, {\"Acceleration\": 15.0, \"Cylinders\": 8, \"Displacement\": 302.0, \"Horsepower\": 130.0, \"Miles_per_Gallon\": 13.0, \"Name\": \"ford f108\", \"Origin\": \"USA\", \"Weight_in_lbs\": 3870, \"Year\": \"1976-01-01T00:00:00\"}, {\"Acceleration\": 14.0, \"Cylinders\": 8, \"Displacement\": 318.0, \"Horsepower\": 150.0, \"Miles_per_Gallon\": 13.0, \"Name\": \"dodge d100\", \"Origin\": \"USA\", \"Weight_in_lbs\": 3755, \"Year\": \"1976-01-01T00:00:00\"}, {\"Acceleration\": 18.5, \"Cylinders\": 4, \"Displacement\": 98.0, \"Horsepower\": 68.0, \"Miles_per_Gallon\": 31.5, \"Name\": \"honda Accelerationord cvcc\", \"Origin\": \"Japan\", \"Weight_in_lbs\": 2045, \"Year\": \"1977-01-01T00:00:00\"}, {\"Acceleration\": 14.8, \"Cylinders\": 4, \"Displacement\": 111.0, \"Horsepower\": 80.0, \"Miles_per_Gallon\": 30.0, \"Name\": \"buick opel isuzu deluxe\", \"Origin\": \"USA\", \"Weight_in_lbs\": 2155, \"Year\": \"1977-01-01T00:00:00\"}, {\"Acceleration\": 18.6, \"Cylinders\": 4, \"Displacement\": 79.0, \"Horsepower\": 58.0, \"Miles_per_Gallon\": 36.0, \"Name\": \"renault 5 gtl\", \"Origin\": \"Europe\", \"Weight_in_lbs\": 1825, \"Year\": \"1977-01-01T00:00:00\"}, {\"Acceleration\": 15.5, \"Cylinders\": 4, \"Displacement\": 122.0, \"Horsepower\": 96.0, \"Miles_per_Gallon\": 25.5, \"Name\": \"plymouth arrow gs\", \"Origin\": \"USA\", \"Weight_in_lbs\": 2300, \"Year\": \"1977-01-01T00:00:00\"}, {\"Acceleration\": 16.8, \"Cylinders\": 4, \"Displacement\": 85.0, \"Horsepower\": 70.0, \"Miles_per_Gallon\": 33.5, \"Name\": \"datsun f-10 hatchback\", \"Origin\": \"Japan\", \"Weight_in_lbs\": 1945, \"Year\": \"1977-01-01T00:00:00\"}, {\"Acceleration\": 12.5, \"Cylinders\": 8, \"Displacement\": 305.0, \"Horsepower\": 145.0, \"Miles_per_Gallon\": 17.5, \"Name\": \"chevrolet caprice classic\", \"Origin\": \"USA\", \"Weight_in_lbs\": 3880, \"Year\": \"1977-01-01T00:00:00\"}, {\"Acceleration\": 19.0, \"Cylinders\": 8, \"Displacement\": 260.0, \"Horsepower\": 110.0, \"Miles_per_Gallon\": 17.0, \"Name\": \"oldsmobile cutlass supreme\", \"Origin\": \"USA\", \"Weight_in_lbs\": 4060, \"Year\": \"1977-01-01T00:00:00\"}, {\"Acceleration\": 13.7, \"Cylinders\": 8, \"Displacement\": 318.0, \"Horsepower\": 145.0, \"Miles_per_Gallon\": 15.5, \"Name\": \"dodge monaco brougham\", \"Origin\": \"USA\", \"Weight_in_lbs\": 4140, \"Year\": \"1977-01-01T00:00:00\"}, {\"Acceleration\": 14.9, \"Cylinders\": 8, \"Displacement\": 302.0, \"Horsepower\": 130.0, \"Miles_per_Gallon\": 15.0, \"Name\": \"mercury cougar brougham\", \"Origin\": \"USA\", \"Weight_in_lbs\": 4295, \"Year\": \"1977-01-01T00:00:00\"}, {\"Acceleration\": 16.4, \"Cylinders\": 6, \"Displacement\": 250.0, \"Horsepower\": 110.0, \"Miles_per_Gallon\": 17.5, \"Name\": \"chevrolet concours\", \"Origin\": \"USA\", \"Weight_in_lbs\": 3520, \"Year\": \"1977-01-01T00:00:00\"}, {\"Acceleration\": 16.9, \"Cylinders\": 6, \"Displacement\": 231.0, \"Horsepower\": 105.0, \"Miles_per_Gallon\": 20.5, \"Name\": \"buick skylark\", \"Origin\": \"USA\", \"Weight_in_lbs\": 3425, \"Year\": \"1977-01-01T00:00:00\"}, {\"Acceleration\": 17.7, \"Cylinders\": 6, \"Displacement\": 225.0, \"Horsepower\": 100.0, \"Miles_per_Gallon\": 19.0, \"Name\": \"plymouth volare custom\", \"Origin\": \"USA\", \"Weight_in_lbs\": 3630, \"Year\": \"1977-01-01T00:00:00\"}, {\"Acceleration\": 19.0, \"Cylinders\": 6, \"Displacement\": 250.0, \"Horsepower\": 98.0, \"Miles_per_Gallon\": 18.5, \"Name\": \"ford granada\", \"Origin\": \"USA\", \"Weight_in_lbs\": 3525, \"Year\": \"1977-01-01T00:00:00\"}, {\"Acceleration\": 11.1, \"Cylinders\": 8, \"Displacement\": 400.0, \"Horsepower\": 180.0, \"Miles_per_Gallon\": 16.0, \"Name\": \"pontiac grand prix lj\", \"Origin\": \"USA\", \"Weight_in_lbs\": 4220, \"Year\": \"1977-01-01T00:00:00\"}, {\"Acceleration\": 11.4, \"Cylinders\": 8, \"Displacement\": 350.0, \"Horsepower\": 170.0, \"Miles_per_Gallon\": 15.5, \"Name\": \"chevrolet monte carlo landau\", \"Origin\": \"USA\", \"Weight_in_lbs\": 4165, \"Year\": \"1977-01-01T00:00:00\"}, {\"Acceleration\": 12.2, \"Cylinders\": 8, \"Displacement\": 400.0, \"Horsepower\": 190.0, \"Miles_per_Gallon\": 15.5, \"Name\": \"chrysler cordoba\", \"Origin\": \"USA\", \"Weight_in_lbs\": 4325, \"Year\": \"1977-01-01T00:00:00\"}, {\"Acceleration\": 14.5, \"Cylinders\": 8, \"Displacement\": 351.0, \"Horsepower\": 149.0, \"Miles_per_Gallon\": 16.0, \"Name\": \"ford thunderbird\", \"Origin\": \"USA\", \"Weight_in_lbs\": 4335, \"Year\": \"1977-01-01T00:00:00\"}, {\"Acceleration\": 14.5, \"Cylinders\": 4, \"Displacement\": 97.0, \"Horsepower\": 78.0, \"Miles_per_Gallon\": 29.0, \"Name\": \"volkswagen rabbit custom\", \"Origin\": \"Europe\", \"Weight_in_lbs\": 1940, \"Year\": \"1977-01-01T00:00:00\"}, {\"Acceleration\": 16.0, \"Cylinders\": 4, \"Displacement\": 151.0, \"Horsepower\": 88.0, \"Miles_per_Gallon\": 24.5, \"Name\": \"pontiac sunbird coupe\", \"Origin\": \"USA\", \"Weight_in_lbs\": 2740, \"Year\": \"1977-01-01T00:00:00\"}, {\"Acceleration\": 18.2, \"Cylinders\": 4, \"Displacement\": 97.0, \"Horsepower\": 75.0, \"Miles_per_Gallon\": 26.0, \"Name\": \"toyota corolla liftback\", \"Origin\": \"Japan\", \"Weight_in_lbs\": 2265, \"Year\": \"1977-01-01T00:00:00\"}, {\"Acceleration\": 15.8, \"Cylinders\": 4, \"Displacement\": 140.0, \"Horsepower\": 89.0, \"Miles_per_Gallon\": 25.5, \"Name\": \"ford mustang ii 2+2\", \"Origin\": \"USA\", \"Weight_in_lbs\": 2755, \"Year\": \"1977-01-01T00:00:00\"}, {\"Acceleration\": 17.0, \"Cylinders\": 4, \"Displacement\": 98.0, \"Horsepower\": 63.0, \"Miles_per_Gallon\": 30.5, \"Name\": \"chevrolet chevette\", \"Origin\": \"USA\", \"Weight_in_lbs\": 2051, \"Year\": \"1977-01-01T00:00:00\"}, {\"Acceleration\": 15.9, \"Cylinders\": 4, \"Displacement\": 98.0, \"Horsepower\": 83.0, \"Miles_per_Gallon\": 33.5, \"Name\": \"dodge colt m/m\", \"Origin\": \"USA\", \"Weight_in_lbs\": 2075, \"Year\": \"1977-01-01T00:00:00\"}, {\"Acceleration\": 16.4, \"Cylinders\": 4, \"Displacement\": 97.0, \"Horsepower\": 67.0, \"Miles_per_Gallon\": 30.0, \"Name\": \"subaru dl\", \"Origin\": \"Japan\", \"Weight_in_lbs\": 1985, \"Year\": \"1977-01-01T00:00:00\"}, {\"Acceleration\": 14.1, \"Cylinders\": 4, \"Displacement\": 97.0, \"Horsepower\": 78.0, \"Miles_per_Gallon\": 30.5, \"Name\": \"volkswagen dasher\", \"Origin\": \"Europe\", \"Weight_in_lbs\": 2190, \"Year\": \"1977-01-01T00:00:00\"}, {\"Acceleration\": 14.5, \"Cylinders\": 6, \"Displacement\": 146.0, \"Horsepower\": 97.0, \"Miles_per_Gallon\": 22.0, \"Name\": \"datsun 810\", \"Origin\": \"Japan\", \"Weight_in_lbs\": 2815, \"Year\": \"1977-01-01T00:00:00\"}, {\"Acceleration\": 12.8, \"Cylinders\": 4, \"Displacement\": 121.0, \"Horsepower\": 110.0, \"Miles_per_Gallon\": 21.5, \"Name\": \"bmw 320i\", \"Origin\": \"Europe\", \"Weight_in_lbs\": 2600, \"Year\": \"1977-01-01T00:00:00\"}, {\"Acceleration\": 13.5, \"Cylinders\": 3, \"Displacement\": 80.0, \"Horsepower\": 110.0, \"Miles_per_Gallon\": 21.5, \"Name\": \"mazda rx-4\", \"Origin\": \"Japan\", \"Weight_in_lbs\": 2720, \"Year\": \"1977-01-01T00:00:00\"}, {\"Acceleration\": 21.5, \"Cylinders\": 4, \"Displacement\": 90.0, \"Horsepower\": 48.0, \"Miles_per_Gallon\": 43.1, \"Name\": \"volkswagen rabbit custom diesel\", \"Origin\": \"Europe\", \"Weight_in_lbs\": 1985, \"Year\": \"1978-01-01T00:00:00\"}, {\"Acceleration\": 14.4, \"Cylinders\": 4, \"Displacement\": 98.0, \"Horsepower\": 66.0, \"Miles_per_Gallon\": 36.1, \"Name\": \"ford fiesta\", \"Origin\": \"USA\", \"Weight_in_lbs\": 1800, \"Year\": \"1978-01-01T00:00:00\"}, {\"Acceleration\": 19.4, \"Cylinders\": 4, \"Displacement\": 78.0, \"Horsepower\": 52.0, \"Miles_per_Gallon\": 32.8, \"Name\": \"mazda glc deluxe\", \"Origin\": \"Japan\", \"Weight_in_lbs\": 1985, \"Year\": \"1978-01-01T00:00:00\"}, {\"Acceleration\": 18.6, \"Cylinders\": 4, \"Displacement\": 85.0, \"Horsepower\": 70.0, \"Miles_per_Gallon\": 39.4, \"Name\": \"datsun b210 gx\", \"Origin\": \"Japan\", \"Weight_in_lbs\": 2070, \"Year\": \"1978-01-01T00:00:00\"}, {\"Acceleration\": 16.4, \"Cylinders\": 4, \"Displacement\": 91.0, \"Horsepower\": 60.0, \"Miles_per_Gallon\": 36.1, \"Name\": \"honda civic cvcc\", \"Origin\": \"Japan\", \"Weight_in_lbs\": 1800, \"Year\": \"1978-01-01T00:00:00\"}, {\"Acceleration\": 15.5, \"Cylinders\": 8, \"Displacement\": 260.0, \"Horsepower\": 110.0, \"Miles_per_Gallon\": 19.9, \"Name\": \"oldsmobile cutlass salon brougham\", \"Origin\": \"USA\", \"Weight_in_lbs\": 3365, \"Year\": \"1978-01-01T00:00:00\"}, {\"Acceleration\": 13.2, \"Cylinders\": 8, \"Displacement\": 318.0, \"Horsepower\": 140.0, \"Miles_per_Gallon\": 19.4, \"Name\": \"dodge diplomat\", \"Origin\": \"USA\", \"Weight_in_lbs\": 3735, \"Year\": \"1978-01-01T00:00:00\"}, {\"Acceleration\": 12.8, \"Cylinders\": 8, \"Displacement\": 302.0, \"Horsepower\": 139.0, \"Miles_per_Gallon\": 20.2, \"Name\": \"mercury monarch ghia\", \"Origin\": \"USA\", \"Weight_in_lbs\": 3570, \"Year\": \"1978-01-01T00:00:00\"}, {\"Acceleration\": 19.2, \"Cylinders\": 6, \"Displacement\": 231.0, \"Horsepower\": 105.0, \"Miles_per_Gallon\": 19.2, \"Name\": \"pontiac phoenix lj\", \"Origin\": \"USA\", \"Weight_in_lbs\": 3535, \"Year\": \"1978-01-01T00:00:00\"}, {\"Acceleration\": 18.2, \"Cylinders\": 6, \"Displacement\": 200.0, \"Horsepower\": 95.0, \"Miles_per_Gallon\": 20.5, \"Name\": \"chevrolet malibu\", \"Origin\": \"USA\", \"Weight_in_lbs\": 3155, \"Year\": \"1978-01-01T00:00:00\"}, {\"Acceleration\": 15.8, \"Cylinders\": 6, \"Displacement\": 200.0, \"Horsepower\": 85.0, \"Miles_per_Gallon\": 20.2, \"Name\": \"ford fairmont (auto)\", \"Origin\": \"USA\", \"Weight_in_lbs\": 2965, \"Year\": \"1978-01-01T00:00:00\"}, {\"Acceleration\": 15.4, \"Cylinders\": 4, \"Displacement\": 140.0, \"Horsepower\": 88.0, \"Miles_per_Gallon\": 25.1, \"Name\": \"ford fairmont (man)\", \"Origin\": \"USA\", \"Weight_in_lbs\": 2720, \"Year\": \"1978-01-01T00:00:00\"}, {\"Acceleration\": 17.2, \"Cylinders\": 6, \"Displacement\": 225.0, \"Horsepower\": 100.0, \"Miles_per_Gallon\": 20.5, \"Name\": \"plymouth volare\", \"Origin\": \"USA\", \"Weight_in_lbs\": 3430, \"Year\": \"1978-01-01T00:00:00\"}, {\"Acceleration\": 17.2, \"Cylinders\": 6, \"Displacement\": 232.0, \"Horsepower\": 90.0, \"Miles_per_Gallon\": 19.4, \"Name\": \"amc concord\", \"Origin\": \"USA\", \"Weight_in_lbs\": 3210, \"Year\": \"1978-01-01T00:00:00\"}, {\"Acceleration\": 15.8, \"Cylinders\": 6, \"Displacement\": 231.0, \"Horsepower\": 105.0, \"Miles_per_Gallon\": 20.6, \"Name\": \"buick century special\", \"Origin\": \"USA\", \"Weight_in_lbs\": 3380, \"Year\": \"1978-01-01T00:00:00\"}, {\"Acceleration\": 16.7, \"Cylinders\": 6, \"Displacement\": 200.0, \"Horsepower\": 85.0, \"Miles_per_Gallon\": 20.8, \"Name\": \"mercury zephyr\", \"Origin\": \"USA\", \"Weight_in_lbs\": 3070, \"Year\": \"1978-01-01T00:00:00\"}, {\"Acceleration\": 18.7, \"Cylinders\": 6, \"Displacement\": 225.0, \"Horsepower\": 110.0, \"Miles_per_Gallon\": 18.6, \"Name\": \"dodge aspen\", \"Origin\": \"USA\", \"Weight_in_lbs\": 3620, \"Year\": \"1978-01-01T00:00:00\"}, {\"Acceleration\": 15.1, \"Cylinders\": 6, \"Displacement\": 258.0, \"Horsepower\": 120.0, \"Miles_per_Gallon\": 18.1, \"Name\": \"amc concord d/l\", \"Origin\": \"USA\", \"Weight_in_lbs\": 3410, \"Year\": \"1978-01-01T00:00:00\"}, {\"Acceleration\": 13.2, \"Cylinders\": 8, \"Displacement\": 305.0, \"Horsepower\": 145.0, \"Miles_per_Gallon\": 19.2, \"Name\": \"chevrolet monte carlo landau\", \"Origin\": \"USA\", \"Weight_in_lbs\": 3425, \"Year\": \"1978-01-01T00:00:00\"}, {\"Acceleration\": 13.4, \"Cylinders\": 6, \"Displacement\": 231.0, \"Horsepower\": 165.0, \"Miles_per_Gallon\": 17.7, \"Name\": \"buick regal sport coupe (turbo)\", \"Origin\": \"USA\", \"Weight_in_lbs\": 3445, \"Year\": \"1978-01-01T00:00:00\"}, {\"Acceleration\": 11.2, \"Cylinders\": 8, \"Displacement\": 302.0, \"Horsepower\": 139.0, \"Miles_per_Gallon\": 18.1, \"Name\": \"ford futura\", \"Origin\": \"USA\", \"Weight_in_lbs\": 3205, \"Year\": \"1978-01-01T00:00:00\"}, {\"Acceleration\": 13.7, \"Cylinders\": 8, \"Displacement\": 318.0, \"Horsepower\": 140.0, \"Miles_per_Gallon\": 17.5, \"Name\": \"dodge magnum xe\", \"Origin\": \"USA\", \"Weight_in_lbs\": 4080, \"Year\": \"1978-01-01T00:00:00\"}, {\"Acceleration\": 16.5, \"Cylinders\": 4, \"Displacement\": 98.0, \"Horsepower\": 68.0, \"Miles_per_Gallon\": 30.0, \"Name\": \"chevrolet chevette\", \"Origin\": \"USA\", \"Weight_in_lbs\": 2155, \"Year\": \"1978-01-01T00:00:00\"}, {\"Acceleration\": 14.2, \"Cylinders\": 4, \"Displacement\": 134.0, \"Horsepower\": 95.0, \"Miles_per_Gallon\": 27.5, \"Name\": \"toyota corona\", \"Origin\": \"Japan\", \"Weight_in_lbs\": 2560, \"Year\": \"1978-01-01T00:00:00\"}, {\"Acceleration\": 14.7, \"Cylinders\": 4, \"Displacement\": 119.0, \"Horsepower\": 97.0, \"Miles_per_Gallon\": 27.2, \"Name\": \"datsun 510\", \"Origin\": \"Japan\", \"Weight_in_lbs\": 2300, \"Year\": \"1978-01-01T00:00:00\"}, {\"Acceleration\": 14.5, \"Cylinders\": 4, \"Displacement\": 105.0, \"Horsepower\": 75.0, \"Miles_per_Gallon\": 30.9, \"Name\": \"dodge omni\", \"Origin\": \"USA\", \"Weight_in_lbs\": 2230, \"Year\": \"1978-01-01T00:00:00\"}, {\"Acceleration\": 14.8, \"Cylinders\": 4, \"Displacement\": 134.0, \"Horsepower\": 95.0, \"Miles_per_Gallon\": 21.1, \"Name\": \"toyota celica gt liftback\", \"Origin\": \"Japan\", \"Weight_in_lbs\": 2515, \"Year\": \"1978-01-01T00:00:00\"}, {\"Acceleration\": 16.7, \"Cylinders\": 4, \"Displacement\": 156.0, \"Horsepower\": 105.0, \"Miles_per_Gallon\": 23.2, \"Name\": \"plymouth sapporo\", \"Origin\": \"USA\", \"Weight_in_lbs\": 2745, \"Year\": \"1978-01-01T00:00:00\"}, {\"Acceleration\": 17.6, \"Cylinders\": 4, \"Displacement\": 151.0, \"Horsepower\": 85.0, \"Miles_per_Gallon\": 23.8, \"Name\": \"oldsmobile starfire sx\", \"Origin\": \"USA\", \"Weight_in_lbs\": 2855, \"Year\": \"1978-01-01T00:00:00\"}, {\"Acceleration\": 14.9, \"Cylinders\": 4, \"Displacement\": 119.0, \"Horsepower\": 97.0, \"Miles_per_Gallon\": 23.9, \"Name\": \"datsun 200-sx\", \"Origin\": \"Japan\", \"Weight_in_lbs\": 2405, \"Year\": \"1978-01-01T00:00:00\"}, {\"Acceleration\": 15.9, \"Cylinders\": 5, \"Displacement\": 131.0, \"Horsepower\": 103.0, \"Miles_per_Gallon\": 20.3, \"Name\": \"audi 5000\", \"Origin\": \"Europe\", \"Weight_in_lbs\": 2830, \"Year\": \"1978-01-01T00:00:00\"}, {\"Acceleration\": 13.6, \"Cylinders\": 6, \"Displacement\": 163.0, \"Horsepower\": 125.0, \"Miles_per_Gallon\": 17.0, \"Name\": \"volvo 264gl\", \"Origin\": \"Europe\", \"Weight_in_lbs\": 3140, \"Year\": \"1978-01-01T00:00:00\"}, {\"Acceleration\": 15.7, \"Cylinders\": 4, \"Displacement\": 121.0, \"Horsepower\": 115.0, \"Miles_per_Gallon\": 21.6, \"Name\": \"saab 99gle\", \"Origin\": \"Europe\", \"Weight_in_lbs\": 2795, \"Year\": \"1978-01-01T00:00:00\"}, {\"Acceleration\": 15.8, \"Cylinders\": 6, \"Displacement\": 163.0, \"Horsepower\": 133.0, \"Miles_per_Gallon\": 16.2, \"Name\": \"peugeot 604sl\", \"Origin\": \"Europe\", \"Weight_in_lbs\": 3410, \"Year\": \"1978-01-01T00:00:00\"}, {\"Acceleration\": 14.9, \"Cylinders\": 4, \"Displacement\": 89.0, \"Horsepower\": 71.0, \"Miles_per_Gallon\": 31.5, \"Name\": \"volkswagen scirocco\", \"Origin\": \"Europe\", \"Weight_in_lbs\": 1990, \"Year\": \"1978-01-01T00:00:00\"}, {\"Acceleration\": 16.6, \"Cylinders\": 4, \"Displacement\": 98.0, \"Horsepower\": 68.0, \"Miles_per_Gallon\": 29.5, \"Name\": \"honda Accelerationord lx\", \"Origin\": \"Japan\", \"Weight_in_lbs\": 2135, \"Year\": \"1978-01-01T00:00:00\"}, {\"Acceleration\": 15.4, \"Cylinders\": 6, \"Displacement\": 231.0, \"Horsepower\": 115.0, \"Miles_per_Gallon\": 21.5, \"Name\": \"pontiac lemans v6\", \"Origin\": \"USA\", \"Weight_in_lbs\": 3245, \"Year\": \"1979-01-01T00:00:00\"}, {\"Acceleration\": 18.2, \"Cylinders\": 6, \"Displacement\": 200.0, \"Horsepower\": 85.0, \"Miles_per_Gallon\": 19.8, \"Name\": \"mercury zephyr 6\", \"Origin\": \"USA\", \"Weight_in_lbs\": 2990, \"Year\": \"1979-01-01T00:00:00\"}, {\"Acceleration\": 17.3, \"Cylinders\": 4, \"Displacement\": 140.0, \"Horsepower\": 88.0, \"Miles_per_Gallon\": 22.3, \"Name\": \"ford fairmont 4\", \"Origin\": \"USA\", \"Weight_in_lbs\": 2890, \"Year\": \"1979-01-01T00:00:00\"}, {\"Acceleration\": 18.2, \"Cylinders\": 6, \"Displacement\": 232.0, \"Horsepower\": 90.0, \"Miles_per_Gallon\": 20.2, \"Name\": \"amc concord dl 6\", \"Origin\": \"USA\", \"Weight_in_lbs\": 3265, \"Year\": \"1979-01-01T00:00:00\"}, {\"Acceleration\": 16.6, \"Cylinders\": 6, \"Displacement\": 225.0, \"Horsepower\": 110.0, \"Miles_per_Gallon\": 20.6, \"Name\": \"dodge aspen 6\", \"Origin\": \"USA\", \"Weight_in_lbs\": 3360, \"Year\": \"1979-01-01T00:00:00\"}, {\"Acceleration\": 15.4, \"Cylinders\": 8, \"Displacement\": 305.0, \"Horsepower\": 130.0, \"Miles_per_Gallon\": 17.0, \"Name\": \"chevrolet caprice classic\", \"Origin\": \"USA\", \"Weight_in_lbs\": 3840, \"Year\": \"1979-01-01T00:00:00\"}, {\"Acceleration\": 13.4, \"Cylinders\": 8, \"Displacement\": 302.0, \"Horsepower\": 129.0, \"Miles_per_Gallon\": 17.6, \"Name\": \"ford ltd landau\", \"Origin\": \"USA\", \"Weight_in_lbs\": 3725, \"Year\": \"1979-01-01T00:00:00\"}, {\"Acceleration\": 13.2, \"Cylinders\": 8, \"Displacement\": 351.0, \"Horsepower\": 138.0, \"Miles_per_Gallon\": 16.5, \"Name\": \"mercury grand marquis\", \"Origin\": \"USA\", \"Weight_in_lbs\": 3955, \"Year\": \"1979-01-01T00:00:00\"}, {\"Acceleration\": 15.2, \"Cylinders\": 8, \"Displacement\": 318.0, \"Horsepower\": 135.0, \"Miles_per_Gallon\": 18.2, \"Name\": \"dodge st. regis\", \"Origin\": \"USA\", \"Weight_in_lbs\": 3830, \"Year\": \"1979-01-01T00:00:00\"}, {\"Acceleration\": 14.9, \"Cylinders\": 8, \"Displacement\": 350.0, \"Horsepower\": 155.0, \"Miles_per_Gallon\": 16.9, \"Name\": \"buick estate wagon (sw)\", \"Origin\": \"USA\", \"Weight_in_lbs\": 4360, \"Year\": \"1979-01-01T00:00:00\"}, {\"Acceleration\": 14.3, \"Cylinders\": 8, \"Displacement\": 351.0, \"Horsepower\": 142.0, \"Miles_per_Gallon\": 15.5, \"Name\": \"ford country squire (sw)\", \"Origin\": \"USA\", \"Weight_in_lbs\": 4054, \"Year\": \"1979-01-01T00:00:00\"}, {\"Acceleration\": 15.0, \"Cylinders\": 8, \"Displacement\": 267.0, \"Horsepower\": 125.0, \"Miles_per_Gallon\": 19.2, \"Name\": \"chevrolet malibu classic (sw)\", \"Origin\": \"USA\", \"Weight_in_lbs\": 3605, \"Year\": \"1979-01-01T00:00:00\"}, {\"Acceleration\": 13.0, \"Cylinders\": 8, \"Displacement\": 360.0, \"Horsepower\": 150.0, \"Miles_per_Gallon\": 18.5, \"Name\": \"chrysler lebaron town @ country (sw)\", \"Origin\": \"USA\", \"Weight_in_lbs\": 3940, \"Year\": \"1979-01-01T00:00:00\"}, {\"Acceleration\": 14.0, \"Cylinders\": 4, \"Displacement\": 89.0, \"Horsepower\": 71.0, \"Miles_per_Gallon\": 31.9, \"Name\": \"vw rabbit custom\", \"Origin\": \"Europe\", \"Weight_in_lbs\": 1925, \"Year\": \"1979-01-01T00:00:00\"}, {\"Acceleration\": 15.2, \"Cylinders\": 4, \"Displacement\": 86.0, \"Horsepower\": 65.0, \"Miles_per_Gallon\": 34.1, \"Name\": \"maxda glc deluxe\", \"Origin\": \"Japan\", \"Weight_in_lbs\": 1975, \"Year\": \"1979-01-01T00:00:00\"}, {\"Acceleration\": 14.4, \"Cylinders\": 4, \"Displacement\": 98.0, \"Horsepower\": 80.0, \"Miles_per_Gallon\": 35.7, \"Name\": \"dodge colt hatchback custom\", \"Origin\": \"USA\", \"Weight_in_lbs\": 1915, \"Year\": \"1979-01-01T00:00:00\"}, {\"Acceleration\": 15.0, \"Cylinders\": 4, \"Displacement\": 121.0, \"Horsepower\": 80.0, \"Miles_per_Gallon\": 27.4, \"Name\": \"amc spirit dl\", \"Origin\": \"USA\", \"Weight_in_lbs\": 2670, \"Year\": \"1979-01-01T00:00:00\"}, {\"Acceleration\": 20.1, \"Cylinders\": 5, \"Displacement\": 183.0, \"Horsepower\": 77.0, \"Miles_per_Gallon\": 25.4, \"Name\": \"mercedes benz 300d\", \"Origin\": \"Europe\", \"Weight_in_lbs\": 3530, \"Year\": \"1979-01-01T00:00:00\"}, {\"Acceleration\": 17.4, \"Cylinders\": 8, \"Displacement\": 350.0, \"Horsepower\": 125.0, \"Miles_per_Gallon\": 23.0, \"Name\": \"cadillac eldorado\", \"Origin\": \"USA\", \"Weight_in_lbs\": 3900, \"Year\": \"1979-01-01T00:00:00\"}, {\"Acceleration\": 24.8, \"Cylinders\": 4, \"Displacement\": 141.0, \"Horsepower\": 71.0, \"Miles_per_Gallon\": 27.2, \"Name\": \"peugeot 504\", \"Origin\": \"Europe\", \"Weight_in_lbs\": 3190, \"Year\": \"1979-01-01T00:00:00\"}, {\"Acceleration\": 22.2, \"Cylinders\": 8, \"Displacement\": 260.0, \"Horsepower\": 90.0, \"Miles_per_Gallon\": 23.9, \"Name\": \"oldsmobile cutlass salon brougham\", \"Origin\": \"USA\", \"Weight_in_lbs\": 3420, \"Year\": \"1979-01-01T00:00:00\"}, {\"Acceleration\": 13.2, \"Cylinders\": 4, \"Displacement\": 105.0, \"Horsepower\": 70.0, \"Miles_per_Gallon\": 34.2, \"Name\": \"plymouth horizon\", \"Origin\": \"USA\", \"Weight_in_lbs\": 2200, \"Year\": \"1979-01-01T00:00:00\"}, {\"Acceleration\": 14.9, \"Cylinders\": 4, \"Displacement\": 105.0, \"Horsepower\": 70.0, \"Miles_per_Gallon\": 34.5, \"Name\": \"plymouth horizon tc3\", \"Origin\": \"USA\", \"Weight_in_lbs\": 2150, \"Year\": \"1979-01-01T00:00:00\"}, {\"Acceleration\": 19.2, \"Cylinders\": 4, \"Displacement\": 85.0, \"Horsepower\": 65.0, \"Miles_per_Gallon\": 31.8, \"Name\": \"datsun 210\", \"Origin\": \"Japan\", \"Weight_in_lbs\": 2020, \"Year\": \"1979-01-01T00:00:00\"}, {\"Acceleration\": 14.7, \"Cylinders\": 4, \"Displacement\": 91.0, \"Horsepower\": 69.0, \"Miles_per_Gallon\": 37.3, \"Name\": \"fiat strada custom\", \"Origin\": \"Europe\", \"Weight_in_lbs\": 2130, \"Year\": \"1979-01-01T00:00:00\"}, {\"Acceleration\": 16.0, \"Cylinders\": 4, \"Displacement\": 151.0, \"Horsepower\": 90.0, \"Miles_per_Gallon\": 28.4, \"Name\": \"buick skylark limited\", \"Origin\": \"USA\", \"Weight_in_lbs\": 2670, \"Year\": \"1979-01-01T00:00:00\"}, {\"Acceleration\": 11.3, \"Cylinders\": 6, \"Displacement\": 173.0, \"Horsepower\": 115.0, \"Miles_per_Gallon\": 28.8, \"Name\": \"chevrolet citation\", \"Origin\": \"USA\", \"Weight_in_lbs\": 2595, \"Year\": \"1979-01-01T00:00:00\"}, {\"Acceleration\": 12.9, \"Cylinders\": 6, \"Displacement\": 173.0, \"Horsepower\": 115.0, \"Miles_per_Gallon\": 26.8, \"Name\": \"oldsmobile omega brougham\", \"Origin\": \"USA\", \"Weight_in_lbs\": 2700, \"Year\": \"1979-01-01T00:00:00\"}, {\"Acceleration\": 13.2, \"Cylinders\": 4, \"Displacement\": 151.0, \"Horsepower\": 90.0, \"Miles_per_Gallon\": 33.5, \"Name\": \"pontiac phoenix\", \"Origin\": \"USA\", \"Weight_in_lbs\": 2556, \"Year\": \"1979-01-01T00:00:00\"}, {\"Acceleration\": 14.7, \"Cylinders\": 4, \"Displacement\": 98.0, \"Horsepower\": 76.0, \"Miles_per_Gallon\": 41.5, \"Name\": \"vw rabbit\", \"Origin\": \"Europe\", \"Weight_in_lbs\": 2144, \"Year\": \"1980-01-01T00:00:00\"}, {\"Acceleration\": 18.8, \"Cylinders\": 4, \"Displacement\": 89.0, \"Horsepower\": 60.0, \"Miles_per_Gallon\": 38.1, \"Name\": \"toyota corolla tercel\", \"Origin\": \"Japan\", \"Weight_in_lbs\": 1968, \"Year\": \"1980-01-01T00:00:00\"}, {\"Acceleration\": 15.5, \"Cylinders\": 4, \"Displacement\": 98.0, \"Horsepower\": 70.0, \"Miles_per_Gallon\": 32.1, \"Name\": \"chevrolet chevette\", \"Origin\": \"USA\", \"Weight_in_lbs\": 2120, \"Year\": \"1980-01-01T00:00:00\"}, {\"Acceleration\": 16.4, \"Cylinders\": 4, \"Displacement\": 86.0, \"Horsepower\": 65.0, \"Miles_per_Gallon\": 37.2, \"Name\": \"datsun 310\", \"Origin\": \"Japan\", \"Weight_in_lbs\": 2019, \"Year\": \"1980-01-01T00:00:00\"}, {\"Acceleration\": 16.5, \"Cylinders\": 4, \"Displacement\": 151.0, \"Horsepower\": 90.0, \"Miles_per_Gallon\": 28.0, \"Name\": \"chevrolet citation\", \"Origin\": \"USA\", \"Weight_in_lbs\": 2678, \"Year\": \"1980-01-01T00:00:00\"}, {\"Acceleration\": 18.1, \"Cylinders\": 4, \"Displacement\": 140.0, \"Horsepower\": 88.0, \"Miles_per_Gallon\": 26.4, \"Name\": \"ford fairmont\", \"Origin\": \"USA\", \"Weight_in_lbs\": 2870, \"Year\": \"1980-01-01T00:00:00\"}, {\"Acceleration\": 20.1, \"Cylinders\": 4, \"Displacement\": 151.0, \"Horsepower\": 90.0, \"Miles_per_Gallon\": 24.3, \"Name\": \"amc concord\", \"Origin\": \"USA\", \"Weight_in_lbs\": 3003, \"Year\": \"1980-01-01T00:00:00\"}, {\"Acceleration\": 18.7, \"Cylinders\": 6, \"Displacement\": 225.0, \"Horsepower\": 90.0, \"Miles_per_Gallon\": 19.1, \"Name\": \"dodge aspen\", \"Origin\": \"USA\", \"Weight_in_lbs\": 3381, \"Year\": \"1980-01-01T00:00:00\"}, {\"Acceleration\": 15.8, \"Cylinders\": 4, \"Displacement\": 97.0, \"Horsepower\": 78.0, \"Miles_per_Gallon\": 34.3, \"Name\": \"audi 4000\", \"Origin\": \"Europe\", \"Weight_in_lbs\": 2188, \"Year\": \"1980-01-01T00:00:00\"}, {\"Acceleration\": 15.5, \"Cylinders\": 4, \"Displacement\": 134.0, \"Horsepower\": 90.0, \"Miles_per_Gallon\": 29.8, \"Name\": \"toyota corona liftback\", \"Origin\": \"Japan\", \"Weight_in_lbs\": 2711, \"Year\": \"1980-01-01T00:00:00\"}, {\"Acceleration\": 17.5, \"Cylinders\": 4, \"Displacement\": 120.0, \"Horsepower\": 75.0, \"Miles_per_Gallon\": 31.3, \"Name\": \"mazda 626\", \"Origin\": \"Japan\", \"Weight_in_lbs\": 2542, \"Year\": \"1980-01-01T00:00:00\"}, {\"Acceleration\": 15.0, \"Cylinders\": 4, \"Displacement\": 119.0, \"Horsepower\": 92.0, \"Miles_per_Gallon\": 37.0, \"Name\": \"datsun 510 hatchback\", \"Origin\": \"Japan\", \"Weight_in_lbs\": 2434, \"Year\": \"1980-01-01T00:00:00\"}, {\"Acceleration\": 15.2, \"Cylinders\": 4, \"Displacement\": 108.0, \"Horsepower\": 75.0, \"Miles_per_Gallon\": 32.2, \"Name\": \"toyota corolla\", \"Origin\": \"Japan\", \"Weight_in_lbs\": 2265, \"Year\": \"1980-01-01T00:00:00\"}, {\"Acceleration\": 17.9, \"Cylinders\": 4, \"Displacement\": 86.0, \"Horsepower\": 65.0, \"Miles_per_Gallon\": 46.6, \"Name\": \"mazda glc\", \"Origin\": \"Japan\", \"Weight_in_lbs\": 2110, \"Year\": \"1980-01-01T00:00:00\"}, {\"Acceleration\": 14.4, \"Cylinders\": 4, \"Displacement\": 156.0, \"Horsepower\": 105.0, \"Miles_per_Gallon\": 27.9, \"Name\": \"dodge colt\", \"Origin\": \"USA\", \"Weight_in_lbs\": 2800, \"Year\": \"1980-01-01T00:00:00\"}, {\"Acceleration\": 19.2, \"Cylinders\": 4, \"Displacement\": 85.0, \"Horsepower\": 65.0, \"Miles_per_Gallon\": 40.8, \"Name\": \"datsun 210\", \"Origin\": \"Japan\", \"Weight_in_lbs\": 2110, \"Year\": \"1980-01-01T00:00:00\"}, {\"Acceleration\": 21.7, \"Cylinders\": 4, \"Displacement\": 90.0, \"Horsepower\": 48.0, \"Miles_per_Gallon\": 44.3, \"Name\": \"vw rabbit c (diesel)\", \"Origin\": \"Europe\", \"Weight_in_lbs\": 2085, \"Year\": \"1980-01-01T00:00:00\"}, {\"Acceleration\": 23.7, \"Cylinders\": 4, \"Displacement\": 90.0, \"Horsepower\": 48.0, \"Miles_per_Gallon\": 43.4, \"Name\": \"vw dasher (diesel)\", \"Origin\": \"Europe\", \"Weight_in_lbs\": 2335, \"Year\": \"1980-01-01T00:00:00\"}, {\"Acceleration\": 19.9, \"Cylinders\": 5, \"Displacement\": 121.0, \"Horsepower\": 67.0, \"Miles_per_Gallon\": 36.4, \"Name\": \"audi 5000s (diesel)\", \"Origin\": \"Europe\", \"Weight_in_lbs\": 2950, \"Year\": \"1980-01-01T00:00:00\"}, {\"Acceleration\": 21.8, \"Cylinders\": 4, \"Displacement\": 146.0, \"Horsepower\": 67.0, \"Miles_per_Gallon\": 30.0, \"Name\": \"mercedes-benz 240d\", \"Origin\": \"Europe\", \"Weight_in_lbs\": 3250, \"Year\": \"1980-01-01T00:00:00\"}, {\"Acceleration\": 13.8, \"Cylinders\": 4, \"Displacement\": 91.0, \"Horsepower\": 67.0, \"Miles_per_Gallon\": 44.6, \"Name\": \"honda civic 1500 gl\", \"Origin\": \"Japan\", \"Weight_in_lbs\": 1850, \"Year\": \"1980-01-01T00:00:00\"}, {\"Acceleration\": 17.3, \"Cylinders\": 4, \"Displacement\": 85.0, \"Horsepower\": null, \"Miles_per_Gallon\": 40.9, \"Name\": \"renault lecar deluxe\", \"Origin\": \"Europe\", \"Weight_in_lbs\": 1835, \"Year\": \"1980-01-01T00:00:00\"}, {\"Acceleration\": 18.0, \"Cylinders\": 4, \"Displacement\": 97.0, \"Horsepower\": 67.0, \"Miles_per_Gallon\": 33.8, \"Name\": \"subaru dl\", \"Origin\": \"Japan\", \"Weight_in_lbs\": 2145, \"Year\": \"1980-01-01T00:00:00\"}, {\"Acceleration\": 15.3, \"Cylinders\": 4, \"Displacement\": 89.0, \"Horsepower\": 62.0, \"Miles_per_Gallon\": 29.8, \"Name\": \"vokswagen rabbit\", \"Origin\": \"Europe\", \"Weight_in_lbs\": 1845, \"Year\": \"1980-01-01T00:00:00\"}, {\"Acceleration\": 11.4, \"Cylinders\": 6, \"Displacement\": 168.0, \"Horsepower\": 132.0, \"Miles_per_Gallon\": 32.7, \"Name\": \"datsun 280-zx\", \"Origin\": \"Japan\", \"Weight_in_lbs\": 2910, \"Year\": \"1980-01-01T00:00:00\"}, {\"Acceleration\": 12.5, \"Cylinders\": 3, \"Displacement\": 70.0, \"Horsepower\": 100.0, \"Miles_per_Gallon\": 23.7, \"Name\": \"mazda rx-7 gs\", \"Origin\": \"Japan\", \"Weight_in_lbs\": 2420, \"Year\": \"1980-01-01T00:00:00\"}, {\"Acceleration\": 15.1, \"Cylinders\": 4, \"Displacement\": 122.0, \"Horsepower\": 88.0, \"Miles_per_Gallon\": 35.0, \"Name\": \"triumph tr7 coupe\", \"Origin\": \"Europe\", \"Weight_in_lbs\": 2500, \"Year\": \"1980-01-01T00:00:00\"}, {\"Acceleration\": 14.3, \"Cylinders\": 4, \"Displacement\": 140.0, \"Horsepower\": null, \"Miles_per_Gallon\": 23.6, \"Name\": \"ford mustang cobra\", \"Origin\": \"USA\", \"Weight_in_lbs\": 2905, \"Year\": \"1980-01-01T00:00:00\"}, {\"Acceleration\": 17.0, \"Cylinders\": 4, \"Displacement\": 107.0, \"Horsepower\": 72.0, \"Miles_per_Gallon\": 32.4, \"Name\": \"honda Accelerationord\", \"Origin\": \"Japan\", \"Weight_in_lbs\": 2290, \"Year\": \"1980-01-01T00:00:00\"}, {\"Acceleration\": 15.7, \"Cylinders\": 4, \"Displacement\": 135.0, \"Horsepower\": 84.0, \"Miles_per_Gallon\": 27.2, \"Name\": \"plymouth reliant\", \"Origin\": \"USA\", \"Weight_in_lbs\": 2490, \"Year\": \"1982-01-01T00:00:00\"}, {\"Acceleration\": 16.4, \"Cylinders\": 4, \"Displacement\": 151.0, \"Horsepower\": 84.0, \"Miles_per_Gallon\": 26.6, \"Name\": \"buick skylark\", \"Origin\": \"USA\", \"Weight_in_lbs\": 2635, \"Year\": \"1982-01-01T00:00:00\"}, {\"Acceleration\": 14.4, \"Cylinders\": 4, \"Displacement\": 156.0, \"Horsepower\": 92.0, \"Miles_per_Gallon\": 25.8, \"Name\": \"dodge aries wagon (sw)\", \"Origin\": \"USA\", \"Weight_in_lbs\": 2620, \"Year\": \"1982-01-01T00:00:00\"}, {\"Acceleration\": 12.6, \"Cylinders\": 6, \"Displacement\": 173.0, \"Horsepower\": 110.0, \"Miles_per_Gallon\": 23.5, \"Name\": \"chevrolet citation\", \"Origin\": \"USA\", \"Weight_in_lbs\": 2725, \"Year\": \"1982-01-01T00:00:00\"}, {\"Acceleration\": 12.9, \"Cylinders\": 4, \"Displacement\": 135.0, \"Horsepower\": 84.0, \"Miles_per_Gallon\": 30.0, \"Name\": \"plymouth reliant\", \"Origin\": \"USA\", \"Weight_in_lbs\": 2385, \"Year\": \"1982-01-01T00:00:00\"}, {\"Acceleration\": 16.9, \"Cylinders\": 4, \"Displacement\": 79.0, \"Horsepower\": 58.0, \"Miles_per_Gallon\": 39.1, \"Name\": \"toyota starlet\", \"Origin\": \"Japan\", \"Weight_in_lbs\": 1755, \"Year\": \"1982-01-01T00:00:00\"}, {\"Acceleration\": 16.4, \"Cylinders\": 4, \"Displacement\": 86.0, \"Horsepower\": 64.0, \"Miles_per_Gallon\": 39.0, \"Name\": \"plymouth champ\", \"Origin\": \"USA\", \"Weight_in_lbs\": 1875, \"Year\": \"1982-01-01T00:00:00\"}, {\"Acceleration\": 16.1, \"Cylinders\": 4, \"Displacement\": 81.0, \"Horsepower\": 60.0, \"Miles_per_Gallon\": 35.1, \"Name\": \"honda civic 1300\", \"Origin\": \"Japan\", \"Weight_in_lbs\": 1760, \"Year\": \"1982-01-01T00:00:00\"}, {\"Acceleration\": 17.8, \"Cylinders\": 4, \"Displacement\": 97.0, \"Horsepower\": 67.0, \"Miles_per_Gallon\": 32.3, \"Name\": \"subaru\", \"Origin\": \"Japan\", \"Weight_in_lbs\": 2065, \"Year\": \"1982-01-01T00:00:00\"}, {\"Acceleration\": 19.4, \"Cylinders\": 4, \"Displacement\": 85.0, \"Horsepower\": 65.0, \"Miles_per_Gallon\": 37.0, \"Name\": \"datsun 210\", \"Origin\": \"Japan\", \"Weight_in_lbs\": 1975, \"Year\": \"1982-01-01T00:00:00\"}, {\"Acceleration\": 17.3, \"Cylinders\": 4, \"Displacement\": 89.0, \"Horsepower\": 62.0, \"Miles_per_Gallon\": 37.7, \"Name\": \"toyota tercel\", \"Origin\": \"Japan\", \"Weight_in_lbs\": 2050, \"Year\": \"1982-01-01T00:00:00\"}, {\"Acceleration\": 16.0, \"Cylinders\": 4, \"Displacement\": 91.0, \"Horsepower\": 68.0, \"Miles_per_Gallon\": 34.1, \"Name\": \"mazda glc 4\", \"Origin\": \"Japan\", \"Weight_in_lbs\": 1985, \"Year\": \"1982-01-01T00:00:00\"}, {\"Acceleration\": 14.9, \"Cylinders\": 4, \"Displacement\": 105.0, \"Horsepower\": 63.0, \"Miles_per_Gallon\": 34.7, \"Name\": \"plymouth horizon 4\", \"Origin\": \"USA\", \"Weight_in_lbs\": 2215, \"Year\": \"1982-01-01T00:00:00\"}, {\"Acceleration\": 16.2, \"Cylinders\": 4, \"Displacement\": 98.0, \"Horsepower\": 65.0, \"Miles_per_Gallon\": 34.4, \"Name\": \"ford escort 4w\", \"Origin\": \"USA\", \"Weight_in_lbs\": 2045, \"Year\": \"1982-01-01T00:00:00\"}, {\"Acceleration\": 20.7, \"Cylinders\": 4, \"Displacement\": 98.0, \"Horsepower\": 65.0, \"Miles_per_Gallon\": 29.9, \"Name\": \"ford escort 2h\", \"Origin\": \"USA\", \"Weight_in_lbs\": 2380, \"Year\": \"1982-01-01T00:00:00\"}, {\"Acceleration\": 14.2, \"Cylinders\": 4, \"Displacement\": 105.0, \"Horsepower\": 74.0, \"Miles_per_Gallon\": 33.0, \"Name\": \"volkswagen jetta\", \"Origin\": \"Europe\", \"Weight_in_lbs\": 2190, \"Year\": \"1982-01-01T00:00:00\"}, {\"Acceleration\": 15.8, \"Cylinders\": 4, \"Displacement\": 100.0, \"Horsepower\": null, \"Miles_per_Gallon\": 34.5, \"Name\": \"renault 18i\", \"Origin\": \"Europe\", \"Weight_in_lbs\": 2320, \"Year\": \"1982-01-01T00:00:00\"}, {\"Acceleration\": 14.4, \"Cylinders\": 4, \"Displacement\": 107.0, \"Horsepower\": 75.0, \"Miles_per_Gallon\": 33.7, \"Name\": \"honda prelude\", \"Origin\": \"Japan\", \"Weight_in_lbs\": 2210, \"Year\": \"1982-01-01T00:00:00\"}, {\"Acceleration\": 16.8, \"Cylinders\": 4, \"Displacement\": 108.0, \"Horsepower\": 75.0, \"Miles_per_Gallon\": 32.4, \"Name\": \"toyota corolla\", \"Origin\": \"Japan\", \"Weight_in_lbs\": 2350, \"Year\": \"1982-01-01T00:00:00\"}, {\"Acceleration\": 14.8, \"Cylinders\": 4, \"Displacement\": 119.0, \"Horsepower\": 100.0, \"Miles_per_Gallon\": 32.9, \"Name\": \"datsun 200sx\", \"Origin\": \"Japan\", \"Weight_in_lbs\": 2615, \"Year\": \"1982-01-01T00:00:00\"}, {\"Acceleration\": 18.3, \"Cylinders\": 4, \"Displacement\": 120.0, \"Horsepower\": 74.0, \"Miles_per_Gallon\": 31.6, \"Name\": \"mazda 626\", \"Origin\": \"Japan\", \"Weight_in_lbs\": 2635, \"Year\": \"1982-01-01T00:00:00\"}, {\"Acceleration\": 20.4, \"Cylinders\": 4, \"Displacement\": 141.0, \"Horsepower\": 80.0, \"Miles_per_Gallon\": 28.1, \"Name\": \"peugeot 505s turbo diesel\", \"Origin\": \"Europe\", \"Weight_in_lbs\": 3230, \"Year\": \"1982-01-01T00:00:00\"}, {\"Acceleration\": 15.4, \"Cylinders\": 4, \"Displacement\": 121.0, \"Horsepower\": 110.0, \"Miles_per_Gallon\": null, \"Name\": \"saab 900s\", \"Origin\": \"Europe\", \"Weight_in_lbs\": 2800, \"Year\": \"1982-01-01T00:00:00\"}, {\"Acceleration\": 19.6, \"Cylinders\": 6, \"Displacement\": 145.0, \"Horsepower\": 76.0, \"Miles_per_Gallon\": 30.7, \"Name\": \"volvo diesel\", \"Origin\": \"Europe\", \"Weight_in_lbs\": 3160, \"Year\": \"1982-01-01T00:00:00\"}, {\"Acceleration\": 12.6, \"Cylinders\": 6, \"Displacement\": 168.0, \"Horsepower\": 116.0, \"Miles_per_Gallon\": 25.4, \"Name\": \"toyota cressida\", \"Origin\": \"Japan\", \"Weight_in_lbs\": 2900, \"Year\": \"1982-01-01T00:00:00\"}, {\"Acceleration\": 13.8, \"Cylinders\": 6, \"Displacement\": 146.0, \"Horsepower\": 120.0, \"Miles_per_Gallon\": 24.2, \"Name\": \"datsun 810 maxima\", \"Origin\": \"Japan\", \"Weight_in_lbs\": 2930, \"Year\": \"1982-01-01T00:00:00\"}, {\"Acceleration\": 15.8, \"Cylinders\": 6, \"Displacement\": 231.0, \"Horsepower\": 110.0, \"Miles_per_Gallon\": 22.4, \"Name\": \"buick century\", \"Origin\": \"USA\", \"Weight_in_lbs\": 3415, \"Year\": \"1982-01-01T00:00:00\"}, {\"Acceleration\": 19.0, \"Cylinders\": 8, \"Displacement\": 350.0, \"Horsepower\": 105.0, \"Miles_per_Gallon\": 26.6, \"Name\": \"oldsmobile cutlass ls\", \"Origin\": \"USA\", \"Weight_in_lbs\": 3725, \"Year\": \"1982-01-01T00:00:00\"}, {\"Acceleration\": 17.1, \"Cylinders\": 6, \"Displacement\": 200.0, \"Horsepower\": 88.0, \"Miles_per_Gallon\": 20.2, \"Name\": \"ford granada gl\", \"Origin\": \"USA\", \"Weight_in_lbs\": 3060, \"Year\": \"1982-01-01T00:00:00\"}, {\"Acceleration\": 16.6, \"Cylinders\": 6, \"Displacement\": 225.0, \"Horsepower\": 85.0, \"Miles_per_Gallon\": 17.6, \"Name\": \"chrysler lebaron salon\", \"Origin\": \"USA\", \"Weight_in_lbs\": 3465, \"Year\": \"1982-01-01T00:00:00\"}, {\"Acceleration\": 19.6, \"Cylinders\": 4, \"Displacement\": 112.0, \"Horsepower\": 88.0, \"Miles_per_Gallon\": 28.0, \"Name\": \"chevrolet cavalier\", \"Origin\": \"USA\", \"Weight_in_lbs\": 2605, \"Year\": \"1982-01-01T00:00:00\"}, {\"Acceleration\": 18.6, \"Cylinders\": 4, \"Displacement\": 112.0, \"Horsepower\": 88.0, \"Miles_per_Gallon\": 27.0, \"Name\": \"chevrolet cavalier wagon\", \"Origin\": \"USA\", \"Weight_in_lbs\": 2640, \"Year\": \"1982-01-01T00:00:00\"}, {\"Acceleration\": 18.0, \"Cylinders\": 4, \"Displacement\": 112.0, \"Horsepower\": 88.0, \"Miles_per_Gallon\": 34.0, \"Name\": \"chevrolet cavalier 2-door\", \"Origin\": \"USA\", \"Weight_in_lbs\": 2395, \"Year\": \"1982-01-01T00:00:00\"}, {\"Acceleration\": 16.2, \"Cylinders\": 4, \"Displacement\": 112.0, \"Horsepower\": 85.0, \"Miles_per_Gallon\": 31.0, \"Name\": \"pontiac j2000 se hatchback\", \"Origin\": \"USA\", \"Weight_in_lbs\": 2575, \"Year\": \"1982-01-01T00:00:00\"}, {\"Acceleration\": 16.0, \"Cylinders\": 4, \"Displacement\": 135.0, \"Horsepower\": 84.0, \"Miles_per_Gallon\": 29.0, \"Name\": \"dodge aries se\", \"Origin\": \"USA\", \"Weight_in_lbs\": 2525, \"Year\": \"1982-01-01T00:00:00\"}, {\"Acceleration\": 18.0, \"Cylinders\": 4, \"Displacement\": 151.0, \"Horsepower\": 90.0, \"Miles_per_Gallon\": 27.0, \"Name\": \"pontiac phoenix\", \"Origin\": \"USA\", \"Weight_in_lbs\": 2735, \"Year\": \"1982-01-01T00:00:00\"}, {\"Acceleration\": 16.4, \"Cylinders\": 4, \"Displacement\": 140.0, \"Horsepower\": 92.0, \"Miles_per_Gallon\": 24.0, \"Name\": \"ford fairmont futura\", \"Origin\": \"USA\", \"Weight_in_lbs\": 2865, \"Year\": \"1982-01-01T00:00:00\"}, {\"Acceleration\": 20.5, \"Cylinders\": 4, \"Displacement\": 151.0, \"Horsepower\": null, \"Miles_per_Gallon\": 23.0, \"Name\": \"amc concord dl\", \"Origin\": \"USA\", \"Weight_in_lbs\": 3035, \"Year\": \"1982-01-01T00:00:00\"}, {\"Acceleration\": 15.3, \"Cylinders\": 4, \"Displacement\": 105.0, \"Horsepower\": 74.0, \"Miles_per_Gallon\": 36.0, \"Name\": \"volkswagen rabbit l\", \"Origin\": \"Europe\", \"Weight_in_lbs\": 1980, \"Year\": \"1982-01-01T00:00:00\"}, {\"Acceleration\": 18.2, \"Cylinders\": 4, \"Displacement\": 91.0, \"Horsepower\": 68.0, \"Miles_per_Gallon\": 37.0, \"Name\": \"mazda glc custom l\", \"Origin\": \"Japan\", \"Weight_in_lbs\": 2025, \"Year\": \"1982-01-01T00:00:00\"}, {\"Acceleration\": 17.6, \"Cylinders\": 4, \"Displacement\": 91.0, \"Horsepower\": 68.0, \"Miles_per_Gallon\": 31.0, \"Name\": \"mazda glc custom\", \"Origin\": \"Japan\", \"Weight_in_lbs\": 1970, \"Year\": \"1982-01-01T00:00:00\"}, {\"Acceleration\": 14.7, \"Cylinders\": 4, \"Displacement\": 105.0, \"Horsepower\": 63.0, \"Miles_per_Gallon\": 38.0, \"Name\": \"plymouth horizon miser\", \"Origin\": \"USA\", \"Weight_in_lbs\": 2125, \"Year\": \"1982-01-01T00:00:00\"}, {\"Acceleration\": 17.3, \"Cylinders\": 4, \"Displacement\": 98.0, \"Horsepower\": 70.0, \"Miles_per_Gallon\": 36.0, \"Name\": \"mercury lynx l\", \"Origin\": \"USA\", \"Weight_in_lbs\": 2125, \"Year\": \"1982-01-01T00:00:00\"}, {\"Acceleration\": 14.5, \"Cylinders\": 4, \"Displacement\": 120.0, \"Horsepower\": 88.0, \"Miles_per_Gallon\": 36.0, \"Name\": \"nissan stanza xe\", \"Origin\": \"Japan\", \"Weight_in_lbs\": 2160, \"Year\": \"1982-01-01T00:00:00\"}, {\"Acceleration\": 14.5, \"Cylinders\": 4, \"Displacement\": 107.0, \"Horsepower\": 75.0, \"Miles_per_Gallon\": 36.0, \"Name\": \"honda Accelerationord\", \"Origin\": \"Japan\", \"Weight_in_lbs\": 2205, \"Year\": \"1982-01-01T00:00:00\"}, {\"Acceleration\": 16.9, \"Cylinders\": 4, \"Displacement\": 108.0, \"Horsepower\": 70.0, \"Miles_per_Gallon\": 34.0, \"Name\": \"toyota corolla\", \"Origin\": \"Japan\", \"Weight_in_lbs\": 2245, \"Year\": \"1982-01-01T00:00:00\"}, {\"Acceleration\": 15.0, \"Cylinders\": 4, \"Displacement\": 91.0, \"Horsepower\": 67.0, \"Miles_per_Gallon\": 38.0, \"Name\": \"honda civic\", \"Origin\": \"Japan\", \"Weight_in_lbs\": 1965, \"Year\": \"1982-01-01T00:00:00\"}, {\"Acceleration\": 15.7, \"Cylinders\": 4, \"Displacement\": 91.0, \"Horsepower\": 67.0, \"Miles_per_Gallon\": 32.0, \"Name\": \"honda civic (auto)\", \"Origin\": \"Japan\", \"Weight_in_lbs\": 1965, \"Year\": \"1982-01-01T00:00:00\"}, {\"Acceleration\": 16.2, \"Cylinders\": 4, \"Displacement\": 91.0, \"Horsepower\": 67.0, \"Miles_per_Gallon\": 38.0, \"Name\": \"datsun 310 gx\", \"Origin\": \"Japan\", \"Weight_in_lbs\": 1995, \"Year\": \"1982-01-01T00:00:00\"}, {\"Acceleration\": 16.4, \"Cylinders\": 6, \"Displacement\": 181.0, \"Horsepower\": 110.0, \"Miles_per_Gallon\": 25.0, \"Name\": \"buick century limited\", \"Origin\": \"USA\", \"Weight_in_lbs\": 2945, \"Year\": \"1982-01-01T00:00:00\"}, {\"Acceleration\": 17.0, \"Cylinders\": 6, \"Displacement\": 262.0, \"Horsepower\": 85.0, \"Miles_per_Gallon\": 38.0, \"Name\": \"oldsmobile cutlass ciera (diesel)\", \"Origin\": \"USA\", \"Weight_in_lbs\": 3015, \"Year\": \"1982-01-01T00:00:00\"}, {\"Acceleration\": 14.5, \"Cylinders\": 4, \"Displacement\": 156.0, \"Horsepower\": 92.0, \"Miles_per_Gallon\": 26.0, \"Name\": \"chrysler lebaron medallion\", \"Origin\": \"USA\", \"Weight_in_lbs\": 2585, \"Year\": \"1982-01-01T00:00:00\"}, {\"Acceleration\": 14.7, \"Cylinders\": 6, \"Displacement\": 232.0, \"Horsepower\": 112.0, \"Miles_per_Gallon\": 22.0, \"Name\": \"ford granada l\", \"Origin\": \"USA\", \"Weight_in_lbs\": 2835, \"Year\": \"1982-01-01T00:00:00\"}, {\"Acceleration\": 13.9, \"Cylinders\": 4, \"Displacement\": 144.0, \"Horsepower\": 96.0, \"Miles_per_Gallon\": 32.0, \"Name\": \"toyota celica gt\", \"Origin\": \"Japan\", \"Weight_in_lbs\": 2665, \"Year\": \"1982-01-01T00:00:00\"}, {\"Acceleration\": 13.0, \"Cylinders\": 4, \"Displacement\": 135.0, \"Horsepower\": 84.0, \"Miles_per_Gallon\": 36.0, \"Name\": \"dodge charger 2.2\", \"Origin\": \"USA\", \"Weight_in_lbs\": 2370, \"Year\": \"1982-01-01T00:00:00\"}, {\"Acceleration\": 17.3, \"Cylinders\": 4, \"Displacement\": 151.0, \"Horsepower\": 90.0, \"Miles_per_Gallon\": 27.0, \"Name\": \"chevrolet camaro\", \"Origin\": \"USA\", \"Weight_in_lbs\": 2950, \"Year\": \"1982-01-01T00:00:00\"}, {\"Acceleration\": 15.6, \"Cylinders\": 4, \"Displacement\": 140.0, \"Horsepower\": 86.0, \"Miles_per_Gallon\": 27.0, \"Name\": \"ford mustang gl\", \"Origin\": \"USA\", \"Weight_in_lbs\": 2790, \"Year\": \"1982-01-01T00:00:00\"}, {\"Acceleration\": 24.6, \"Cylinders\": 4, \"Displacement\": 97.0, \"Horsepower\": 52.0, \"Miles_per_Gallon\": 44.0, \"Name\": \"vw pickup\", \"Origin\": \"Europe\", \"Weight_in_lbs\": 2130, \"Year\": \"1982-01-01T00:00:00\"}, {\"Acceleration\": 11.6, \"Cylinders\": 4, \"Displacement\": 135.0, \"Horsepower\": 84.0, \"Miles_per_Gallon\": 32.0, \"Name\": \"dodge rampage\", \"Origin\": \"USA\", \"Weight_in_lbs\": 2295, \"Year\": \"1982-01-01T00:00:00\"}, {\"Acceleration\": 18.6, \"Cylinders\": 4, \"Displacement\": 120.0, \"Horsepower\": 79.0, \"Miles_per_Gallon\": 28.0, \"Name\": \"ford ranger\", \"Origin\": \"USA\", \"Weight_in_lbs\": 2625, \"Year\": \"1982-01-01T00:00:00\"}, {\"Acceleration\": 19.4, \"Cylinders\": 4, \"Displacement\": 119.0, \"Horsepower\": 82.0, \"Miles_per_Gallon\": 31.0, \"Name\": \"chevy s-10\", \"Origin\": \"USA\", \"Weight_in_lbs\": 2720, \"Year\": \"1982-01-01T00:00:00\"}]}};\n",
              "      var embedOpt = {\"mode\": \"vega-lite\"};\n",
              "\n",
              "      function showError(el, error){\n",
              "          el.innerHTML = ('<div class=\"error\" style=\"color:red;\">'\n",
              "                          + '<p>JavaScript Error: ' + error.message + '</p>'\n",
              "                          + \"<p>This usually means there's a typo in your chart specification. \"\n",
              "                          + \"See the javascript console for the full traceback.</p>\"\n",
              "                          + '</div>');\n",
              "          throw error;\n",
              "      }\n",
              "      const el = document.getElementById('altair-viz');\n",
              "      vegaEmbed(\"#altair-viz\", spec, embedOpt)\n",
              "        .catch(error => showError(el, error));\n",
              "    })(vegaEmbed);\n",
              "\n",
              "  </script>\n",
              "</body>\n",
              "</html>"
            ]
          },
          "metadata": {
            "tags": []
          },
          "execution_count": 22
        }
      ]
    },
    {
      "cell_type": "markdown",
      "metadata": {
        "id": "S64tLQHY16jh",
        "colab_type": "text"
      },
      "source": [
        "Upload your file here (request.csv)"
      ]
    },
    {
      "cell_type": "code",
      "metadata": {
        "id": "ww-HcdVwuwEM",
        "colab_type": "code",
        "outputId": "83cbc822-7382-4809-80c5-f7fd8882ef3e",
        "colab": {
          "resources": {
            "http://localhost:8080/nbextensions/google.colab/files.js": {
              "data": "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",
              "ok": true,
              "headers": [
                [
                  "content-type",
                  "application/javascript"
                ]
              ],
              "status": 200,
              "status_text": ""
            }
          },
          "base_uri": "https://localhost:8080/",
          "height": 71
        }
      },
      "source": [
        "from google.colab import files\n",
        "uploaded = files.upload()"
      ],
      "execution_count": 0,
      "outputs": [
        {
          "output_type": "display_data",
          "data": {
            "text/html": [
              "\n",
              "     <input type=\"file\" id=\"files-17b9450d-cbde-48e5-a303-82c85ce63faf\" name=\"files[]\" multiple disabled />\n",
              "     <output id=\"result-17b9450d-cbde-48e5-a303-82c85ce63faf\">\n",
              "      Upload widget is only available when the cell has been executed in the\n",
              "      current browser session. Please rerun this cell to enable.\n",
              "      </output>\n",
              "      <script src=\"/nbextensions/google.colab/files.js\"></script> "
            ],
            "text/plain": [
              "<IPython.core.display.HTML object>"
            ]
          },
          "metadata": {
            "tags": []
          }
        },
        {
          "output_type": "stream",
          "text": [
            "Saving index.html to index (1).html\n"
          ],
          "name": "stdout"
        }
      ]
    },
    {
      "cell_type": "code",
      "metadata": {
        "id": "lbYIZtptbpTG",
        "colab_type": "code",
        "colab": {}
      },
      "source": [
        "# load an example dataset\n",
        "from vega_datasets import data\n",
        "cars = data.cars()\n",
        "\n",
        "import altair as alt\n",
        "\n",
        "interval = alt.selection_interval()\n",
        "\n",
        "base = alt.Chart(cars).mark_point().encode(\n",
        "  y='Miles_per_Gallon',\n",
        "  color=alt.condition(interval, 'Origin', alt.value('lightgray'))\n",
        ").properties(\n",
        "  selection=interval\n",
        ")\n",
        "\n",
        "base.encode(x='Acceleration') | base.encode(x='Horsepower')"
      ],
      "execution_count": 0,
      "outputs": []
    },
    {
      "cell_type": "code",
      "metadata": {
        "id": "O1cgxOH25NmQ",
        "colab_type": "code",
        "outputId": "8f314e55-1e71-404f-f38f-92c967dd160d",
        "colab": {
          "base_uri": "https://localhost:8080/",
          "height": 103
        }
      },
      "source": [
        "!ls -l"
      ],
      "execution_count": 0,
      "outputs": [
        {
          "output_type": "stream",
          "text": [
            "total 712\n",
            "drwx------ 4 root root   4096 Sep  9 16:16 gdrive\n",
            "-rw-r--r-- 1 root root    407 Sep  9 16:20 magic_stuff.py\n",
            "-rw-r--r-- 1 root root 712814 Sep  9 16:24 pytorch.pptx\n",
            "drwxr-xr-x 1 root root   4096 Aug 27 16:17 sample_data\n"
          ],
          "name": "stdout"
        }
      ]
    },
    {
      "cell_type": "code",
      "metadata": {
        "id": "w4bssBq6QngE",
        "colab_type": "code",
        "outputId": "2d7678b6-95b9-4e9b-f8cf-f9039ea9d1f4",
        "colab": {
          "base_uri": "https://localhost:8080/",
          "height": 147
        }
      },
      "source": [
        "import pandas as pd\n",
        "df = pd.read_csv(\"automl-tables_notebooks_census_income.csv\")\n",
        "df.head(2)"
      ],
      "execution_count": 0,
      "outputs": [
        {
          "output_type": "execute_result",
          "data": {
            "text/html": [
              "<div>\n",
              "<style scoped>\n",
              "    .dataframe tbody tr th:only-of-type {\n",
              "        vertical-align: middle;\n",
              "    }\n",
              "\n",
              "    .dataframe tbody tr th {\n",
              "        vertical-align: top;\n",
              "    }\n",
              "\n",
              "    .dataframe thead th {\n",
              "        text-align: right;\n",
              "    }\n",
              "</style>\n",
              "<table border=\"1\" class=\"dataframe\">\n",
              "  <thead>\n",
              "    <tr style=\"text-align: right;\">\n",
              "      <th></th>\n",
              "      <th>age</th>\n",
              "      <th>workclass</th>\n",
              "      <th>fnlwgt</th>\n",
              "      <th>education</th>\n",
              "      <th>education_num</th>\n",
              "      <th>marital_status</th>\n",
              "      <th>occupation</th>\n",
              "      <th>relationship</th>\n",
              "      <th>race</th>\n",
              "      <th>sex</th>\n",
              "      <th>capital_gain</th>\n",
              "      <th>capital_loss</th>\n",
              "      <th>hours_per_week</th>\n",
              "      <th>native_country</th>\n",
              "      <th>income</th>\n",
              "    </tr>\n",
              "  </thead>\n",
              "  <tbody>\n",
              "    <tr>\n",
              "      <th>0</th>\n",
              "      <td>39</td>\n",
              "      <td>State-gov</td>\n",
              "      <td>77516</td>\n",
              "      <td>Bachelors</td>\n",
              "      <td>13</td>\n",
              "      <td>Never-married</td>\n",
              "      <td>Adm-clerical</td>\n",
              "      <td>Not-in-family</td>\n",
              "      <td>White</td>\n",
              "      <td>Male</td>\n",
              "      <td>2174</td>\n",
              "      <td>0</td>\n",
              "      <td>40</td>\n",
              "      <td>United-States</td>\n",
              "      <td>&lt;=50K</td>\n",
              "    </tr>\n",
              "    <tr>\n",
              "      <th>1</th>\n",
              "      <td>50</td>\n",
              "      <td>Self-emp-not-inc</td>\n",
              "      <td>83311</td>\n",
              "      <td>Bachelors</td>\n",
              "      <td>13</td>\n",
              "      <td>Married-civ-spouse</td>\n",
              "      <td>Exec-managerial</td>\n",
              "      <td>Husband</td>\n",
              "      <td>White</td>\n",
              "      <td>Male</td>\n",
              "      <td>0</td>\n",
              "      <td>0</td>\n",
              "      <td>13</td>\n",
              "      <td>United-States</td>\n",
              "      <td>&lt;=50K</td>\n",
              "    </tr>\n",
              "  </tbody>\n",
              "</table>\n",
              "</div>"
            ],
            "text/plain": [
              "   age          workclass  fnlwgt  ... hours_per_week  native_country  income\n",
              "0   39          State-gov   77516  ...             40   United-States   <=50K\n",
              "1   50   Self-emp-not-inc   83311  ...             13   United-States   <=50K\n",
              "\n",
              "[2 rows x 15 columns]"
            ]
          },
          "metadata": {
            "tags": []
          },
          "execution_count": 22
        }
      ]
    },
    {
      "cell_type": "code",
      "metadata": {
        "id": "gJYd_o2GujXf",
        "colab_type": "code",
        "outputId": "c5dfa89b-9e56-4bef-f29c-8162bcf193b3",
        "colab": {
          "base_uri": "https://localhost:8080/",
          "height": 368
        }
      },
      "source": [
        "# load an example dataset\n",
        "from vega_datasets import data\n",
        "cars = data.cars()\n",
        "\n",
        "# plot the dataset, referencing dataframe column names\n",
        "import altair as alt\n",
        "alt.Chart(cars).mark_bar().encode(\n",
        "  x=alt.X('Miles_per_Gallon', bin=True),\n",
        "  y='count()',\n",
        ")"
      ],
      "execution_count": 0,
      "outputs": [
        {
          "output_type": "execute_result",
          "data": {
            "text/plain": [
              "Chart({\n",
              "  data:      Acceleration  Cylinders  Displacement  ...  Origin  Weight_in_lbs       Year\n",
              "  0            12.0          8         307.0  ...     USA           3504 1970-01-01\n",
              "  1            11.5          8         350.0  ...     USA           3693 1970-01-01\n",
              "  2            11.0          8         318.0  ...     USA           3436 1970-01-01\n",
              "  3            12.0          8         304.0  ...     USA           3433 1970-01-01\n",
              "  4            10.5          8         302.0  ...     USA           3449 1970-01-01\n",
              "  5            10.0          8         429.0  ...     USA           4341 1970-01-01\n",
              "  6             9.0          8         454.0  ...     USA           4354 1970-01-01\n",
              "  7             8.5          8         440.0  ...     USA           4312 1970-01-01\n",
              "  8            10.0          8         455.0  ...     USA           4425 1970-01-01\n",
              "  9             8.5          8         390.0  ...     USA           3850 1970-01-01\n",
              "  10           17.5          4         133.0  ...  Europe           3090 1970-01-01\n",
              "  11           11.5          8         350.0  ...     USA           4142 1970-01-01\n",
              "  12           11.0          8         351.0  ...     USA           4034 1970-01-01\n",
              "  13           10.5          8         383.0  ...     USA           4166 1970-01-01\n",
              "  14           11.0          8         360.0  ...     USA           3850 1970-01-01\n",
              "  15           10.0          8         383.0  ...     USA           3563 1970-01-01\n",
              "  16            8.0          8         340.0  ...     USA           3609 1970-01-01\n",
              "  17            8.0          8         302.0  ...     USA           3353 1970-01-01\n",
              "  18            9.5          8         400.0  ...     USA           3761 1970-01-01\n",
              "  19           10.0          8         455.0  ...     USA           3086 1970-01-01\n",
              "  20           15.0          4         113.0  ...   Japan           2372 1970-01-01\n",
              "  21           15.5          6         198.0  ...     USA           2833 1970-01-01\n",
              "  22           15.5          6         199.0  ...     USA           2774 1970-01-01\n",
              "  23           16.0          6         200.0  ...     USA           2587 1970-01-01\n",
              "  24           14.5          4          97.0  ...   Japan           2130 1970-01-01\n",
              "  25           20.5          4          97.0  ...  Europe           1835 1970-01-01\n",
              "  26           17.5          4         110.0  ...  Europe           2672 1970-01-01\n",
              "  27           14.5          4         107.0  ...  Europe           2430 1970-01-01\n",
              "  28           17.5          4         104.0  ...  Europe           2375 1970-01-01\n",
              "  29           12.5          4         121.0  ...  Europe           2234 1970-01-01\n",
              "  ..            ...        ...           ...  ...     ...            ...        ...\n",
              "  376          18.6          4         112.0  ...     USA           2640 1982-01-01\n",
              "  377          18.0          4         112.0  ...     USA           2395 1982-01-01\n",
              "  378          16.2          4         112.0  ...     USA           2575 1982-01-01\n",
              "  379          16.0          4         135.0  ...     USA           2525 1982-01-01\n",
              "  380          18.0          4         151.0  ...     USA           2735 1982-01-01\n",
              "  381          16.4          4         140.0  ...     USA           2865 1982-01-01\n",
              "  382          20.5          4         151.0  ...     USA           3035 1982-01-01\n",
              "  383          15.3          4         105.0  ...  Europe           1980 1982-01-01\n",
              "  384          18.2          4          91.0  ...   Japan           2025 1982-01-01\n",
              "  385          17.6          4          91.0  ...   Japan           1970 1982-01-01\n",
              "  386          14.7          4         105.0  ...     USA           2125 1982-01-01\n",
              "  387          17.3          4          98.0  ...     USA           2125 1982-01-01\n",
              "  388          14.5          4         120.0  ...   Japan           2160 1982-01-01\n",
              "  389          14.5          4         107.0  ...   Japan           2205 1982-01-01\n",
              "  390          16.9          4         108.0  ...   Japan           2245 1982-01-01\n",
              "  391          15.0          4          91.0  ...   Japan           1965 1982-01-01\n",
              "  392          15.7          4          91.0  ...   Japan           1965 1982-01-01\n",
              "  393          16.2          4          91.0  ...   Japan           1995 1982-01-01\n",
              "  394          16.4          6         181.0  ...     USA           2945 1982-01-01\n",
              "  395          17.0          6         262.0  ...     USA           3015 1982-01-01\n",
              "  396          14.5          4         156.0  ...     USA           2585 1982-01-01\n",
              "  397          14.7          6         232.0  ...     USA           2835 1982-01-01\n",
              "  398          13.9          4         144.0  ...   Japan           2665 1982-01-01\n",
              "  399          13.0          4         135.0  ...     USA           2370 1982-01-01\n",
              "  400          17.3          4         151.0  ...     USA           2950 1982-01-01\n",
              "  401          15.6          4         140.0  ...     USA           2790 1982-01-01\n",
              "  402          24.6          4          97.0  ...  Europe           2130 1982-01-01\n",
              "  403          11.6          4         135.0  ...     USA           2295 1982-01-01\n",
              "  404          18.6          4         120.0  ...     USA           2625 1982-01-01\n",
              "  405          19.4          4         119.0  ...     USA           2720 1982-01-01\n",
              "  \n",
              "  [406 rows x 9 columns],\n",
              "  encoding: FacetedEncoding({\n",
              "    x: X({\n",
              "      bin: True,\n",
              "      shorthand: 'Miles_per_Gallon'\n",
              "    }),\n",
              "    y: Y({\n",
              "      shorthand: 'count()'\n",
              "    })\n",
              "  }),\n",
              "  mark: 'bar'\n",
              "})"
            ],
            "text/html": [
              "<!DOCTYPE html>\n",
              "<html>\n",
              "<head>\n",
              "  <style>\n",
              "    .vega-actions a {\n",
              "        margin-right: 12px;\n",
              "        color: #757575;\n",
              "        font-weight: normal;\n",
              "        font-size: 13px;\n",
              "    }\n",
              "    .error {\n",
              "        color: red;\n",
              "    }\n",
              "  </style>\n",
              "  <script type=\"text/javascript\" src=\"https://cdn.jsdelivr.net/npm//vega@5\"></script>\n",
              "  <script type=\"text/javascript\" src=\"https://cdn.jsdelivr.net/npm//vega-lite@3.2.1\"></script>\n",
              "  <script type=\"text/javascript\" src=\"https://cdn.jsdelivr.net/npm//vega-embed@4\"></script>\n",
              "</head>\n",
              "<body>\n",
              "  <div id=\"altair-viz\"></div>\n",
              "  <script>\n",
              "      var spec = {\"config\": {\"view\": {\"width\": 400, \"height\": 300}, \"mark\": {\"tooltip\": null}}, \"data\": {\"name\": \"data-f02450ab61490a1363517a0190416235\"}, \"mark\": \"bar\", \"encoding\": {\"x\": {\"type\": \"quantitative\", \"bin\": true, \"field\": \"Miles_per_Gallon\"}, \"y\": {\"type\": \"quantitative\", \"aggregate\": \"count\"}}, \"$schema\": \"https://vega.github.io/schema/vega-lite/v3.2.1.json\", \"datasets\": {\"data-f02450ab61490a1363517a0190416235\": [{\"Acceleration\": 12.0, \"Cylinders\": 8, \"Displacement\": 307.0, \"Horsepower\": 130.0, \"Miles_per_Gallon\": 18.0, \"Name\": \"chevrolet chevelle malibu\", \"Origin\": \"USA\", \"Weight_in_lbs\": 3504, \"Year\": \"1970-01-01T00:00:00\"}, {\"Acceleration\": 11.5, \"Cylinders\": 8, \"Displacement\": 350.0, \"Horsepower\": 165.0, \"Miles_per_Gallon\": 15.0, \"Name\": \"buick skylark 320\", \"Origin\": \"USA\", \"Weight_in_lbs\": 3693, \"Year\": \"1970-01-01T00:00:00\"}, {\"Acceleration\": 11.0, \"Cylinders\": 8, \"Displacement\": 318.0, \"Horsepower\": 150.0, \"Miles_per_Gallon\": 18.0, \"Name\": \"plymouth satellite\", \"Origin\": \"USA\", \"Weight_in_lbs\": 3436, \"Year\": \"1970-01-01T00:00:00\"}, {\"Acceleration\": 12.0, \"Cylinders\": 8, \"Displacement\": 304.0, \"Horsepower\": 150.0, \"Miles_per_Gallon\": 16.0, \"Name\": \"amc rebel sst\", \"Origin\": \"USA\", \"Weight_in_lbs\": 3433, \"Year\": \"1970-01-01T00:00:00\"}, {\"Acceleration\": 10.5, \"Cylinders\": 8, \"Displacement\": 302.0, \"Horsepower\": 140.0, \"Miles_per_Gallon\": 17.0, \"Name\": \"ford torino\", \"Origin\": \"USA\", \"Weight_in_lbs\": 3449, \"Year\": \"1970-01-01T00:00:00\"}, {\"Acceleration\": 10.0, \"Cylinders\": 8, \"Displacement\": 429.0, \"Horsepower\": 198.0, \"Miles_per_Gallon\": 15.0, \"Name\": \"ford galaxie 500\", \"Origin\": \"USA\", \"Weight_in_lbs\": 4341, \"Year\": \"1970-01-01T00:00:00\"}, {\"Acceleration\": 9.0, \"Cylinders\": 8, \"Displacement\": 454.0, \"Horsepower\": 220.0, \"Miles_per_Gallon\": 14.0, \"Name\": \"chevrolet impala\", \"Origin\": \"USA\", \"Weight_in_lbs\": 4354, \"Year\": \"1970-01-01T00:00:00\"}, {\"Acceleration\": 8.5, \"Cylinders\": 8, \"Displacement\": 440.0, \"Horsepower\": 215.0, \"Miles_per_Gallon\": 14.0, \"Name\": \"plymouth fury iii\", \"Origin\": \"USA\", \"Weight_in_lbs\": 4312, \"Year\": \"1970-01-01T00:00:00\"}, {\"Acceleration\": 10.0, \"Cylinders\": 8, \"Displacement\": 455.0, \"Horsepower\": 225.0, \"Miles_per_Gallon\": 14.0, \"Name\": \"pontiac catalina\", \"Origin\": \"USA\", \"Weight_in_lbs\": 4425, \"Year\": \"1970-01-01T00:00:00\"}, {\"Acceleration\": 8.5, \"Cylinders\": 8, \"Displacement\": 390.0, \"Horsepower\": 190.0, \"Miles_per_Gallon\": 15.0, \"Name\": \"amc ambassador dpl\", \"Origin\": \"USA\", \"Weight_in_lbs\": 3850, \"Year\": \"1970-01-01T00:00:00\"}, {\"Acceleration\": 17.5, \"Cylinders\": 4, \"Displacement\": 133.0, \"Horsepower\": 115.0, \"Miles_per_Gallon\": null, \"Name\": \"citroen ds-21 pallas\", \"Origin\": \"Europe\", \"Weight_in_lbs\": 3090, \"Year\": \"1970-01-01T00:00:00\"}, {\"Acceleration\": 11.5, \"Cylinders\": 8, \"Displacement\": 350.0, \"Horsepower\": 165.0, \"Miles_per_Gallon\": null, \"Name\": \"chevrolet chevelle concours (sw)\", \"Origin\": \"USA\", \"Weight_in_lbs\": 4142, \"Year\": \"1970-01-01T00:00:00\"}, {\"Acceleration\": 11.0, \"Cylinders\": 8, \"Displacement\": 351.0, \"Horsepower\": 153.0, \"Miles_per_Gallon\": null, \"Name\": \"ford torino (sw)\", \"Origin\": \"USA\", \"Weight_in_lbs\": 4034, \"Year\": \"1970-01-01T00:00:00\"}, {\"Acceleration\": 10.5, \"Cylinders\": 8, \"Displacement\": 383.0, \"Horsepower\": 175.0, \"Miles_per_Gallon\": null, \"Name\": \"plymouth satellite (sw)\", \"Origin\": \"USA\", \"Weight_in_lbs\": 4166, \"Year\": \"1970-01-01T00:00:00\"}, {\"Acceleration\": 11.0, \"Cylinders\": 8, \"Displacement\": 360.0, \"Horsepower\": 175.0, \"Miles_per_Gallon\": null, \"Name\": \"amc rebel sst (sw)\", \"Origin\": \"USA\", \"Weight_in_lbs\": 3850, \"Year\": \"1970-01-01T00:00:00\"}, {\"Acceleration\": 10.0, \"Cylinders\": 8, \"Displacement\": 383.0, \"Horsepower\": 170.0, \"Miles_per_Gallon\": 15.0, \"Name\": \"dodge challenger se\", \"Origin\": \"USA\", \"Weight_in_lbs\": 3563, \"Year\": \"1970-01-01T00:00:00\"}, {\"Acceleration\": 8.0, \"Cylinders\": 8, \"Displacement\": 340.0, \"Horsepower\": 160.0, \"Miles_per_Gallon\": 14.0, \"Name\": \"plymouth 'cuda 340\", \"Origin\": \"USA\", \"Weight_in_lbs\": 3609, \"Year\": \"1970-01-01T00:00:00\"}, {\"Acceleration\": 8.0, \"Cylinders\": 8, \"Displacement\": 302.0, \"Horsepower\": 140.0, \"Miles_per_Gallon\": null, \"Name\": \"ford mustang boss 302\", \"Origin\": \"USA\", \"Weight_in_lbs\": 3353, \"Year\": \"1970-01-01T00:00:00\"}, {\"Acceleration\": 9.5, \"Cylinders\": 8, \"Displacement\": 400.0, \"Horsepower\": 150.0, \"Miles_per_Gallon\": 15.0, \"Name\": \"chevrolet monte carlo\", \"Origin\": \"USA\", \"Weight_in_lbs\": 3761, \"Year\": \"1970-01-01T00:00:00\"}, {\"Acceleration\": 10.0, \"Cylinders\": 8, \"Displacement\": 455.0, \"Horsepower\": 225.0, \"Miles_per_Gallon\": 14.0, \"Name\": \"buick estate wagon (sw)\", \"Origin\": \"USA\", \"Weight_in_lbs\": 3086, \"Year\": \"1970-01-01T00:00:00\"}, {\"Acceleration\": 15.0, \"Cylinders\": 4, \"Displacement\": 113.0, \"Horsepower\": 95.0, \"Miles_per_Gallon\": 24.0, \"Name\": \"toyota corona mark ii\", \"Origin\": \"Japan\", \"Weight_in_lbs\": 2372, \"Year\": \"1970-01-01T00:00:00\"}, {\"Acceleration\": 15.5, \"Cylinders\": 6, \"Displacement\": 198.0, \"Horsepower\": 95.0, \"Miles_per_Gallon\": 22.0, \"Name\": \"plymouth duster\", \"Origin\": \"USA\", \"Weight_in_lbs\": 2833, \"Year\": \"1970-01-01T00:00:00\"}, {\"Acceleration\": 15.5, \"Cylinders\": 6, \"Displacement\": 199.0, \"Horsepower\": 97.0, \"Miles_per_Gallon\": 18.0, \"Name\": \"amc hornet\", \"Origin\": \"USA\", \"Weight_in_lbs\": 2774, \"Year\": \"1970-01-01T00:00:00\"}, {\"Acceleration\": 16.0, \"Cylinders\": 6, \"Displacement\": 200.0, \"Horsepower\": 85.0, \"Miles_per_Gallon\": 21.0, \"Name\": \"ford maverick\", \"Origin\": \"USA\", \"Weight_in_lbs\": 2587, \"Year\": \"1970-01-01T00:00:00\"}, {\"Acceleration\": 14.5, \"Cylinders\": 4, \"Displacement\": 97.0, \"Horsepower\": 88.0, \"Miles_per_Gallon\": 27.0, \"Name\": \"datsun pl510\", \"Origin\": \"Japan\", \"Weight_in_lbs\": 2130, \"Year\": \"1970-01-01T00:00:00\"}, {\"Acceleration\": 20.5, \"Cylinders\": 4, \"Displacement\": 97.0, \"Horsepower\": 46.0, \"Miles_per_Gallon\": 26.0, \"Name\": \"volkswagen 1131 deluxe sedan\", \"Origin\": \"Europe\", \"Weight_in_lbs\": 1835, \"Year\": \"1970-01-01T00:00:00\"}, {\"Acceleration\": 17.5, \"Cylinders\": 4, \"Displacement\": 110.0, \"Horsepower\": 87.0, \"Miles_per_Gallon\": 25.0, \"Name\": \"peugeot 504\", \"Origin\": \"Europe\", \"Weight_in_lbs\": 2672, \"Year\": \"1970-01-01T00:00:00\"}, {\"Acceleration\": 14.5, \"Cylinders\": 4, \"Displacement\": 107.0, \"Horsepower\": 90.0, \"Miles_per_Gallon\": 24.0, \"Name\": \"audi 100 ls\", \"Origin\": \"Europe\", \"Weight_in_lbs\": 2430, \"Year\": \"1970-01-01T00:00:00\"}, {\"Acceleration\": 17.5, \"Cylinders\": 4, \"Displacement\": 104.0, \"Horsepower\": 95.0, \"Miles_per_Gallon\": 25.0, \"Name\": \"saab 99e\", \"Origin\": \"Europe\", \"Weight_in_lbs\": 2375, \"Year\": \"1970-01-01T00:00:00\"}, {\"Acceleration\": 12.5, \"Cylinders\": 4, \"Displacement\": 121.0, \"Horsepower\": 113.0, \"Miles_per_Gallon\": 26.0, \"Name\": \"bmw 2002\", \"Origin\": \"Europe\", \"Weight_in_lbs\": 2234, \"Year\": \"1970-01-01T00:00:00\"}, {\"Acceleration\": 15.0, \"Cylinders\": 6, \"Displacement\": 199.0, \"Horsepower\": 90.0, \"Miles_per_Gallon\": 21.0, \"Name\": \"amc gremlin\", \"Origin\": \"USA\", \"Weight_in_lbs\": 2648, \"Year\": \"1970-01-01T00:00:00\"}, {\"Acceleration\": 14.0, \"Cylinders\": 8, \"Displacement\": 360.0, \"Horsepower\": 215.0, \"Miles_per_Gallon\": 10.0, \"Name\": \"ford f250\", \"Origin\": \"USA\", \"Weight_in_lbs\": 4615, \"Year\": \"1970-01-01T00:00:00\"}, {\"Acceleration\": 15.0, \"Cylinders\": 8, \"Displacement\": 307.0, \"Horsepower\": 200.0, \"Miles_per_Gallon\": 10.0, \"Name\": \"chevy c20\", \"Origin\": \"USA\", \"Weight_in_lbs\": 4376, \"Year\": \"1970-01-01T00:00:00\"}, {\"Acceleration\": 13.5, \"Cylinders\": 8, \"Displacement\": 318.0, \"Horsepower\": 210.0, \"Miles_per_Gallon\": 11.0, \"Name\": \"dodge d200\", \"Origin\": \"USA\", \"Weight_in_lbs\": 4382, \"Year\": \"1970-01-01T00:00:00\"}, {\"Acceleration\": 18.5, \"Cylinders\": 8, \"Displacement\": 304.0, \"Horsepower\": 193.0, \"Miles_per_Gallon\": 9.0, \"Name\": \"hi 1200d\", \"Origin\": \"USA\", \"Weight_in_lbs\": 4732, \"Year\": \"1970-01-01T00:00:00\"}, {\"Acceleration\": 14.5, \"Cylinders\": 4, \"Displacement\": 97.0, \"Horsepower\": 88.0, \"Miles_per_Gallon\": 27.0, \"Name\": \"datsun pl510\", \"Origin\": \"Japan\", \"Weight_in_lbs\": 2130, \"Year\": \"1971-01-01T00:00:00\"}, {\"Acceleration\": 15.5, \"Cylinders\": 4, \"Displacement\": 140.0, \"Horsepower\": 90.0, \"Miles_per_Gallon\": 28.0, \"Name\": \"chevrolet vega 2300\", \"Origin\": \"USA\", \"Weight_in_lbs\": 2264, \"Year\": \"1971-01-01T00:00:00\"}, {\"Acceleration\": 14.0, \"Cylinders\": 4, \"Displacement\": 113.0, \"Horsepower\": 95.0, \"Miles_per_Gallon\": 25.0, \"Name\": \"toyota corona\", \"Origin\": \"Japan\", \"Weight_in_lbs\": 2228, \"Year\": \"1971-01-01T00:00:00\"}, {\"Acceleration\": 19.0, \"Cylinders\": 4, \"Displacement\": 98.0, \"Horsepower\": null, \"Miles_per_Gallon\": 25.0, \"Name\": \"ford pinto\", \"Origin\": \"USA\", \"Weight_in_lbs\": 2046, \"Year\": \"1971-01-01T00:00:00\"}, {\"Acceleration\": 20.0, \"Cylinders\": 4, \"Displacement\": 97.0, \"Horsepower\": 48.0, \"Miles_per_Gallon\": null, \"Name\": \"volkswagen super beetle 117\", \"Origin\": \"Europe\", \"Weight_in_lbs\": 1978, \"Year\": \"1971-01-01T00:00:00\"}, {\"Acceleration\": 13.0, \"Cylinders\": 6, \"Displacement\": 232.0, \"Horsepower\": 100.0, \"Miles_per_Gallon\": 19.0, \"Name\": \"amc gremlin\", \"Origin\": \"USA\", \"Weight_in_lbs\": 2634, \"Year\": \"1971-01-01T00:00:00\"}, {\"Acceleration\": 15.5, \"Cylinders\": 6, \"Displacement\": 225.0, \"Horsepower\": 105.0, \"Miles_per_Gallon\": 16.0, \"Name\": \"plymouth satellite custom\", \"Origin\": \"USA\", \"Weight_in_lbs\": 3439, \"Year\": \"1971-01-01T00:00:00\"}, {\"Acceleration\": 15.5, \"Cylinders\": 6, \"Displacement\": 250.0, \"Horsepower\": 100.0, \"Miles_per_Gallon\": 17.0, \"Name\": \"chevrolet chevelle malibu\", \"Origin\": \"USA\", \"Weight_in_lbs\": 3329, \"Year\": \"1971-01-01T00:00:00\"}, {\"Acceleration\": 15.5, \"Cylinders\": 6, \"Displacement\": 250.0, \"Horsepower\": 88.0, \"Miles_per_Gallon\": 19.0, \"Name\": \"ford torino 500\", \"Origin\": \"USA\", \"Weight_in_lbs\": 3302, \"Year\": \"1971-01-01T00:00:00\"}, {\"Acceleration\": 15.5, \"Cylinders\": 6, \"Displacement\": 232.0, \"Horsepower\": 100.0, \"Miles_per_Gallon\": 18.0, \"Name\": \"amc matador\", \"Origin\": \"USA\", \"Weight_in_lbs\": 3288, \"Year\": \"1971-01-01T00:00:00\"}, {\"Acceleration\": 12.0, \"Cylinders\": 8, \"Displacement\": 350.0, \"Horsepower\": 165.0, \"Miles_per_Gallon\": 14.0, \"Name\": \"chevrolet impala\", \"Origin\": \"USA\", \"Weight_in_lbs\": 4209, \"Year\": \"1971-01-01T00:00:00\"}, {\"Acceleration\": 11.5, \"Cylinders\": 8, \"Displacement\": 400.0, \"Horsepower\": 175.0, \"Miles_per_Gallon\": 14.0, \"Name\": \"pontiac catalina brougham\", \"Origin\": \"USA\", \"Weight_in_lbs\": 4464, \"Year\": \"1971-01-01T00:00:00\"}, {\"Acceleration\": 13.5, \"Cylinders\": 8, \"Displacement\": 351.0, \"Horsepower\": 153.0, \"Miles_per_Gallon\": 14.0, \"Name\": \"ford galaxie 500\", \"Origin\": \"USA\", \"Weight_in_lbs\": 4154, \"Year\": \"1971-01-01T00:00:00\"}, {\"Acceleration\": 13.0, \"Cylinders\": 8, \"Displacement\": 318.0, \"Horsepower\": 150.0, \"Miles_per_Gallon\": 14.0, \"Name\": \"plymouth fury iii\", \"Origin\": \"USA\", \"Weight_in_lbs\": 4096, \"Year\": \"1971-01-01T00:00:00\"}, {\"Acceleration\": 11.5, \"Cylinders\": 8, \"Displacement\": 383.0, \"Horsepower\": 180.0, \"Miles_per_Gallon\": 12.0, \"Name\": \"dodge monaco (sw)\", \"Origin\": \"USA\", \"Weight_in_lbs\": 4955, \"Year\": \"1971-01-01T00:00:00\"}, {\"Acceleration\": 12.0, \"Cylinders\": 8, \"Displacement\": 400.0, \"Horsepower\": 170.0, \"Miles_per_Gallon\": 13.0, \"Name\": \"ford country squire (sw)\", \"Origin\": \"USA\", \"Weight_in_lbs\": 4746, \"Year\": \"1971-01-01T00:00:00\"}, {\"Acceleration\": 12.0, \"Cylinders\": 8, \"Displacement\": 400.0, \"Horsepower\": 175.0, \"Miles_per_Gallon\": 13.0, \"Name\": \"pontiac safari (sw)\", \"Origin\": \"USA\", \"Weight_in_lbs\": 5140, \"Year\": \"1971-01-01T00:00:00\"}, {\"Acceleration\": 13.5, \"Cylinders\": 6, \"Displacement\": 258.0, \"Horsepower\": 110.0, \"Miles_per_Gallon\": 18.0, \"Name\": \"amc hornet sportabout (sw)\", \"Origin\": \"USA\", \"Weight_in_lbs\": 2962, \"Year\": \"1971-01-01T00:00:00\"}, {\"Acceleration\": 19.0, \"Cylinders\": 4, \"Displacement\": 140.0, \"Horsepower\": 72.0, \"Miles_per_Gallon\": 22.0, \"Name\": \"chevrolet vega (sw)\", \"Origin\": \"USA\", \"Weight_in_lbs\": 2408, \"Year\": \"1971-01-01T00:00:00\"}, {\"Acceleration\": 15.0, \"Cylinders\": 6, \"Displacement\": 250.0, \"Horsepower\": 100.0, \"Miles_per_Gallon\": 19.0, \"Name\": \"pontiac firebird\", \"Origin\": \"USA\", \"Weight_in_lbs\": 3282, \"Year\": \"1971-01-01T00:00:00\"}, {\"Acceleration\": 14.5, \"Cylinders\": 6, \"Displacement\": 250.0, \"Horsepower\": 88.0, \"Miles_per_Gallon\": 18.0, \"Name\": \"ford mustang\", \"Origin\": \"USA\", \"Weight_in_lbs\": 3139, \"Year\": \"1971-01-01T00:00:00\"}, {\"Acceleration\": 14.0, \"Cylinders\": 4, \"Displacement\": 122.0, \"Horsepower\": 86.0, \"Miles_per_Gallon\": 23.0, \"Name\": \"mercury capri 2000\", \"Origin\": \"USA\", \"Weight_in_lbs\": 2220, \"Year\": \"1971-01-01T00:00:00\"}, {\"Acceleration\": 14.0, \"Cylinders\": 4, \"Displacement\": 116.0, \"Horsepower\": 90.0, \"Miles_per_Gallon\": 28.0, \"Name\": \"opel 1900\", \"Origin\": \"Europe\", \"Weight_in_lbs\": 2123, \"Year\": \"1971-01-01T00:00:00\"}, {\"Acceleration\": 19.5, \"Cylinders\": 4, \"Displacement\": 79.0, \"Horsepower\": 70.0, \"Miles_per_Gallon\": 30.0, \"Name\": \"peugeot 304\", \"Origin\": \"Europe\", \"Weight_in_lbs\": 2074, \"Year\": \"1971-01-01T00:00:00\"}, {\"Acceleration\": 14.5, \"Cylinders\": 4, \"Displacement\": 88.0, \"Horsepower\": 76.0, \"Miles_per_Gallon\": 30.0, \"Name\": \"fiat 124b\", \"Origin\": \"Europe\", \"Weight_in_lbs\": 2065, \"Year\": \"1971-01-01T00:00:00\"}, {\"Acceleration\": 19.0, \"Cylinders\": 4, \"Displacement\": 71.0, \"Horsepower\": 65.0, \"Miles_per_Gallon\": 31.0, \"Name\": \"toyota corolla 1200\", \"Origin\": \"Japan\", \"Weight_in_lbs\": 1773, \"Year\": \"1971-01-01T00:00:00\"}, {\"Acceleration\": 18.0, \"Cylinders\": 4, \"Displacement\": 72.0, \"Horsepower\": 69.0, \"Miles_per_Gallon\": 35.0, \"Name\": \"datsun 1200\", \"Origin\": \"Japan\", \"Weight_in_lbs\": 1613, \"Year\": \"1971-01-01T00:00:00\"}, {\"Acceleration\": 19.0, \"Cylinders\": 4, \"Displacement\": 97.0, \"Horsepower\": 60.0, \"Miles_per_Gallon\": 27.0, \"Name\": \"volkswagen model 111\", \"Origin\": \"Europe\", \"Weight_in_lbs\": 1834, \"Year\": \"1971-01-01T00:00:00\"}, {\"Acceleration\": 20.5, \"Cylinders\": 4, \"Displacement\": 91.0, \"Horsepower\": 70.0, \"Miles_per_Gallon\": 26.0, \"Name\": \"plymouth cricket\", \"Origin\": \"USA\", \"Weight_in_lbs\": 1955, \"Year\": \"1971-01-01T00:00:00\"}, {\"Acceleration\": 15.5, \"Cylinders\": 4, \"Displacement\": 113.0, \"Horsepower\": 95.0, \"Miles_per_Gallon\": 24.0, \"Name\": \"toyota corona hardtop\", \"Origin\": \"Japan\", \"Weight_in_lbs\": 2278, \"Year\": \"1972-01-01T00:00:00\"}, {\"Acceleration\": 17.0, \"Cylinders\": 4, \"Displacement\": 97.5, \"Horsepower\": 80.0, \"Miles_per_Gallon\": 25.0, \"Name\": \"dodge colt hardtop\", \"Origin\": \"USA\", \"Weight_in_lbs\": 2126, \"Year\": \"1972-01-01T00:00:00\"}, {\"Acceleration\": 23.5, \"Cylinders\": 4, \"Displacement\": 97.0, \"Horsepower\": 54.0, \"Miles_per_Gallon\": 23.0, \"Name\": \"volkswagen type 3\", \"Origin\": \"Europe\", \"Weight_in_lbs\": 2254, \"Year\": \"1972-01-01T00:00:00\"}, {\"Acceleration\": 19.5, \"Cylinders\": 4, \"Displacement\": 140.0, \"Horsepower\": 90.0, \"Miles_per_Gallon\": 20.0, \"Name\": \"chevrolet vega\", \"Origin\": \"USA\", \"Weight_in_lbs\": 2408, \"Year\": \"1972-01-01T00:00:00\"}, {\"Acceleration\": 16.5, \"Cylinders\": 4, \"Displacement\": 122.0, \"Horsepower\": 86.0, \"Miles_per_Gallon\": 21.0, \"Name\": \"ford pinto runabout\", \"Origin\": \"USA\", \"Weight_in_lbs\": 2226, \"Year\": \"1972-01-01T00:00:00\"}, {\"Acceleration\": 12.0, \"Cylinders\": 8, \"Displacement\": 350.0, \"Horsepower\": 165.0, \"Miles_per_Gallon\": 13.0, \"Name\": \"chevrolet impala\", \"Origin\": \"USA\", \"Weight_in_lbs\": 4274, \"Year\": \"1972-01-01T00:00:00\"}, {\"Acceleration\": 12.0, \"Cylinders\": 8, \"Displacement\": 400.0, \"Horsepower\": 175.0, \"Miles_per_Gallon\": 14.0, \"Name\": \"pontiac catalina\", \"Origin\": \"USA\", \"Weight_in_lbs\": 4385, \"Year\": \"1972-01-01T00:00:00\"}, {\"Acceleration\": 13.5, \"Cylinders\": 8, \"Displacement\": 318.0, \"Horsepower\": 150.0, \"Miles_per_Gallon\": 15.0, \"Name\": \"plymouth fury iii\", \"Origin\": \"USA\", \"Weight_in_lbs\": 4135, \"Year\": \"1972-01-01T00:00:00\"}, {\"Acceleration\": 13.0, \"Cylinders\": 8, \"Displacement\": 351.0, \"Horsepower\": 153.0, \"Miles_per_Gallon\": 14.0, \"Name\": \"ford galaxie 500\", \"Origin\": \"USA\", \"Weight_in_lbs\": 4129, \"Year\": \"1972-01-01T00:00:00\"}, {\"Acceleration\": 11.5, \"Cylinders\": 8, \"Displacement\": 304.0, \"Horsepower\": 150.0, \"Miles_per_Gallon\": 17.0, \"Name\": \"amc ambassador sst\", \"Origin\": \"USA\", \"Weight_in_lbs\": 3672, \"Year\": \"1972-01-01T00:00:00\"}, {\"Acceleration\": 11.0, \"Cylinders\": 8, \"Displacement\": 429.0, \"Horsepower\": 208.0, \"Miles_per_Gallon\": 11.0, \"Name\": \"mercury marquis\", \"Origin\": \"USA\", \"Weight_in_lbs\": 4633, \"Year\": \"1972-01-01T00:00:00\"}, {\"Acceleration\": 13.5, \"Cylinders\": 8, \"Displacement\": 350.0, \"Horsepower\": 155.0, \"Miles_per_Gallon\": 13.0, \"Name\": \"buick lesabre custom\", \"Origin\": \"USA\", \"Weight_in_lbs\": 4502, \"Year\": \"1972-01-01T00:00:00\"}, {\"Acceleration\": 13.5, \"Cylinders\": 8, \"Displacement\": 350.0, \"Horsepower\": 160.0, \"Miles_per_Gallon\": 12.0, \"Name\": \"oldsmobile delta 88 royale\", \"Origin\": \"USA\", \"Weight_in_lbs\": 4456, \"Year\": \"1972-01-01T00:00:00\"}, {\"Acceleration\": 12.5, \"Cylinders\": 8, \"Displacement\": 400.0, \"Horsepower\": 190.0, \"Miles_per_Gallon\": 13.0, \"Name\": \"chrysler newport royal\", \"Origin\": \"USA\", \"Weight_in_lbs\": 4422, \"Year\": \"1972-01-01T00:00:00\"}, {\"Acceleration\": 13.5, \"Cylinders\": 3, \"Displacement\": 70.0, \"Horsepower\": 97.0, \"Miles_per_Gallon\": 19.0, \"Name\": \"mazda rx2 coupe\", \"Origin\": \"Japan\", \"Weight_in_lbs\": 2330, \"Year\": \"1972-01-01T00:00:00\"}, {\"Acceleration\": 12.5, \"Cylinders\": 8, \"Displacement\": 304.0, \"Horsepower\": 150.0, \"Miles_per_Gallon\": 15.0, \"Name\": \"amc matador (sw)\", \"Origin\": \"USA\", \"Weight_in_lbs\": 3892, \"Year\": \"1972-01-01T00:00:00\"}, {\"Acceleration\": 14.0, \"Cylinders\": 8, \"Displacement\": 307.0, \"Horsepower\": 130.0, \"Miles_per_Gallon\": 13.0, \"Name\": \"chevrolet chevelle concours (sw)\", \"Origin\": \"USA\", \"Weight_in_lbs\": 4098, \"Year\": \"1972-01-01T00:00:00\"}, {\"Acceleration\": 16.0, \"Cylinders\": 8, \"Displacement\": 302.0, \"Horsepower\": 140.0, \"Miles_per_Gallon\": 13.0, \"Name\": \"ford gran torino (sw)\", \"Origin\": \"USA\", \"Weight_in_lbs\": 4294, \"Year\": \"1972-01-01T00:00:00\"}, {\"Acceleration\": 14.0, \"Cylinders\": 8, \"Displacement\": 318.0, \"Horsepower\": 150.0, \"Miles_per_Gallon\": 14.0, \"Name\": \"plymouth satellite custom (sw)\", \"Origin\": \"USA\", \"Weight_in_lbs\": 4077, \"Year\": \"1972-01-01T00:00:00\"}, {\"Acceleration\": 14.5, \"Cylinders\": 4, \"Displacement\": 121.0, \"Horsepower\": 112.0, \"Miles_per_Gallon\": 18.0, \"Name\": \"volvo 145e (sw)\", \"Origin\": \"Europe\", \"Weight_in_lbs\": 2933, \"Year\": \"1972-01-01T00:00:00\"}, {\"Acceleration\": 18.0, \"Cylinders\": 4, \"Displacement\": 121.0, \"Horsepower\": 76.0, \"Miles_per_Gallon\": 22.0, \"Name\": \"volkswagen 411 (sw)\", \"Origin\": \"Europe\", \"Weight_in_lbs\": 2511, \"Year\": \"1972-01-01T00:00:00\"}, {\"Acceleration\": 19.5, \"Cylinders\": 4, \"Displacement\": 120.0, \"Horsepower\": 87.0, \"Miles_per_Gallon\": 21.0, \"Name\": \"peugeot 504 (sw)\", \"Origin\": \"Europe\", \"Weight_in_lbs\": 2979, \"Year\": \"1972-01-01T00:00:00\"}, {\"Acceleration\": 18.0, \"Cylinders\": 4, \"Displacement\": 96.0, \"Horsepower\": 69.0, \"Miles_per_Gallon\": 26.0, \"Name\": \"renault 12 (sw)\", \"Origin\": \"Europe\", \"Weight_in_lbs\": 2189, \"Year\": \"1972-01-01T00:00:00\"}, {\"Acceleration\": 16.0, \"Cylinders\": 4, \"Displacement\": 122.0, \"Horsepower\": 86.0, \"Miles_per_Gallon\": 22.0, \"Name\": \"ford pinto (sw)\", \"Origin\": \"USA\", \"Weight_in_lbs\": 2395, \"Year\": \"1972-01-01T00:00:00\"}, {\"Acceleration\": 17.0, \"Cylinders\": 4, \"Displacement\": 97.0, \"Horsepower\": 92.0, \"Miles_per_Gallon\": 28.0, \"Name\": \"datsun 510 (sw)\", \"Origin\": \"Japan\", \"Weight_in_lbs\": 2288, \"Year\": \"1972-01-01T00:00:00\"}, {\"Acceleration\": 14.5, \"Cylinders\": 4, \"Displacement\": 120.0, \"Horsepower\": 97.0, \"Miles_per_Gallon\": 23.0, \"Name\": \"toyouta corona mark ii (sw)\", \"Origin\": \"Japan\", \"Weight_in_lbs\": 2506, \"Year\": \"1972-01-01T00:00:00\"}, {\"Acceleration\": 15.0, \"Cylinders\": 4, \"Displacement\": 98.0, \"Horsepower\": 80.0, \"Miles_per_Gallon\": 28.0, \"Name\": \"dodge colt (sw)\", \"Origin\": \"USA\", \"Weight_in_lbs\": 2164, \"Year\": \"1972-01-01T00:00:00\"}, {\"Acceleration\": 16.5, \"Cylinders\": 4, \"Displacement\": 97.0, \"Horsepower\": 88.0, \"Miles_per_Gallon\": 27.0, \"Name\": \"toyota corolla 1600 (sw)\", \"Origin\": \"Japan\", \"Weight_in_lbs\": 2100, \"Year\": \"1972-01-01T00:00:00\"}, {\"Acceleration\": 13.0, \"Cylinders\": 8, \"Displacement\": 350.0, \"Horsepower\": 175.0, \"Miles_per_Gallon\": 13.0, \"Name\": \"buick century 350\", \"Origin\": \"USA\", \"Weight_in_lbs\": 4100, \"Year\": \"1973-01-01T00:00:00\"}, {\"Acceleration\": 11.5, \"Cylinders\": 8, \"Displacement\": 304.0, \"Horsepower\": 150.0, \"Miles_per_Gallon\": 14.0, \"Name\": \"amc matador\", \"Origin\": \"USA\", \"Weight_in_lbs\": 3672, \"Year\": \"1973-01-01T00:00:00\"}, {\"Acceleration\": 13.0, \"Cylinders\": 8, \"Displacement\": 350.0, \"Horsepower\": 145.0, \"Miles_per_Gallon\": 13.0, \"Name\": \"chevrolet malibu\", \"Origin\": \"USA\", \"Weight_in_lbs\": 3988, \"Year\": \"1973-01-01T00:00:00\"}, {\"Acceleration\": 14.5, \"Cylinders\": 8, \"Displacement\": 302.0, \"Horsepower\": 137.0, \"Miles_per_Gallon\": 14.0, \"Name\": \"ford gran torino\", \"Origin\": \"USA\", \"Weight_in_lbs\": 4042, \"Year\": \"1973-01-01T00:00:00\"}, {\"Acceleration\": 12.5, \"Cylinders\": 8, \"Displacement\": 318.0, \"Horsepower\": 150.0, \"Miles_per_Gallon\": 15.0, \"Name\": \"dodge coronet custom\", \"Origin\": \"USA\", \"Weight_in_lbs\": 3777, \"Year\": \"1973-01-01T00:00:00\"}, {\"Acceleration\": 11.5, \"Cylinders\": 8, \"Displacement\": 429.0, \"Horsepower\": 198.0, \"Miles_per_Gallon\": 12.0, \"Name\": \"mercury marquis brougham\", \"Origin\": \"USA\", \"Weight_in_lbs\": 4952, \"Year\": \"1973-01-01T00:00:00\"}, {\"Acceleration\": 12.0, \"Cylinders\": 8, \"Displacement\": 400.0, \"Horsepower\": 150.0, \"Miles_per_Gallon\": 13.0, \"Name\": \"chevrolet caprice classic\", \"Origin\": \"USA\", \"Weight_in_lbs\": 4464, \"Year\": \"1973-01-01T00:00:00\"}, {\"Acceleration\": 13.0, \"Cylinders\": 8, \"Displacement\": 351.0, \"Horsepower\": 158.0, \"Miles_per_Gallon\": 13.0, \"Name\": \"ford ltd\", \"Origin\": \"USA\", \"Weight_in_lbs\": 4363, \"Year\": \"1973-01-01T00:00:00\"}, {\"Acceleration\": 14.5, \"Cylinders\": 8, \"Displacement\": 318.0, \"Horsepower\": 150.0, \"Miles_per_Gallon\": 14.0, \"Name\": \"plymouth fury gran sedan\", \"Origin\": \"USA\", \"Weight_in_lbs\": 4237, \"Year\": \"1973-01-01T00:00:00\"}, {\"Acceleration\": 11.0, \"Cylinders\": 8, \"Displacement\": 440.0, \"Horsepower\": 215.0, \"Miles_per_Gallon\": 13.0, \"Name\": \"chrysler new yorker brougham\", \"Origin\": \"USA\", \"Weight_in_lbs\": 4735, \"Year\": \"1973-01-01T00:00:00\"}, {\"Acceleration\": 11.0, \"Cylinders\": 8, \"Displacement\": 455.0, \"Horsepower\": 225.0, \"Miles_per_Gallon\": 12.0, \"Name\": \"buick electra 225 custom\", \"Origin\": \"USA\", \"Weight_in_lbs\": 4951, \"Year\": \"1973-01-01T00:00:00\"}, {\"Acceleration\": 11.0, \"Cylinders\": 8, \"Displacement\": 360.0, \"Horsepower\": 175.0, \"Miles_per_Gallon\": 13.0, \"Name\": \"amc ambassador brougham\", \"Origin\": \"USA\", \"Weight_in_lbs\": 3821, \"Year\": \"1973-01-01T00:00:00\"}, {\"Acceleration\": 16.5, \"Cylinders\": 6, \"Displacement\": 225.0, \"Horsepower\": 105.0, \"Miles_per_Gallon\": 18.0, \"Name\": \"plymouth valiant\", \"Origin\": \"USA\", \"Weight_in_lbs\": 3121, \"Year\": \"1973-01-01T00:00:00\"}, {\"Acceleration\": 18.0, \"Cylinders\": 6, \"Displacement\": 250.0, \"Horsepower\": 100.0, \"Miles_per_Gallon\": 16.0, \"Name\": \"chevrolet nova custom\", \"Origin\": \"USA\", \"Weight_in_lbs\": 3278, \"Year\": \"1973-01-01T00:00:00\"}, {\"Acceleration\": 16.0, \"Cylinders\": 6, \"Displacement\": 232.0, \"Horsepower\": 100.0, \"Miles_per_Gallon\": 18.0, \"Name\": \"amc hornet\", \"Origin\": \"USA\", \"Weight_in_lbs\": 2945, \"Year\": \"1973-01-01T00:00:00\"}, {\"Acceleration\": 16.5, \"Cylinders\": 6, \"Displacement\": 250.0, \"Horsepower\": 88.0, \"Miles_per_Gallon\": 18.0, \"Name\": \"ford maverick\", \"Origin\": \"USA\", \"Weight_in_lbs\": 3021, \"Year\": \"1973-01-01T00:00:00\"}, {\"Acceleration\": 16.0, \"Cylinders\": 6, \"Displacement\": 198.0, \"Horsepower\": 95.0, \"Miles_per_Gallon\": 23.0, \"Name\": \"plymouth duster\", \"Origin\": \"USA\", \"Weight_in_lbs\": 2904, \"Year\": \"1973-01-01T00:00:00\"}, {\"Acceleration\": 21.0, \"Cylinders\": 4, \"Displacement\": 97.0, \"Horsepower\": 46.0, \"Miles_per_Gallon\": 26.0, \"Name\": \"volkswagen super beetle\", \"Origin\": \"Europe\", \"Weight_in_lbs\": 1950, \"Year\": \"1973-01-01T00:00:00\"}, {\"Acceleration\": 14.0, \"Cylinders\": 8, \"Displacement\": 400.0, \"Horsepower\": 150.0, \"Miles_per_Gallon\": 11.0, \"Name\": \"chevrolet impala\", \"Origin\": \"USA\", \"Weight_in_lbs\": 4997, \"Year\": \"1973-01-01T00:00:00\"}, {\"Acceleration\": 12.5, \"Cylinders\": 8, \"Displacement\": 400.0, \"Horsepower\": 167.0, \"Miles_per_Gallon\": 12.0, \"Name\": \"ford country\", \"Origin\": \"USA\", \"Weight_in_lbs\": 4906, \"Year\": \"1973-01-01T00:00:00\"}, {\"Acceleration\": 13.0, \"Cylinders\": 8, \"Displacement\": 360.0, \"Horsepower\": 170.0, \"Miles_per_Gallon\": 13.0, \"Name\": \"plymouth custom suburb\", \"Origin\": \"USA\", \"Weight_in_lbs\": 4654, \"Year\": \"1973-01-01T00:00:00\"}, {\"Acceleration\": 12.5, \"Cylinders\": 8, \"Displacement\": 350.0, \"Horsepower\": 180.0, \"Miles_per_Gallon\": 12.0, \"Name\": \"oldsmobile vista cruiser\", \"Origin\": \"USA\", \"Weight_in_lbs\": 4499, \"Year\": \"1973-01-01T00:00:00\"}, {\"Acceleration\": 15.0, \"Cylinders\": 6, \"Displacement\": 232.0, \"Horsepower\": 100.0, \"Miles_per_Gallon\": 18.0, \"Name\": \"amc gremlin\", \"Origin\": \"USA\", \"Weight_in_lbs\": 2789, \"Year\": \"1973-01-01T00:00:00\"}, {\"Acceleration\": 19.0, \"Cylinders\": 4, \"Displacement\": 97.0, \"Horsepower\": 88.0, \"Miles_per_Gallon\": 20.0, \"Name\": \"toyota carina\", \"Origin\": \"Japan\", \"Weight_in_lbs\": 2279, \"Year\": \"1973-01-01T00:00:00\"}, {\"Acceleration\": 19.5, \"Cylinders\": 4, \"Displacement\": 140.0, \"Horsepower\": 72.0, \"Miles_per_Gallon\": 21.0, \"Name\": \"chevrolet vega\", \"Origin\": \"USA\", \"Weight_in_lbs\": 2401, \"Year\": \"1973-01-01T00:00:00\"}, {\"Acceleration\": 16.5, \"Cylinders\": 4, \"Displacement\": 108.0, \"Horsepower\": 94.0, \"Miles_per_Gallon\": 22.0, \"Name\": \"datsun 610\", \"Origin\": \"Japan\", \"Weight_in_lbs\": 2379, \"Year\": \"1973-01-01T00:00:00\"}, {\"Acceleration\": 13.5, \"Cylinders\": 3, \"Displacement\": 70.0, \"Horsepower\": 90.0, \"Miles_per_Gallon\": 18.0, \"Name\": \"maxda rx3\", \"Origin\": \"Japan\", \"Weight_in_lbs\": 2124, \"Year\": \"1973-01-01T00:00:00\"}, {\"Acceleration\": 18.5, \"Cylinders\": 4, \"Displacement\": 122.0, \"Horsepower\": 85.0, \"Miles_per_Gallon\": 19.0, \"Name\": \"ford pinto\", \"Origin\": \"USA\", \"Weight_in_lbs\": 2310, \"Year\": \"1973-01-01T00:00:00\"}, {\"Acceleration\": 14.0, \"Cylinders\": 6, \"Displacement\": 155.0, \"Horsepower\": 107.0, \"Miles_per_Gallon\": 21.0, \"Name\": \"mercury capri v6\", \"Origin\": \"USA\", \"Weight_in_lbs\": 2472, \"Year\": \"1973-01-01T00:00:00\"}, {\"Acceleration\": 15.5, \"Cylinders\": 4, \"Displacement\": 98.0, \"Horsepower\": 90.0, \"Miles_per_Gallon\": 26.0, \"Name\": \"fiat 124 sport coupe\", \"Origin\": \"Europe\", \"Weight_in_lbs\": 2265, \"Year\": \"1973-01-01T00:00:00\"}, {\"Acceleration\": 13.0, \"Cylinders\": 8, \"Displacement\": 350.0, \"Horsepower\": 145.0, \"Miles_per_Gallon\": 15.0, \"Name\": \"chevrolet monte carlo s\", \"Origin\": \"USA\", \"Weight_in_lbs\": 4082, \"Year\": \"1973-01-01T00:00:00\"}, {\"Acceleration\": 9.5, \"Cylinders\": 8, \"Displacement\": 400.0, \"Horsepower\": 230.0, \"Miles_per_Gallon\": 16.0, \"Name\": \"pontiac grand prix\", \"Origin\": \"USA\", \"Weight_in_lbs\": 4278, \"Year\": \"1973-01-01T00:00:00\"}, {\"Acceleration\": 19.5, \"Cylinders\": 4, \"Displacement\": 68.0, \"Horsepower\": 49.0, \"Miles_per_Gallon\": 29.0, \"Name\": \"fiat 128\", \"Origin\": \"Europe\", \"Weight_in_lbs\": 1867, \"Year\": \"1973-01-01T00:00:00\"}, {\"Acceleration\": 15.5, \"Cylinders\": 4, \"Displacement\": 116.0, \"Horsepower\": 75.0, \"Miles_per_Gallon\": 24.0, \"Name\": \"opel manta\", \"Origin\": \"Europe\", \"Weight_in_lbs\": 2158, \"Year\": \"1973-01-01T00:00:00\"}, {\"Acceleration\": 14.0, \"Cylinders\": 4, \"Displacement\": 114.0, \"Horsepower\": 91.0, \"Miles_per_Gallon\": 20.0, \"Name\": \"audi 100ls\", \"Origin\": \"Europe\", \"Weight_in_lbs\": 2582, \"Year\": \"1973-01-01T00:00:00\"}, {\"Acceleration\": 15.5, \"Cylinders\": 4, \"Displacement\": 121.0, \"Horsepower\": 112.0, \"Miles_per_Gallon\": 19.0, \"Name\": \"volvo 144ea\", \"Origin\": \"Europe\", \"Weight_in_lbs\": 2868, \"Year\": \"1973-01-01T00:00:00\"}, {\"Acceleration\": 11.0, \"Cylinders\": 8, \"Displacement\": 318.0, \"Horsepower\": 150.0, \"Miles_per_Gallon\": 15.0, \"Name\": \"dodge dart custom\", \"Origin\": \"USA\", \"Weight_in_lbs\": 3399, \"Year\": \"1973-01-01T00:00:00\"}, {\"Acceleration\": 14.0, \"Cylinders\": 4, \"Displacement\": 121.0, \"Horsepower\": 110.0, \"Miles_per_Gallon\": 24.0, \"Name\": \"saab 99le\", \"Origin\": \"Europe\", \"Weight_in_lbs\": 2660, \"Year\": \"1973-01-01T00:00:00\"}, {\"Acceleration\": 13.5, \"Cylinders\": 6, \"Displacement\": 156.0, \"Horsepower\": 122.0, \"Miles_per_Gallon\": 20.0, \"Name\": \"toyota mark ii\", \"Origin\": \"Japan\", \"Weight_in_lbs\": 2807, \"Year\": \"1973-01-01T00:00:00\"}, {\"Acceleration\": 11.0, \"Cylinders\": 8, \"Displacement\": 350.0, \"Horsepower\": 180.0, \"Miles_per_Gallon\": 11.0, \"Name\": \"oldsmobile omega\", \"Origin\": \"USA\", \"Weight_in_lbs\": 3664, \"Year\": \"1973-01-01T00:00:00\"}, {\"Acceleration\": 16.5, \"Cylinders\": 6, \"Displacement\": 198.0, \"Horsepower\": 95.0, \"Miles_per_Gallon\": 20.0, \"Name\": \"plymouth duster\", \"Origin\": \"USA\", \"Weight_in_lbs\": 3102, \"Year\": \"1974-01-01T00:00:00\"}, {\"Acceleration\": 17.0, \"Cylinders\": 6, \"Displacement\": 200.0, \"Horsepower\": null, \"Miles_per_Gallon\": 21.0, \"Name\": \"ford maverick\", \"Origin\": \"USA\", \"Weight_in_lbs\": 2875, \"Year\": \"1974-01-01T00:00:00\"}, {\"Acceleration\": 16.0, \"Cylinders\": 6, \"Displacement\": 232.0, \"Horsepower\": 100.0, \"Miles_per_Gallon\": 19.0, \"Name\": \"amc hornet\", \"Origin\": \"USA\", \"Weight_in_lbs\": 2901, \"Year\": \"1974-01-01T00:00:00\"}, {\"Acceleration\": 17.0, \"Cylinders\": 6, \"Displacement\": 250.0, \"Horsepower\": 100.0, \"Miles_per_Gallon\": 15.0, \"Name\": \"chevrolet nova\", \"Origin\": \"USA\", \"Weight_in_lbs\": 3336, \"Year\": \"1974-01-01T00:00:00\"}, {\"Acceleration\": 19.0, \"Cylinders\": 4, \"Displacement\": 79.0, \"Horsepower\": 67.0, \"Miles_per_Gallon\": 31.0, \"Name\": \"datsun b210\", \"Origin\": \"Japan\", \"Weight_in_lbs\": 1950, \"Year\": \"1974-01-01T00:00:00\"}, {\"Acceleration\": 16.5, \"Cylinders\": 4, \"Displacement\": 122.0, \"Horsepower\": 80.0, \"Miles_per_Gallon\": 26.0, \"Name\": \"ford pinto\", \"Origin\": \"USA\", \"Weight_in_lbs\": 2451, \"Year\": \"1974-01-01T00:00:00\"}, {\"Acceleration\": 21.0, \"Cylinders\": 4, \"Displacement\": 71.0, \"Horsepower\": 65.0, \"Miles_per_Gallon\": 32.0, \"Name\": \"toyota corolla 1200\", \"Origin\": \"Japan\", \"Weight_in_lbs\": 1836, \"Year\": \"1974-01-01T00:00:00\"}, {\"Acceleration\": 17.0, \"Cylinders\": 4, \"Displacement\": 140.0, \"Horsepower\": 75.0, \"Miles_per_Gallon\": 25.0, \"Name\": \"chevrolet vega\", \"Origin\": \"USA\", \"Weight_in_lbs\": 2542, \"Year\": \"1974-01-01T00:00:00\"}, {\"Acceleration\": 17.0, \"Cylinders\": 6, \"Displacement\": 250.0, \"Horsepower\": 100.0, \"Miles_per_Gallon\": 16.0, \"Name\": \"chevrolet chevelle malibu classic\", \"Origin\": \"USA\", \"Weight_in_lbs\": 3781, \"Year\": \"1974-01-01T00:00:00\"}, {\"Acceleration\": 18.0, \"Cylinders\": 6, \"Displacement\": 258.0, \"Horsepower\": 110.0, \"Miles_per_Gallon\": 16.0, \"Name\": \"amc matador\", \"Origin\": \"USA\", \"Weight_in_lbs\": 3632, \"Year\": \"1974-01-01T00:00:00\"}, {\"Acceleration\": 16.5, \"Cylinders\": 6, \"Displacement\": 225.0, \"Horsepower\": 105.0, \"Miles_per_Gallon\": 18.0, \"Name\": \"plymouth satellite sebring\", \"Origin\": \"USA\", \"Weight_in_lbs\": 3613, \"Year\": \"1974-01-01T00:00:00\"}, {\"Acceleration\": 14.0, \"Cylinders\": 8, \"Displacement\": 302.0, \"Horsepower\": 140.0, \"Miles_per_Gallon\": 16.0, \"Name\": \"ford gran torino\", \"Origin\": \"USA\", \"Weight_in_lbs\": 4141, \"Year\": \"1974-01-01T00:00:00\"}, {\"Acceleration\": 14.5, \"Cylinders\": 8, \"Displacement\": 350.0, \"Horsepower\": 150.0, \"Miles_per_Gallon\": 13.0, \"Name\": \"buick century luxus (sw)\", \"Origin\": \"USA\", \"Weight_in_lbs\": 4699, \"Year\": \"1974-01-01T00:00:00\"}, {\"Acceleration\": 13.5, \"Cylinders\": 8, \"Displacement\": 318.0, \"Horsepower\": 150.0, \"Miles_per_Gallon\": 14.0, \"Name\": \"dodge coronet custom (sw)\", \"Origin\": \"USA\", \"Weight_in_lbs\": 4457, \"Year\": \"1974-01-01T00:00:00\"}, {\"Acceleration\": 16.0, \"Cylinders\": 8, \"Displacement\": 302.0, \"Horsepower\": 140.0, \"Miles_per_Gallon\": 14.0, \"Name\": \"ford gran torino (sw)\", \"Origin\": \"USA\", \"Weight_in_lbs\": 4638, \"Year\": \"1974-01-01T00:00:00\"}, {\"Acceleration\": 15.5, \"Cylinders\": 8, \"Displacement\": 304.0, \"Horsepower\": 150.0, \"Miles_per_Gallon\": 14.0, \"Name\": \"amc matador (sw)\", \"Origin\": \"USA\", \"Weight_in_lbs\": 4257, \"Year\": \"1974-01-01T00:00:00\"}, {\"Acceleration\": 16.5, \"Cylinders\": 4, \"Displacement\": 98.0, \"Horsepower\": 83.0, \"Miles_per_Gallon\": 29.0, \"Name\": \"audi fox\", \"Origin\": \"Europe\", \"Weight_in_lbs\": 2219, \"Year\": \"1974-01-01T00:00:00\"}, {\"Acceleration\": 15.5, \"Cylinders\": 4, \"Displacement\": 79.0, \"Horsepower\": 67.0, \"Miles_per_Gallon\": 26.0, \"Name\": \"volkswagen dasher\", \"Origin\": \"Europe\", \"Weight_in_lbs\": 1963, \"Year\": \"1974-01-01T00:00:00\"}, {\"Acceleration\": 14.5, \"Cylinders\": 4, \"Displacement\": 97.0, \"Horsepower\": 78.0, \"Miles_per_Gallon\": 26.0, \"Name\": \"opel manta\", \"Origin\": \"Europe\", \"Weight_in_lbs\": 2300, \"Year\": \"1974-01-01T00:00:00\"}, {\"Acceleration\": 16.5, \"Cylinders\": 4, \"Displacement\": 76.0, \"Horsepower\": 52.0, \"Miles_per_Gallon\": 31.0, \"Name\": \"toyota corona\", \"Origin\": \"Japan\", \"Weight_in_lbs\": 1649, \"Year\": \"1974-01-01T00:00:00\"}, {\"Acceleration\": 19.0, \"Cylinders\": 4, \"Displacement\": 83.0, \"Horsepower\": 61.0, \"Miles_per_Gallon\": 32.0, \"Name\": \"datsun 710\", \"Origin\": \"Japan\", \"Weight_in_lbs\": 2003, \"Year\": \"1974-01-01T00:00:00\"}, {\"Acceleration\": 14.5, \"Cylinders\": 4, \"Displacement\": 90.0, \"Horsepower\": 75.0, \"Miles_per_Gallon\": 28.0, \"Name\": \"dodge colt\", \"Origin\": \"USA\", \"Weight_in_lbs\": 2125, \"Year\": \"1974-01-01T00:00:00\"}, {\"Acceleration\": 15.5, \"Cylinders\": 4, \"Displacement\": 90.0, \"Horsepower\": 75.0, \"Miles_per_Gallon\": 24.0, \"Name\": \"fiat 128\", \"Origin\": \"Europe\", \"Weight_in_lbs\": 2108, \"Year\": \"1974-01-01T00:00:00\"}, {\"Acceleration\": 14.0, \"Cylinders\": 4, \"Displacement\": 116.0, \"Horsepower\": 75.0, \"Miles_per_Gallon\": 26.0, \"Name\": \"fiat 124 tc\", \"Origin\": \"Europe\", \"Weight_in_lbs\": 2246, \"Year\": \"1974-01-01T00:00:00\"}, {\"Acceleration\": 15.0, \"Cylinders\": 4, \"Displacement\": 120.0, \"Horsepower\": 97.0, \"Miles_per_Gallon\": 24.0, \"Name\": \"honda civic\", \"Origin\": \"Japan\", \"Weight_in_lbs\": 2489, \"Year\": \"1974-01-01T00:00:00\"}, {\"Acceleration\": 15.5, \"Cylinders\": 4, \"Displacement\": 108.0, \"Horsepower\": 93.0, \"Miles_per_Gallon\": 26.0, \"Name\": \"subaru\", \"Origin\": \"Japan\", \"Weight_in_lbs\": 2391, \"Year\": \"1974-01-01T00:00:00\"}, {\"Acceleration\": 16.0, \"Cylinders\": 4, \"Displacement\": 79.0, \"Horsepower\": 67.0, \"Miles_per_Gallon\": 31.0, \"Name\": \"fiat x1.9\", \"Origin\": \"Europe\", \"Weight_in_lbs\": 2000, \"Year\": \"1974-01-01T00:00:00\"}, {\"Acceleration\": 16.0, \"Cylinders\": 6, \"Displacement\": 225.0, \"Horsepower\": 95.0, \"Miles_per_Gallon\": 19.0, \"Name\": \"plymouth valiant custom\", \"Origin\": \"USA\", \"Weight_in_lbs\": 3264, \"Year\": \"1975-01-01T00:00:00\"}, {\"Acceleration\": 16.0, \"Cylinders\": 6, \"Displacement\": 250.0, \"Horsepower\": 105.0, \"Miles_per_Gallon\": 18.0, \"Name\": \"chevrolet nova\", \"Origin\": \"USA\", \"Weight_in_lbs\": 3459, \"Year\": \"1975-01-01T00:00:00\"}, {\"Acceleration\": 21.0, \"Cylinders\": 6, \"Displacement\": 250.0, \"Horsepower\": 72.0, \"Miles_per_Gallon\": 15.0, \"Name\": \"mercury monarch\", \"Origin\": \"USA\", \"Weight_in_lbs\": 3432, \"Year\": \"1975-01-01T00:00:00\"}, {\"Acceleration\": 19.5, \"Cylinders\": 6, \"Displacement\": 250.0, \"Horsepower\": 72.0, \"Miles_per_Gallon\": 15.0, \"Name\": \"ford maverick\", \"Origin\": \"USA\", \"Weight_in_lbs\": 3158, \"Year\": \"1975-01-01T00:00:00\"}, {\"Acceleration\": 11.5, \"Cylinders\": 8, \"Displacement\": 400.0, \"Horsepower\": 170.0, \"Miles_per_Gallon\": 16.0, \"Name\": \"pontiac catalina\", \"Origin\": \"USA\", \"Weight_in_lbs\": 4668, \"Year\": \"1975-01-01T00:00:00\"}, {\"Acceleration\": 14.0, \"Cylinders\": 8, \"Displacement\": 350.0, \"Horsepower\": 145.0, \"Miles_per_Gallon\": 15.0, \"Name\": \"chevrolet bel air\", \"Origin\": \"USA\", \"Weight_in_lbs\": 4440, \"Year\": \"1975-01-01T00:00:00\"}, {\"Acceleration\": 14.5, \"Cylinders\": 8, \"Displacement\": 318.0, \"Horsepower\": 150.0, \"Miles_per_Gallon\": 16.0, \"Name\": \"plymouth grand fury\", \"Origin\": \"USA\", \"Weight_in_lbs\": 4498, \"Year\": \"1975-01-01T00:00:00\"}, {\"Acceleration\": 13.5, \"Cylinders\": 8, \"Displacement\": 351.0, \"Horsepower\": 148.0, \"Miles_per_Gallon\": 14.0, \"Name\": \"ford ltd\", \"Origin\": \"USA\", \"Weight_in_lbs\": 4657, \"Year\": \"1975-01-01T00:00:00\"}, {\"Acceleration\": 21.0, \"Cylinders\": 6, \"Displacement\": 231.0, \"Horsepower\": 110.0, \"Miles_per_Gallon\": 17.0, \"Name\": \"buick century\", \"Origin\": \"USA\", \"Weight_in_lbs\": 3907, \"Year\": \"1975-01-01T00:00:00\"}, {\"Acceleration\": 18.5, \"Cylinders\": 6, \"Displacement\": 250.0, \"Horsepower\": 105.0, \"Miles_per_Gallon\": 16.0, \"Name\": \"chevroelt chevelle malibu\", \"Origin\": \"USA\", \"Weight_in_lbs\": 3897, \"Year\": \"1975-01-01T00:00:00\"}, {\"Acceleration\": 19.0, \"Cylinders\": 6, \"Displacement\": 258.0, \"Horsepower\": 110.0, \"Miles_per_Gallon\": 15.0, \"Name\": \"amc matador\", \"Origin\": \"USA\", \"Weight_in_lbs\": 3730, \"Year\": \"1975-01-01T00:00:00\"}, {\"Acceleration\": 19.0, \"Cylinders\": 6, \"Displacement\": 225.0, \"Horsepower\": 95.0, \"Miles_per_Gallon\": 18.0, \"Name\": \"plymouth fury\", \"Origin\": \"USA\", \"Weight_in_lbs\": 3785, \"Year\": \"1975-01-01T00:00:00\"}, {\"Acceleration\": 15.0, \"Cylinders\": 6, \"Displacement\": 231.0, \"Horsepower\": 110.0, \"Miles_per_Gallon\": 21.0, \"Name\": \"buick skyhawk\", \"Origin\": \"USA\", \"Weight_in_lbs\": 3039, \"Year\": \"1975-01-01T00:00:00\"}, {\"Acceleration\": 13.5, \"Cylinders\": 8, \"Displacement\": 262.0, \"Horsepower\": 110.0, \"Miles_per_Gallon\": 20.0, \"Name\": \"chevrolet monza 2+2\", \"Origin\": \"USA\", \"Weight_in_lbs\": 3221, \"Year\": \"1975-01-01T00:00:00\"}, {\"Acceleration\": 12.0, \"Cylinders\": 8, \"Displacement\": 302.0, \"Horsepower\": 129.0, \"Miles_per_Gallon\": 13.0, \"Name\": \"ford mustang ii\", \"Origin\": \"USA\", \"Weight_in_lbs\": 3169, \"Year\": \"1975-01-01T00:00:00\"}, {\"Acceleration\": 16.0, \"Cylinders\": 4, \"Displacement\": 97.0, \"Horsepower\": 75.0, \"Miles_per_Gallon\": 29.0, \"Name\": \"toyota corolla\", \"Origin\": \"Japan\", \"Weight_in_lbs\": 2171, \"Year\": \"1975-01-01T00:00:00\"}, {\"Acceleration\": 17.0, \"Cylinders\": 4, \"Displacement\": 140.0, \"Horsepower\": 83.0, \"Miles_per_Gallon\": 23.0, \"Name\": \"ford pinto\", \"Origin\": \"USA\", \"Weight_in_lbs\": 2639, \"Year\": \"1975-01-01T00:00:00\"}, {\"Acceleration\": 16.0, \"Cylinders\": 6, \"Displacement\": 232.0, \"Horsepower\": 100.0, \"Miles_per_Gallon\": 20.0, \"Name\": \"amc gremlin\", \"Origin\": \"USA\", \"Weight_in_lbs\": 2914, \"Year\": \"1975-01-01T00:00:00\"}, {\"Acceleration\": 18.5, \"Cylinders\": 4, \"Displacement\": 140.0, \"Horsepower\": 78.0, \"Miles_per_Gallon\": 23.0, \"Name\": \"pontiac astro\", \"Origin\": \"USA\", \"Weight_in_lbs\": 2592, \"Year\": \"1975-01-01T00:00:00\"}, {\"Acceleration\": 13.5, \"Cylinders\": 4, \"Displacement\": 134.0, \"Horsepower\": 96.0, \"Miles_per_Gallon\": 24.0, \"Name\": \"toyota corona\", \"Origin\": \"Japan\", \"Weight_in_lbs\": 2702, \"Year\": \"1975-01-01T00:00:00\"}, {\"Acceleration\": 16.5, \"Cylinders\": 4, \"Displacement\": 90.0, \"Horsepower\": 71.0, \"Miles_per_Gallon\": 25.0, \"Name\": \"volkswagen dasher\", \"Origin\": \"Europe\", \"Weight_in_lbs\": 2223, \"Year\": \"1975-01-01T00:00:00\"}, {\"Acceleration\": 17.0, \"Cylinders\": 4, \"Displacement\": 119.0, \"Horsepower\": 97.0, \"Miles_per_Gallon\": 24.0, \"Name\": \"datsun 710\", \"Origin\": \"Japan\", \"Weight_in_lbs\": 2545, \"Year\": \"1975-01-01T00:00:00\"}, {\"Acceleration\": 14.5, \"Cylinders\": 6, \"Displacement\": 171.0, \"Horsepower\": 97.0, \"Miles_per_Gallon\": 18.0, \"Name\": \"ford pinto\", \"Origin\": \"USA\", \"Weight_in_lbs\": 2984, \"Year\": \"1975-01-01T00:00:00\"}, {\"Acceleration\": 14.0, \"Cylinders\": 4, \"Displacement\": 90.0, \"Horsepower\": 70.0, \"Miles_per_Gallon\": 29.0, \"Name\": \"volkswagen rabbit\", \"Origin\": \"Europe\", \"Weight_in_lbs\": 1937, \"Year\": \"1975-01-01T00:00:00\"}, {\"Acceleration\": 17.0, \"Cylinders\": 6, \"Displacement\": 232.0, \"Horsepower\": 90.0, \"Miles_per_Gallon\": 19.0, \"Name\": \"amc pacer\", \"Origin\": \"USA\", \"Weight_in_lbs\": 3211, \"Year\": \"1975-01-01T00:00:00\"}, {\"Acceleration\": 15.0, \"Cylinders\": 4, \"Displacement\": 115.0, \"Horsepower\": 95.0, \"Miles_per_Gallon\": 23.0, \"Name\": \"audi 100ls\", \"Origin\": \"Europe\", \"Weight_in_lbs\": 2694, \"Year\": \"1975-01-01T00:00:00\"}, {\"Acceleration\": 17.0, \"Cylinders\": 4, \"Displacement\": 120.0, \"Horsepower\": 88.0, \"Miles_per_Gallon\": 23.0, \"Name\": \"peugeot 504\", \"Origin\": \"Europe\", \"Weight_in_lbs\": 2957, \"Year\": \"1975-01-01T00:00:00\"}, {\"Acceleration\": 14.5, \"Cylinders\": 4, \"Displacement\": 121.0, \"Horsepower\": 98.0, \"Miles_per_Gallon\": 22.0, \"Name\": \"volvo 244dl\", \"Origin\": \"Europe\", \"Weight_in_lbs\": 2945, \"Year\": \"1975-01-01T00:00:00\"}, {\"Acceleration\": 13.5, \"Cylinders\": 4, \"Displacement\": 121.0, \"Horsepower\": 115.0, \"Miles_per_Gallon\": 25.0, \"Name\": \"saab 99le\", \"Origin\": \"Europe\", \"Weight_in_lbs\": 2671, \"Year\": \"1975-01-01T00:00:00\"}, {\"Acceleration\": 17.5, \"Cylinders\": 4, \"Displacement\": 91.0, \"Horsepower\": 53.0, \"Miles_per_Gallon\": 33.0, \"Name\": \"honda civic cvcc\", \"Origin\": \"Japan\", \"Weight_in_lbs\": 1795, \"Year\": \"1975-01-01T00:00:00\"}, {\"Acceleration\": 15.5, \"Cylinders\": 4, \"Displacement\": 107.0, \"Horsepower\": 86.0, \"Miles_per_Gallon\": 28.0, \"Name\": \"fiat 131\", \"Origin\": \"Europe\", \"Weight_in_lbs\": 2464, \"Year\": \"1976-01-01T00:00:00\"}, {\"Acceleration\": 16.9, \"Cylinders\": 4, \"Displacement\": 116.0, \"Horsepower\": 81.0, \"Miles_per_Gallon\": 25.0, \"Name\": \"opel 1900\", \"Origin\": \"Europe\", \"Weight_in_lbs\": 2220, \"Year\": \"1976-01-01T00:00:00\"}, {\"Acceleration\": 14.9, \"Cylinders\": 4, \"Displacement\": 140.0, \"Horsepower\": 92.0, \"Miles_per_Gallon\": 25.0, \"Name\": \"capri ii\", \"Origin\": \"USA\", \"Weight_in_lbs\": 2572, \"Year\": \"1976-01-01T00:00:00\"}, {\"Acceleration\": 17.7, \"Cylinders\": 4, \"Displacement\": 98.0, \"Horsepower\": 79.0, \"Miles_per_Gallon\": 26.0, \"Name\": \"dodge colt\", \"Origin\": \"USA\", \"Weight_in_lbs\": 2255, \"Year\": \"1976-01-01T00:00:00\"}, {\"Acceleration\": 15.3, \"Cylinders\": 4, \"Displacement\": 101.0, \"Horsepower\": 83.0, \"Miles_per_Gallon\": 27.0, \"Name\": \"renault 12tl\", \"Origin\": \"Europe\", \"Weight_in_lbs\": 2202, \"Year\": \"1976-01-01T00:00:00\"}, {\"Acceleration\": 13.0, \"Cylinders\": 8, \"Displacement\": 305.0, \"Horsepower\": 140.0, \"Miles_per_Gallon\": 17.5, \"Name\": \"chevrolet chevelle malibu classic\", \"Origin\": \"USA\", \"Weight_in_lbs\": 4215, \"Year\": \"1976-01-01T00:00:00\"}, {\"Acceleration\": 13.0, \"Cylinders\": 8, \"Displacement\": 318.0, \"Horsepower\": 150.0, \"Miles_per_Gallon\": 16.0, \"Name\": \"dodge coronet brougham\", \"Origin\": \"USA\", \"Weight_in_lbs\": 4190, \"Year\": \"1976-01-01T00:00:00\"}, {\"Acceleration\": 13.9, \"Cylinders\": 8, \"Displacement\": 304.0, \"Horsepower\": 120.0, \"Miles_per_Gallon\": 15.5, \"Name\": \"amc matador\", \"Origin\": \"USA\", \"Weight_in_lbs\": 3962, \"Year\": \"1976-01-01T00:00:00\"}, {\"Acceleration\": 12.8, \"Cylinders\": 8, \"Displacement\": 351.0, \"Horsepower\": 152.0, \"Miles_per_Gallon\": 14.5, \"Name\": \"ford gran torino\", \"Origin\": \"USA\", \"Weight_in_lbs\": 4215, \"Year\": \"1976-01-01T00:00:00\"}, {\"Acceleration\": 15.4, \"Cylinders\": 6, \"Displacement\": 225.0, \"Horsepower\": 100.0, \"Miles_per_Gallon\": 22.0, \"Name\": \"plymouth valiant\", \"Origin\": \"USA\", \"Weight_in_lbs\": 3233, \"Year\": \"1976-01-01T00:00:00\"}, {\"Acceleration\": 14.5, \"Cylinders\": 6, \"Displacement\": 250.0, \"Horsepower\": 105.0, \"Miles_per_Gallon\": 22.0, \"Name\": \"chevrolet nova\", \"Origin\": \"USA\", \"Weight_in_lbs\": 3353, \"Year\": \"1976-01-01T00:00:00\"}, {\"Acceleration\": 17.6, \"Cylinders\": 6, \"Displacement\": 200.0, \"Horsepower\": 81.0, \"Miles_per_Gallon\": 24.0, \"Name\": \"ford maverick\", \"Origin\": \"USA\", \"Weight_in_lbs\": 3012, \"Year\": \"1976-01-01T00:00:00\"}, {\"Acceleration\": 17.6, \"Cylinders\": 6, \"Displacement\": 232.0, \"Horsepower\": 90.0, \"Miles_per_Gallon\": 22.5, \"Name\": \"amc hornet\", \"Origin\": \"USA\", \"Weight_in_lbs\": 3085, \"Year\": \"1976-01-01T00:00:00\"}, {\"Acceleration\": 22.2, \"Cylinders\": 4, \"Displacement\": 85.0, \"Horsepower\": 52.0, \"Miles_per_Gallon\": 29.0, \"Name\": \"chevrolet chevette\", \"Origin\": \"USA\", \"Weight_in_lbs\": 2035, \"Year\": \"1976-01-01T00:00:00\"}, {\"Acceleration\": 22.1, \"Cylinders\": 4, \"Displacement\": 98.0, \"Horsepower\": 60.0, \"Miles_per_Gallon\": 24.5, \"Name\": \"chevrolet woody\", \"Origin\": \"USA\", \"Weight_in_lbs\": 2164, \"Year\": \"1976-01-01T00:00:00\"}, {\"Acceleration\": 14.2, \"Cylinders\": 4, \"Displacement\": 90.0, \"Horsepower\": 70.0, \"Miles_per_Gallon\": 29.0, \"Name\": \"vw rabbit\", \"Origin\": \"Europe\", \"Weight_in_lbs\": 1937, \"Year\": \"1976-01-01T00:00:00\"}, {\"Acceleration\": 17.4, \"Cylinders\": 4, \"Displacement\": 91.0, \"Horsepower\": 53.0, \"Miles_per_Gallon\": 33.0, \"Name\": \"honda civic\", \"Origin\": \"Japan\", \"Weight_in_lbs\": 1795, \"Year\": \"1976-01-01T00:00:00\"}, {\"Acceleration\": 17.7, \"Cylinders\": 6, \"Displacement\": 225.0, \"Horsepower\": 100.0, \"Miles_per_Gallon\": 20.0, \"Name\": \"dodge aspen se\", \"Origin\": \"USA\", \"Weight_in_lbs\": 3651, \"Year\": \"1976-01-01T00:00:00\"}, {\"Acceleration\": 21.0, \"Cylinders\": 6, \"Displacement\": 250.0, \"Horsepower\": 78.0, \"Miles_per_Gallon\": 18.0, \"Name\": \"ford granada ghia\", \"Origin\": \"USA\", \"Weight_in_lbs\": 3574, \"Year\": \"1976-01-01T00:00:00\"}, {\"Acceleration\": 16.2, \"Cylinders\": 6, \"Displacement\": 250.0, \"Horsepower\": 110.0, \"Miles_per_Gallon\": 18.5, \"Name\": \"pontiac ventura sj\", \"Origin\": \"USA\", \"Weight_in_lbs\": 3645, \"Year\": \"1976-01-01T00:00:00\"}, {\"Acceleration\": 17.8, \"Cylinders\": 6, \"Displacement\": 258.0, \"Horsepower\": 95.0, \"Miles_per_Gallon\": 17.5, \"Name\": \"amc pacer d/l\", \"Origin\": \"USA\", \"Weight_in_lbs\": 3193, \"Year\": \"1976-01-01T00:00:00\"}, {\"Acceleration\": 12.2, \"Cylinders\": 4, \"Displacement\": 97.0, \"Horsepower\": 71.0, \"Miles_per_Gallon\": 29.5, \"Name\": \"volkswagen rabbit\", \"Origin\": \"Europe\", \"Weight_in_lbs\": 1825, \"Year\": \"1976-01-01T00:00:00\"}, {\"Acceleration\": 17.0, \"Cylinders\": 4, \"Displacement\": 85.0, \"Horsepower\": 70.0, \"Miles_per_Gallon\": 32.0, \"Name\": \"datsun b-210\", \"Origin\": \"Japan\", \"Weight_in_lbs\": 1990, \"Year\": \"1976-01-01T00:00:00\"}, {\"Acceleration\": 16.4, \"Cylinders\": 4, \"Displacement\": 97.0, \"Horsepower\": 75.0, \"Miles_per_Gallon\": 28.0, \"Name\": \"toyota corolla\", \"Origin\": \"Japan\", \"Weight_in_lbs\": 2155, \"Year\": \"1976-01-01T00:00:00\"}, {\"Acceleration\": 13.6, \"Cylinders\": 4, \"Displacement\": 140.0, \"Horsepower\": 72.0, \"Miles_per_Gallon\": 26.5, \"Name\": \"ford pinto\", \"Origin\": \"USA\", \"Weight_in_lbs\": 2565, \"Year\": \"1976-01-01T00:00:00\"}, {\"Acceleration\": 15.7, \"Cylinders\": 4, \"Displacement\": 130.0, \"Horsepower\": 102.0, \"Miles_per_Gallon\": 20.0, \"Name\": \"volvo 245\", \"Origin\": \"Europe\", \"Weight_in_lbs\": 3150, \"Year\": \"1976-01-01T00:00:00\"}, {\"Acceleration\": 13.2, \"Cylinders\": 8, \"Displacement\": 318.0, \"Horsepower\": 150.0, \"Miles_per_Gallon\": 13.0, \"Name\": \"plymouth volare premier v8\", \"Origin\": \"USA\", \"Weight_in_lbs\": 3940, \"Year\": \"1976-01-01T00:00:00\"}, {\"Acceleration\": 21.9, \"Cylinders\": 4, \"Displacement\": 120.0, \"Horsepower\": 88.0, \"Miles_per_Gallon\": 19.0, \"Name\": \"peugeot 504\", \"Origin\": \"Europe\", \"Weight_in_lbs\": 3270, \"Year\": \"1976-01-01T00:00:00\"}, {\"Acceleration\": 15.5, \"Cylinders\": 6, \"Displacement\": 156.0, \"Horsepower\": 108.0, \"Miles_per_Gallon\": 19.0, \"Name\": \"toyota mark ii\", \"Origin\": \"Japan\", \"Weight_in_lbs\": 2930, \"Year\": \"1976-01-01T00:00:00\"}, {\"Acceleration\": 16.7, \"Cylinders\": 6, \"Displacement\": 168.0, \"Horsepower\": 120.0, \"Miles_per_Gallon\": 16.5, \"Name\": \"mercedes-benz 280s\", \"Origin\": \"Europe\", \"Weight_in_lbs\": 3820, \"Year\": \"1976-01-01T00:00:00\"}, {\"Acceleration\": 12.1, \"Cylinders\": 8, \"Displacement\": 350.0, \"Horsepower\": 180.0, \"Miles_per_Gallon\": 16.5, \"Name\": \"cadillac seville\", \"Origin\": \"USA\", \"Weight_in_lbs\": 4380, \"Year\": \"1976-01-01T00:00:00\"}, {\"Acceleration\": 12.0, \"Cylinders\": 8, \"Displacement\": 350.0, \"Horsepower\": 145.0, \"Miles_per_Gallon\": 13.0, \"Name\": \"chevy c10\", \"Origin\": \"USA\", \"Weight_in_lbs\": 4055, \"Year\": \"1976-01-01T00:00:00\"}, {\"Acceleration\": 15.0, \"Cylinders\": 8, \"Displacement\": 302.0, \"Horsepower\": 130.0, \"Miles_per_Gallon\": 13.0, \"Name\": \"ford f108\", \"Origin\": \"USA\", \"Weight_in_lbs\": 3870, \"Year\": \"1976-01-01T00:00:00\"}, {\"Acceleration\": 14.0, \"Cylinders\": 8, \"Displacement\": 318.0, \"Horsepower\": 150.0, \"Miles_per_Gallon\": 13.0, \"Name\": \"dodge d100\", \"Origin\": \"USA\", \"Weight_in_lbs\": 3755, \"Year\": \"1976-01-01T00:00:00\"}, {\"Acceleration\": 18.5, \"Cylinders\": 4, \"Displacement\": 98.0, \"Horsepower\": 68.0, \"Miles_per_Gallon\": 31.5, \"Name\": \"honda Accelerationord cvcc\", \"Origin\": \"Japan\", \"Weight_in_lbs\": 2045, \"Year\": \"1977-01-01T00:00:00\"}, {\"Acceleration\": 14.8, \"Cylinders\": 4, \"Displacement\": 111.0, \"Horsepower\": 80.0, \"Miles_per_Gallon\": 30.0, \"Name\": \"buick opel isuzu deluxe\", \"Origin\": \"USA\", \"Weight_in_lbs\": 2155, \"Year\": \"1977-01-01T00:00:00\"}, {\"Acceleration\": 18.6, \"Cylinders\": 4, \"Displacement\": 79.0, \"Horsepower\": 58.0, \"Miles_per_Gallon\": 36.0, \"Name\": \"renault 5 gtl\", \"Origin\": \"Europe\", \"Weight_in_lbs\": 1825, \"Year\": \"1977-01-01T00:00:00\"}, {\"Acceleration\": 15.5, \"Cylinders\": 4, \"Displacement\": 122.0, \"Horsepower\": 96.0, \"Miles_per_Gallon\": 25.5, \"Name\": \"plymouth arrow gs\", \"Origin\": \"USA\", \"Weight_in_lbs\": 2300, \"Year\": \"1977-01-01T00:00:00\"}, {\"Acceleration\": 16.8, \"Cylinders\": 4, \"Displacement\": 85.0, \"Horsepower\": 70.0, \"Miles_per_Gallon\": 33.5, \"Name\": \"datsun f-10 hatchback\", \"Origin\": \"Japan\", \"Weight_in_lbs\": 1945, \"Year\": \"1977-01-01T00:00:00\"}, {\"Acceleration\": 12.5, \"Cylinders\": 8, \"Displacement\": 305.0, \"Horsepower\": 145.0, \"Miles_per_Gallon\": 17.5, \"Name\": \"chevrolet caprice classic\", \"Origin\": \"USA\", \"Weight_in_lbs\": 3880, \"Year\": \"1977-01-01T00:00:00\"}, {\"Acceleration\": 19.0, \"Cylinders\": 8, \"Displacement\": 260.0, \"Horsepower\": 110.0, \"Miles_per_Gallon\": 17.0, \"Name\": \"oldsmobile cutlass supreme\", \"Origin\": \"USA\", \"Weight_in_lbs\": 4060, \"Year\": \"1977-01-01T00:00:00\"}, {\"Acceleration\": 13.7, \"Cylinders\": 8, \"Displacement\": 318.0, \"Horsepower\": 145.0, \"Miles_per_Gallon\": 15.5, \"Name\": \"dodge monaco brougham\", \"Origin\": \"USA\", \"Weight_in_lbs\": 4140, \"Year\": \"1977-01-01T00:00:00\"}, {\"Acceleration\": 14.9, \"Cylinders\": 8, \"Displacement\": 302.0, \"Horsepower\": 130.0, \"Miles_per_Gallon\": 15.0, \"Name\": \"mercury cougar brougham\", \"Origin\": \"USA\", \"Weight_in_lbs\": 4295, \"Year\": \"1977-01-01T00:00:00\"}, {\"Acceleration\": 16.4, \"Cylinders\": 6, \"Displacement\": 250.0, \"Horsepower\": 110.0, \"Miles_per_Gallon\": 17.5, \"Name\": \"chevrolet concours\", \"Origin\": \"USA\", \"Weight_in_lbs\": 3520, \"Year\": \"1977-01-01T00:00:00\"}, {\"Acceleration\": 16.9, \"Cylinders\": 6, \"Displacement\": 231.0, \"Horsepower\": 105.0, \"Miles_per_Gallon\": 20.5, \"Name\": \"buick skylark\", \"Origin\": \"USA\", \"Weight_in_lbs\": 3425, \"Year\": \"1977-01-01T00:00:00\"}, {\"Acceleration\": 17.7, \"Cylinders\": 6, \"Displacement\": 225.0, \"Horsepower\": 100.0, \"Miles_per_Gallon\": 19.0, \"Name\": \"plymouth volare custom\", \"Origin\": \"USA\", \"Weight_in_lbs\": 3630, \"Year\": \"1977-01-01T00:00:00\"}, {\"Acceleration\": 19.0, \"Cylinders\": 6, \"Displacement\": 250.0, \"Horsepower\": 98.0, \"Miles_per_Gallon\": 18.5, \"Name\": \"ford granada\", \"Origin\": \"USA\", \"Weight_in_lbs\": 3525, \"Year\": \"1977-01-01T00:00:00\"}, {\"Acceleration\": 11.1, \"Cylinders\": 8, \"Displacement\": 400.0, \"Horsepower\": 180.0, \"Miles_per_Gallon\": 16.0, \"Name\": \"pontiac grand prix lj\", \"Origin\": \"USA\", \"Weight_in_lbs\": 4220, \"Year\": \"1977-01-01T00:00:00\"}, {\"Acceleration\": 11.4, \"Cylinders\": 8, \"Displacement\": 350.0, \"Horsepower\": 170.0, \"Miles_per_Gallon\": 15.5, \"Name\": \"chevrolet monte carlo landau\", \"Origin\": \"USA\", \"Weight_in_lbs\": 4165, \"Year\": \"1977-01-01T00:00:00\"}, {\"Acceleration\": 12.2, \"Cylinders\": 8, \"Displacement\": 400.0, \"Horsepower\": 190.0, \"Miles_per_Gallon\": 15.5, \"Name\": \"chrysler cordoba\", \"Origin\": \"USA\", \"Weight_in_lbs\": 4325, \"Year\": \"1977-01-01T00:00:00\"}, {\"Acceleration\": 14.5, \"Cylinders\": 8, \"Displacement\": 351.0, \"Horsepower\": 149.0, \"Miles_per_Gallon\": 16.0, \"Name\": \"ford thunderbird\", \"Origin\": \"USA\", \"Weight_in_lbs\": 4335, \"Year\": \"1977-01-01T00:00:00\"}, {\"Acceleration\": 14.5, \"Cylinders\": 4, \"Displacement\": 97.0, \"Horsepower\": 78.0, \"Miles_per_Gallon\": 29.0, \"Name\": \"volkswagen rabbit custom\", \"Origin\": \"Europe\", \"Weight_in_lbs\": 1940, \"Year\": \"1977-01-01T00:00:00\"}, {\"Acceleration\": 16.0, \"Cylinders\": 4, \"Displacement\": 151.0, \"Horsepower\": 88.0, \"Miles_per_Gallon\": 24.5, \"Name\": \"pontiac sunbird coupe\", \"Origin\": \"USA\", \"Weight_in_lbs\": 2740, \"Year\": \"1977-01-01T00:00:00\"}, {\"Acceleration\": 18.2, \"Cylinders\": 4, \"Displacement\": 97.0, \"Horsepower\": 75.0, \"Miles_per_Gallon\": 26.0, \"Name\": \"toyota corolla liftback\", \"Origin\": \"Japan\", \"Weight_in_lbs\": 2265, \"Year\": \"1977-01-01T00:00:00\"}, {\"Acceleration\": 15.8, \"Cylinders\": 4, \"Displacement\": 140.0, \"Horsepower\": 89.0, \"Miles_per_Gallon\": 25.5, \"Name\": \"ford mustang ii 2+2\", \"Origin\": \"USA\", \"Weight_in_lbs\": 2755, \"Year\": \"1977-01-01T00:00:00\"}, {\"Acceleration\": 17.0, \"Cylinders\": 4, \"Displacement\": 98.0, \"Horsepower\": 63.0, \"Miles_per_Gallon\": 30.5, \"Name\": \"chevrolet chevette\", \"Origin\": \"USA\", \"Weight_in_lbs\": 2051, \"Year\": \"1977-01-01T00:00:00\"}, {\"Acceleration\": 15.9, \"Cylinders\": 4, \"Displacement\": 98.0, \"Horsepower\": 83.0, \"Miles_per_Gallon\": 33.5, \"Name\": \"dodge colt m/m\", \"Origin\": \"USA\", \"Weight_in_lbs\": 2075, \"Year\": \"1977-01-01T00:00:00\"}, {\"Acceleration\": 16.4, \"Cylinders\": 4, \"Displacement\": 97.0, \"Horsepower\": 67.0, \"Miles_per_Gallon\": 30.0, \"Name\": \"subaru dl\", \"Origin\": \"Japan\", \"Weight_in_lbs\": 1985, \"Year\": \"1977-01-01T00:00:00\"}, {\"Acceleration\": 14.1, \"Cylinders\": 4, \"Displacement\": 97.0, \"Horsepower\": 78.0, \"Miles_per_Gallon\": 30.5, \"Name\": \"volkswagen dasher\", \"Origin\": \"Europe\", \"Weight_in_lbs\": 2190, \"Year\": \"1977-01-01T00:00:00\"}, {\"Acceleration\": 14.5, \"Cylinders\": 6, \"Displacement\": 146.0, \"Horsepower\": 97.0, \"Miles_per_Gallon\": 22.0, \"Name\": \"datsun 810\", \"Origin\": \"Japan\", \"Weight_in_lbs\": 2815, \"Year\": \"1977-01-01T00:00:00\"}, {\"Acceleration\": 12.8, \"Cylinders\": 4, \"Displacement\": 121.0, \"Horsepower\": 110.0, \"Miles_per_Gallon\": 21.5, \"Name\": \"bmw 320i\", \"Origin\": \"Europe\", \"Weight_in_lbs\": 2600, \"Year\": \"1977-01-01T00:00:00\"}, {\"Acceleration\": 13.5, \"Cylinders\": 3, \"Displacement\": 80.0, \"Horsepower\": 110.0, \"Miles_per_Gallon\": 21.5, \"Name\": \"mazda rx-4\", \"Origin\": \"Japan\", \"Weight_in_lbs\": 2720, \"Year\": \"1977-01-01T00:00:00\"}, {\"Acceleration\": 21.5, \"Cylinders\": 4, \"Displacement\": 90.0, \"Horsepower\": 48.0, \"Miles_per_Gallon\": 43.1, \"Name\": \"volkswagen rabbit custom diesel\", \"Origin\": \"Europe\", \"Weight_in_lbs\": 1985, \"Year\": \"1978-01-01T00:00:00\"}, {\"Acceleration\": 14.4, \"Cylinders\": 4, \"Displacement\": 98.0, \"Horsepower\": 66.0, \"Miles_per_Gallon\": 36.1, \"Name\": \"ford fiesta\", \"Origin\": \"USA\", \"Weight_in_lbs\": 1800, \"Year\": \"1978-01-01T00:00:00\"}, {\"Acceleration\": 19.4, \"Cylinders\": 4, \"Displacement\": 78.0, \"Horsepower\": 52.0, \"Miles_per_Gallon\": 32.8, \"Name\": \"mazda glc deluxe\", \"Origin\": \"Japan\", \"Weight_in_lbs\": 1985, \"Year\": \"1978-01-01T00:00:00\"}, {\"Acceleration\": 18.6, \"Cylinders\": 4, \"Displacement\": 85.0, \"Horsepower\": 70.0, \"Miles_per_Gallon\": 39.4, \"Name\": \"datsun b210 gx\", \"Origin\": \"Japan\", \"Weight_in_lbs\": 2070, \"Year\": \"1978-01-01T00:00:00\"}, {\"Acceleration\": 16.4, \"Cylinders\": 4, \"Displacement\": 91.0, \"Horsepower\": 60.0, \"Miles_per_Gallon\": 36.1, \"Name\": \"honda civic cvcc\", \"Origin\": \"Japan\", \"Weight_in_lbs\": 1800, \"Year\": \"1978-01-01T00:00:00\"}, {\"Acceleration\": 15.5, \"Cylinders\": 8, \"Displacement\": 260.0, \"Horsepower\": 110.0, \"Miles_per_Gallon\": 19.9, \"Name\": \"oldsmobile cutlass salon brougham\", \"Origin\": \"USA\", \"Weight_in_lbs\": 3365, \"Year\": \"1978-01-01T00:00:00\"}, {\"Acceleration\": 13.2, \"Cylinders\": 8, \"Displacement\": 318.0, \"Horsepower\": 140.0, \"Miles_per_Gallon\": 19.4, \"Name\": \"dodge diplomat\", \"Origin\": \"USA\", \"Weight_in_lbs\": 3735, \"Year\": \"1978-01-01T00:00:00\"}, {\"Acceleration\": 12.8, \"Cylinders\": 8, \"Displacement\": 302.0, \"Horsepower\": 139.0, \"Miles_per_Gallon\": 20.2, \"Name\": \"mercury monarch ghia\", \"Origin\": \"USA\", \"Weight_in_lbs\": 3570, \"Year\": \"1978-01-01T00:00:00\"}, {\"Acceleration\": 19.2, \"Cylinders\": 6, \"Displacement\": 231.0, \"Horsepower\": 105.0, \"Miles_per_Gallon\": 19.2, \"Name\": \"pontiac phoenix lj\", \"Origin\": \"USA\", \"Weight_in_lbs\": 3535, \"Year\": \"1978-01-01T00:00:00\"}, {\"Acceleration\": 18.2, \"Cylinders\": 6, \"Displacement\": 200.0, \"Horsepower\": 95.0, \"Miles_per_Gallon\": 20.5, \"Name\": \"chevrolet malibu\", \"Origin\": \"USA\", \"Weight_in_lbs\": 3155, \"Year\": \"1978-01-01T00:00:00\"}, {\"Acceleration\": 15.8, \"Cylinders\": 6, \"Displacement\": 200.0, \"Horsepower\": 85.0, \"Miles_per_Gallon\": 20.2, \"Name\": \"ford fairmont (auto)\", \"Origin\": \"USA\", \"Weight_in_lbs\": 2965, \"Year\": \"1978-01-01T00:00:00\"}, {\"Acceleration\": 15.4, \"Cylinders\": 4, \"Displacement\": 140.0, \"Horsepower\": 88.0, \"Miles_per_Gallon\": 25.1, \"Name\": \"ford fairmont (man)\", \"Origin\": \"USA\", \"Weight_in_lbs\": 2720, \"Year\": \"1978-01-01T00:00:00\"}, {\"Acceleration\": 17.2, \"Cylinders\": 6, \"Displacement\": 225.0, \"Horsepower\": 100.0, \"Miles_per_Gallon\": 20.5, \"Name\": \"plymouth volare\", \"Origin\": \"USA\", \"Weight_in_lbs\": 3430, \"Year\": \"1978-01-01T00:00:00\"}, {\"Acceleration\": 17.2, \"Cylinders\": 6, \"Displacement\": 232.0, \"Horsepower\": 90.0, \"Miles_per_Gallon\": 19.4, \"Name\": \"amc concord\", \"Origin\": \"USA\", \"Weight_in_lbs\": 3210, \"Year\": \"1978-01-01T00:00:00\"}, {\"Acceleration\": 15.8, \"Cylinders\": 6, \"Displacement\": 231.0, \"Horsepower\": 105.0, \"Miles_per_Gallon\": 20.6, \"Name\": \"buick century special\", \"Origin\": \"USA\", \"Weight_in_lbs\": 3380, \"Year\": \"1978-01-01T00:00:00\"}, {\"Acceleration\": 16.7, \"Cylinders\": 6, \"Displacement\": 200.0, \"Horsepower\": 85.0, \"Miles_per_Gallon\": 20.8, \"Name\": \"mercury zephyr\", \"Origin\": \"USA\", \"Weight_in_lbs\": 3070, \"Year\": \"1978-01-01T00:00:00\"}, {\"Acceleration\": 18.7, \"Cylinders\": 6, \"Displacement\": 225.0, \"Horsepower\": 110.0, \"Miles_per_Gallon\": 18.6, \"Name\": \"dodge aspen\", \"Origin\": \"USA\", \"Weight_in_lbs\": 3620, \"Year\": \"1978-01-01T00:00:00\"}, {\"Acceleration\": 15.1, \"Cylinders\": 6, \"Displacement\": 258.0, \"Horsepower\": 120.0, \"Miles_per_Gallon\": 18.1, \"Name\": \"amc concord d/l\", \"Origin\": \"USA\", \"Weight_in_lbs\": 3410, \"Year\": \"1978-01-01T00:00:00\"}, {\"Acceleration\": 13.2, \"Cylinders\": 8, \"Displacement\": 305.0, \"Horsepower\": 145.0, \"Miles_per_Gallon\": 19.2, \"Name\": \"chevrolet monte carlo landau\", \"Origin\": \"USA\", \"Weight_in_lbs\": 3425, \"Year\": \"1978-01-01T00:00:00\"}, {\"Acceleration\": 13.4, \"Cylinders\": 6, \"Displacement\": 231.0, \"Horsepower\": 165.0, \"Miles_per_Gallon\": 17.7, \"Name\": \"buick regal sport coupe (turbo)\", \"Origin\": \"USA\", \"Weight_in_lbs\": 3445, \"Year\": \"1978-01-01T00:00:00\"}, {\"Acceleration\": 11.2, \"Cylinders\": 8, \"Displacement\": 302.0, \"Horsepower\": 139.0, \"Miles_per_Gallon\": 18.1, \"Name\": \"ford futura\", \"Origin\": \"USA\", \"Weight_in_lbs\": 3205, \"Year\": \"1978-01-01T00:00:00\"}, {\"Acceleration\": 13.7, \"Cylinders\": 8, \"Displacement\": 318.0, \"Horsepower\": 140.0, \"Miles_per_Gallon\": 17.5, \"Name\": \"dodge magnum xe\", \"Origin\": \"USA\", \"Weight_in_lbs\": 4080, \"Year\": \"1978-01-01T00:00:00\"}, {\"Acceleration\": 16.5, \"Cylinders\": 4, \"Displacement\": 98.0, \"Horsepower\": 68.0, \"Miles_per_Gallon\": 30.0, \"Name\": \"chevrolet chevette\", \"Origin\": \"USA\", \"Weight_in_lbs\": 2155, \"Year\": \"1978-01-01T00:00:00\"}, {\"Acceleration\": 14.2, \"Cylinders\": 4, \"Displacement\": 134.0, \"Horsepower\": 95.0, \"Miles_per_Gallon\": 27.5, \"Name\": \"toyota corona\", \"Origin\": \"Japan\", \"Weight_in_lbs\": 2560, \"Year\": \"1978-01-01T00:00:00\"}, {\"Acceleration\": 14.7, \"Cylinders\": 4, \"Displacement\": 119.0, \"Horsepower\": 97.0, \"Miles_per_Gallon\": 27.2, \"Name\": \"datsun 510\", \"Origin\": \"Japan\", \"Weight_in_lbs\": 2300, \"Year\": \"1978-01-01T00:00:00\"}, {\"Acceleration\": 14.5, \"Cylinders\": 4, \"Displacement\": 105.0, \"Horsepower\": 75.0, \"Miles_per_Gallon\": 30.9, \"Name\": \"dodge omni\", \"Origin\": \"USA\", \"Weight_in_lbs\": 2230, \"Year\": \"1978-01-01T00:00:00\"}, {\"Acceleration\": 14.8, \"Cylinders\": 4, \"Displacement\": 134.0, \"Horsepower\": 95.0, \"Miles_per_Gallon\": 21.1, \"Name\": \"toyota celica gt liftback\", \"Origin\": \"Japan\", \"Weight_in_lbs\": 2515, \"Year\": \"1978-01-01T00:00:00\"}, {\"Acceleration\": 16.7, \"Cylinders\": 4, \"Displacement\": 156.0, \"Horsepower\": 105.0, \"Miles_per_Gallon\": 23.2, \"Name\": \"plymouth sapporo\", \"Origin\": \"USA\", \"Weight_in_lbs\": 2745, \"Year\": \"1978-01-01T00:00:00\"}, {\"Acceleration\": 17.6, \"Cylinders\": 4, \"Displacement\": 151.0, \"Horsepower\": 85.0, \"Miles_per_Gallon\": 23.8, \"Name\": \"oldsmobile starfire sx\", \"Origin\": \"USA\", \"Weight_in_lbs\": 2855, \"Year\": \"1978-01-01T00:00:00\"}, {\"Acceleration\": 14.9, \"Cylinders\": 4, \"Displacement\": 119.0, \"Horsepower\": 97.0, \"Miles_per_Gallon\": 23.9, \"Name\": \"datsun 200-sx\", \"Origin\": \"Japan\", \"Weight_in_lbs\": 2405, \"Year\": \"1978-01-01T00:00:00\"}, {\"Acceleration\": 15.9, \"Cylinders\": 5, \"Displacement\": 131.0, \"Horsepower\": 103.0, \"Miles_per_Gallon\": 20.3, \"Name\": \"audi 5000\", \"Origin\": \"Europe\", \"Weight_in_lbs\": 2830, \"Year\": \"1978-01-01T00:00:00\"}, {\"Acceleration\": 13.6, \"Cylinders\": 6, \"Displacement\": 163.0, \"Horsepower\": 125.0, \"Miles_per_Gallon\": 17.0, \"Name\": \"volvo 264gl\", \"Origin\": \"Europe\", \"Weight_in_lbs\": 3140, \"Year\": \"1978-01-01T00:00:00\"}, {\"Acceleration\": 15.7, \"Cylinders\": 4, \"Displacement\": 121.0, \"Horsepower\": 115.0, \"Miles_per_Gallon\": 21.6, \"Name\": \"saab 99gle\", \"Origin\": \"Europe\", \"Weight_in_lbs\": 2795, \"Year\": \"1978-01-01T00:00:00\"}, {\"Acceleration\": 15.8, \"Cylinders\": 6, \"Displacement\": 163.0, \"Horsepower\": 133.0, \"Miles_per_Gallon\": 16.2, \"Name\": \"peugeot 604sl\", \"Origin\": \"Europe\", \"Weight_in_lbs\": 3410, \"Year\": \"1978-01-01T00:00:00\"}, {\"Acceleration\": 14.9, \"Cylinders\": 4, \"Displacement\": 89.0, \"Horsepower\": 71.0, \"Miles_per_Gallon\": 31.5, \"Name\": \"volkswagen scirocco\", \"Origin\": \"Europe\", \"Weight_in_lbs\": 1990, \"Year\": \"1978-01-01T00:00:00\"}, {\"Acceleration\": 16.6, \"Cylinders\": 4, \"Displacement\": 98.0, \"Horsepower\": 68.0, \"Miles_per_Gallon\": 29.5, \"Name\": \"honda Accelerationord lx\", \"Origin\": \"Japan\", \"Weight_in_lbs\": 2135, \"Year\": \"1978-01-01T00:00:00\"}, {\"Acceleration\": 15.4, \"Cylinders\": 6, \"Displacement\": 231.0, \"Horsepower\": 115.0, \"Miles_per_Gallon\": 21.5, \"Name\": \"pontiac lemans v6\", \"Origin\": \"USA\", \"Weight_in_lbs\": 3245, \"Year\": \"1979-01-01T00:00:00\"}, {\"Acceleration\": 18.2, \"Cylinders\": 6, \"Displacement\": 200.0, \"Horsepower\": 85.0, \"Miles_per_Gallon\": 19.8, \"Name\": \"mercury zephyr 6\", \"Origin\": \"USA\", \"Weight_in_lbs\": 2990, \"Year\": \"1979-01-01T00:00:00\"}, {\"Acceleration\": 17.3, \"Cylinders\": 4, \"Displacement\": 140.0, \"Horsepower\": 88.0, \"Miles_per_Gallon\": 22.3, \"Name\": \"ford fairmont 4\", \"Origin\": \"USA\", \"Weight_in_lbs\": 2890, \"Year\": \"1979-01-01T00:00:00\"}, {\"Acceleration\": 18.2, \"Cylinders\": 6, \"Displacement\": 232.0, \"Horsepower\": 90.0, \"Miles_per_Gallon\": 20.2, \"Name\": \"amc concord dl 6\", \"Origin\": \"USA\", \"Weight_in_lbs\": 3265, \"Year\": \"1979-01-01T00:00:00\"}, {\"Acceleration\": 16.6, \"Cylinders\": 6, \"Displacement\": 225.0, \"Horsepower\": 110.0, \"Miles_per_Gallon\": 20.6, \"Name\": \"dodge aspen 6\", \"Origin\": \"USA\", \"Weight_in_lbs\": 3360, \"Year\": \"1979-01-01T00:00:00\"}, {\"Acceleration\": 15.4, \"Cylinders\": 8, \"Displacement\": 305.0, \"Horsepower\": 130.0, \"Miles_per_Gallon\": 17.0, \"Name\": \"chevrolet caprice classic\", \"Origin\": \"USA\", \"Weight_in_lbs\": 3840, \"Year\": \"1979-01-01T00:00:00\"}, {\"Acceleration\": 13.4, \"Cylinders\": 8, \"Displacement\": 302.0, \"Horsepower\": 129.0, \"Miles_per_Gallon\": 17.6, \"Name\": \"ford ltd landau\", \"Origin\": \"USA\", \"Weight_in_lbs\": 3725, \"Year\": \"1979-01-01T00:00:00\"}, {\"Acceleration\": 13.2, \"Cylinders\": 8, \"Displacement\": 351.0, \"Horsepower\": 138.0, \"Miles_per_Gallon\": 16.5, \"Name\": \"mercury grand marquis\", \"Origin\": \"USA\", \"Weight_in_lbs\": 3955, \"Year\": \"1979-01-01T00:00:00\"}, {\"Acceleration\": 15.2, \"Cylinders\": 8, \"Displacement\": 318.0, \"Horsepower\": 135.0, \"Miles_per_Gallon\": 18.2, \"Name\": \"dodge st. regis\", \"Origin\": \"USA\", \"Weight_in_lbs\": 3830, \"Year\": \"1979-01-01T00:00:00\"}, {\"Acceleration\": 14.9, \"Cylinders\": 8, \"Displacement\": 350.0, \"Horsepower\": 155.0, \"Miles_per_Gallon\": 16.9, \"Name\": \"buick estate wagon (sw)\", \"Origin\": \"USA\", \"Weight_in_lbs\": 4360, \"Year\": \"1979-01-01T00:00:00\"}, {\"Acceleration\": 14.3, \"Cylinders\": 8, \"Displacement\": 351.0, \"Horsepower\": 142.0, \"Miles_per_Gallon\": 15.5, \"Name\": \"ford country squire (sw)\", \"Origin\": \"USA\", \"Weight_in_lbs\": 4054, \"Year\": \"1979-01-01T00:00:00\"}, {\"Acceleration\": 15.0, \"Cylinders\": 8, \"Displacement\": 267.0, \"Horsepower\": 125.0, \"Miles_per_Gallon\": 19.2, \"Name\": \"chevrolet malibu classic (sw)\", \"Origin\": \"USA\", \"Weight_in_lbs\": 3605, \"Year\": \"1979-01-01T00:00:00\"}, {\"Acceleration\": 13.0, \"Cylinders\": 8, \"Displacement\": 360.0, \"Horsepower\": 150.0, \"Miles_per_Gallon\": 18.5, \"Name\": \"chrysler lebaron town @ country (sw)\", \"Origin\": \"USA\", \"Weight_in_lbs\": 3940, \"Year\": \"1979-01-01T00:00:00\"}, {\"Acceleration\": 14.0, \"Cylinders\": 4, \"Displacement\": 89.0, \"Horsepower\": 71.0, \"Miles_per_Gallon\": 31.9, \"Name\": \"vw rabbit custom\", \"Origin\": \"Europe\", \"Weight_in_lbs\": 1925, \"Year\": \"1979-01-01T00:00:00\"}, {\"Acceleration\": 15.2, \"Cylinders\": 4, \"Displacement\": 86.0, \"Horsepower\": 65.0, \"Miles_per_Gallon\": 34.1, \"Name\": \"maxda glc deluxe\", \"Origin\": \"Japan\", \"Weight_in_lbs\": 1975, \"Year\": \"1979-01-01T00:00:00\"}, {\"Acceleration\": 14.4, \"Cylinders\": 4, \"Displacement\": 98.0, \"Horsepower\": 80.0, \"Miles_per_Gallon\": 35.7, \"Name\": \"dodge colt hatchback custom\", \"Origin\": \"USA\", \"Weight_in_lbs\": 1915, \"Year\": \"1979-01-01T00:00:00\"}, {\"Acceleration\": 15.0, \"Cylinders\": 4, \"Displacement\": 121.0, \"Horsepower\": 80.0, \"Miles_per_Gallon\": 27.4, \"Name\": \"amc spirit dl\", \"Origin\": \"USA\", \"Weight_in_lbs\": 2670, \"Year\": \"1979-01-01T00:00:00\"}, {\"Acceleration\": 20.1, \"Cylinders\": 5, \"Displacement\": 183.0, \"Horsepower\": 77.0, \"Miles_per_Gallon\": 25.4, \"Name\": \"mercedes benz 300d\", \"Origin\": \"Europe\", \"Weight_in_lbs\": 3530, \"Year\": \"1979-01-01T00:00:00\"}, {\"Acceleration\": 17.4, \"Cylinders\": 8, \"Displacement\": 350.0, \"Horsepower\": 125.0, \"Miles_per_Gallon\": 23.0, \"Name\": \"cadillac eldorado\", \"Origin\": \"USA\", \"Weight_in_lbs\": 3900, \"Year\": \"1979-01-01T00:00:00\"}, {\"Acceleration\": 24.8, \"Cylinders\": 4, \"Displacement\": 141.0, \"Horsepower\": 71.0, \"Miles_per_Gallon\": 27.2, \"Name\": \"peugeot 504\", \"Origin\": \"Europe\", \"Weight_in_lbs\": 3190, \"Year\": \"1979-01-01T00:00:00\"}, {\"Acceleration\": 22.2, \"Cylinders\": 8, \"Displacement\": 260.0, \"Horsepower\": 90.0, \"Miles_per_Gallon\": 23.9, \"Name\": \"oldsmobile cutlass salon brougham\", \"Origin\": \"USA\", \"Weight_in_lbs\": 3420, \"Year\": \"1979-01-01T00:00:00\"}, {\"Acceleration\": 13.2, \"Cylinders\": 4, \"Displacement\": 105.0, \"Horsepower\": 70.0, \"Miles_per_Gallon\": 34.2, \"Name\": \"plymouth horizon\", \"Origin\": \"USA\", \"Weight_in_lbs\": 2200, \"Year\": \"1979-01-01T00:00:00\"}, {\"Acceleration\": 14.9, \"Cylinders\": 4, \"Displacement\": 105.0, \"Horsepower\": 70.0, \"Miles_per_Gallon\": 34.5, \"Name\": \"plymouth horizon tc3\", \"Origin\": \"USA\", \"Weight_in_lbs\": 2150, \"Year\": \"1979-01-01T00:00:00\"}, {\"Acceleration\": 19.2, \"Cylinders\": 4, \"Displacement\": 85.0, \"Horsepower\": 65.0, \"Miles_per_Gallon\": 31.8, \"Name\": \"datsun 210\", \"Origin\": \"Japan\", \"Weight_in_lbs\": 2020, \"Year\": \"1979-01-01T00:00:00\"}, {\"Acceleration\": 14.7, \"Cylinders\": 4, \"Displacement\": 91.0, \"Horsepower\": 69.0, \"Miles_per_Gallon\": 37.3, \"Name\": \"fiat strada custom\", \"Origin\": \"Europe\", \"Weight_in_lbs\": 2130, \"Year\": \"1979-01-01T00:00:00\"}, {\"Acceleration\": 16.0, \"Cylinders\": 4, \"Displacement\": 151.0, \"Horsepower\": 90.0, \"Miles_per_Gallon\": 28.4, \"Name\": \"buick skylark limited\", \"Origin\": \"USA\", \"Weight_in_lbs\": 2670, \"Year\": \"1979-01-01T00:00:00\"}, {\"Acceleration\": 11.3, \"Cylinders\": 6, \"Displacement\": 173.0, \"Horsepower\": 115.0, \"Miles_per_Gallon\": 28.8, \"Name\": \"chevrolet citation\", \"Origin\": \"USA\", \"Weight_in_lbs\": 2595, \"Year\": \"1979-01-01T00:00:00\"}, {\"Acceleration\": 12.9, \"Cylinders\": 6, \"Displacement\": 173.0, \"Horsepower\": 115.0, \"Miles_per_Gallon\": 26.8, \"Name\": \"oldsmobile omega brougham\", \"Origin\": \"USA\", \"Weight_in_lbs\": 2700, \"Year\": \"1979-01-01T00:00:00\"}, {\"Acceleration\": 13.2, \"Cylinders\": 4, \"Displacement\": 151.0, \"Horsepower\": 90.0, \"Miles_per_Gallon\": 33.5, \"Name\": \"pontiac phoenix\", \"Origin\": \"USA\", \"Weight_in_lbs\": 2556, \"Year\": \"1979-01-01T00:00:00\"}, {\"Acceleration\": 14.7, \"Cylinders\": 4, \"Displacement\": 98.0, \"Horsepower\": 76.0, \"Miles_per_Gallon\": 41.5, \"Name\": \"vw rabbit\", \"Origin\": \"Europe\", \"Weight_in_lbs\": 2144, \"Year\": \"1980-01-01T00:00:00\"}, {\"Acceleration\": 18.8, \"Cylinders\": 4, \"Displacement\": 89.0, \"Horsepower\": 60.0, \"Miles_per_Gallon\": 38.1, \"Name\": \"toyota corolla tercel\", \"Origin\": \"Japan\", \"Weight_in_lbs\": 1968, \"Year\": \"1980-01-01T00:00:00\"}, {\"Acceleration\": 15.5, \"Cylinders\": 4, \"Displacement\": 98.0, \"Horsepower\": 70.0, \"Miles_per_Gallon\": 32.1, \"Name\": \"chevrolet chevette\", \"Origin\": \"USA\", \"Weight_in_lbs\": 2120, \"Year\": \"1980-01-01T00:00:00\"}, {\"Acceleration\": 16.4, \"Cylinders\": 4, \"Displacement\": 86.0, \"Horsepower\": 65.0, \"Miles_per_Gallon\": 37.2, \"Name\": \"datsun 310\", \"Origin\": \"Japan\", \"Weight_in_lbs\": 2019, \"Year\": \"1980-01-01T00:00:00\"}, {\"Acceleration\": 16.5, \"Cylinders\": 4, \"Displacement\": 151.0, \"Horsepower\": 90.0, \"Miles_per_Gallon\": 28.0, \"Name\": \"chevrolet citation\", \"Origin\": \"USA\", \"Weight_in_lbs\": 2678, \"Year\": \"1980-01-01T00:00:00\"}, {\"Acceleration\": 18.1, \"Cylinders\": 4, \"Displacement\": 140.0, \"Horsepower\": 88.0, \"Miles_per_Gallon\": 26.4, \"Name\": \"ford fairmont\", \"Origin\": \"USA\", \"Weight_in_lbs\": 2870, \"Year\": \"1980-01-01T00:00:00\"}, {\"Acceleration\": 20.1, \"Cylinders\": 4, \"Displacement\": 151.0, \"Horsepower\": 90.0, \"Miles_per_Gallon\": 24.3, \"Name\": \"amc concord\", \"Origin\": \"USA\", \"Weight_in_lbs\": 3003, \"Year\": \"1980-01-01T00:00:00\"}, {\"Acceleration\": 18.7, \"Cylinders\": 6, \"Displacement\": 225.0, \"Horsepower\": 90.0, \"Miles_per_Gallon\": 19.1, \"Name\": \"dodge aspen\", \"Origin\": \"USA\", \"Weight_in_lbs\": 3381, \"Year\": \"1980-01-01T00:00:00\"}, {\"Acceleration\": 15.8, \"Cylinders\": 4, \"Displacement\": 97.0, \"Horsepower\": 78.0, \"Miles_per_Gallon\": 34.3, \"Name\": \"audi 4000\", \"Origin\": \"Europe\", \"Weight_in_lbs\": 2188, \"Year\": \"1980-01-01T00:00:00\"}, {\"Acceleration\": 15.5, \"Cylinders\": 4, \"Displacement\": 134.0, \"Horsepower\": 90.0, \"Miles_per_Gallon\": 29.8, \"Name\": \"toyota corona liftback\", \"Origin\": \"Japan\", \"Weight_in_lbs\": 2711, \"Year\": \"1980-01-01T00:00:00\"}, {\"Acceleration\": 17.5, \"Cylinders\": 4, \"Displacement\": 120.0, \"Horsepower\": 75.0, \"Miles_per_Gallon\": 31.3, \"Name\": \"mazda 626\", \"Origin\": \"Japan\", \"Weight_in_lbs\": 2542, \"Year\": \"1980-01-01T00:00:00\"}, {\"Acceleration\": 15.0, \"Cylinders\": 4, \"Displacement\": 119.0, \"Horsepower\": 92.0, \"Miles_per_Gallon\": 37.0, \"Name\": \"datsun 510 hatchback\", \"Origin\": \"Japan\", \"Weight_in_lbs\": 2434, \"Year\": \"1980-01-01T00:00:00\"}, {\"Acceleration\": 15.2, \"Cylinders\": 4, \"Displacement\": 108.0, \"Horsepower\": 75.0, \"Miles_per_Gallon\": 32.2, \"Name\": \"toyota corolla\", \"Origin\": \"Japan\", \"Weight_in_lbs\": 2265, \"Year\": \"1980-01-01T00:00:00\"}, {\"Acceleration\": 17.9, \"Cylinders\": 4, \"Displacement\": 86.0, \"Horsepower\": 65.0, \"Miles_per_Gallon\": 46.6, \"Name\": \"mazda glc\", \"Origin\": \"Japan\", \"Weight_in_lbs\": 2110, \"Year\": \"1980-01-01T00:00:00\"}, {\"Acceleration\": 14.4, \"Cylinders\": 4, \"Displacement\": 156.0, \"Horsepower\": 105.0, \"Miles_per_Gallon\": 27.9, \"Name\": \"dodge colt\", \"Origin\": \"USA\", \"Weight_in_lbs\": 2800, \"Year\": \"1980-01-01T00:00:00\"}, {\"Acceleration\": 19.2, \"Cylinders\": 4, \"Displacement\": 85.0, \"Horsepower\": 65.0, \"Miles_per_Gallon\": 40.8, \"Name\": \"datsun 210\", \"Origin\": \"Japan\", \"Weight_in_lbs\": 2110, \"Year\": \"1980-01-01T00:00:00\"}, {\"Acceleration\": 21.7, \"Cylinders\": 4, \"Displacement\": 90.0, \"Horsepower\": 48.0, \"Miles_per_Gallon\": 44.3, \"Name\": \"vw rabbit c (diesel)\", \"Origin\": \"Europe\", \"Weight_in_lbs\": 2085, \"Year\": \"1980-01-01T00:00:00\"}, {\"Acceleration\": 23.7, \"Cylinders\": 4, \"Displacement\": 90.0, \"Horsepower\": 48.0, \"Miles_per_Gallon\": 43.4, \"Name\": \"vw dasher (diesel)\", \"Origin\": \"Europe\", \"Weight_in_lbs\": 2335, \"Year\": \"1980-01-01T00:00:00\"}, {\"Acceleration\": 19.9, \"Cylinders\": 5, \"Displacement\": 121.0, \"Horsepower\": 67.0, \"Miles_per_Gallon\": 36.4, \"Name\": \"audi 5000s (diesel)\", \"Origin\": \"Europe\", \"Weight_in_lbs\": 2950, \"Year\": \"1980-01-01T00:00:00\"}, {\"Acceleration\": 21.8, \"Cylinders\": 4, \"Displacement\": 146.0, \"Horsepower\": 67.0, \"Miles_per_Gallon\": 30.0, \"Name\": \"mercedes-benz 240d\", \"Origin\": \"Europe\", \"Weight_in_lbs\": 3250, \"Year\": \"1980-01-01T00:00:00\"}, {\"Acceleration\": 13.8, \"Cylinders\": 4, \"Displacement\": 91.0, \"Horsepower\": 67.0, \"Miles_per_Gallon\": 44.6, \"Name\": \"honda civic 1500 gl\", \"Origin\": \"Japan\", \"Weight_in_lbs\": 1850, \"Year\": \"1980-01-01T00:00:00\"}, {\"Acceleration\": 17.3, \"Cylinders\": 4, \"Displacement\": 85.0, \"Horsepower\": null, \"Miles_per_Gallon\": 40.9, \"Name\": \"renault lecar deluxe\", \"Origin\": \"Europe\", \"Weight_in_lbs\": 1835, \"Year\": \"1980-01-01T00:00:00\"}, {\"Acceleration\": 18.0, \"Cylinders\": 4, \"Displacement\": 97.0, \"Horsepower\": 67.0, \"Miles_per_Gallon\": 33.8, \"Name\": \"subaru dl\", \"Origin\": \"Japan\", \"Weight_in_lbs\": 2145, \"Year\": \"1980-01-01T00:00:00\"}, {\"Acceleration\": 15.3, \"Cylinders\": 4, \"Displacement\": 89.0, \"Horsepower\": 62.0, \"Miles_per_Gallon\": 29.8, \"Name\": \"vokswagen rabbit\", \"Origin\": \"Europe\", \"Weight_in_lbs\": 1845, \"Year\": \"1980-01-01T00:00:00\"}, {\"Acceleration\": 11.4, \"Cylinders\": 6, \"Displacement\": 168.0, \"Horsepower\": 132.0, \"Miles_per_Gallon\": 32.7, \"Name\": \"datsun 280-zx\", \"Origin\": \"Japan\", \"Weight_in_lbs\": 2910, \"Year\": \"1980-01-01T00:00:00\"}, {\"Acceleration\": 12.5, \"Cylinders\": 3, \"Displacement\": 70.0, \"Horsepower\": 100.0, \"Miles_per_Gallon\": 23.7, \"Name\": \"mazda rx-7 gs\", \"Origin\": \"Japan\", \"Weight_in_lbs\": 2420, \"Year\": \"1980-01-01T00:00:00\"}, {\"Acceleration\": 15.1, \"Cylinders\": 4, \"Displacement\": 122.0, \"Horsepower\": 88.0, \"Miles_per_Gallon\": 35.0, \"Name\": \"triumph tr7 coupe\", \"Origin\": \"Europe\", \"Weight_in_lbs\": 2500, \"Year\": \"1980-01-01T00:00:00\"}, {\"Acceleration\": 14.3, \"Cylinders\": 4, \"Displacement\": 140.0, \"Horsepower\": null, \"Miles_per_Gallon\": 23.6, \"Name\": \"ford mustang cobra\", \"Origin\": \"USA\", \"Weight_in_lbs\": 2905, \"Year\": \"1980-01-01T00:00:00\"}, {\"Acceleration\": 17.0, \"Cylinders\": 4, \"Displacement\": 107.0, \"Horsepower\": 72.0, \"Miles_per_Gallon\": 32.4, \"Name\": \"honda Accelerationord\", \"Origin\": \"Japan\", \"Weight_in_lbs\": 2290, \"Year\": \"1980-01-01T00:00:00\"}, {\"Acceleration\": 15.7, \"Cylinders\": 4, \"Displacement\": 135.0, \"Horsepower\": 84.0, \"Miles_per_Gallon\": 27.2, \"Name\": \"plymouth reliant\", \"Origin\": \"USA\", \"Weight_in_lbs\": 2490, \"Year\": \"1982-01-01T00:00:00\"}, {\"Acceleration\": 16.4, \"Cylinders\": 4, \"Displacement\": 151.0, \"Horsepower\": 84.0, \"Miles_per_Gallon\": 26.6, \"Name\": \"buick skylark\", \"Origin\": \"USA\", \"Weight_in_lbs\": 2635, \"Year\": \"1982-01-01T00:00:00\"}, {\"Acceleration\": 14.4, \"Cylinders\": 4, \"Displacement\": 156.0, \"Horsepower\": 92.0, \"Miles_per_Gallon\": 25.8, \"Name\": \"dodge aries wagon (sw)\", \"Origin\": \"USA\", \"Weight_in_lbs\": 2620, \"Year\": \"1982-01-01T00:00:00\"}, {\"Acceleration\": 12.6, \"Cylinders\": 6, \"Displacement\": 173.0, \"Horsepower\": 110.0, \"Miles_per_Gallon\": 23.5, \"Name\": \"chevrolet citation\", \"Origin\": \"USA\", \"Weight_in_lbs\": 2725, \"Year\": \"1982-01-01T00:00:00\"}, {\"Acceleration\": 12.9, \"Cylinders\": 4, \"Displacement\": 135.0, \"Horsepower\": 84.0, \"Miles_per_Gallon\": 30.0, \"Name\": \"plymouth reliant\", \"Origin\": \"USA\", \"Weight_in_lbs\": 2385, \"Year\": \"1982-01-01T00:00:00\"}, {\"Acceleration\": 16.9, \"Cylinders\": 4, \"Displacement\": 79.0, \"Horsepower\": 58.0, \"Miles_per_Gallon\": 39.1, \"Name\": \"toyota starlet\", \"Origin\": \"Japan\", \"Weight_in_lbs\": 1755, \"Year\": \"1982-01-01T00:00:00\"}, {\"Acceleration\": 16.4, \"Cylinders\": 4, \"Displacement\": 86.0, \"Horsepower\": 64.0, \"Miles_per_Gallon\": 39.0, \"Name\": \"plymouth champ\", \"Origin\": \"USA\", \"Weight_in_lbs\": 1875, \"Year\": \"1982-01-01T00:00:00\"}, {\"Acceleration\": 16.1, \"Cylinders\": 4, \"Displacement\": 81.0, \"Horsepower\": 60.0, \"Miles_per_Gallon\": 35.1, \"Name\": \"honda civic 1300\", \"Origin\": \"Japan\", \"Weight_in_lbs\": 1760, \"Year\": \"1982-01-01T00:00:00\"}, {\"Acceleration\": 17.8, \"Cylinders\": 4, \"Displacement\": 97.0, \"Horsepower\": 67.0, \"Miles_per_Gallon\": 32.3, \"Name\": \"subaru\", \"Origin\": \"Japan\", \"Weight_in_lbs\": 2065, \"Year\": \"1982-01-01T00:00:00\"}, {\"Acceleration\": 19.4, \"Cylinders\": 4, \"Displacement\": 85.0, \"Horsepower\": 65.0, \"Miles_per_Gallon\": 37.0, \"Name\": \"datsun 210\", \"Origin\": \"Japan\", \"Weight_in_lbs\": 1975, \"Year\": \"1982-01-01T00:00:00\"}, {\"Acceleration\": 17.3, \"Cylinders\": 4, \"Displacement\": 89.0, \"Horsepower\": 62.0, \"Miles_per_Gallon\": 37.7, \"Name\": \"toyota tercel\", \"Origin\": \"Japan\", \"Weight_in_lbs\": 2050, \"Year\": \"1982-01-01T00:00:00\"}, {\"Acceleration\": 16.0, \"Cylinders\": 4, \"Displacement\": 91.0, \"Horsepower\": 68.0, \"Miles_per_Gallon\": 34.1, \"Name\": \"mazda glc 4\", \"Origin\": \"Japan\", \"Weight_in_lbs\": 1985, \"Year\": \"1982-01-01T00:00:00\"}, {\"Acceleration\": 14.9, \"Cylinders\": 4, \"Displacement\": 105.0, \"Horsepower\": 63.0, \"Miles_per_Gallon\": 34.7, \"Name\": \"plymouth horizon 4\", \"Origin\": \"USA\", \"Weight_in_lbs\": 2215, \"Year\": \"1982-01-01T00:00:00\"}, {\"Acceleration\": 16.2, \"Cylinders\": 4, \"Displacement\": 98.0, \"Horsepower\": 65.0, \"Miles_per_Gallon\": 34.4, \"Name\": \"ford escort 4w\", \"Origin\": \"USA\", \"Weight_in_lbs\": 2045, \"Year\": \"1982-01-01T00:00:00\"}, {\"Acceleration\": 20.7, \"Cylinders\": 4, \"Displacement\": 98.0, \"Horsepower\": 65.0, \"Miles_per_Gallon\": 29.9, \"Name\": \"ford escort 2h\", \"Origin\": \"USA\", \"Weight_in_lbs\": 2380, \"Year\": \"1982-01-01T00:00:00\"}, {\"Acceleration\": 14.2, \"Cylinders\": 4, \"Displacement\": 105.0, \"Horsepower\": 74.0, \"Miles_per_Gallon\": 33.0, \"Name\": \"volkswagen jetta\", \"Origin\": \"Europe\", \"Weight_in_lbs\": 2190, \"Year\": \"1982-01-01T00:00:00\"}, {\"Acceleration\": 15.8, \"Cylinders\": 4, \"Displacement\": 100.0, \"Horsepower\": null, \"Miles_per_Gallon\": 34.5, \"Name\": \"renault 18i\", \"Origin\": \"Europe\", \"Weight_in_lbs\": 2320, \"Year\": \"1982-01-01T00:00:00\"}, {\"Acceleration\": 14.4, \"Cylinders\": 4, \"Displacement\": 107.0, \"Horsepower\": 75.0, \"Miles_per_Gallon\": 33.7, \"Name\": \"honda prelude\", \"Origin\": \"Japan\", \"Weight_in_lbs\": 2210, \"Year\": \"1982-01-01T00:00:00\"}, {\"Acceleration\": 16.8, \"Cylinders\": 4, \"Displacement\": 108.0, \"Horsepower\": 75.0, \"Miles_per_Gallon\": 32.4, \"Name\": \"toyota corolla\", \"Origin\": \"Japan\", \"Weight_in_lbs\": 2350, \"Year\": \"1982-01-01T00:00:00\"}, {\"Acceleration\": 14.8, \"Cylinders\": 4, \"Displacement\": 119.0, \"Horsepower\": 100.0, \"Miles_per_Gallon\": 32.9, \"Name\": \"datsun 200sx\", \"Origin\": \"Japan\", \"Weight_in_lbs\": 2615, \"Year\": \"1982-01-01T00:00:00\"}, {\"Acceleration\": 18.3, \"Cylinders\": 4, \"Displacement\": 120.0, \"Horsepower\": 74.0, \"Miles_per_Gallon\": 31.6, \"Name\": \"mazda 626\", \"Origin\": \"Japan\", \"Weight_in_lbs\": 2635, \"Year\": \"1982-01-01T00:00:00\"}, {\"Acceleration\": 20.4, \"Cylinders\": 4, \"Displacement\": 141.0, \"Horsepower\": 80.0, \"Miles_per_Gallon\": 28.1, \"Name\": \"peugeot 505s turbo diesel\", \"Origin\": \"Europe\", \"Weight_in_lbs\": 3230, \"Year\": \"1982-01-01T00:00:00\"}, {\"Acceleration\": 15.4, \"Cylinders\": 4, \"Displacement\": 121.0, \"Horsepower\": 110.0, \"Miles_per_Gallon\": null, \"Name\": \"saab 900s\", \"Origin\": \"Europe\", \"Weight_in_lbs\": 2800, \"Year\": \"1982-01-01T00:00:00\"}, {\"Acceleration\": 19.6, \"Cylinders\": 6, \"Displacement\": 145.0, \"Horsepower\": 76.0, \"Miles_per_Gallon\": 30.7, \"Name\": \"volvo diesel\", \"Origin\": \"Europe\", \"Weight_in_lbs\": 3160, \"Year\": \"1982-01-01T00:00:00\"}, {\"Acceleration\": 12.6, \"Cylinders\": 6, \"Displacement\": 168.0, \"Horsepower\": 116.0, \"Miles_per_Gallon\": 25.4, \"Name\": \"toyota cressida\", \"Origin\": \"Japan\", \"Weight_in_lbs\": 2900, \"Year\": \"1982-01-01T00:00:00\"}, {\"Acceleration\": 13.8, \"Cylinders\": 6, \"Displacement\": 146.0, \"Horsepower\": 120.0, \"Miles_per_Gallon\": 24.2, \"Name\": \"datsun 810 maxima\", \"Origin\": \"Japan\", \"Weight_in_lbs\": 2930, \"Year\": \"1982-01-01T00:00:00\"}, {\"Acceleration\": 15.8, \"Cylinders\": 6, \"Displacement\": 231.0, \"Horsepower\": 110.0, \"Miles_per_Gallon\": 22.4, \"Name\": \"buick century\", \"Origin\": \"USA\", \"Weight_in_lbs\": 3415, \"Year\": \"1982-01-01T00:00:00\"}, {\"Acceleration\": 19.0, \"Cylinders\": 8, \"Displacement\": 350.0, \"Horsepower\": 105.0, \"Miles_per_Gallon\": 26.6, \"Name\": \"oldsmobile cutlass ls\", \"Origin\": \"USA\", \"Weight_in_lbs\": 3725, \"Year\": \"1982-01-01T00:00:00\"}, {\"Acceleration\": 17.1, \"Cylinders\": 6, \"Displacement\": 200.0, \"Horsepower\": 88.0, \"Miles_per_Gallon\": 20.2, \"Name\": \"ford granada gl\", \"Origin\": \"USA\", \"Weight_in_lbs\": 3060, \"Year\": \"1982-01-01T00:00:00\"}, {\"Acceleration\": 16.6, \"Cylinders\": 6, \"Displacement\": 225.0, \"Horsepower\": 85.0, \"Miles_per_Gallon\": 17.6, \"Name\": \"chrysler lebaron salon\", \"Origin\": \"USA\", \"Weight_in_lbs\": 3465, \"Year\": \"1982-01-01T00:00:00\"}, {\"Acceleration\": 19.6, \"Cylinders\": 4, \"Displacement\": 112.0, \"Horsepower\": 88.0, \"Miles_per_Gallon\": 28.0, \"Name\": \"chevrolet cavalier\", \"Origin\": \"USA\", \"Weight_in_lbs\": 2605, \"Year\": \"1982-01-01T00:00:00\"}, {\"Acceleration\": 18.6, \"Cylinders\": 4, \"Displacement\": 112.0, \"Horsepower\": 88.0, \"Miles_per_Gallon\": 27.0, \"Name\": \"chevrolet cavalier wagon\", \"Origin\": \"USA\", \"Weight_in_lbs\": 2640, \"Year\": \"1982-01-01T00:00:00\"}, {\"Acceleration\": 18.0, \"Cylinders\": 4, \"Displacement\": 112.0, \"Horsepower\": 88.0, \"Miles_per_Gallon\": 34.0, \"Name\": \"chevrolet cavalier 2-door\", \"Origin\": \"USA\", \"Weight_in_lbs\": 2395, \"Year\": \"1982-01-01T00:00:00\"}, {\"Acceleration\": 16.2, \"Cylinders\": 4, \"Displacement\": 112.0, \"Horsepower\": 85.0, \"Miles_per_Gallon\": 31.0, \"Name\": \"pontiac j2000 se hatchback\", \"Origin\": \"USA\", \"Weight_in_lbs\": 2575, \"Year\": \"1982-01-01T00:00:00\"}, {\"Acceleration\": 16.0, \"Cylinders\": 4, \"Displacement\": 135.0, \"Horsepower\": 84.0, \"Miles_per_Gallon\": 29.0, \"Name\": \"dodge aries se\", \"Origin\": \"USA\", \"Weight_in_lbs\": 2525, \"Year\": \"1982-01-01T00:00:00\"}, {\"Acceleration\": 18.0, \"Cylinders\": 4, \"Displacement\": 151.0, \"Horsepower\": 90.0, \"Miles_per_Gallon\": 27.0, \"Name\": \"pontiac phoenix\", \"Origin\": \"USA\", \"Weight_in_lbs\": 2735, \"Year\": \"1982-01-01T00:00:00\"}, {\"Acceleration\": 16.4, \"Cylinders\": 4, \"Displacement\": 140.0, \"Horsepower\": 92.0, \"Miles_per_Gallon\": 24.0, \"Name\": \"ford fairmont futura\", \"Origin\": \"USA\", \"Weight_in_lbs\": 2865, \"Year\": \"1982-01-01T00:00:00\"}, {\"Acceleration\": 20.5, \"Cylinders\": 4, \"Displacement\": 151.0, \"Horsepower\": null, \"Miles_per_Gallon\": 23.0, \"Name\": \"amc concord dl\", \"Origin\": \"USA\", \"Weight_in_lbs\": 3035, \"Year\": \"1982-01-01T00:00:00\"}, {\"Acceleration\": 15.3, \"Cylinders\": 4, \"Displacement\": 105.0, \"Horsepower\": 74.0, \"Miles_per_Gallon\": 36.0, \"Name\": \"volkswagen rabbit l\", \"Origin\": \"Europe\", \"Weight_in_lbs\": 1980, \"Year\": \"1982-01-01T00:00:00\"}, {\"Acceleration\": 18.2, \"Cylinders\": 4, \"Displacement\": 91.0, \"Horsepower\": 68.0, \"Miles_per_Gallon\": 37.0, \"Name\": \"mazda glc custom l\", \"Origin\": \"Japan\", \"Weight_in_lbs\": 2025, \"Year\": \"1982-01-01T00:00:00\"}, {\"Acceleration\": 17.6, \"Cylinders\": 4, \"Displacement\": 91.0, \"Horsepower\": 68.0, \"Miles_per_Gallon\": 31.0, \"Name\": \"mazda glc custom\", \"Origin\": \"Japan\", \"Weight_in_lbs\": 1970, \"Year\": \"1982-01-01T00:00:00\"}, {\"Acceleration\": 14.7, \"Cylinders\": 4, \"Displacement\": 105.0, \"Horsepower\": 63.0, \"Miles_per_Gallon\": 38.0, \"Name\": \"plymouth horizon miser\", \"Origin\": \"USA\", \"Weight_in_lbs\": 2125, \"Year\": \"1982-01-01T00:00:00\"}, {\"Acceleration\": 17.3, \"Cylinders\": 4, \"Displacement\": 98.0, \"Horsepower\": 70.0, \"Miles_per_Gallon\": 36.0, \"Name\": \"mercury lynx l\", \"Origin\": \"USA\", \"Weight_in_lbs\": 2125, \"Year\": \"1982-01-01T00:00:00\"}, {\"Acceleration\": 14.5, \"Cylinders\": 4, \"Displacement\": 120.0, \"Horsepower\": 88.0, \"Miles_per_Gallon\": 36.0, \"Name\": \"nissan stanza xe\", \"Origin\": \"Japan\", \"Weight_in_lbs\": 2160, \"Year\": \"1982-01-01T00:00:00\"}, {\"Acceleration\": 14.5, \"Cylinders\": 4, \"Displacement\": 107.0, \"Horsepower\": 75.0, \"Miles_per_Gallon\": 36.0, \"Name\": \"honda Accelerationord\", \"Origin\": \"Japan\", \"Weight_in_lbs\": 2205, \"Year\": \"1982-01-01T00:00:00\"}, {\"Acceleration\": 16.9, \"Cylinders\": 4, \"Displacement\": 108.0, \"Horsepower\": 70.0, \"Miles_per_Gallon\": 34.0, \"Name\": \"toyota corolla\", \"Origin\": \"Japan\", \"Weight_in_lbs\": 2245, \"Year\": \"1982-01-01T00:00:00\"}, {\"Acceleration\": 15.0, \"Cylinders\": 4, \"Displacement\": 91.0, \"Horsepower\": 67.0, \"Miles_per_Gallon\": 38.0, \"Name\": \"honda civic\", \"Origin\": \"Japan\", \"Weight_in_lbs\": 1965, \"Year\": \"1982-01-01T00:00:00\"}, {\"Acceleration\": 15.7, \"Cylinders\": 4, \"Displacement\": 91.0, \"Horsepower\": 67.0, \"Miles_per_Gallon\": 32.0, \"Name\": \"honda civic (auto)\", \"Origin\": \"Japan\", \"Weight_in_lbs\": 1965, \"Year\": \"1982-01-01T00:00:00\"}, {\"Acceleration\": 16.2, \"Cylinders\": 4, \"Displacement\": 91.0, \"Horsepower\": 67.0, \"Miles_per_Gallon\": 38.0, \"Name\": \"datsun 310 gx\", \"Origin\": \"Japan\", \"Weight_in_lbs\": 1995, \"Year\": \"1982-01-01T00:00:00\"}, {\"Acceleration\": 16.4, \"Cylinders\": 6, \"Displacement\": 181.0, \"Horsepower\": 110.0, \"Miles_per_Gallon\": 25.0, \"Name\": \"buick century limited\", \"Origin\": \"USA\", \"Weight_in_lbs\": 2945, \"Year\": \"1982-01-01T00:00:00\"}, {\"Acceleration\": 17.0, \"Cylinders\": 6, \"Displacement\": 262.0, \"Horsepower\": 85.0, \"Miles_per_Gallon\": 38.0, \"Name\": \"oldsmobile cutlass ciera (diesel)\", \"Origin\": \"USA\", \"Weight_in_lbs\": 3015, \"Year\": \"1982-01-01T00:00:00\"}, {\"Acceleration\": 14.5, \"Cylinders\": 4, \"Displacement\": 156.0, \"Horsepower\": 92.0, \"Miles_per_Gallon\": 26.0, \"Name\": \"chrysler lebaron medallion\", \"Origin\": \"USA\", \"Weight_in_lbs\": 2585, \"Year\": \"1982-01-01T00:00:00\"}, {\"Acceleration\": 14.7, \"Cylinders\": 6, \"Displacement\": 232.0, \"Horsepower\": 112.0, \"Miles_per_Gallon\": 22.0, \"Name\": \"ford granada l\", \"Origin\": \"USA\", \"Weight_in_lbs\": 2835, \"Year\": \"1982-01-01T00:00:00\"}, {\"Acceleration\": 13.9, \"Cylinders\": 4, \"Displacement\": 144.0, \"Horsepower\": 96.0, \"Miles_per_Gallon\": 32.0, \"Name\": \"toyota celica gt\", \"Origin\": \"Japan\", \"Weight_in_lbs\": 2665, \"Year\": \"1982-01-01T00:00:00\"}, {\"Acceleration\": 13.0, \"Cylinders\": 4, \"Displacement\": 135.0, \"Horsepower\": 84.0, \"Miles_per_Gallon\": 36.0, \"Name\": \"dodge charger 2.2\", \"Origin\": \"USA\", \"Weight_in_lbs\": 2370, \"Year\": \"1982-01-01T00:00:00\"}, {\"Acceleration\": 17.3, \"Cylinders\": 4, \"Displacement\": 151.0, \"Horsepower\": 90.0, \"Miles_per_Gallon\": 27.0, \"Name\": \"chevrolet camaro\", \"Origin\": \"USA\", \"Weight_in_lbs\": 2950, \"Year\": \"1982-01-01T00:00:00\"}, {\"Acceleration\": 15.6, \"Cylinders\": 4, \"Displacement\": 140.0, \"Horsepower\": 86.0, \"Miles_per_Gallon\": 27.0, \"Name\": \"ford mustang gl\", \"Origin\": \"USA\", \"Weight_in_lbs\": 2790, \"Year\": \"1982-01-01T00:00:00\"}, {\"Acceleration\": 24.6, \"Cylinders\": 4, \"Displacement\": 97.0, \"Horsepower\": 52.0, \"Miles_per_Gallon\": 44.0, \"Name\": \"vw pickup\", \"Origin\": \"Europe\", \"Weight_in_lbs\": 2130, \"Year\": \"1982-01-01T00:00:00\"}, {\"Acceleration\": 11.6, \"Cylinders\": 4, \"Displacement\": 135.0, \"Horsepower\": 84.0, \"Miles_per_Gallon\": 32.0, \"Name\": \"dodge rampage\", \"Origin\": \"USA\", \"Weight_in_lbs\": 2295, \"Year\": \"1982-01-01T00:00:00\"}, {\"Acceleration\": 18.6, \"Cylinders\": 4, \"Displacement\": 120.0, \"Horsepower\": 79.0, \"Miles_per_Gallon\": 28.0, \"Name\": \"ford ranger\", \"Origin\": \"USA\", \"Weight_in_lbs\": 2625, \"Year\": \"1982-01-01T00:00:00\"}, {\"Acceleration\": 19.4, \"Cylinders\": 4, \"Displacement\": 119.0, \"Horsepower\": 82.0, \"Miles_per_Gallon\": 31.0, \"Name\": \"chevy s-10\", \"Origin\": \"USA\", \"Weight_in_lbs\": 2720, \"Year\": \"1982-01-01T00:00:00\"}]}};\n",
              "      var embedOpt = {\"mode\": \"vega-lite\"};\n",
              "\n",
              "      function showError(el, error){\n",
              "          el.innerHTML = ('<div class=\"error\" style=\"color:red;\">'\n",
              "                          + '<p>JavaScript Error: ' + error.message + '</p>'\n",
              "                          + \"<p>This usually means there's a typo in your chart specification. \"\n",
              "                          + \"See the javascript console for the full traceback.</p>\"\n",
              "                          + '</div>');\n",
              "          throw error;\n",
              "      }\n",
              "      const el = document.getElementById('altair-viz');\n",
              "      vegaEmbed(\"#altair-viz\", spec, embedOpt)\n",
              "        .catch(error => showError(el, error));\n",
              "\n",
              "  </script>\n",
              "</body>\n",
              "</html>"
            ]
          },
          "metadata": {
            "tags": []
          },
          "execution_count": 23
        }
      ]
    },
    {
      "cell_type": "code",
      "metadata": {
        "id": "rUqRwiunUDxP",
        "colab_type": "code",
        "outputId": "a361182c-6990-4b9f-e68d-3f78aa6ac1f9",
        "colab": {
          "base_uri": "https://localhost:8080/",
          "height": 391
        }
      },
      "source": [
        "import pandas as pd\n",
        "df = pd.read_csv(\"https://raw.githubusercontent.com/noahgift/sugar/master/data/education_sugar_cdc_2003.csv\")\n",
        "df.head()"
      ],
      "execution_count": 0,
      "outputs": [
        {
          "output_type": "execute_result",
          "data": {
            "text/html": [
              "<div>\n",
              "<style scoped>\n",
              "    .dataframe tbody tr th:only-of-type {\n",
              "        vertical-align: middle;\n",
              "    }\n",
              "\n",
              "    .dataframe tbody tr th {\n",
              "        vertical-align: top;\n",
              "    }\n",
              "\n",
              "    .dataframe thead th {\n",
              "        text-align: right;\n",
              "    }\n",
              "</style>\n",
              "<table border=\"1\" class=\"dataframe\">\n",
              "  <thead>\n",
              "    <tr style=\"text-align: right;\">\n",
              "      <th></th>\n",
              "      <th>State</th>\n",
              "      <th>Employed</th>\n",
              "      <th>Not employed</th>\n",
              "      <th>Retired</th>\n",
              "      <th>&lt;High school</th>\n",
              "      <th>High school</th>\n",
              "      <th>Some college</th>\n",
              "      <th>College graduate</th>\n",
              "    </tr>\n",
              "  </thead>\n",
              "  <tbody>\n",
              "    <tr>\n",
              "      <th>0</th>\n",
              "      <td>Alaska</td>\n",
              "      <td>26.2 (23.6–28.9)</td>\n",
              "      <td>32.1 (27.8–36.8)</td>\n",
              "      <td>16.0 (12.6–20.2)</td>\n",
              "      <td>47.1 (37.8–56.5)</td>\n",
              "      <td>34.9 (31.1–38.9)</td>\n",
              "      <td>24.2 (21.0–27.8)</td>\n",
              "      <td>12.9 (10.5–15.7)</td>\n",
              "    </tr>\n",
              "    <tr>\n",
              "      <th>1</th>\n",
              "      <td>Arizona</td>\n",
              "      <td>33.0 (28.5–37.8)</td>\n",
              "      <td>28.7 (23.5–34.5)</td>\n",
              "      <td>13.8 (10.8–17.5)</td>\n",
              "      <td>40.4 (30.9–50.7)</td>\n",
              "      <td>36.5 (30.7–42.7)</td>\n",
              "      <td>24.4 (19.9–29.4)</td>\n",
              "      <td>14.6 (11.6–18.3)</td>\n",
              "    </tr>\n",
              "    <tr>\n",
              "      <th>2</th>\n",
              "      <td>California</td>\n",
              "      <td>22.9 (20.9–25.1)</td>\n",
              "      <td>30.2 (27.1–33.4)</td>\n",
              "      <td>15.0 (12.2–18.2)</td>\n",
              "      <td>38.5 (34.2–43.0)</td>\n",
              "      <td>29.9 (26.5–33.7)</td>\n",
              "      <td>21.4 (18.8–24.2)</td>\n",
              "      <td>11.5 (9.8–13.5)</td>\n",
              "    </tr>\n",
              "    <tr>\n",
              "      <th>3</th>\n",
              "      <td>Connecticut</td>\n",
              "      <td>18.9 (17.1–20.9)</td>\n",
              "      <td>24.3 (20.8–28.2)</td>\n",
              "      <td>15.0 (12.7–17.7)</td>\n",
              "      <td>27.8 (22.4–33.9)</td>\n",
              "      <td>26.9 (23.7–30.3)</td>\n",
              "      <td>19.9 (17.2–23.0)</td>\n",
              "      <td>10.2 (8.7–12.0)</td>\n",
              "    </tr>\n",
              "    <tr>\n",
              "      <th>4</th>\n",
              "      <td>District of Columbia</td>\n",
              "      <td>18.5 (15.7–21.7)</td>\n",
              "      <td>34.6 (29.5–40.1)</td>\n",
              "      <td>18.5 (15.3–22.1)</td>\n",
              "      <td>45.6 (36.4–55.2)</td>\n",
              "      <td>39.0 (33.1–45.2)</td>\n",
              "      <td>28.9 (23.4–35.0)</td>\n",
              "      <td>8.4 (7.0–10.1)</td>\n",
              "    </tr>\n",
              "  </tbody>\n",
              "</table>\n",
              "</div>"
            ],
            "text/plain": [
              "                  State          Employed      Not employed           Retired  \\\n",
              "0                Alaska  26.2 (23.6–28.9)  32.1 (27.8–36.8)  16.0 (12.6–20.2)   \n",
              "1               Arizona  33.0 (28.5–37.8)  28.7 (23.5–34.5)  13.8 (10.8–17.5)   \n",
              "2            California  22.9 (20.9–25.1)  30.2 (27.1–33.4)  15.0 (12.2–18.2)   \n",
              "3           Connecticut  18.9 (17.1–20.9)  24.3 (20.8–28.2)  15.0 (12.7–17.7)   \n",
              "4  District of Columbia  18.5 (15.7–21.7)  34.6 (29.5–40.1)  18.5 (15.3–22.1)   \n",
              "\n",
              "       <High school       High school      Some college  College graduate  \n",
              "0  47.1 (37.8–56.5)  34.9 (31.1–38.9)  24.2 (21.0–27.8)  12.9 (10.5–15.7)  \n",
              "1  40.4 (30.9–50.7)  36.5 (30.7–42.7)  24.4 (19.9–29.4)  14.6 (11.6–18.3)  \n",
              "2  38.5 (34.2–43.0)  29.9 (26.5–33.7)  21.4 (18.8–24.2)   11.5 (9.8–13.5)  \n",
              "3  27.8 (22.4–33.9)  26.9 (23.7–30.3)  19.9 (17.2–23.0)   10.2 (8.7–12.0)  \n",
              "4  45.6 (36.4–55.2)  39.0 (33.1–45.2)  28.9 (23.4–35.0)    8.4 (7.0–10.1)  "
            ]
          },
          "metadata": {
            "tags": []
          },
          "execution_count": 21
        }
      ]
    },
    {
      "cell_type": "code",
      "metadata": {
        "id": "X97XO2e8_reX",
        "colab_type": "code",
        "outputId": "e6745419-5256-4c7e-fd20-2583ad26fd29",
        "colab": {
          "base_uri": "https://localhost:8080/",
          "height": 224
        }
      },
      "source": [
        "df.describe()"
      ],
      "execution_count": 0,
      "outputs": [
        {
          "output_type": "execute_result",
          "data": {
            "text/html": [
              "<div>\n",
              "<style scoped>\n",
              "    .dataframe tbody tr th:only-of-type {\n",
              "        vertical-align: middle;\n",
              "    }\n",
              "\n",
              "    .dataframe tbody tr th {\n",
              "        vertical-align: top;\n",
              "    }\n",
              "\n",
              "    .dataframe thead th {\n",
              "        text-align: right;\n",
              "    }\n",
              "</style>\n",
              "<table border=\"1\" class=\"dataframe\">\n",
              "  <thead>\n",
              "    <tr style=\"text-align: right;\">\n",
              "      <th></th>\n",
              "      <th>State</th>\n",
              "      <th>Employed</th>\n",
              "      <th>Not employed</th>\n",
              "      <th>Retired</th>\n",
              "      <th>&lt;High school</th>\n",
              "      <th>High school</th>\n",
              "      <th>Some college</th>\n",
              "      <th>College graduate</th>\n",
              "    </tr>\n",
              "  </thead>\n",
              "  <tbody>\n",
              "    <tr>\n",
              "      <th>count</th>\n",
              "      <td>24</td>\n",
              "      <td>24</td>\n",
              "      <td>24</td>\n",
              "      <td>24</td>\n",
              "      <td>24</td>\n",
              "      <td>24</td>\n",
              "      <td>24</td>\n",
              "      <td>24</td>\n",
              "    </tr>\n",
              "    <tr>\n",
              "      <th>unique</th>\n",
              "      <td>24</td>\n",
              "      <td>24</td>\n",
              "      <td>24</td>\n",
              "      <td>24</td>\n",
              "      <td>24</td>\n",
              "      <td>24</td>\n",
              "      <td>23</td>\n",
              "      <td>24</td>\n",
              "    </tr>\n",
              "    <tr>\n",
              "      <th>top</th>\n",
              "      <td>Iowa</td>\n",
              "      <td>26.2 (23.6–28.9)</td>\n",
              "      <td>31.5 (28.3–34.9)</td>\n",
              "      <td>13.8 (10.8–17.5)</td>\n",
              "      <td>32.9 (26.0–40.6)</td>\n",
              "      <td>34.9 (31.1–38.9)</td>\n",
              "      <td>24.2 (21.0–27.8)</td>\n",
              "      <td>11.5 (9.8–13.5)</td>\n",
              "    </tr>\n",
              "    <tr>\n",
              "      <th>freq</th>\n",
              "      <td>1</td>\n",
              "      <td>1</td>\n",
              "      <td>1</td>\n",
              "      <td>1</td>\n",
              "      <td>1</td>\n",
              "      <td>1</td>\n",
              "      <td>2</td>\n",
              "      <td>1</td>\n",
              "    </tr>\n",
              "  </tbody>\n",
              "</table>\n",
              "</div>"
            ],
            "text/plain": [
              "       State          Employed      Not employed           Retired  \\\n",
              "count     24                24                24                24   \n",
              "unique    24                24                24                24   \n",
              "top     Iowa  26.2 (23.6–28.9)  31.5 (28.3–34.9)  13.8 (10.8–17.5)   \n",
              "freq       1                 1                 1                 1   \n",
              "\n",
              "            <High school       High school      Some college College graduate  \n",
              "count                 24                24                24               24  \n",
              "unique                24                24                23               24  \n",
              "top     32.9 (26.0–40.6)  34.9 (31.1–38.9)  24.2 (21.0–27.8)  11.5 (9.8–13.5)  \n",
              "freq                   1                 1                 2                1  "
            ]
          },
          "metadata": {
            "tags": []
          },
          "execution_count": 22
        }
      ]
    },
    {
      "cell_type": "markdown",
      "metadata": {
        "id": "0kmgxW7Sxa6j",
        "colab_type": "text"
      },
      "source": [
        "##### Forms in Colab"
      ]
    },
    {
      "cell_type": "code",
      "metadata": {
        "id": "ZqHMr_brxdkA",
        "colab_type": "code",
        "colab": {}
      },
      "source": [
        "Use_Python = False #@param [\"False\", \"True\"] {type:\"raw\"}"
      ],
      "execution_count": 0,
      "outputs": []
    },
    {
      "cell_type": "code",
      "metadata": {
        "id": "d1z9fz5_x_bf",
        "colab_type": "code",
        "outputId": "51e94991-fe40-4eec-be4d-feb24fd283ed",
        "colab": {
          "base_uri": "https://localhost:8080/",
          "height": 34
        }
      },
      "source": [
        "print(f\"You select it is {Use_Python} you use Python\")"
      ],
      "execution_count": 0,
      "outputs": [
        {
          "output_type": "stream",
          "text": [
            "You select it is False you use Python\n"
          ],
          "name": "stdout"
        }
      ]
    },
    {
      "cell_type": "markdown",
      "metadata": {
        "id": "kn-P-e_hjvK5",
        "colab_type": "text"
      },
      "source": [
        "#### Python executable\n",
        "\n",
        "Can run scripts, REPL and even run python statements with -c flag and semicolon to string together multiple statements"
      ]
    },
    {
      "cell_type": "code",
      "metadata": {
        "id": "p2aDegQxjegv",
        "colab_type": "code",
        "outputId": "942bbee4-000f-4bde-c97a-8687a49ccf08",
        "colab": {
          "base_uri": "https://localhost:8080/",
          "height": 34
        }
      },
      "source": [
        "!python -c \"import os;print(os.listdir())\""
      ],
      "execution_count": 0,
      "outputs": [
        {
          "output_type": "stream",
          "text": [
            "['.config', 'magic_stuff.py', 'sample_data']\n"
          ],
          "name": "stdout"
        }
      ]
    },
    {
      "cell_type": "code",
      "metadata": {
        "id": "WaXhDeUM_49R",
        "colab_type": "code",
        "outputId": "09858dd1-ae6b-40e5-8bfc-538ad926fb87",
        "colab": {
          "base_uri": "https://localhost:8080/",
          "height": 103
        }
      },
      "source": [
        "!ls -l"
      ],
      "execution_count": 0,
      "outputs": [
        {
          "output_type": "stream",
          "text": [
            "total 712\n",
            "drwx------ 4 root root   4096 Sep  9 16:16 gdrive\n",
            "-rw-r--r-- 1 root root    407 Sep  9 16:20 magic_stuff.py\n",
            "-rw-r--r-- 1 root root 712814 Sep  9 16:25 pytorch.pptx\n",
            "drwxr-xr-x 1 root root   4096 Aug 27 16:17 sample_data\n"
          ],
          "name": "stdout"
        }
      ]
    },
    {
      "cell_type": "code",
      "metadata": {
        "id": "58zCAVUC_8JP",
        "colab_type": "code",
        "colab": {}
      },
      "source": [
        "!pip install -q yellowbrick"
      ],
      "execution_count": 0,
      "outputs": []
    },
    {
      "cell_type": "code",
      "metadata": {
        "id": "egHxTJUGNYCA",
        "colab_type": "code",
        "outputId": "fa298362-f0fa-4fa2-cfd1-0b6a02da5bb6",
        "colab": {
          "base_uri": "https://localhost:8080/",
          "height": 69
        }
      },
      "source": [
        "#this is how you capture input to a program\n",
        "import sys;sys.argv"
      ],
      "execution_count": 0,
      "outputs": [
        {
          "output_type": "execute_result",
          "data": {
            "text/plain": [
              "['/usr/local/lib/python3.6/dist-packages/ipykernel_launcher.py',\n",
              " '-f',\n",
              " '/root/.local/share/jupyter/runtime/kernel-559953d0-ac45-4a1a-a716-8951070eaab5.json']"
            ]
          },
          "metadata": {
            "tags": []
          },
          "execution_count": 22
        }
      ]
    },
    {
      "cell_type": "markdown",
      "metadata": {
        "id": "6HJtGuiKUYFU",
        "colab_type": "text"
      },
      "source": [
        "### Introductory Concepts\n",
        "*  **Procedural Statements**\n",
        "*  Strings and String Formatting\n",
        "*  Numbers and Arithmetic Operations\n",
        "*  Data Structures\n",
        "\n"
      ]
    },
    {
      "cell_type": "markdown",
      "metadata": {
        "id": "BwmnQEziVQ9k",
        "colab_type": "text"
      },
      "source": [
        " #### Procedural Statements\n",
        " Procedural statements are literally statements that  can be issued one line at a time.  Below are types of procedural statements.  These statements can be run in:\n",
        " * Jupyter Notebook\n",
        " * IPython shell\n",
        " * Python interpreter\n",
        " * Python scripts"
      ]
    },
    {
      "cell_type": "markdown",
      "metadata": {
        "id": "yTePE3imVqfP",
        "colab_type": "text"
      },
      "source": [
        "**Printing**"
      ]
    },
    {
      "cell_type": "code",
      "metadata": {
        "id": "n1r0n2V3Vs70",
        "colab_type": "code",
        "outputId": "10f80991-ddc9-4cf0-d582-92c114773643",
        "colab": {
          "base_uri": "https://localhost:8080/",
          "height": 34
        }
      },
      "source": [
        "print(\"Hello world\")"
      ],
      "execution_count": 0,
      "outputs": [
        {
          "output_type": "stream",
          "text": [
            "Hello world\n"
          ],
          "name": "stdout"
        }
      ]
    },
    {
      "cell_type": "markdown",
      "metadata": {
        "id": "8nUjNnApV6cC",
        "colab_type": "text"
      },
      "source": [
        "**Create Variable and Use Variable**"
      ]
    },
    {
      "cell_type": "code",
      "metadata": {
        "id": "mhjO2LpSVx9V",
        "colab_type": "code",
        "outputId": "e2d617a8-6af4-407f-fa34-cff986cb052e",
        "colab": {
          "base_uri": "https://localhost:8080/",
          "height": 34
        }
      },
      "source": [
        "variable = \"armbar\"\n",
        "variable"
      ],
      "execution_count": 0,
      "outputs": [
        {
          "output_type": "execute_result",
          "data": {
            "text/plain": [
              "'armbar'"
            ]
          },
          "metadata": {
            "tags": []
          },
          "execution_count": 26
        }
      ]
    },
    {
      "cell_type": "markdown",
      "metadata": {
        "id": "H004n8R-WDGF",
        "colab_type": "text"
      },
      "source": [
        "**Multiple procedural statements**"
      ]
    },
    {
      "cell_type": "code",
      "metadata": {
        "id": "xrZWZEFmV_bN",
        "colab_type": "code",
        "outputId": "cd0f2a6a-4b84-435e-836c-324e1071b885",
        "colab": {
          "base_uri": "https://localhost:8080/",
          "height": 51
        }
      },
      "source": [
        "attack_one = \"kimura\"\n",
        "attack_two = \"arm triangle\"\n",
        "print(\"In Brazilian Jiu Jitsu a common attack is a:\", attack_one)\n",
        "print(\"Another common attack is a:\", attack_two)"
      ],
      "execution_count": 0,
      "outputs": [
        {
          "output_type": "stream",
          "text": [
            "In Brazilian Jiu Jitsu a common attack is a: kimura\n",
            "Another common attack is a: arm triangle\n"
          ],
          "name": "stdout"
        }
      ]
    },
    {
      "cell_type": "markdown",
      "metadata": {
        "id": "6IiZ6RnLWKsq",
        "colab_type": "text"
      },
      "source": [
        "**Adding Numbers**"
      ]
    },
    {
      "cell_type": "code",
      "metadata": {
        "id": "h049FhlhWPRm",
        "colab_type": "code",
        "outputId": "a2fab79d-bcf9-4255-b6cc-55e766d65930",
        "colab": {
          "base_uri": "https://localhost:8080/",
          "height": 34
        }
      },
      "source": [
        "1+1"
      ],
      "execution_count": 0,
      "outputs": [
        {
          "output_type": "execute_result",
          "data": {
            "text/plain": [
              "2"
            ]
          },
          "metadata": {
            "tags": []
          },
          "execution_count": 28
        }
      ]
    },
    {
      "cell_type": "markdown",
      "metadata": {
        "id": "mlszsN87WmcO",
        "colab_type": "text"
      },
      "source": [
        "**Adding Phrases**"
      ]
    },
    {
      "cell_type": "code",
      "metadata": {
        "id": "FaE5GnCaWgbI",
        "colab_type": "code",
        "outputId": "60254e0b-a6ef-477a-ad2d-881c054ab19e",
        "colab": {
          "base_uri": "https://localhost:8080/",
          "height": 34
        }
      },
      "source": [
        "\"arm\" + \" bar\"+\" 4\"+\" morestuff \" + \"lemon\""
      ],
      "execution_count": 0,
      "outputs": [
        {
          "output_type": "execute_result",
          "data": {
            "text/plain": [
              "'arm bar 4 morestuff lemon'"
            ]
          },
          "metadata": {
            "tags": []
          },
          "execution_count": 29
        }
      ]
    },
    {
      "cell_type": "markdown",
      "metadata": {
        "id": "WSrfrIO1XYts",
        "colab_type": "text"
      },
      "source": [
        "**Complex statements**\n",
        "\n",
        "More complex statements can be created that use data structures like the belts variable, which is a list."
      ]
    },
    {
      "cell_type": "code",
      "metadata": {
        "id": "0nf0W0e3XSQS",
        "colab_type": "code",
        "outputId": "bda3442d-9088-4ec4-8d43-396dbd04148b",
        "colab": {
          "base_uri": "https://localhost:8080/",
          "height": 103
        }
      },
      "source": [
        "belts = [\"white\", \"blue\", \"purple\", \"brown\", \"black\"]\n",
        "for belt in belts:\n",
        "    if \"black\" in belt:\n",
        "        print(\"The belt I want to be is:\", belt)\n",
        "    else:\n",
        "        print(\"This is not the belt I want to end up at:\", belt)"
      ],
      "execution_count": 0,
      "outputs": [
        {
          "output_type": "stream",
          "text": [
            "This is not the belt I want to end up at: white\n",
            "This is not the belt I want to end up at: blue\n",
            "This is not the belt I want to end up at: purple\n",
            "This is not the belt I want to end up at: brown\n",
            "The belt I want to be is: black\n"
          ],
          "name": "stdout"
        }
      ]
    },
    {
      "cell_type": "markdown",
      "metadata": {
        "id": "UYzPEDtnXlbx",
        "colab_type": "text"
      },
      "source": [
        "#### Strings and String Formatting\n",
        "\n",
        "Strings are a sequence of characters and they are often programmatically formatted.  Almost all Python programs have strings because they can be used to send messages to users who use the program.  When creating strings there are few core concepts to understand:\n",
        "\n",
        "* Strings can be create with the single, double and triple/double quotes\n",
        "* Strings are can be formatted\n",
        "* One complication of strings is they can be encoded in several formats including unicode\n",
        "* Many methods are available to operate on strings.  In an editor or IPython shell you can see these methods by tab completion: \n",
        "```\n",
        "basic_string.\n",
        "            capitalize()   format()       islower()      lower()        rpartition()   title()         \n",
        "            casefold()     format_map()   isnumeric()    lstrip()       rsplit()       translate()     \n",
        "            center()       index()        isprintable()  maketrans()    rstrip()       upper()         \n",
        "            count()        isalnum()      isspace()      partition()    split()        zfill()         \n",
        "            encode()       isalpha()      istitle()      replace()      splitlines()                  \n",
        "            endswith()     isdecimal()    isupper()      rfind()        startswith()                  \n",
        "            expandtabs()   isdigit()      join()         rindex()       strip()                       \n",
        "            find()         isidentifier() ljust()        rjust()        swapcase()        \n",
        "```"
      ]
    },
    {
      "cell_type": "code",
      "metadata": {
        "id": "eHJX2ZFiXbFC",
        "colab_type": "code",
        "outputId": "9ddf41d3-0539-47f2-831d-70eb7e2e51a4",
        "colab": {
          "base_uri": "https://localhost:8080/",
          "height": 34
        }
      },
      "source": [
        "my_string = \"this is a string I am using this time\"\n",
        "my_string.split()\n",
        "#my_string.upper()\n",
        "#my_string.title()\n",
        "#my_string.count(\"this\")"
      ],
      "execution_count": 0,
      "outputs": [
        {
          "output_type": "execute_result",
          "data": {
            "text/plain": [
              "['this', 'is', 'a', 'string', 'I', 'am', 'using', 'this', 'time']"
            ]
          },
          "metadata": {
            "tags": []
          },
          "execution_count": 31
        }
      ]
    },
    {
      "cell_type": "code",
      "metadata": {
        "id": "Eq3EsFYcgqTW",
        "colab_type": "code",
        "outputId": "ffdceccb-9c47-480c-f1c2-50a1dd9a636e",
        "colab": {
          "base_uri": "https://localhost:8080/",
          "height": 34
        }
      },
      "source": [
        "my_string.upper()"
      ],
      "execution_count": 0,
      "outputs": [
        {
          "output_type": "execute_result",
          "data": {
            "text/plain": [
              "'THIS IS A STRING I AM USING THIS TIME'"
            ]
          },
          "metadata": {
            "tags": []
          },
          "execution_count": 33
        }
      ]
    },
    {
      "cell_type": "code",
      "metadata": {
        "id": "DMBeWJv5claa",
        "colab_type": "code",
        "outputId": "3b995799-710b-4498-b26f-2675d6981109",
        "colab": {
          "base_uri": "https://localhost:8080/",
          "height": 34
        }
      },
      "source": [
        "my_string.capitalize()"
      ],
      "execution_count": 0,
      "outputs": [
        {
          "output_type": "execute_result",
          "data": {
            "text/plain": [
              "'This is a string i am using this time'"
            ]
          },
          "metadata": {
            "tags": []
          },
          "execution_count": 34
        }
      ]
    },
    {
      "cell_type": "code",
      "metadata": {
        "id": "-qK6mSH0xxCY",
        "colab_type": "code",
        "outputId": "570a56d6-d205-45ad-bb9c-8edf561b648a",
        "colab": {
          "base_uri": "https://localhost:8080/",
          "height": 34
        }
      },
      "source": [
        "my_string.isnumeric()\n",
        "\n"
      ],
      "execution_count": 0,
      "outputs": [
        {
          "output_type": "execute_result",
          "data": {
            "text/plain": [
              "False"
            ]
          },
          "metadata": {
            "tags": []
          },
          "execution_count": 35
        }
      ]
    },
    {
      "cell_type": "code",
      "metadata": {
        "id": "jKa_uTtpwwtm",
        "colab_type": "code",
        "outputId": "a675d5ff-484a-4c98-ed22-5d655c787340",
        "colab": {
          "base_uri": "https://localhost:8080/",
          "height": 68
        }
      },
      "source": [
        "print(my_string)\n",
        "var2 = my_string.swapcase()\n",
        "print(var2)\n",
        "print(var2.swapcase())"
      ],
      "execution_count": 0,
      "outputs": [
        {
          "output_type": "stream",
          "text": [
            "this is a string I am using this time\n",
            "THIS IS A STRING i AM USING THIS TIME\n",
            "this is a string I am using this time\n"
          ],
          "name": "stdout"
        }
      ]
    },
    {
      "cell_type": "markdown",
      "metadata": {
        "id": "8afQjS25YDvQ",
        "colab_type": "text"
      },
      "source": [
        "**Basic String**"
      ]
    },
    {
      "cell_type": "code",
      "metadata": {
        "id": "yfhfvyIpX-pc",
        "colab_type": "code",
        "colab": {}
      },
      "source": [
        "basic_string = \"Brazilian Jiu Jitsu\""
      ],
      "execution_count": 0,
      "outputs": []
    },
    {
      "cell_type": "markdown",
      "metadata": {
        "id": "GMYqc-cKYJlL",
        "colab_type": "text"
      },
      "source": [
        "**Splitting String**\n",
        "\n",
        "Turn a string in a list by splitting on spaces, or some other thing"
      ]
    },
    {
      "cell_type": "code",
      "metadata": {
        "id": "eJaoPyTzYGSk",
        "colab_type": "code",
        "outputId": "21a87778-c055-49ce-84aa-a1e5e9b3a59e",
        "colab": {
          "base_uri": "https://localhost:8080/",
          "height": 34
        }
      },
      "source": [
        "#split on spaces (default)\n",
        "basic_string.split()"
      ],
      "execution_count": 0,
      "outputs": [
        {
          "output_type": "execute_result",
          "data": {
            "text/plain": [
              "['Brazilian', 'Jiu', 'Jitsu']"
            ]
          },
          "metadata": {
            "tags": []
          },
          "execution_count": 38
        }
      ]
    },
    {
      "cell_type": "code",
      "metadata": {
        "id": "jt4NbwL15MBl",
        "colab_type": "code",
        "outputId": "3a67ce1b-8dea-49ba-e9ce-7d9c8f1d5eae",
        "colab": {
          "base_uri": "https://localhost:8080/",
          "height": 34
        }
      },
      "source": [
        "result = basic_string.split()\n",
        "len(result)"
      ],
      "execution_count": 0,
      "outputs": [
        {
          "output_type": "execute_result",
          "data": {
            "text/plain": [
              "3"
            ]
          },
          "metadata": {
            "tags": []
          },
          "execution_count": 39
        }
      ]
    },
    {
      "cell_type": "code",
      "metadata": {
        "id": "z94Ajl0NZXBP",
        "colab_type": "code",
        "outputId": "5f1c4dda-9185-467a-ebe2-fefb42ce1448",
        "colab": {
          "base_uri": "https://localhost:8080/",
          "height": 34
        }
      },
      "source": [
        "#split on hyphen\n",
        "string_with_hyphen = \"Brazilian-Jiu-Jitsu\"\n",
        "string_with_hyphen.split(\"-\")"
      ],
      "execution_count": 0,
      "outputs": [
        {
          "output_type": "execute_result",
          "data": {
            "text/plain": [
              "['Brazilian', 'Jiu', 'Jitsu']"
            ]
          },
          "metadata": {
            "tags": []
          },
          "execution_count": 40
        }
      ]
    },
    {
      "cell_type": "code",
      "metadata": {
        "id": "EsPKeSMA5dnP",
        "colab_type": "code",
        "outputId": "4a42d3db-f724-4804-e25a-ac86277aa26b",
        "colab": {
          "base_uri": "https://localhost:8080/",
          "height": 34
        }
      },
      "source": [
        "#split on comma\n",
        "string_with_hyphen = \"Brazilian,Jiu,Jitsu\"\n",
        "string_with_hyphen.split(\",\")"
      ],
      "execution_count": 0,
      "outputs": [
        {
          "output_type": "execute_result",
          "data": {
            "text/plain": [
              "['Brazilian', 'Jiu', 'Jitsu']"
            ]
          },
          "metadata": {
            "tags": []
          },
          "execution_count": 41
        }
      ]
    },
    {
      "cell_type": "markdown",
      "metadata": {
        "id": "Ti9hySuGZbbX",
        "colab_type": "text"
      },
      "source": [
        "**All Capital**\n",
        "\n",
        "Turn a string into all Capital Letter"
      ]
    },
    {
      "cell_type": "code",
      "metadata": {
        "id": "y2NEPM8PZZT_",
        "colab_type": "code",
        "outputId": "458af0ad-323e-4e0f-d160-68ad7424926e",
        "colab": {
          "base_uri": "https://localhost:8080/",
          "height": 34
        }
      },
      "source": [
        "basic_string.capitalize()"
      ],
      "execution_count": 0,
      "outputs": [
        {
          "output_type": "execute_result",
          "data": {
            "text/plain": [
              "'Brazilian jiu jitsu'"
            ]
          },
          "metadata": {
            "tags": []
          },
          "execution_count": 42
        }
      ]
    },
    {
      "cell_type": "markdown",
      "metadata": {
        "id": "ZlifO6c4Zk5W",
        "colab_type": "text"
      },
      "source": [
        "**Slicing Strings**\n",
        "\n",
        "Strings can be referenced by length and sliced"
      ]
    },
    {
      "cell_type": "code",
      "metadata": {
        "id": "tBXlXz0TZh1Q",
        "colab_type": "code",
        "outputId": "b6810015-4ce1-45ea-e501-d6a867b65cce",
        "colab": {
          "base_uri": "https://localhost:8080/",
          "height": 34
        }
      },
      "source": [
        "#Get the last character\n",
        "basic_string[-1:]"
      ],
      "execution_count": 0,
      "outputs": [
        {
          "output_type": "execute_result",
          "data": {
            "text/plain": [
              "'u'"
            ]
          },
          "metadata": {
            "tags": []
          },
          "execution_count": 43
        }
      ]
    },
    {
      "cell_type": "code",
      "metadata": {
        "id": "jPN2uuLCht8E",
        "colab_type": "code",
        "outputId": "c31e6a48-93e9-4f15-9702-acbd1e3c4f32",
        "colab": {
          "base_uri": "https://localhost:8080/",
          "height": 34
        }
      },
      "source": [
        "basic_string[2:]"
      ],
      "execution_count": 0,
      "outputs": [
        {
          "output_type": "execute_result",
          "data": {
            "text/plain": [
              "'azilian Jiu Jitsu'"
            ]
          },
          "metadata": {
            "tags": []
          },
          "execution_count": 45
        }
      ]
    },
    {
      "cell_type": "code",
      "metadata": {
        "id": "dvNrJzBNyvZz",
        "colab_type": "code",
        "outputId": "452747d1-fa32-4e18-e16d-858b516bb039",
        "colab": {
          "base_uri": "https://localhost:8080/",
          "height": 34
        }
      },
      "source": [
        "len(basic_string[2:])"
      ],
      "execution_count": 0,
      "outputs": [
        {
          "output_type": "execute_result",
          "data": {
            "text/plain": [
              "17"
            ]
          },
          "metadata": {
            "tags": []
          },
          "execution_count": 46
        }
      ]
    },
    {
      "cell_type": "code",
      "metadata": {
        "id": "EhgFdziaZtPv",
        "colab_type": "code",
        "outputId": "a6e654af-d1ed-4cab-9db8-da98b4e7caa4",
        "colab": {
          "base_uri": "https://localhost:8080/",
          "height": 34
        }
      },
      "source": [
        "#Get length of string\n",
        "len(basic_string)"
      ],
      "execution_count": 0,
      "outputs": [
        {
          "output_type": "execute_result",
          "data": {
            "text/plain": [
              "19"
            ]
          },
          "metadata": {
            "tags": []
          },
          "execution_count": 47
        }
      ]
    },
    {
      "cell_type": "code",
      "metadata": {
        "id": "neXScIYHD75C",
        "colab_type": "code",
        "outputId": "028269b1-91b6-4c4f-f097-be52b634340e",
        "colab": {
          "base_uri": "https://localhost:8080/",
          "height": 34
        }
      },
      "source": [
        "basic_string[-18:]"
      ],
      "execution_count": 0,
      "outputs": [
        {
          "output_type": "execute_result",
          "data": {
            "text/plain": [
              "'razilian Jiu Jitsu'"
            ]
          },
          "metadata": {
            "tags": []
          },
          "execution_count": 48
        }
      ]
    },
    {
      "cell_type": "markdown",
      "metadata": {
        "id": "lxvtolozZy1f",
        "colab_type": "text"
      },
      "source": [
        "**Strings Can Be Added Together**"
      ]
    },
    {
      "cell_type": "code",
      "metadata": {
        "id": "eIVgqMsRZvNQ",
        "colab_type": "code",
        "outputId": "253d9e35-bd12-48f1-e40d-81fc67c1d733",
        "colab": {
          "base_uri": "https://localhost:8080/",
          "height": 34
        }
      },
      "source": [
        "basic_string + \" is my favorite Martial Art\""
      ],
      "execution_count": 0,
      "outputs": [
        {
          "output_type": "execute_result",
          "data": {
            "text/plain": [
              "'Brazilian Jiu Jitsu is my favorite Martial Art'"
            ]
          },
          "metadata": {
            "tags": []
          },
          "execution_count": 49
        }
      ]
    },
    {
      "cell_type": "code",
      "metadata": {
        "id": "tdga91RBzMb_",
        "colab_type": "code",
        "outputId": "980e1337-e493-4406-8f61-9bca122f67fb",
        "colab": {
          "base_uri": "https://localhost:8080/",
          "height": 34
        }
      },
      "source": [
        "items = [\"-\",1,2,3]\n",
        "for item in items:\n",
        "  basic_string += str(item)\n",
        "basic_string"
      ],
      "execution_count": 0,
      "outputs": [
        {
          "output_type": "execute_result",
          "data": {
            "text/plain": [
              "'Brazilian Jiu Jitsu-123'"
            ]
          },
          "metadata": {
            "tags": []
          },
          "execution_count": 50
        }
      ]
    },
    {
      "cell_type": "code",
      "metadata": {
        "id": "trK8HQJ1Mx6E",
        "colab_type": "code",
        "outputId": "31aa8907-4f2d-4811-8645-7c80af83beed",
        "colab": {
          "base_uri": "https://localhost:8080/",
          "height": 34
        }
      },
      "source": [
        "\"this is a string format: %s\" % \"wow\""
      ],
      "execution_count": 0,
      "outputs": [
        {
          "output_type": "execute_result",
          "data": {
            "text/plain": [
              "'this is a string format: wow'"
            ]
          },
          "metadata": {
            "tags": []
          },
          "execution_count": 51
        }
      ]
    },
    {
      "cell_type": "markdown",
      "metadata": {
        "id": "nNYxshNHZ6O8",
        "colab_type": "text"
      },
      "source": [
        "**F-Strings Can Be Formatted in More Complex Ways**\n",
        "\n",
        "One of the best ways to format a string in modern Python 3 is to use f-strings"
      ]
    },
    {
      "cell_type": "code",
      "metadata": {
        "id": "u_NAcD5sZ1l4",
        "colab_type": "code",
        "outputId": "33aea96a-63e4-4a4f-cb33-9f4d6abda227",
        "colab": {
          "base_uri": "https://localhost:8080/",
          "height": 34
        }
      },
      "source": [
        "f'I love practicing my favorite Martial Art, {basic_string}'"
      ],
      "execution_count": 0,
      "outputs": [
        {
          "output_type": "execute_result",
          "data": {
            "text/plain": [
              "'I love practicing my favorite Martial Art, Brazilian Jiu Jitsu-123'"
            ]
          },
          "metadata": {
            "tags": []
          },
          "execution_count": 52
        }
      ]
    },
    {
      "cell_type": "markdown",
      "metadata": {
        "id": "wlpMuwdmbui0",
        "colab_type": "text"
      },
      "source": [
        "**Strings Can Use Triple Quotes to Wrap**"
      ]
    },
    {
      "cell_type": "code",
      "metadata": {
        "id": "YWmNAWzqbT4k",
        "colab_type": "code",
        "outputId": "5fb6ef49-4f90-4759-ca1c-9f7983a323be",
        "colab": {
          "base_uri": "https://localhost:8080/",
          "height": 54
        }
      },
      "source": [
        "f\"\"\"\n",
        "This phrase is multiple sentenances long.\n",
        "There phrase can be formatted like simpler sentances,\n",
        "for example, I can still talk about my favorite Martial Art {basic_string}\n",
        "\"\"\""
      ],
      "execution_count": 0,
      "outputs": [
        {
          "output_type": "execute_result",
          "data": {
            "text/plain": [
              "'\\nThis phrase is multiple sentenances long.\\nThere phrase can be formatted like simpler sentances,\\nfor example, I can still talk about my favorite Martial Art Brazilian Jiu Jitsu-123\\n'"
            ]
          },
          "metadata": {
            "tags": []
          },
          "execution_count": 53
        }
      ]
    },
    {
      "cell_type": "markdown",
      "metadata": {
        "id": "mBuMTMQWb239",
        "colab_type": "text"
      },
      "source": [
        "**Line Breaks Can Be Removed with Replace**\n",
        "\n",
        "The last long line contained line breaks, which are the **\\n** character, and they can be removed by using the replace method"
      ]
    },
    {
      "cell_type": "code",
      "metadata": {
        "id": "K8AVf6Pibz3H",
        "colab_type": "code",
        "outputId": "1da64575-ee6e-459e-c88d-238ac07dd519",
        "colab": {
          "base_uri": "https://localhost:8080/",
          "height": 54
        }
      },
      "source": [
        "f\"\"\"\n",
        "This phrase is multiple sentenances long.\n",
        "There phrase can be formatted like simpler sentances,\n",
        "for example, I can still talk about my favorite Martial Art {basic_string}\n",
        "\"\"\".replace(\"\\n\", \"  \")"
      ],
      "execution_count": 0,
      "outputs": [
        {
          "output_type": "execute_result",
          "data": {
            "text/plain": [
              "'  This phrase is multiple sentenances long.  There phrase can be formatted like simpler sentances,  for example, I can still talk about my favorite Martial Art Brazilian Jiu Jitsu-123  '"
            ]
          },
          "metadata": {
            "tags": []
          },
          "execution_count": 55
        }
      ]
    },
    {
      "cell_type": "markdown",
      "metadata": {
        "id": "eRmipgSocZ9i",
        "colab_type": "text"
      },
      "source": [
        "#### Numbers and Arithmetic Operations\n",
        "\n",
        "Python is also a built-in calculator. Without installing any additional libraries it can do many simple and complex arithmetic operations."
      ]
    },
    {
      "cell_type": "markdown",
      "metadata": {
        "id": "xd6LxgEXcgP8",
        "colab_type": "text"
      },
      "source": [
        "**Adding and Subtracting Numbers**"
      ]
    },
    {
      "cell_type": "code",
      "metadata": {
        "id": "mKwZGBoMb6_A",
        "colab_type": "code",
        "outputId": "4ee9158a-9191-4884-c0de-9e37970697c3",
        "colab": {
          "base_uri": "https://localhost:8080/",
          "height": 34
        }
      },
      "source": [
        "steps = (1+1)-1\n",
        "print(f\"Two Steps Forward:  One Step Back = {steps}\")"
      ],
      "execution_count": 0,
      "outputs": [
        {
          "output_type": "stream",
          "text": [
            "Two Steps Forward:  One Step Back = 1\n"
          ],
          "name": "stdout"
        }
      ]
    },
    {
      "cell_type": "markdown",
      "metadata": {
        "id": "nMKS0ZYkdjvp",
        "colab_type": "text"
      },
      "source": [
        "**Multiplication with Decimals**\n",
        "\n",
        "Can use float type to solve decimal problems"
      ]
    },
    {
      "cell_type": "code",
      "metadata": {
        "id": "Xgrw0LDucinh",
        "colab_type": "code",
        "outputId": "a6205d18-4a28-488c-ebbe-37c91162df1a",
        "colab": {
          "base_uri": "https://localhost:8080/",
          "height": 34
        }
      },
      "source": [
        "body_fat_percentage = 0.10\n",
        "weight = 200\n",
        "fat_total = body_fat_percentage * weight\n",
        "print(f\"I weight 200lbs, and {fat_total}lbs of that is fat\")"
      ],
      "execution_count": 0,
      "outputs": [
        {
          "output_type": "stream",
          "text": [
            "I weight 200lbs, and 20.0lbs of that is fat\n"
          ],
          "name": "stdout"
        }
      ]
    },
    {
      "cell_type": "markdown",
      "metadata": {
        "id": "gjMkBnuxiCQW",
        "colab_type": "text"
      },
      "source": [
        "Can also use Decimal Library to set precision and deal with repeating decimal\n"
      ]
    },
    {
      "cell_type": "code",
      "metadata": {
        "id": "GN_PYDuDiBHg",
        "colab_type": "code",
        "outputId": "69da9eec-7748-4231-b53d-051a73675d53",
        "colab": {
          "base_uri": "https://localhost:8080/",
          "height": 34
        }
      },
      "source": [
        "from decimal import (Decimal, getcontext)\n",
        "\n",
        "getcontext().prec = 2\n",
        "Decimal(1)/Decimal(3)\n",
        "\n"
      ],
      "execution_count": 0,
      "outputs": [
        {
          "output_type": "execute_result",
          "data": {
            "text/plain": [
              "Decimal('0.33')"
            ]
          },
          "metadata": {
            "tags": []
          },
          "execution_count": 60
        }
      ]
    },
    {
      "cell_type": "markdown",
      "metadata": {
        "id": "f1_B6OUrdxlU",
        "colab_type": "text"
      },
      "source": [
        "**Using Exponents**\n",
        "\n",
        "Using the Python math library it is straightforward to call 2 to the 3rd power"
      ]
    },
    {
      "cell_type": "code",
      "metadata": {
        "id": "Q2oC1HVhdmB9",
        "colab_type": "code",
        "outputId": "834fa758-debf-4fac-f479-91847a931d8a",
        "colab": {
          "base_uri": "https://localhost:8080/",
          "height": 34
        }
      },
      "source": [
        "import math\n",
        "math.pow(2,4)"
      ],
      "execution_count": 0,
      "outputs": [
        {
          "output_type": "execute_result",
          "data": {
            "text/plain": [
              "16.0"
            ]
          },
          "metadata": {
            "tags": []
          },
          "execution_count": 61
        }
      ]
    },
    {
      "cell_type": "markdown",
      "metadata": {
        "id": "nkPcDry7jWt-",
        "colab_type": "text"
      },
      "source": [
        "Can also use built in exponent operator to accomplish same thing"
      ]
    },
    {
      "cell_type": "code",
      "metadata": {
        "id": "9aV-R-DljXEj",
        "colab_type": "code",
        "outputId": "578d08c1-b6b7-4e54-cb1f-f216709794dd",
        "colab": {
          "base_uri": "https://localhost:8080/",
          "height": 34
        }
      },
      "source": [
        "2**3"
      ],
      "execution_count": 0,
      "outputs": [
        {
          "output_type": "execute_result",
          "data": {
            "text/plain": [
              "8"
            ]
          },
          "metadata": {
            "tags": []
          },
          "execution_count": 62
        }
      ]
    },
    {
      "cell_type": "code",
      "metadata": {
        "id": "EOHXLdCU8R6i",
        "colab_type": "code",
        "outputId": "e50aef06-cfbf-442f-f5a6-02db389901bc",
        "colab": {
          "base_uri": "https://localhost:8080/",
          "height": 34
        }
      },
      "source": [
        "2**4"
      ],
      "execution_count": 0,
      "outputs": [
        {
          "output_type": "execute_result",
          "data": {
            "text/plain": [
              "16"
            ]
          },
          "metadata": {
            "tags": []
          },
          "execution_count": 63
        }
      ]
    },
    {
      "cell_type": "markdown",
      "metadata": {
        "id": "aYA_mApaI-Y7",
        "colab_type": "text"
      },
      "source": [
        "this is regular multiplication"
      ]
    },
    {
      "cell_type": "code",
      "metadata": {
        "id": "6A_Vdvl_I8lg",
        "colab_type": "code",
        "outputId": "fc7dc0e9-2151-48bb-992d-470ca76649fc",
        "colab": {
          "base_uri": "https://localhost:8080/",
          "height": 34
        }
      },
      "source": [
        "2*3"
      ],
      "execution_count": 0,
      "outputs": [
        {
          "output_type": "execute_result",
          "data": {
            "text/plain": [
              "6"
            ]
          },
          "metadata": {
            "tags": []
          },
          "execution_count": 64
        }
      ]
    },
    {
      "cell_type": "markdown",
      "metadata": {
        "id": "P6gOf9qtd6Nt",
        "colab_type": "text"
      },
      "source": [
        "**Converting Between different numerical types**\n",
        "\n",
        "There are many numerical forms to be aware of in Python.\n",
        "A couple of the most common are:\n",
        "\n",
        "* Integers\n",
        "* Floats"
      ]
    },
    {
      "cell_type": "code",
      "metadata": {
        "id": "XCWg7yX-d210",
        "colab_type": "code",
        "outputId": "4cc335bf-02e0-4ad6-9f70-e57a50a542e2",
        "colab": {
          "base_uri": "https://localhost:8080/",
          "height": 34
        }
      },
      "source": [
        "number = 100\n",
        "num_type = type(number).__name__\n",
        "print(f\"{number} is type [{num_type}]\")"
      ],
      "execution_count": 0,
      "outputs": [
        {
          "output_type": "stream",
          "text": [
            "100 is type [int]\n"
          ],
          "name": "stdout"
        }
      ]
    },
    {
      "cell_type": "code",
      "metadata": {
        "id": "iW2f1Ik7eAzd",
        "colab_type": "code",
        "outputId": "968c7a35-a8a4-4b62-9fc1-d59faf8e4756",
        "colab": {
          "base_uri": "https://localhost:8080/",
          "height": 34
        }
      },
      "source": [
        "number = float(100)\n",
        "num_type = type(number).__name__\n",
        "print(f\"{number} is type [{num_type}]\")"
      ],
      "execution_count": 0,
      "outputs": [
        {
          "output_type": "stream",
          "text": [
            "100.0 is type [float]\n"
          ],
          "name": "stdout"
        }
      ]
    },
    {
      "cell_type": "code",
      "metadata": {
        "id": "zrlLg22C6KbR",
        "colab_type": "code",
        "outputId": "2664bbdc-e6b3-4014-80d5-4b5e4d6926f4",
        "colab": {
          "base_uri": "https://localhost:8080/",
          "height": 34
        }
      },
      "source": [
        "num2 = 100.20\n",
        "type(num2)"
      ],
      "execution_count": 0,
      "outputs": [
        {
          "output_type": "execute_result",
          "data": {
            "text/plain": [
              "float"
            ]
          },
          "metadata": {
            "tags": []
          },
          "execution_count": 68
        }
      ]
    },
    {
      "cell_type": "code",
      "metadata": {
        "id": "5dnSfoXZFQuP",
        "colab_type": "code",
        "colab": {}
      },
      "source": [
        "class Foo:pass\n",
        "f = Foo()"
      ],
      "execution_count": 0,
      "outputs": []
    },
    {
      "cell_type": "code",
      "metadata": {
        "id": "44v5W-HdFU4J",
        "colab_type": "code",
        "outputId": "0b8c3950-8bb4-4ac9-e378-c5a69afe26c3",
        "colab": {
          "base_uri": "https://localhost:8080/",
          "height": 34
        }
      },
      "source": [
        "type(f)"
      ],
      "execution_count": 0,
      "outputs": [
        {
          "output_type": "execute_result",
          "data": {
            "text/plain": [
              "__main__.Foo"
            ]
          },
          "metadata": {
            "tags": []
          },
          "execution_count": 70
        }
      ]
    },
    {
      "cell_type": "code",
      "metadata": {
        "id": "etJtIl1Qj3tB",
        "colab_type": "code",
        "outputId": "5fd62c5f-4b64-4f4f-b6e2-6160298ffd67",
        "colab": {
          "base_uri": "https://localhost:8080/",
          "height": 34
        }
      },
      "source": [
        "def foo():pass\n",
        "print(type(foo))"
      ],
      "execution_count": 0,
      "outputs": [
        {
          "output_type": "stream",
          "text": [
            "<class 'function'>\n"
          ],
          "name": "stdout"
        }
      ]
    },
    {
      "cell_type": "markdown",
      "metadata": {
        "id": "MrrFXb99gQ1Z",
        "colab_type": "text"
      },
      "source": [
        "**Numbers can also be rounded**\n",
        "\n",
        "Python Built in round "
      ]
    },
    {
      "cell_type": "code",
      "metadata": {
        "id": "Wjtnfol2iZDL",
        "colab_type": "code",
        "outputId": "f727ed08-1b5b-47bd-9bdd-2cdb207bf539",
        "colab": {
          "base_uri": "https://localhost:8080/",
          "height": 34
        }
      },
      "source": [
        "too_many_decimals = 1.912345897\n",
        "round(too_many_decimals, 6)\n",
        "#get more info\n",
        "#round?"
      ],
      "execution_count": 0,
      "outputs": [
        {
          "output_type": "execute_result",
          "data": {
            "text/plain": [
              "1.912346"
            ]
          },
          "metadata": {
            "tags": []
          },
          "execution_count": 72
        }
      ]
    },
    {
      "cell_type": "markdown",
      "metadata": {
        "id": "SuJDUTLFWUJz",
        "colab_type": "text"
      },
      "source": [
        "Numpy round"
      ]
    },
    {
      "cell_type": "code",
      "metadata": {
        "id": "PEabuAGGWXIF",
        "colab_type": "code",
        "outputId": "a597c85d-cac5-4beb-cfe6-77d7d42e2955",
        "colab": {
          "base_uri": "https://localhost:8080/",
          "height": 34
        }
      },
      "source": [
        "import numpy as np\n",
        "np.round(too_many_decimals, 6)"
      ],
      "execution_count": 0,
      "outputs": [
        {
          "output_type": "execute_result",
          "data": {
            "text/plain": [
              "1.912346"
            ]
          },
          "metadata": {
            "tags": []
          },
          "execution_count": 73
        }
      ]
    },
    {
      "cell_type": "markdown",
      "metadata": {
        "id": "X3aHIe6qW8ab",
        "colab_type": "text"
      },
      "source": [
        "Pandas round"
      ]
    },
    {
      "cell_type": "code",
      "metadata": {
        "id": "J-x_sjiZW-gB",
        "colab_type": "code",
        "outputId": "dfa87a87-54fe-43bf-f57b-dcfd59744510",
        "colab": {
          "base_uri": "https://localhost:8080/",
          "height": 79
        }
      },
      "source": [
        "import pandas as pd\n",
        "df = pd.DataFrame([too_many_decimals], columns=[\"A\"], index=[\"first\"])\n",
        "df.round(2)\n"
      ],
      "execution_count": 0,
      "outputs": [
        {
          "output_type": "execute_result",
          "data": {
            "text/html": [
              "<div>\n",
              "<style scoped>\n",
              "    .dataframe tbody tr th:only-of-type {\n",
              "        vertical-align: middle;\n",
              "    }\n",
              "\n",
              "    .dataframe tbody tr th {\n",
              "        vertical-align: top;\n",
              "    }\n",
              "\n",
              "    .dataframe thead th {\n",
              "        text-align: right;\n",
              "    }\n",
              "</style>\n",
              "<table border=\"1\" class=\"dataframe\">\n",
              "  <thead>\n",
              "    <tr style=\"text-align: right;\">\n",
              "      <th></th>\n",
              "      <th>A</th>\n",
              "    </tr>\n",
              "  </thead>\n",
              "  <tbody>\n",
              "    <tr>\n",
              "      <th>first</th>\n",
              "      <td>1.91</td>\n",
              "    </tr>\n",
              "  </tbody>\n",
              "</table>\n",
              "</div>"
            ],
            "text/plain": [
              "          A\n",
              "first  1.91"
            ]
          },
          "metadata": {
            "tags": []
          },
          "execution_count": 74
        }
      ]
    },
    {
      "cell_type": "markdown",
      "metadata": {
        "id": "elnncfa0XtOt",
        "colab_type": "text"
      },
      "source": [
        "Simple benchmark of all three (**Python**, **numpy** and **Pandas** round):   using **%timeit**\n",
        "\n",
        "*Depending on what is getting rounded (i.e. a very large DataFrame, performance may very, so knowing how to benchmark performance is important with round) *\n"
      ]
    },
    {
      "cell_type": "code",
      "metadata": {
        "id": "Yr1SXcF5Xw-L",
        "colab_type": "code",
        "outputId": "58f02f0b-40b0-48a8-bdb3-df2db11ba1e3",
        "colab": {
          "base_uri": "https://localhost:8080/",
          "height": 174
        }
      },
      "source": [
        "print(\"built in Python Round\")\n",
        "%timeit round(too_many_decimals, 2)\n",
        "\n",
        "print(\"numpy round\")\n",
        "%timeit np.round(too_many_decimals, 2)\n",
        "\n",
        "print(\"Pandas DataFrame round\")\n",
        "%timeit df.round(2)"
      ],
      "execution_count": 0,
      "outputs": [
        {
          "output_type": "stream",
          "text": [
            "built in Python Round\n",
            "The slowest run took 330.00 times longer than the fastest. This could mean that an intermediate result is being cached.\n",
            "1000000 loops, best of 3: 488 ns per loop\n",
            "numpy round\n",
            "The slowest run took 6.90 times longer than the fastest. This could mean that an intermediate result is being cached.\n",
            "100000 loops, best of 3: 10.1 µs per loop\n",
            "Pandas DataFrame round\n",
            "1000 loops, best of 3: 1.06 ms per loop\n"
          ],
          "name": "stdout"
        }
      ]
    },
    {
      "cell_type": "markdown",
      "metadata": {
        "id": "CuJ2OPSZiewO",
        "colab_type": "text"
      },
      "source": [
        "### Data Structures\n",
        "Python has a couple of core Data Structures that are used very frequently\n",
        "\n",
        "* Lists\n",
        "* Dictionaries\n",
        "\n",
        "Dictionaries and lists are the real workhorses of Python, but there are also other Data Structers like tuples, sets, Counters, etc, that are worth exploring too."
      ]
    },
    {
      "cell_type": "markdown",
      "metadata": {
        "id": "rYrg60aboNTc",
        "colab_type": "text"
      },
      "source": [
        "#### Python Dictionaries\n",
        "\n",
        "The workhorse of Python datastructures"
      ]
    },
    {
      "cell_type": "markdown",
      "metadata": {
        "id": "TJgbX5wb7yHD",
        "colab_type": "text"
      },
      "source": [
        "##### Creating Python Dictionaries\n",
        "\n",
        "Creating Python Dictionaries can be done with* brackets {}*"
      ]
    },
    {
      "cell_type": "code",
      "metadata": {
        "id": "lPJxAjedZGGg",
        "colab_type": "code",
        "colab": {}
      },
      "source": [
        "#bad_dictionary = {[2]:\"one\"}"
      ],
      "execution_count": 0,
      "outputs": []
    },
    {
      "cell_type": "code",
      "metadata": {
        "id": "VtlC50y3GLam",
        "colab_type": "code",
        "colab": {}
      },
      "source": [
        "new_dictionary = {\"one\":1}"
      ],
      "execution_count": 0,
      "outputs": []
    },
    {
      "cell_type": "code",
      "metadata": {
        "id": "IEi6YTS2iZj7",
        "colab_type": "code",
        "outputId": "1d4387c2-cc0d-414f-b172-c3a10318a6b0",
        "colab": {
          "base_uri": "https://localhost:8080/",
          "height": 86
        }
      },
      "source": [
        "submissions = {\"armbar\": \"upper_body\", \n",
        "               \"arm_triangle\": \"upper_body\", \n",
        "               \"heel_hook\": \"lower_body\", \n",
        "               \"knee_bar\": \"lower_body\"}\n",
        "#type(submissions)\n",
        "#submissions.items?\n",
        "submissions"
      ],
      "execution_count": 0,
      "outputs": [
        {
          "output_type": "execute_result",
          "data": {
            "text/plain": [
              "{'arm_triangle': 'upper_body',\n",
              " 'armbar': 'upper_body',\n",
              " 'heel_hook': 'lower_body',\n",
              " 'knee_bar': 'lower_body'}"
            ]
          },
          "metadata": {
            "tags": []
          },
          "execution_count": 79
        }
      ]
    },
    {
      "cell_type": "code",
      "metadata": {
        "id": "4guKbqgfink8",
        "colab_type": "code",
        "outputId": "26379843-b7c8-4af0-e92b-8e26f4df72bb",
        "colab": {
          "base_uri": "https://localhost:8080/",
          "height": 34
        }
      },
      "source": [
        "new_dict =dict(upper_body=\"lower_body\")\n",
        "new_dict"
      ],
      "execution_count": 0,
      "outputs": [
        {
          "output_type": "execute_result",
          "data": {
            "text/plain": [
              "{'upper_body': 'lower_body'}"
            ]
          },
          "metadata": {
            "tags": []
          },
          "execution_count": 80
        }
      ]
    },
    {
      "cell_type": "markdown",
      "metadata": {
        "id": "TjNRS-YOjYxw",
        "colab_type": "text"
      },
      "source": [
        "##### Using Python Dictionaries\n",
        "A common dictionary usage pattern is to *iterate* on a dictionary by using the items method. In the example below the key and the value are printed:"
      ]
    },
    {
      "cell_type": "code",
      "metadata": {
        "id": "oE1bzsiFGaOj",
        "colab_type": "code",
        "colab": {}
      },
      "source": [
        "#submissions.items?\n"
      ],
      "execution_count": 0,
      "outputs": []
    },
    {
      "cell_type": "code",
      "metadata": {
        "id": "kW1UR_yMi5bl",
        "colab_type": "code",
        "outputId": "f1e9ba84-6d19-4aa0-be57-e12bb8fda1e8",
        "colab": {
          "base_uri": "https://localhost:8080/",
          "height": 86
        }
      },
      "source": [
        "for submission, body_part in submissions.items():\n",
        "    print(f\"The {submission} is an attack on the {body_part}\")"
      ],
      "execution_count": 0,
      "outputs": [
        {
          "output_type": "stream",
          "text": [
            "The armbar is an attack on the upper_body\n",
            "The arm_triangle is an attack on the upper_body\n",
            "The heel_hook is an attack on the lower_body\n",
            "The knee_bar is an attack on the lower_body\n"
          ],
          "name": "stdout"
        }
      ]
    },
    {
      "cell_type": "markdown",
      "metadata": {
        "id": "5cue3xbzjfhF",
        "colab_type": "text"
      },
      "source": [
        "Dictionaries can also be used to *filter*.  In the example below, only the submission attacks on the lower body are displayed:"
      ]
    },
    {
      "cell_type": "code",
      "metadata": {
        "id": "c00Rxx84HAES",
        "colab_type": "code",
        "outputId": "4c864a3f-f2fe-4f0c-9468-8026c7ac49a0",
        "colab": {
          "base_uri": "https://localhost:8080/",
          "height": 86
        }
      },
      "source": [
        "for _, body_parts in submissions.items():\n",
        "  print(body_parts)"
      ],
      "execution_count": 0,
      "outputs": [
        {
          "output_type": "stream",
          "text": [
            "upper_body\n",
            "upper_body\n",
            "lower_body\n",
            "lower_body\n"
          ],
          "name": "stdout"
        }
      ]
    },
    {
      "cell_type": "code",
      "metadata": {
        "id": "buIoEo_Ajc1-",
        "colab_type": "code",
        "outputId": "851a6ff1-445d-449b-96bb-f0511bbc7cc3",
        "colab": {
          "base_uri": "https://localhost:8080/",
          "height": 68
        }
      },
      "source": [
        "print(f\"These are lower_body submission attacks in Brazilian Jiu Jitsu:\")\n",
        "for submission, body_part in submissions.items():\n",
        "    if body_part == \"lower_body\":\n",
        "        print(submission)"
      ],
      "execution_count": 0,
      "outputs": [
        {
          "output_type": "stream",
          "text": [
            "These are lower_body submission attacks in Brazilian Jiu Jitsu:\n",
            "heel_hook\n",
            "knee_bar\n"
          ],
          "name": "stdout"
        }
      ]
    },
    {
      "cell_type": "markdown",
      "metadata": {
        "id": "9jkR5VTHjsc2",
        "colab_type": "text"
      },
      "source": [
        "Dictionary keys and values can also be selected with built in *keys() * and *values()* methods"
      ]
    },
    {
      "cell_type": "code",
      "metadata": {
        "id": "SviUgzEfjjD-",
        "colab_type": "code",
        "outputId": "37c5a9ea-95b8-4fda-bb77-a7cc9a78103f",
        "colab": {
          "base_uri": "https://localhost:8080/",
          "height": 51
        }
      },
      "source": [
        "print(f\"These are keys: {submissions.keys()}\")\n",
        "print(f\"These are values: {submissions.values()}\")"
      ],
      "execution_count": 0,
      "outputs": [
        {
          "output_type": "stream",
          "text": [
            "These are keys: dict_keys(['armbar', 'arm_triangle', 'heel_hook', 'knee_bar'])\n",
            "These are values: dict_values(['upper_body', 'upper_body', 'lower_body', 'lower_body'])\n"
          ],
          "name": "stdout"
        }
      ]
    },
    {
      "cell_type": "markdown",
      "metadata": {
        "id": "sgPM6V_slmoy",
        "colab_type": "text"
      },
      "source": [
        "Key lookup is very performant, and one of the most common ways to use a dictionary."
      ]
    },
    {
      "cell_type": "code",
      "metadata": {
        "id": "lOn5k2kRmk4K",
        "colab_type": "code",
        "outputId": "12ef6763-39f6-4d08-c75f-26684b0b6938",
        "colab": {
          "base_uri": "https://localhost:8080/",
          "height": 34
        }
      },
      "source": [
        "if \"armbar\" in submissions:\n",
        "  print(\"found key\")\n",
        "  "
      ],
      "execution_count": 0,
      "outputs": [
        {
          "output_type": "stream",
          "text": [
            "found key\n"
          ],
          "name": "stdout"
        }
      ]
    },
    {
      "cell_type": "code",
      "metadata": {
        "id": "ORI3ZxbqntAG",
        "colab_type": "code",
        "outputId": "c836111b-5a3d-4fb1-bd90-c0ee40ed9ff9",
        "colab": {
          "base_uri": "https://localhost:8080/",
          "height": 51
        }
      },
      "source": [
        "print(\"timing key membership\")\n",
        "%timeit if \"armbar\" in submissions: pass "
      ],
      "execution_count": 0,
      "outputs": [
        {
          "output_type": "stream",
          "text": [
            "timing key membership\n",
            "10000000 loops, best of 3: 33 ns per loop\n"
          ],
          "name": "stdout"
        }
      ]
    },
    {
      "cell_type": "markdown",
      "metadata": {
        "id": "IyHkox1Rj66y",
        "colab_type": "text"
      },
      "source": [
        "#### Python Lists\n",
        "\n",
        "Lists are also very commonly used in Python. They allow for sequential collections. Lists can hold dictionaries, just as dictionaries can hold lists."
      ]
    },
    {
      "cell_type": "markdown",
      "metadata": {
        "id": "Xo7IMK567yHQ",
        "colab_type": "text"
      },
      "source": [
        "##### Creating Lists\n",
        "\n",
        "One way to create lists is with *[] syntax*"
      ]
    },
    {
      "cell_type": "code",
      "metadata": {
        "id": "MI-S0FStj1o4",
        "colab_type": "code",
        "colab": {}
      },
      "source": [
        "list_of_bjj_positions = [\"mount\", \"full-guard\", \"half-guard\", \n",
        "                         \"turtle\", \"side-control\", \"rear-mount\", \n",
        "                         \"knee-on-belly\", \"north-south\", \"open-guard\"]"
      ],
      "execution_count": 0,
      "outputs": []
    },
    {
      "cell_type": "markdown",
      "metadata": {
        "id": "WUgrRDDsoobr",
        "colab_type": "text"
      },
      "source": [
        "Another method os creating lists is with built in *list()* method\n"
      ]
    },
    {
      "cell_type": "code",
      "metadata": {
        "id": "o-3IP2FOw9yi",
        "colab_type": "code",
        "outputId": "4d27b751-ef7d-41e3-dde5-b416ca751be9",
        "colab": {
          "base_uri": "https://localhost:8080/",
          "height": 34
        }
      },
      "source": [
        "bjj_dominant_positions = list()\n",
        "bjj_dominant_positions.append(\"side-control\")\n",
        "bjj_dominant_positions.append(\"mount\")\n",
        "bjj_dominant_positions\n"
      ],
      "execution_count": 0,
      "outputs": [
        {
          "output_type": "execute_result",
          "data": {
            "text/plain": [
              "['side-control', 'mount']"
            ]
          },
          "metadata": {
            "tags": []
          },
          "execution_count": 88
        }
      ]
    },
    {
      "cell_type": "markdown",
      "metadata": {
        "id": "i1gjso964T1T",
        "colab_type": "text"
      },
      "source": [
        "Yet another way, very performant way to create lists is to use list comprehension syntax"
      ]
    },
    {
      "cell_type": "code",
      "metadata": {
        "id": "QeQt8XD_4T-D",
        "colab_type": "code",
        "outputId": "c88a3636-a8d2-4702-8f17-800dc3baa187",
        "colab": {
          "base_uri": "https://localhost:8080/",
          "height": 34
        }
      },
      "source": [
        "guards = \"full, half, open\"\n",
        "guard_list = [f\"{guard}-guard\" for guard in guards.split(\",\")]\n",
        "guard_list\n"
      ],
      "execution_count": 0,
      "outputs": [
        {
          "output_type": "execute_result",
          "data": {
            "text/plain": [
              "['full-guard', ' half-guard', ' open-guard']"
            ]
          },
          "metadata": {
            "tags": []
          },
          "execution_count": 89
        }
      ]
    },
    {
      "cell_type": "markdown",
      "metadata": {
        "id": "CBDIYoFB7yHS",
        "colab_type": "text"
      },
      "source": [
        "##### Using Lists\n",
        "\n",
        "For loops are one of the simplist ways to use a list."
      ]
    },
    {
      "cell_type": "code",
      "metadata": {
        "id": "EoFWVpKYj94o",
        "colab_type": "code",
        "outputId": "8fe6a841-3080-4e1e-c8bc-062a7a6547ed",
        "colab": {
          "base_uri": "https://localhost:8080/",
          "height": 34
        }
      },
      "source": [
        "for position in list_of_bjj_positions:\n",
        "    if \"open\" in position: #explore on your own \"guard\"\n",
        "        print(position)"
      ],
      "execution_count": 0,
      "outputs": [
        {
          "output_type": "stream",
          "text": [
            "open-guard\n"
          ],
          "name": "stdout"
        }
      ]
    },
    {
      "cell_type": "markdown",
      "metadata": {
        "id": "YAMxQJobkCy8",
        "colab_type": "text"
      },
      "source": [
        "Lists can also be used to select elements by slicing."
      ]
    },
    {
      "cell_type": "code",
      "metadata": {
        "id": "Zi6PKsRIkAl_",
        "colab_type": "code",
        "outputId": "81369c15-c103-4ba6-b080-d5087aa85e05",
        "colab": {
          "base_uri": "https://localhost:8080/",
          "height": 68
        }
      },
      "source": [
        "print(f'First position: {list_of_bjj_positions[:1]}')\n",
        "print(f'Last position: {list_of_bjj_positions[-1:]}')\n",
        "print(f'First three positions: {list_of_bjj_positions[0:3]}')"
      ],
      "execution_count": 0,
      "outputs": [
        {
          "output_type": "stream",
          "text": [
            "First position: ['mount']\n",
            "Last position: ['open-guard']\n",
            "First three positions: ['mount', 'full-guard', 'half-guard']\n"
          ],
          "name": "stdout"
        }
      ]
    },
    {
      "cell_type": "markdown",
      "metadata": {
        "id": "XgxwgI1I7Ex3",
        "colab_type": "text"
      },
      "source": [
        "Lists can also be used to unpack powerful, succinct statements when used with built-in functions like zip.\n"
      ]
    },
    {
      "cell_type": "code",
      "metadata": {
        "id": "nkaMbTx77ddw",
        "colab_type": "code",
        "outputId": "ee9e0fb4-fdac-4277-9f88-e729dd587f17",
        "colab": {
          "base_uri": "https://localhost:8080/",
          "height": 86
        }
      },
      "source": [
        "bjj_position_matrix = [\n",
        "    [\"dominant\", \"top-mount\", \"back-mount\", \"side-control\"],\n",
        "    [\"neutral\", \"open-guard\", \"full-guard\", \"standing\"],\n",
        "    [\"weak\", \"turtle\", \"bottom-back-mount\", \"bottom-mount\"]\n",
        "]\n",
        "list(zip(*bjj_position_matrix))"
      ],
      "execution_count": 0,
      "outputs": [
        {
          "output_type": "execute_result",
          "data": {
            "text/plain": [
              "[('dominant', 'neutral', 'weak'),\n",
              " ('top-mount', 'open-guard', 'turtle'),\n",
              " ('back-mount', 'full-guard', 'bottom-back-mount'),\n",
              " ('side-control', 'standing', 'bottom-mount')]"
            ]
          },
          "metadata": {
            "tags": []
          },
          "execution_count": 92
        }
      ]
    },
    {
      "cell_type": "code",
      "metadata": {
        "id": "9ZA34gKvCi39",
        "colab_type": "code",
        "colab": {}
      },
      "source": [
        "zip?"
      ],
      "execution_count": 0,
      "outputs": []
    },
    {
      "cell_type": "markdown",
      "metadata": {
        "id": "YXalviiD7yHZ",
        "colab_type": "text"
      },
      "source": [
        "#### Python Sets\n",
        "\n",
        "Sets are unordered unique collections"
      ]
    },
    {
      "cell_type": "markdown",
      "metadata": {
        "id": "1y5ahhJ699Gp",
        "colab_type": "text"
      },
      "source": [
        "##### Creating Python Sets\n",
        "\n",
        "Sets can be created by using built-in *sets()* method\n"
      ]
    },
    {
      "cell_type": "code",
      "metadata": {
        "id": "ZT4d5Dxw9V4X",
        "colab_type": "code",
        "outputId": "ac0908cd-d73f-4f83-8bc6-b54c5387d9f9",
        "colab": {
          "base_uri": "https://localhost:8080/",
          "height": 51
        }
      },
      "source": [
        "unique_attacks = set((\"armbar\",\"armbar\", \"armbar\", \"kimura\", \"kimura\"))\n",
        "print(type(unique_attacks))\n",
        "unique_attacks"
      ],
      "execution_count": 0,
      "outputs": [
        {
          "output_type": "stream",
          "text": [
            "<class 'set'>\n"
          ],
          "name": "stdout"
        },
        {
          "output_type": "execute_result",
          "data": {
            "text/plain": [
              "{'armbar', 'kimura'}"
            ]
          },
          "metadata": {
            "tags": []
          },
          "execution_count": 93
        }
      ]
    },
    {
      "cell_type": "markdown",
      "metadata": {
        "id": "Kj_JgH317yHZ",
        "colab_type": "text"
      },
      "source": [
        "##### Using Sets\n",
        "\n",
        "One of the most powerful ways to use sets is to find the differences between to collections"
      ]
    },
    {
      "cell_type": "code",
      "metadata": {
        "id": "zbAUyYgk_c0s",
        "colab_type": "code",
        "outputId": "1dcc213f-24e0-47ea-dd20-d57835428fa2",
        "colab": {
          "base_uri": "https://localhost:8080/",
          "height": 34
        }
      },
      "source": [
        "attacks_set_one = set((\"armbar\", \"kimura\", \"heal-hook\"))\n",
        "attacks_set_two = set((\"toe-hold\", \"knee-bar\", \"heal-hook\"))\n",
        "unique_set_one_attacks = attacks_set_one - attacks_set_two\n",
        "print(f\"Unique Set One Attacks {unique_set_one_attacks}\")\n"
      ],
      "execution_count": 0,
      "outputs": [
        {
          "output_type": "stream",
          "text": [
            "Unique Set One Attacks {'kimura', 'armbar'}\n"
          ],
          "name": "stdout"
        }
      ]
    },
    {
      "cell_type": "markdown",
      "metadata": {
        "id": "ZTmBkJG0Xud_",
        "colab_type": "text"
      },
      "source": [
        "Question:  \n",
        "\n",
        "Q: set() is used to select unique values. what is its performance for a deep learning large data sets. in large data sets, if set() is not performant enough, what are the alternatives?"
      ]
    },
    {
      "cell_type": "markdown",
      "metadata": {
        "id": "1wY-GUQc3te-",
        "colab_type": "text"
      },
      "source": [
        "## Part 1.2 Functions \n",
        "\n",
        "* [Read related material covered in Chapter 1 (Functions Section) of Pragmatic AI](https://www.safaribooksonline.com/library/view/pragmatic-ai-an/9780134863924/ch01.xhtml#ch01lev1sub17)\n",
        "\n",
        "* [Watch video section 2:  Writing and Applying Functions](https://www.safaribooksonline.com/videos/essential-machine-learning/9780135261118/9780135261118-EMLA_01_02_00) \n",
        "\n",
        "*  **Writing Functions**\n",
        "*  Function arguments:  positional, keyword\n",
        "*  Functional Currying:  Passing uncalled functions\n",
        "*  Functions that Yield\n",
        "*  Decorators:  Functions that wrap other functions\n",
        "*  Making Classes Behave Like Functions\n",
        "*  Applying a Function to a Pandas DataFrame\n",
        "*  Writing Lambdas"
      ]
    },
    {
      "cell_type": "markdown",
      "metadata": {
        "id": "8JmjS2H33wZP",
        "colab_type": "text"
      },
      "source": [
        "#### Writing Functions\n",
        "Learning to write a function is the most fundamental skill to learn in Python.  With a basic mastery of functions, it is possible to have an almost full command of the language."
      ]
    },
    {
      "cell_type": "markdown",
      "metadata": {
        "id": "RHsiAy8N3-Cj",
        "colab_type": "text"
      },
      "source": [
        "**Simple function**\n",
        "\n",
        "The simplest functions just return a value."
      ]
    },
    {
      "cell_type": "code",
      "metadata": {
        "id": "YsngH1Yh4BP3",
        "colab_type": "code",
        "colab": {}
      },
      "source": [
        "def favorite_martial_art():\n",
        "    return \"bjj\""
      ],
      "execution_count": 0,
      "outputs": []
    },
    {
      "cell_type": "code",
      "metadata": {
        "id": "hL4eSHZjjLSe",
        "colab_type": "code",
        "outputId": "cf6f4c3c-97d3-4bbd-a8a4-d6e5406c73e4",
        "colab": {
          "base_uri": "https://localhost:8080/",
          "height": 51
        }
      },
      "source": [
        "print(favorite_martial_art())\n",
        "# This is the same output\n",
        "my_variable = \"bjj\"\n",
        "my_variable"
      ],
      "execution_count": 0,
      "outputs": [
        {
          "output_type": "stream",
          "text": [
            "bjj\n"
          ],
          "name": "stdout"
        },
        {
          "output_type": "execute_result",
          "data": {
            "text/plain": [
              "'bjj'"
            ]
          },
          "metadata": {
            "tags": []
          },
          "execution_count": 96
        }
      ]
    },
    {
      "cell_type": "code",
      "metadata": {
        "id": "lq9VQm0V4BTE",
        "colab_type": "code",
        "colab": {}
      },
      "source": [
        "def myfunc():pass"
      ],
      "execution_count": 0,
      "outputs": []
    },
    {
      "cell_type": "code",
      "metadata": {
        "id": "CCYhFgvvjGHt",
        "colab_type": "code",
        "outputId": "fc8d30f3-b5bf-4db9-ca9b-e4a512d2a107",
        "colab": {
          "base_uri": "https://localhost:8080/",
          "height": 34
        }
      },
      "source": [
        "res = myfunc()\n",
        "print(res)\n",
        "#result = myfunc()\n",
        "#print(result)"
      ],
      "execution_count": 0,
      "outputs": [
        {
          "output_type": "stream",
          "text": [
            "None\n"
          ],
          "name": "stdout"
        }
      ]
    },
    {
      "cell_type": "markdown",
      "metadata": {
        "id": "AMPU657F4JWF",
        "colab_type": "text"
      },
      "source": [
        "**Documenting Functions**\n",
        "\n",
        "It is a very good idea to document functions.  \n",
        "In Jupyter Notebook and IPython docstrings can be viewed by referring to the function with a ?.  ie.\n",
        "\n",
        "```\n",
        "In [2]: favorite_martial_art_with_docstring?\n",
        "Signature: favorite_martial_art_with_docstring()\n",
        "Docstring: This function returns the name of my favorite martial art\n",
        "File:      ~/src/functional_intro_to_python/<ipython-input-1-bef983c31735>\n",
        "Type:      function\n",
        "```"
      ]
    },
    {
      "cell_type": "code",
      "metadata": {
        "id": "ZKOHmIxg4Ply",
        "colab_type": "code",
        "colab": {}
      },
      "source": [
        "def favorite_martial_art_with_docstring():\n",
        "    \"\"\"This function returns the name of my favorite martial art\n",
        "    This is more\n",
        "    This is even more\n",
        "    return \"string\"\n",
        "    \"\"\"\n",
        "    return \"bjj\""
      ],
      "execution_count": 0,
      "outputs": []
    },
    {
      "cell_type": "markdown",
      "metadata": {
        "id": "8OW1SbDg4Rd1",
        "colab_type": "text"
      },
      "source": [
        "**Docstrings of functions can be printed out by referring to *```__doc__```*** "
      ]
    },
    {
      "cell_type": "code",
      "metadata": {
        "id": "SuI6CO-E4ViO",
        "colab_type": "code",
        "outputId": "fd5a8841-f998-4dd4-8d10-557603009cca",
        "colab": {
          "base_uri": "https://localhost:8080/",
          "height": 54
        }
      },
      "source": [
        "favorite_martial_art_with_docstring.__doc__\n",
        "#favorite_martial_art_with_docstring?\n"
      ],
      "execution_count": 0,
      "outputs": [
        {
          "output_type": "execute_result",
          "data": {
            "text/plain": [
              "'This function returns the name of my favorite martial art\\n    This is more\\n    This is even more\\n    return \"string\"\\n    '"
            ]
          },
          "metadata": {
            "tags": []
          },
          "execution_count": 101
        }
      ]
    },
    {
      "cell_type": "code",
      "metadata": {
        "id": "DeanvrdvKTV6",
        "colab_type": "code",
        "colab": {}
      },
      "source": [
        "#favorite_martial_art_with_docstring?"
      ],
      "execution_count": 0,
      "outputs": []
    },
    {
      "cell_type": "markdown",
      "metadata": {
        "id": "ew4-TwH84YJa",
        "colab_type": "text"
      },
      "source": [
        "#### Function arguments: positional, keyword\n",
        "\n",
        "A function is most useful when arguments are passed to the function. New values for times are processed inside the function. This function is also a 'positional' argument, vs a keyword argument. Positional arguments are processed in the order they are created in."
      ]
    },
    {
      "cell_type": "code",
      "metadata": {
        "id": "rxL-hyuL4aws",
        "colab_type": "code",
        "colab": {}
      },
      "source": [
        "def practice(times):\n",
        "    print(f\"I like to practice {times} times a day\")"
      ],
      "execution_count": 0,
      "outputs": []
    },
    {
      "cell_type": "code",
      "metadata": {
        "id": "WqDUN33f4cyf",
        "colab_type": "code",
        "outputId": "24078214-a667-41df-c13d-986a06b10d7a",
        "colab": {
          "base_uri": "https://localhost:8080/",
          "height": 34
        }
      },
      "source": [
        "practice(2)"
      ],
      "execution_count": 0,
      "outputs": [
        {
          "output_type": "stream",
          "text": [
            "I like to practice 2 times a day\n"
          ],
          "name": "stdout"
        }
      ]
    },
    {
      "cell_type": "code",
      "metadata": {
        "id": "C8h7Jo0y4ggH",
        "colab_type": "code",
        "outputId": "d84b33dc-680e-483a-ade3-fbd711bf3d4d",
        "colab": {
          "base_uri": "https://localhost:8080/",
          "height": 34
        }
      },
      "source": [
        "practice(3)"
      ],
      "execution_count": 0,
      "outputs": [
        {
          "output_type": "stream",
          "text": [
            "I like to practice 3 times a day\n"
          ],
          "name": "stdout"
        }
      ]
    },
    {
      "cell_type": "markdown",
      "metadata": {
        "id": "LILwF-Nt4iTm",
        "colab_type": "text"
      },
      "source": [
        "**Positional Arguments are processed in order**\n",
        "\n",
        "Note, *position* is the key to pay attention to.\n",
        "\n"
      ]
    },
    {
      "cell_type": "code",
      "metadata": {
        "id": "Aw6DSXR64oVx",
        "colab_type": "code",
        "colab": {}
      },
      "source": [
        "def practice(times, technique, duration):\n",
        "    print(f\"I like to practice {technique}, {times} times a day, for {duration} minutes\")"
      ],
      "execution_count": 0,
      "outputs": []
    },
    {
      "cell_type": "code",
      "metadata": {
        "id": "3Gq1XUkB4qtM",
        "colab_type": "code",
        "outputId": "47439bef-06f9-40b1-9f90-0c128a1067b5",
        "colab": {
          "base_uri": "https://localhost:8080/",
          "height": 34
        }
      },
      "source": [
        "practice(4, \"jump rope\", 45)"
      ],
      "execution_count": 0,
      "outputs": [
        {
          "output_type": "stream",
          "text": [
            "I like to practice jump rope, 4 times a day, for 45 minutes\n"
          ],
          "name": "stdout"
        }
      ]
    },
    {
      "cell_type": "code",
      "metadata": {
        "id": "Sv9WBxWzuWAy",
        "colab_type": "code",
        "outputId": "9405aa2f-3352-493d-d53f-92266f20d174",
        "colab": {
          "base_uri": "https://localhost:8080/",
          "height": 34
        }
      },
      "source": [
        "#Order is important, now the entire is incorrect and prints out nonsense\n",
        "practice(\"piano\", 7,60)"
      ],
      "execution_count": 0,
      "outputs": [
        {
          "output_type": "stream",
          "text": [
            "I like to practice 7, piano times a day, for 60 minutes\n"
          ],
          "name": "stdout"
        }
      ]
    },
    {
      "cell_type": "markdown",
      "metadata": {
        "id": "ntX-r2Bp4uTw",
        "colab_type": "text"
      },
      "source": [
        "**Keyword Arguments are processed by key, value and can have default values**\n",
        "\n",
        "One handy feature of keyword arguments is that you can set defaults and only change the defaults you want to change."
      ]
    },
    {
      "cell_type": "code",
      "metadata": {
        "id": "cSIg9mKs4zg_",
        "colab_type": "code",
        "colab": {}
      },
      "source": [
        "def practice(times=2, technique=\"python\", duration=60):\n",
        "    print(f\"I like to practice {technique}, {times} times a day, for {duration} minutes\")"
      ],
      "execution_count": 0,
      "outputs": []
    },
    {
      "cell_type": "code",
      "metadata": {
        "id": "Be5uDA_d41dg",
        "colab_type": "code",
        "outputId": "453e1139-3488-4a53-b070-ea423d789abc",
        "colab": {
          "base_uri": "https://localhost:8080/",
          "height": 34
        }
      },
      "source": [
        "practice()"
      ],
      "execution_count": 0,
      "outputs": [
        {
          "output_type": "stream",
          "text": [
            "I like to practice python, 2 times a day, for 60 minutes\n"
          ],
          "name": "stdout"
        }
      ]
    },
    {
      "cell_type": "code",
      "metadata": {
        "id": "qOwB-4Dz43HQ",
        "colab_type": "code",
        "outputId": "882886f5-7007-47f0-8d52-11469403cbd7",
        "colab": {
          "base_uri": "https://localhost:8080/",
          "height": 34
        }
      },
      "source": [
        "practice(duration=90, times=4)"
      ],
      "execution_count": 0,
      "outputs": [
        {
          "output_type": "stream",
          "text": [
            "I like to practice python, 4 times a day, for 90 minutes\n"
          ],
          "name": "stdout"
        }
      ]
    },
    {
      "cell_type": "markdown",
      "metadata": {
        "id": "2wBL_tQ846Qd",
        "colab_type": "text"
      },
      "source": [
        "*****args and ****kwargs\n",
        "\n",
        "allow dynamic argument passing to functions\n",
        "Should be used with discretion because it can make code hard to understand"
      ]
    },
    {
      "cell_type": "code",
      "metadata": {
        "id": "gJtpL1Ad5IUH",
        "colab_type": "code",
        "colab": {}
      },
      "source": [
        "def attack_techniques(**kwargs):\n",
        "    \"\"\"This accepts any number of keyword arguments\"\"\"\n",
        "    \n",
        "    for name, attack in kwargs.items():\n",
        "        print(f\"This is an attack I would like to practice: {attack}\")"
      ],
      "execution_count": 0,
      "outputs": []
    },
    {
      "cell_type": "code",
      "metadata": {
        "id": "ODHgMleb5KVa",
        "colab_type": "code",
        "outputId": "0c2c8070-5578-4f0f-9275-01652b0c62fa",
        "colab": {
          "base_uri": "https://localhost:8080/",
          "height": 86
        }
      },
      "source": [
        "attack_techniques(arm_attack=\"kimura\", \n",
        "                  leg_attack=\"straight_ankle_lock\", \n",
        "                  neck_attack=\"arm_triangle\",\n",
        "                 body_attack=\"charge\")"
      ],
      "execution_count": 0,
      "outputs": [
        {
          "output_type": "stream",
          "text": [
            "This is an attack I would like to practice: kimura\n",
            "This is an attack I would like to practice: straight_ankle_lock\n",
            "This is an attack I would like to practice: arm_triangle\n",
            "This is an attack I would like to practice: charge\n"
          ],
          "name": "stdout"
        }
      ]
    },
    {
      "cell_type": "code",
      "metadata": {
        "id": "rdvgasCNvwKt",
        "colab_type": "code",
        "outputId": "9026ca26-9309-440a-ddc6-82207fda05e1",
        "colab": {
          "base_uri": "https://localhost:8080/",
          "height": 103
        }
      },
      "source": [
        "#I also can pass as many things as I wants\n",
        "attack_techniques(arm_attack=\"kimura\", \n",
        "                  leg_attack=\"straight_ankle_lock\", \n",
        "                  neck_attach=\"arm_triangle\",\n",
        "                  attack4=\"rear nake choke\", attack5=\"key lock\")"
      ],
      "execution_count": 0,
      "outputs": [
        {
          "output_type": "stream",
          "text": [
            "This is an attack I would like to practice: kimura\n",
            "This is an attack I would like to practice: straight_ankle_lock\n",
            "This is an attack I would like to practice: arm_triangle\n",
            "This is an attack I would like to practice: rear nake choke\n",
            "This is an attack I would like to practice: key lock\n"
          ],
          "name": "stdout"
        }
      ]
    },
    {
      "cell_type": "markdown",
      "metadata": {
        "id": "6Bd0PwiD5NnI",
        "colab_type": "text"
      },
      "source": [
        "**passing dictionary of keywords to function**\n",
        "\n",
        "**kwargs syntax can also be used to pass in arguments all at once"
      ]
    },
    {
      "cell_type": "code",
      "metadata": {
        "id": "Rxjc3U7-5QlB",
        "colab_type": "code",
        "colab": {}
      },
      "source": [
        "attacks = {\"arm_attack\":\"kimura\", \n",
        "           \"leg_attack\":\"straight_ankle_lock\", \n",
        "           \"neck_attach\":\"arm_triangle\"}"
      ],
      "execution_count": 0,
      "outputs": []
    },
    {
      "cell_type": "code",
      "metadata": {
        "id": "0BmMRBOC5SG-",
        "colab_type": "code",
        "outputId": "8dd3fd33-c398-4648-ab0d-73ed5eca840b",
        "colab": {
          "base_uri": "https://localhost:8080/",
          "height": 68
        }
      },
      "source": [
        "attack_techniques(**attacks)"
      ],
      "execution_count": 0,
      "outputs": [
        {
          "output_type": "stream",
          "text": [
            "This is an attack I would like to practice: kimura\n",
            "This is an attack I would like to practice: straight_ankle_lock\n",
            "This is an attack I would like to practice: arm_triangle\n"
          ],
          "name": "stdout"
        }
      ]
    },
    {
      "cell_type": "markdown",
      "metadata": {
        "id": "3Srgz3C65Vdk",
        "colab_type": "text"
      },
      "source": [
        "**Passing Around Functions**\n",
        "\n",
        "Object-Oriented programming is a very popular way to program, but it isn't the only style available in Python. For concurrency and for Data Science, functional programming fits as a complementary style.\n",
        "\n",
        "In the example, below a function can be used inside of another function by being passed into the function itself as an argument."
      ]
    },
    {
      "cell_type": "code",
      "metadata": {
        "id": "inzYwQSq5XPy",
        "colab_type": "code",
        "colab": {}
      },
      "source": [
        "def attack_location(technique):\n",
        "    \"\"\"Return the location of an attack\"\"\"\n",
        "    \n",
        "    attacks = {\"kimura\": \"arm_attack\",\n",
        "           \"straight_ankle_lock\":\"leg_attack\", \n",
        "           \"arm_triangle\":\"neck_attach\"}\n",
        "    if technique in attacks:\n",
        "        return attacks[technique]\n",
        "    return \"Unknown\""
      ],
      "execution_count": 0,
      "outputs": []
    },
    {
      "cell_type": "code",
      "metadata": {
        "id": "VfnYsD895ZFC",
        "colab_type": "code",
        "outputId": "bc78d11b-aea7-4e02-f29f-7cf6a56b7c8a",
        "colab": {
          "base_uri": "https://localhost:8080/",
          "height": 34
        }
      },
      "source": [
        "attack_location(\"kimura\")"
      ],
      "execution_count": 0,
      "outputs": [
        {
          "output_type": "execute_result",
          "data": {
            "text/plain": [
              "'arm_attack'"
            ]
          },
          "metadata": {
            "tags": []
          },
          "execution_count": 118
        }
      ]
    },
    {
      "cell_type": "code",
      "metadata": {
        "id": "eK6NR4F-5aqT",
        "colab_type": "code",
        "outputId": "eeb98e0c-8d10-4694-acc0-afa59c677539",
        "colab": {
          "base_uri": "https://localhost:8080/",
          "height": 34
        }
      },
      "source": [
        "attack_location(\"bear hug\")"
      ],
      "execution_count": 0,
      "outputs": [
        {
          "output_type": "execute_result",
          "data": {
            "text/plain": [
              "'Unknown'"
            ]
          },
          "metadata": {
            "tags": []
          },
          "execution_count": 119
        }
      ]
    },
    {
      "cell_type": "code",
      "metadata": {
        "id": "cOARK2b65f-k",
        "colab_type": "code",
        "colab": {}
      },
      "source": [
        "def multiple_attacks(attack_location_function):\n",
        "    \"\"\"Takes a function that categorizes attacks and returns location\"\"\"\n",
        "    \n",
        "    new_attacks_list = [\"rear_naked_choke\", \"americana\", \"kimura\"]\n",
        "    for attack in new_attacks_list:\n",
        "        attack_location = attack_location_function(attack)\n",
        "        print(f\"The location of attack {attack} is {attack_location}\")"
      ],
      "execution_count": 0,
      "outputs": []
    },
    {
      "cell_type": "code",
      "metadata": {
        "id": "WzgM8VU85iju",
        "colab_type": "code",
        "outputId": "7a3f213a-c1c4-45b8-fbcb-515ce26f7259",
        "colab": {
          "base_uri": "https://localhost:8080/",
          "height": 68
        }
      },
      "source": [
        "multiple_attacks(attack_location)"
      ],
      "execution_count": 0,
      "outputs": [
        {
          "output_type": "stream",
          "text": [
            "The location of attack rear_naked_choke is Unknown\n",
            "The location of attack americana is Unknown\n",
            "The location of attack kimura is arm_attack\n"
          ],
          "name": "stdout"
        }
      ]
    },
    {
      "cell_type": "markdown",
      "metadata": {
        "id": "bCdDA35S5mQ4",
        "colab_type": "text"
      },
      "source": [
        "#### Closures and Functional Currying\n",
        "\n",
        "Closures are functions that contain other nested functions with state from outer function.\n",
        "\n",
        "In Python, a common way to use them is to keep track of the state. In the example below, the outer function, attack_counter keeps track of counts of attacks. The inner fuction attack_filter uses the \"nonlocal\" keyword in Python3, to modify the variable in the outer function.\n",
        "\n",
        "This approach is called \"functional currying\". It allows for a specialized function to be created from general functions. As shown below, this style of function could be the basis of a simple video game or maybe for the statistics crew of a mma match."
      ]
    },
    {
      "cell_type": "code",
      "metadata": {
        "id": "QeG9UZfL6THb",
        "colab_type": "code",
        "colab": {}
      },
      "source": [
        "#nonlocal cannot modify this variable\n",
        "#lower_body_counter=5\n",
        "def attack_counter():\n",
        "    \"\"\"Counts number of attacks on part of body\"\"\"\n",
        "    lower_body_counter = 0\n",
        "    upper_body_counter = 0\n",
        "    #print(lower_body_counter)\n",
        "    def attack_filter(attack):\n",
        "        nonlocal lower_body_counter\n",
        "        nonlocal upper_body_counter\n",
        "        attacks = {\"kimura\": \"upper_body\",\n",
        "           \"straight_ankle_lock\":\"lower_body\", \n",
        "           \"arm_triangle\":\"upper_body\",\n",
        "            \"keylock\": \"upper_body\",\n",
        "            \"knee_bar\": \"lower_body\"}\n",
        "        if attack in attacks:\n",
        "            if attacks[attack] == \"upper_body\":\n",
        "                upper_body_counter +=1\n",
        "            if attacks[attack] == \"lower_body\":\n",
        "                lower_body_counter +=1\n",
        "        print(f\"Upper Body Attacks {upper_body_counter}, Lower Body Attacks {lower_body_counter}\")\n",
        "    return attack_filter"
      ],
      "execution_count": 0,
      "outputs": []
    },
    {
      "cell_type": "code",
      "metadata": {
        "id": "YT_Tk-iT6WiR",
        "colab_type": "code",
        "colab": {}
      },
      "source": [
        "fight = attack_counter()"
      ],
      "execution_count": 0,
      "outputs": []
    },
    {
      "cell_type": "code",
      "metadata": {
        "id": "J1p7hvGb6Y3m",
        "colab_type": "code",
        "outputId": "cadf7b71-9a45-479c-8071-651101f7b773",
        "colab": {
          "base_uri": "https://localhost:8080/",
          "height": 34
        }
      },
      "source": [
        "fight(\"kimura\")"
      ],
      "execution_count": 0,
      "outputs": [
        {
          "output_type": "stream",
          "text": [
            "Upper Body Attacks 1, Lower Body Attacks 0\n"
          ],
          "name": "stdout"
        }
      ]
    },
    {
      "cell_type": "code",
      "metadata": {
        "id": "gCoFnKDJ6aTS",
        "colab_type": "code",
        "outputId": "96fc4c05-c010-4aa3-fd0e-6fc88dd2a1f7",
        "colab": {
          "base_uri": "https://localhost:8080/",
          "height": 34
        }
      },
      "source": [
        "fight(\"knee_bar\")"
      ],
      "execution_count": 0,
      "outputs": [
        {
          "output_type": "stream",
          "text": [
            "Upper Body Attacks 1, Lower Body Attacks 1\n"
          ],
          "name": "stdout"
        }
      ]
    },
    {
      "cell_type": "code",
      "metadata": {
        "id": "_3MRMBkS6bmy",
        "colab_type": "code",
        "outputId": "aab3702e-f951-4126-a347-b456c601b0ca",
        "colab": {
          "base_uri": "https://localhost:8080/",
          "height": 34
        }
      },
      "source": [
        "fight(\"keylock\")"
      ],
      "execution_count": 0,
      "outputs": [
        {
          "output_type": "stream",
          "text": [
            "Upper Body Attacks 2, Lower Body Attacks 1\n"
          ],
          "name": "stdout"
        }
      ]
    },
    {
      "cell_type": "markdown",
      "metadata": {
        "id": "hZx708yd7lpU",
        "colab_type": "text"
      },
      "source": [
        "#### Partial Functions\n",
        "\n",
        "Useful to partial assign default values to functions"
      ]
    },
    {
      "cell_type": "code",
      "metadata": {
        "id": "fOhajVSK7oeX",
        "colab_type": "code",
        "outputId": "ca05802d-f1c9-47dd-a08f-335548092ee1",
        "colab": {
          "base_uri": "https://localhost:8080/",
          "height": 34
        }
      },
      "source": [
        "from functools import partial\n",
        "\n",
        "def multiple_attacks(attack_one, attack_two):\n",
        "  \"\"\"Performs two attacks\"\"\"\n",
        "  \n",
        "  print(f\"First Attack {attack_one}\")\n",
        "  print(f\"Second Attack {attack_two}\")\n",
        "  \n",
        "attack_this = partial(multiple_attacks, \"kimura\")\n",
        "type(attack_this)"
      ],
      "execution_count": 0,
      "outputs": [
        {
          "output_type": "execute_result",
          "data": {
            "text/plain": [
              "functools.partial"
            ]
          },
          "metadata": {
            "tags": []
          },
          "execution_count": 127
        }
      ]
    },
    {
      "cell_type": "markdown",
      "metadata": {
        "id": "ymZDwSka7rrh",
        "colab_type": "text"
      },
      "source": [
        "By using this partial function, only one argument is needed"
      ]
    },
    {
      "cell_type": "code",
      "metadata": {
        "id": "jJv6HePw7tkH",
        "colab_type": "code",
        "outputId": "821d400c-c0b0-486b-8396-874443d37c5c",
        "colab": {
          "base_uri": "https://localhost:8080/",
          "height": 51
        }
      },
      "source": [
        "attack_this(\"knee-bar\")"
      ],
      "execution_count": 0,
      "outputs": [
        {
          "output_type": "stream",
          "text": [
            "First Attack kimura\n",
            "Second Attack knee-bar\n"
          ],
          "name": "stdout"
        }
      ]
    },
    {
      "cell_type": "markdown",
      "metadata": {
        "id": "2CIWXwv27uPW",
        "colab_type": "text"
      },
      "source": [
        "Alternately, the original function can also be called with a different two attacks"
      ]
    },
    {
      "cell_type": "code",
      "metadata": {
        "id": "QVudEj-h7wO_",
        "colab_type": "code",
        "outputId": "4939fbb5-3f14-4827-cf42-d5d1aee73179",
        "colab": {
          "base_uri": "https://localhost:8080/",
          "height": 51
        }
      },
      "source": [
        "multiple_attacks(\"Darce Choke\", \"Bicep Slicer\")"
      ],
      "execution_count": 0,
      "outputs": [
        {
          "output_type": "stream",
          "text": [
            "First Attack Darce Choke\n",
            "Second Attack Bicep Slicer\n"
          ],
          "name": "stdout"
        }
      ]
    },
    {
      "cell_type": "markdown",
      "metadata": {
        "id": "5-tKvYXt6ftS",
        "colab_type": "text"
      },
      "source": [
        "#### Lazy Evaluated Functions (Generators)\n",
        "\n",
        "A very useful style of programming is \"lazy evaluation\". A generator is an example of that. Generators yield an items at a time.\n",
        "\n",
        "The example below return an \"infinite\" random sequence of attacks. The lazy portion comes into play in that while there is an infinite amount of values, they are only returned when the function is called."
      ]
    },
    {
      "cell_type": "code",
      "metadata": {
        "id": "P-hOWZyV6jCt",
        "colab_type": "code",
        "colab": {}
      },
      "source": [
        "def lazy_return_random_attacks():\n",
        "    \"\"\"Yield attacks each time\"\"\"\n",
        "    import random\n",
        "    attacks = {\"kimura\": \"upper_body\",\n",
        "           \"straight_ankle_lock\":\"lower_body\", \n",
        "           \"arm_triangle\":\"upper_body\",\n",
        "            \"keylock\": \"upper_body\",\n",
        "            \"knee_bar\": \"lower_body\"}\n",
        "    while True:\n",
        "        random_attack = random.choices(list(attacks.keys()))\n",
        "        yield random_attack"
      ],
      "execution_count": 0,
      "outputs": []
    },
    {
      "cell_type": "code",
      "metadata": {
        "id": "NrhrDOAL6u0b",
        "colab_type": "code",
        "colab": {}
      },
      "source": [
        "attack = lazy_return_random_attacks()"
      ],
      "execution_count": 0,
      "outputs": []
    },
    {
      "cell_type": "code",
      "metadata": {
        "id": "NyxMi57a6wA4",
        "colab_type": "code",
        "outputId": "8bee2d44-8e80-4238-e194-c869cfd50e20",
        "colab": {
          "base_uri": "https://localhost:8080/",
          "height": 34
        }
      },
      "source": [
        "type(attack)"
      ],
      "execution_count": 0,
      "outputs": [
        {
          "output_type": "execute_result",
          "data": {
            "text/plain": [
              "generator"
            ]
          },
          "metadata": {
            "tags": []
          },
          "execution_count": 133
        }
      ]
    },
    {
      "cell_type": "code",
      "metadata": {
        "id": "0IxoCkJu6y-B",
        "colab_type": "code",
        "outputId": "22beaf2d-2dfe-470f-fd3e-284ba949e0e4",
        "colab": {
          "base_uri": "https://localhost:8080/",
          "height": 120
        }
      },
      "source": [
        "for _ in range(6):\n",
        "    print(next(attack))"
      ],
      "execution_count": 0,
      "outputs": [
        {
          "output_type": "stream",
          "text": [
            "['keylock']\n",
            "['arm_triangle']\n",
            "['straight_ankle_lock']\n",
            "['arm_triangle']\n",
            "['straight_ankle_lock']\n",
            "['arm_triangle']\n"
          ],
          "name": "stdout"
        }
      ]
    },
    {
      "cell_type": "markdown",
      "metadata": {
        "id": "hlJXHUVq6391",
        "colab_type": "text"
      },
      "source": [
        "#### Decorators:   Functions that wrap other functions"
      ]
    },
    {
      "cell_type": "markdown",
      "metadata": {
        "id": "9KQ2Cmcelcy-",
        "colab_type": "text"
      },
      "source": [
        "##### Randomized Sleep Decorator\n",
        "\n",
        "Another useful technique in Python is to use the decorator syntax to wrap one function with another function. In the example below, a decorator is written that adds random sleep to each function call. When combined with the previous \"infinite\" attack generator, it generates random sleeps between each function call."
      ]
    },
    {
      "cell_type": "code",
      "metadata": {
        "id": "JvNzAVBT6695",
        "colab_type": "code",
        "colab": {}
      },
      "source": [
        "def randomized_speed_attack_decorator(function):\n",
        "    \"\"\"Randomizes the speed of attacks\"\"\"\n",
        "    \n",
        "    import time\n",
        "    import random\n",
        "    \n",
        "    def wrapper_func(*args, **kwargs):\n",
        "        sleep_time = random.randint(0,3)\n",
        "        print(f\"Attacking after {sleep_time} seconds\")\n",
        "        time.sleep(sleep_time)\n",
        "        return function(*args, **kwargs)\n",
        "    return wrapper_func"
      ],
      "execution_count": 0,
      "outputs": []
    },
    {
      "cell_type": "code",
      "metadata": {
        "id": "5BGrwIl96-PX",
        "colab_type": "code",
        "colab": {}
      },
      "source": [
        "@randomized_speed_attack_decorator\n",
        "def lazy_return_random_attacks():\n",
        "    \"\"\"Yield attacks each time\"\"\"\n",
        "    import random\n",
        "    attacks = {\"kimura\": \"upper_body\",\n",
        "           \"straight_ankle_lock\":\"lower_body\", \n",
        "           \"arm_triangle\":\"upper_body\",\n",
        "            \"keylock\": \"upper_body\",\n",
        "            \"knee_bar\": \"lower_body\"}\n",
        "    while True:\n",
        "        random_attack = random.choices(list(attacks.keys()))\n",
        "        yield random_attack"
      ],
      "execution_count": 0,
      "outputs": []
    },
    {
      "cell_type": "code",
      "metadata": {
        "id": "HAEY8I7M7AL5",
        "colab_type": "code",
        "outputId": "ebb974bd-e9d2-41b2-ee62-6cfc4e501dba",
        "colab": {
          "base_uri": "https://localhost:8080/",
          "height": 188
        }
      },
      "source": [
        "for _ in range(5):\n",
        "    print(next(lazy_return_random_attacks()))"
      ],
      "execution_count": 0,
      "outputs": [
        {
          "output_type": "stream",
          "text": [
            "Attacking after 3 seconds\n",
            "['straight_ankle_lock']\n",
            "Attacking after 3 seconds\n",
            "['keylock']\n",
            "Attacking after 1 seconds\n",
            "['straight_ankle_lock']\n",
            "Attacking after 2 seconds\n",
            "['knee_bar']\n",
            "Attacking after 3 seconds\n",
            "['keylock']\n"
          ],
          "name": "stdout"
        }
      ]
    },
    {
      "cell_type": "markdown",
      "metadata": {
        "id": "qO-uoYUClvqr",
        "colab_type": "text"
      },
      "source": [
        "##### Timing Decorator"
      ]
    },
    {
      "cell_type": "markdown",
      "metadata": {
        "id": "McePAV81l2Cm",
        "colab_type": "text"
      },
      "source": [
        "Using a decorator to time code is very common"
      ]
    },
    {
      "cell_type": "code",
      "metadata": {
        "id": "pRtnp32Rl5jt",
        "colab_type": "code",
        "colab": {}
      },
      "source": [
        "from functools import wraps\n",
        "from time import time\n",
        "\n",
        "def timing(f):\n",
        "    @wraps(f)\n",
        "    def wrap(*args, **kw):\n",
        "        ts = time()\n",
        "        result = f(*args, **kw)\n",
        "        te = time()\n",
        "        print(f\"fun: {f.__name__}, args: [{args}, {kw}] took: {te-ts} sec\")\n",
        "        return result\n",
        "    return wrap"
      ],
      "execution_count": 0,
      "outputs": []
    },
    {
      "cell_type": "markdown",
      "metadata": {
        "id": "SFisqs8tmJer",
        "colab_type": "text"
      },
      "source": [
        "Using decorator to time execution of a function"
      ]
    },
    {
      "cell_type": "code",
      "metadata": {
        "id": "h3B4RLEbmpie",
        "colab_type": "code",
        "outputId": "ed709e56-555f-4927-b4a0-1f82a61b2491",
        "colab": {
          "base_uri": "https://localhost:8080/",
          "height": 137
        }
      },
      "source": [
        "@timing\n",
        "def some_attacks():\n",
        "  attack = lazy_return_random_attacks()\n",
        "  for _ in range(5):\n",
        "    print(next(attack))\n",
        "    \n",
        "some_attacks()\n",
        "  "
      ],
      "execution_count": 0,
      "outputs": [
        {
          "output_type": "stream",
          "text": [
            "Attacking after 0 seconds\n",
            "['arm_triangle']\n",
            "['straight_ankle_lock']\n",
            "['keylock']\n",
            "['arm_triangle']\n",
            "['arm_triangle']\n",
            "fun: some_attacks, args: [(), {}] took: 0.005468606948852539 sec\n"
          ],
          "name": "stdout"
        }
      ]
    },
    {
      "cell_type": "markdown",
      "metadata": {
        "id": "WT4sChux989o",
        "colab_type": "text"
      },
      "source": [
        "#### Making Classes Behave Like Functions\n",
        "\n",
        "Creating callable functions"
      ]
    },
    {
      "cell_type": "code",
      "metadata": {
        "id": "y2ykyfI79_6E",
        "colab_type": "code",
        "colab": {}
      },
      "source": [
        "class AttackFinder:\n",
        "  \"\"\"Finds the attack location\"\"\"\n",
        "  \n",
        "  \n",
        "  def __init__(self, attack):\n",
        "    self.attack = attack\n",
        "  \n",
        "  def __call__(self):\n",
        "    attacks = {\"kimura\": \"upper_body\",\n",
        "           \"straight_ankle_lock\":\"lower_body\", \n",
        "           \"arm_triangle\":\"upper_body\",\n",
        "            \"keylock\": \"upper_body\",\n",
        "            \"knee_bar\": \"lower_body\"}\n",
        "    if not self.attack in attacks:\n",
        "      return \"unknown location\"\n",
        "    return attacks[self.attack]\n",
        "    "
      ],
      "execution_count": 0,
      "outputs": []
    },
    {
      "cell_type": "code",
      "metadata": {
        "id": "NKyd_XhOJCSk",
        "colab_type": "code",
        "outputId": "901e9255-f0cc-4a84-f9a6-d307381dd61a",
        "colab": {
          "base_uri": "https://localhost:8080/",
          "height": 34
        }
      },
      "source": [
        "my_attack = AttackFinder(\"kimura\")\n",
        "my_attack()"
      ],
      "execution_count": 0,
      "outputs": [
        {
          "output_type": "execute_result",
          "data": {
            "text/plain": [
              "'upper_body'"
            ]
          },
          "metadata": {
            "tags": []
          },
          "execution_count": 144
        }
      ]
    },
    {
      "cell_type": "markdown",
      "metadata": {
        "id": "hQpf0vu_-Cnk",
        "colab_type": "text"
      },
      "source": [
        "#### Applying Functions to Pandas DataFrames\n",
        "\n",
        "The final lesson on functions is to take this knowledge and use it on a DataFrame in Pandas. One of the more fundamental concepts in Pandas is use apply on a column vs iterating through all of the values. An example is shown below where all of the numbers are rounded to a whole digit."
      ]
    },
    {
      "cell_type": "code",
      "metadata": {
        "id": "WLWOOacP-KDz",
        "colab_type": "code",
        "outputId": "7f8893aa-7612-48a3-a56d-df58f316be64",
        "colab": {
          "base_uri": "https://localhost:8080/",
          "height": 141
        }
      },
      "source": [
        "import pandas as pd\n",
        "iris = pd.read_csv('https://raw.githubusercontent.com/mwaskom/seaborn-data/master/iris.csv')\n",
        "iris.head(3)"
      ],
      "execution_count": 0,
      "outputs": [
        {
          "output_type": "execute_result",
          "data": {
            "text/html": [
              "<div>\n",
              "<style scoped>\n",
              "    .dataframe tbody tr th:only-of-type {\n",
              "        vertical-align: middle;\n",
              "    }\n",
              "\n",
              "    .dataframe tbody tr th {\n",
              "        vertical-align: top;\n",
              "    }\n",
              "\n",
              "    .dataframe thead th {\n",
              "        text-align: right;\n",
              "    }\n",
              "</style>\n",
              "<table border=\"1\" class=\"dataframe\">\n",
              "  <thead>\n",
              "    <tr style=\"text-align: right;\">\n",
              "      <th></th>\n",
              "      <th>sepal_length</th>\n",
              "      <th>sepal_width</th>\n",
              "      <th>petal_length</th>\n",
              "      <th>petal_width</th>\n",
              "      <th>species</th>\n",
              "    </tr>\n",
              "  </thead>\n",
              "  <tbody>\n",
              "    <tr>\n",
              "      <th>0</th>\n",
              "      <td>5.1</td>\n",
              "      <td>3.5</td>\n",
              "      <td>1.4</td>\n",
              "      <td>0.2</td>\n",
              "      <td>setosa</td>\n",
              "    </tr>\n",
              "    <tr>\n",
              "      <th>1</th>\n",
              "      <td>4.9</td>\n",
              "      <td>3.0</td>\n",
              "      <td>1.4</td>\n",
              "      <td>0.2</td>\n",
              "      <td>setosa</td>\n",
              "    </tr>\n",
              "    <tr>\n",
              "      <th>2</th>\n",
              "      <td>4.7</td>\n",
              "      <td>3.2</td>\n",
              "      <td>1.3</td>\n",
              "      <td>0.2</td>\n",
              "      <td>setosa</td>\n",
              "    </tr>\n",
              "  </tbody>\n",
              "</table>\n",
              "</div>"
            ],
            "text/plain": [
              "   sepal_length  sepal_width  petal_length  petal_width species\n",
              "0           5.1          3.5           1.4          0.2  setosa\n",
              "1           4.9          3.0           1.4          0.2  setosa\n",
              "2           4.7          3.2           1.3          0.2  setosa"
            ]
          },
          "metadata": {
            "tags": []
          },
          "execution_count": 145
        }
      ]
    },
    {
      "cell_type": "code",
      "metadata": {
        "id": "EZTzZku3hZFM",
        "colab_type": "code",
        "outputId": "c3db7375-6c30-4a99-f6a1-7e69f4bcd960",
        "colab": {
          "base_uri": "https://localhost:8080/",
          "height": 34
        }
      },
      "source": [
        "iris.shape"
      ],
      "execution_count": 0,
      "outputs": [
        {
          "output_type": "execute_result",
          "data": {
            "text/plain": [
              "(150, 5)"
            ]
          },
          "metadata": {
            "tags": []
          },
          "execution_count": 146
        }
      ]
    },
    {
      "cell_type": "code",
      "metadata": {
        "id": "S8jXLfVq-Nrb",
        "colab_type": "code",
        "outputId": "68bb6b2a-9215-4dda-aa9b-fc33e4f73045",
        "colab": {
          "base_uri": "https://localhost:8080/",
          "height": 203
        }
      },
      "source": [
        "iris['rounded_sepal_length'] = iris[['sepal_length']].apply(pd.Series.round)\n",
        "iris.head()"
      ],
      "execution_count": 0,
      "outputs": [
        {
          "output_type": "execute_result",
          "data": {
            "text/html": [
              "<div>\n",
              "<style scoped>\n",
              "    .dataframe tbody tr th:only-of-type {\n",
              "        vertical-align: middle;\n",
              "    }\n",
              "\n",
              "    .dataframe tbody tr th {\n",
              "        vertical-align: top;\n",
              "    }\n",
              "\n",
              "    .dataframe thead th {\n",
              "        text-align: right;\n",
              "    }\n",
              "</style>\n",
              "<table border=\"1\" class=\"dataframe\">\n",
              "  <thead>\n",
              "    <tr style=\"text-align: right;\">\n",
              "      <th></th>\n",
              "      <th>sepal_length</th>\n",
              "      <th>sepal_width</th>\n",
              "      <th>petal_length</th>\n",
              "      <th>petal_width</th>\n",
              "      <th>species</th>\n",
              "      <th>rounded_sepal_length</th>\n",
              "    </tr>\n",
              "  </thead>\n",
              "  <tbody>\n",
              "    <tr>\n",
              "      <th>0</th>\n",
              "      <td>5.1</td>\n",
              "      <td>3.5</td>\n",
              "      <td>1.4</td>\n",
              "      <td>0.2</td>\n",
              "      <td>setosa</td>\n",
              "      <td>5.0</td>\n",
              "    </tr>\n",
              "    <tr>\n",
              "      <th>1</th>\n",
              "      <td>4.9</td>\n",
              "      <td>3.0</td>\n",
              "      <td>1.4</td>\n",
              "      <td>0.2</td>\n",
              "      <td>setosa</td>\n",
              "      <td>5.0</td>\n",
              "    </tr>\n",
              "    <tr>\n",
              "      <th>2</th>\n",
              "      <td>4.7</td>\n",
              "      <td>3.2</td>\n",
              "      <td>1.3</td>\n",
              "      <td>0.2</td>\n",
              "      <td>setosa</td>\n",
              "      <td>5.0</td>\n",
              "    </tr>\n",
              "    <tr>\n",
              "      <th>3</th>\n",
              "      <td>4.6</td>\n",
              "      <td>3.1</td>\n",
              "      <td>1.5</td>\n",
              "      <td>0.2</td>\n",
              "      <td>setosa</td>\n",
              "      <td>5.0</td>\n",
              "    </tr>\n",
              "    <tr>\n",
              "      <th>4</th>\n",
              "      <td>5.0</td>\n",
              "      <td>3.6</td>\n",
              "      <td>1.4</td>\n",
              "      <td>0.2</td>\n",
              "      <td>setosa</td>\n",
              "      <td>5.0</td>\n",
              "    </tr>\n",
              "  </tbody>\n",
              "</table>\n",
              "</div>"
            ],
            "text/plain": [
              "   sepal_length  sepal_width  ...  species  rounded_sepal_length\n",
              "0           5.1          3.5  ...   setosa                   5.0\n",
              "1           4.9          3.0  ...   setosa                   5.0\n",
              "2           4.7          3.2  ...   setosa                   5.0\n",
              "3           4.6          3.1  ...   setosa                   5.0\n",
              "4           5.0          3.6  ...   setosa                   5.0\n",
              "\n",
              "[5 rows x 6 columns]"
            ]
          },
          "metadata": {
            "tags": []
          },
          "execution_count": 147
        }
      ]
    },
    {
      "cell_type": "code",
      "metadata": {
        "id": "TBxKbJk8kjit",
        "colab_type": "code",
        "outputId": "4e9a3080-090f-49a4-a6d8-b09224f8f535",
        "colab": {
          "base_uri": "https://localhost:8080/",
          "height": 34
        }
      },
      "source": [
        "iris.shape"
      ],
      "execution_count": 0,
      "outputs": [
        {
          "output_type": "execute_result",
          "data": {
            "text/plain": [
              "(150, 6)"
            ]
          },
          "metadata": {
            "tags": []
          },
          "execution_count": 148
        }
      ]
    },
    {
      "cell_type": "markdown",
      "metadata": {
        "id": "QrQiWvRC-QY9",
        "colab_type": "text"
      },
      "source": [
        "This was done with a built in function, but a custom function can also be written and applied to a column. In the example below, the values are multiplied by 100. The alternative way to accomplish this would be to create a loop, transform the data and then write it back. In Pandas, it is straightforward and simple to apply custom functions instead."
      ]
    },
    {
      "cell_type": "code",
      "metadata": {
        "id": "6WlPQ823-SMS",
        "colab_type": "code",
        "outputId": "ba4421f7-ff9d-4405-9c1d-cba227067b24",
        "colab": {
          "base_uri": "https://localhost:8080/",
          "height": 991
        }
      },
      "source": [
        "def multiply_by_100(x):\n",
        "    \"\"\"Multiplies by 100\"\"\"\n",
        "    \n",
        "    res = x * 100\n",
        "    #print(f\"This was passed in {x}, and this result was generated {res}\")\n",
        "    return res\n",
        "  \n",
        "  \n",
        "iris['100x_sepal_length'] = iris[['sepal_length']].apply(multiply_by_100)\n",
        "iris.head()"
      ],
      "execution_count": 0,
      "outputs": [
        {
          "output_type": "stream",
          "text": [
            "This was passed in 0      5.1\n",
            "1      4.9\n",
            "2      4.7\n",
            "3      4.6\n",
            "4      5.0\n",
            "      ... \n",
            "145    6.7\n",
            "146    6.3\n",
            "147    6.5\n",
            "148    6.2\n",
            "149    5.9\n",
            "Name: sepal_length, Length: 150, dtype: float64, and this result was generated 0      510.0\n",
            "1      490.0\n",
            "2      470.0\n",
            "3      460.0\n",
            "4      500.0\n",
            "       ...  \n",
            "145    670.0\n",
            "146    630.0\n",
            "147    650.0\n",
            "148    620.0\n",
            "149    590.0\n",
            "Name: sepal_length, Length: 150, dtype: float64\n",
            "This was passed in 0      5.1\n",
            "1      4.9\n",
            "2      4.7\n",
            "3      4.6\n",
            "4      5.0\n",
            "      ... \n",
            "145    6.7\n",
            "146    6.3\n",
            "147    6.5\n",
            "148    6.2\n",
            "149    5.9\n",
            "Name: sepal_length, Length: 150, dtype: float64, and this result was generated 0      510.0\n",
            "1      490.0\n",
            "2      470.0\n",
            "3      460.0\n",
            "4      500.0\n",
            "       ...  \n",
            "145    670.0\n",
            "146    630.0\n",
            "147    650.0\n",
            "148    620.0\n",
            "149    590.0\n",
            "Name: sepal_length, Length: 150, dtype: float64\n"
          ],
          "name": "stdout"
        },
        {
          "output_type": "execute_result",
          "data": {
            "text/html": [
              "<div>\n",
              "<style scoped>\n",
              "    .dataframe tbody tr th:only-of-type {\n",
              "        vertical-align: middle;\n",
              "    }\n",
              "\n",
              "    .dataframe tbody tr th {\n",
              "        vertical-align: top;\n",
              "    }\n",
              "\n",
              "    .dataframe thead th {\n",
              "        text-align: right;\n",
              "    }\n",
              "</style>\n",
              "<table border=\"1\" class=\"dataframe\">\n",
              "  <thead>\n",
              "    <tr style=\"text-align: right;\">\n",
              "      <th></th>\n",
              "      <th>sepal_length</th>\n",
              "      <th>sepal_width</th>\n",
              "      <th>petal_length</th>\n",
              "      <th>petal_width</th>\n",
              "      <th>species</th>\n",
              "      <th>rounded_sepal_length</th>\n",
              "      <th>100x_sepal_length</th>\n",
              "    </tr>\n",
              "  </thead>\n",
              "  <tbody>\n",
              "    <tr>\n",
              "      <th>0</th>\n",
              "      <td>5.1</td>\n",
              "      <td>3.5</td>\n",
              "      <td>1.4</td>\n",
              "      <td>0.2</td>\n",
              "      <td>setosa</td>\n",
              "      <td>5.0</td>\n",
              "      <td>510.0</td>\n",
              "    </tr>\n",
              "    <tr>\n",
              "      <th>1</th>\n",
              "      <td>4.9</td>\n",
              "      <td>3.0</td>\n",
              "      <td>1.4</td>\n",
              "      <td>0.2</td>\n",
              "      <td>setosa</td>\n",
              "      <td>5.0</td>\n",
              "      <td>490.0</td>\n",
              "    </tr>\n",
              "    <tr>\n",
              "      <th>2</th>\n",
              "      <td>4.7</td>\n",
              "      <td>3.2</td>\n",
              "      <td>1.3</td>\n",
              "      <td>0.2</td>\n",
              "      <td>setosa</td>\n",
              "      <td>5.0</td>\n",
              "      <td>470.0</td>\n",
              "    </tr>\n",
              "    <tr>\n",
              "      <th>3</th>\n",
              "      <td>4.6</td>\n",
              "      <td>3.1</td>\n",
              "      <td>1.5</td>\n",
              "      <td>0.2</td>\n",
              "      <td>setosa</td>\n",
              "      <td>5.0</td>\n",
              "      <td>460.0</td>\n",
              "    </tr>\n",
              "    <tr>\n",
              "      <th>4</th>\n",
              "      <td>5.0</td>\n",
              "      <td>3.6</td>\n",
              "      <td>1.4</td>\n",
              "      <td>0.2</td>\n",
              "      <td>setosa</td>\n",
              "      <td>5.0</td>\n",
              "      <td>500.0</td>\n",
              "    </tr>\n",
              "  </tbody>\n",
              "</table>\n",
              "</div>"
            ],
            "text/plain": [
              "   sepal_length  sepal_width  ...  rounded_sepal_length  100x_sepal_length\n",
              "0           5.1          3.5  ...                   5.0              510.0\n",
              "1           4.9          3.0  ...                   5.0              490.0\n",
              "2           4.7          3.2  ...                   5.0              470.0\n",
              "3           4.6          3.1  ...                   5.0              460.0\n",
              "4           5.0          3.6  ...                   5.0              500.0\n",
              "\n",
              "[5 rows x 7 columns]"
            ]
          },
          "metadata": {
            "tags": []
          },
          "execution_count": 150
        }
      ]
    },
    {
      "cell_type": "code",
      "metadata": {
        "id": "pYg2Lz05ly7Q",
        "colab_type": "code",
        "outputId": "9b5ac39e-3399-4d9e-eeb7-8c6fad43bf3f",
        "colab": {
          "base_uri": "https://localhost:8080/",
          "height": 223
        }
      },
      "source": [
        "iris[\"new_column\"] = iris[['sepal_length']]\n",
        "iris.head()"
      ],
      "execution_count": 0,
      "outputs": [
        {
          "output_type": "execute_result",
          "data": {
            "text/html": [
              "<div>\n",
              "<style scoped>\n",
              "    .dataframe tbody tr th:only-of-type {\n",
              "        vertical-align: middle;\n",
              "    }\n",
              "\n",
              "    .dataframe tbody tr th {\n",
              "        vertical-align: top;\n",
              "    }\n",
              "\n",
              "    .dataframe thead th {\n",
              "        text-align: right;\n",
              "    }\n",
              "</style>\n",
              "<table border=\"1\" class=\"dataframe\">\n",
              "  <thead>\n",
              "    <tr style=\"text-align: right;\">\n",
              "      <th></th>\n",
              "      <th>sepal_length</th>\n",
              "      <th>sepal_width</th>\n",
              "      <th>petal_length</th>\n",
              "      <th>petal_width</th>\n",
              "      <th>species</th>\n",
              "      <th>rounded_sepal_length</th>\n",
              "      <th>100x_sepal_length</th>\n",
              "      <th>new_column</th>\n",
              "    </tr>\n",
              "  </thead>\n",
              "  <tbody>\n",
              "    <tr>\n",
              "      <th>0</th>\n",
              "      <td>5.1</td>\n",
              "      <td>3.5</td>\n",
              "      <td>1.4</td>\n",
              "      <td>0.2</td>\n",
              "      <td>setosa</td>\n",
              "      <td>5.0</td>\n",
              "      <td>510.0</td>\n",
              "      <td>5.1</td>\n",
              "    </tr>\n",
              "    <tr>\n",
              "      <th>1</th>\n",
              "      <td>4.9</td>\n",
              "      <td>3.0</td>\n",
              "      <td>1.4</td>\n",
              "      <td>0.2</td>\n",
              "      <td>setosa</td>\n",
              "      <td>5.0</td>\n",
              "      <td>490.0</td>\n",
              "      <td>4.9</td>\n",
              "    </tr>\n",
              "    <tr>\n",
              "      <th>2</th>\n",
              "      <td>4.7</td>\n",
              "      <td>3.2</td>\n",
              "      <td>1.3</td>\n",
              "      <td>0.2</td>\n",
              "      <td>setosa</td>\n",
              "      <td>5.0</td>\n",
              "      <td>470.0</td>\n",
              "      <td>4.7</td>\n",
              "    </tr>\n",
              "    <tr>\n",
              "      <th>3</th>\n",
              "      <td>4.6</td>\n",
              "      <td>3.1</td>\n",
              "      <td>1.5</td>\n",
              "      <td>0.2</td>\n",
              "      <td>setosa</td>\n",
              "      <td>5.0</td>\n",
              "      <td>460.0</td>\n",
              "      <td>4.6</td>\n",
              "    </tr>\n",
              "    <tr>\n",
              "      <th>4</th>\n",
              "      <td>5.0</td>\n",
              "      <td>3.6</td>\n",
              "      <td>1.4</td>\n",
              "      <td>0.2</td>\n",
              "      <td>setosa</td>\n",
              "      <td>5.0</td>\n",
              "      <td>500.0</td>\n",
              "      <td>5.0</td>\n",
              "    </tr>\n",
              "  </tbody>\n",
              "</table>\n",
              "</div>"
            ],
            "text/plain": [
              "   sepal_length  sepal_width  ...  100x_sepal_length  new_column\n",
              "0           5.1          3.5  ...              510.0         5.1\n",
              "1           4.9          3.0  ...              490.0         4.9\n",
              "2           4.7          3.2  ...              470.0         4.7\n",
              "3           4.6          3.1  ...              460.0         4.6\n",
              "4           5.0          3.6  ...              500.0         5.0\n",
              "\n",
              "[5 rows x 8 columns]"
            ]
          },
          "metadata": {
            "tags": []
          },
          "execution_count": 169
        }
      ]
    },
    {
      "cell_type": "code",
      "metadata": {
        "id": "T66Ll8etnuxK",
        "colab_type": "code",
        "outputId": "1d90cf4e-d9d1-4464-bdef-30a6da2b1e34",
        "colab": {
          "base_uri": "https://localhost:8080/",
          "height": 192
        }
      },
      "source": [
        "iris.groupby(\"species\").max()"
      ],
      "execution_count": 0,
      "outputs": [
        {
          "output_type": "execute_result",
          "data": {
            "text/html": [
              "<div>\n",
              "<style scoped>\n",
              "    .dataframe tbody tr th:only-of-type {\n",
              "        vertical-align: middle;\n",
              "    }\n",
              "\n",
              "    .dataframe tbody tr th {\n",
              "        vertical-align: top;\n",
              "    }\n",
              "\n",
              "    .dataframe thead th {\n",
              "        text-align: right;\n",
              "    }\n",
              "</style>\n",
              "<table border=\"1\" class=\"dataframe\">\n",
              "  <thead>\n",
              "    <tr style=\"text-align: right;\">\n",
              "      <th></th>\n",
              "      <th>sepal_length</th>\n",
              "      <th>sepal_width</th>\n",
              "      <th>petal_length</th>\n",
              "      <th>petal_width</th>\n",
              "      <th>rounded_sepal_length</th>\n",
              "      <th>100x_sepal_length</th>\n",
              "      <th>new_column</th>\n",
              "    </tr>\n",
              "    <tr>\n",
              "      <th>species</th>\n",
              "      <th></th>\n",
              "      <th></th>\n",
              "      <th></th>\n",
              "      <th></th>\n",
              "      <th></th>\n",
              "      <th></th>\n",
              "      <th></th>\n",
              "    </tr>\n",
              "  </thead>\n",
              "  <tbody>\n",
              "    <tr>\n",
              "      <th>setosa</th>\n",
              "      <td>5.8</td>\n",
              "      <td>4.4</td>\n",
              "      <td>1.9</td>\n",
              "      <td>0.6</td>\n",
              "      <td>6.0</td>\n",
              "      <td>580.0</td>\n",
              "      <td>5.8</td>\n",
              "    </tr>\n",
              "    <tr>\n",
              "      <th>versicolor</th>\n",
              "      <td>7.0</td>\n",
              "      <td>3.4</td>\n",
              "      <td>5.1</td>\n",
              "      <td>1.8</td>\n",
              "      <td>7.0</td>\n",
              "      <td>700.0</td>\n",
              "      <td>7.0</td>\n",
              "    </tr>\n",
              "    <tr>\n",
              "      <th>virginica</th>\n",
              "      <td>7.9</td>\n",
              "      <td>3.8</td>\n",
              "      <td>6.9</td>\n",
              "      <td>2.5</td>\n",
              "      <td>8.0</td>\n",
              "      <td>790.0</td>\n",
              "      <td>7.9</td>\n",
              "    </tr>\n",
              "  </tbody>\n",
              "</table>\n",
              "</div>"
            ],
            "text/plain": [
              "            sepal_length  sepal_width  ...  100x_sepal_length  new_column\n",
              "species                                ...                               \n",
              "setosa               5.8          4.4  ...              580.0         5.8\n",
              "versicolor           7.0          3.4  ...              700.0         7.0\n",
              "virginica            7.9          3.8  ...              790.0         7.9\n",
              "\n",
              "[3 rows x 7 columns]"
            ]
          },
          "metadata": {
            "tags": []
          },
          "execution_count": 170
        }
      ]
    },
    {
      "cell_type": "code",
      "metadata": {
        "id": "7nerC1KunT8u",
        "colab_type": "code",
        "colab": {}
      },
      "source": [
        "#iris.apply(pd.Series.round, axis=1)"
      ],
      "execution_count": 0,
      "outputs": []
    },
    {
      "cell_type": "code",
      "metadata": {
        "id": "PaPz8q3pjWZQ",
        "colab_type": "code",
        "colab": {}
      },
      "source": [
        "#def sepal_category(x):\n",
        "  \n",
        "#  if x == 4:\n",
        "#  return \"big\"\n",
        "\n",
        "#iris['sepal_category'] = iris[['sepal_width']].apply(sepal_category)\n",
        "#iris.head()\n",
        "  "
      ],
      "execution_count": 0,
      "outputs": []
    },
    {
      "cell_type": "code",
      "metadata": {
        "id": "gq3i_yeDWWHt",
        "colab_type": "code",
        "outputId": "fea43304-cf2a-4a76-acd1-bdeb66e51476",
        "colab": {
          "base_uri": "https://localhost:8080/",
          "height": 87
        }
      },
      "source": [
        "#example of a smarter function\n",
        "def smart_multiply_by_100(x):\n",
        "  if x > 5:\n",
        "    return 1\n",
        "  return x\n",
        "\n",
        "inputs = [1,2,6,10]\n",
        "for input in inputs:\n",
        "  print(smart_multiply_by_100(input))\n",
        "  \n",
        "  "
      ],
      "execution_count": 0,
      "outputs": [
        {
          "output_type": "stream",
          "text": [
            "1\n",
            "2\n",
            "1\n",
            "1\n"
          ],
          "name": "stdout"
        }
      ]
    },
    {
      "cell_type": "code",
      "metadata": {
        "id": "6ox8_LbHW_vQ",
        "colab_type": "code",
        "colab": {}
      },
      "source": [
        ""
      ],
      "execution_count": 0,
      "outputs": []
    },
    {
      "cell_type": "markdown",
      "metadata": {
        "id": "C95FIjW5-rJc",
        "colab_type": "text"
      },
      "source": [
        "#### Writing Lambdas\n",
        "\n",
        "Generally considered to be unnecessary.  A Python lambda is an inline python and it can often lead to confusing code.  \n"
      ]
    },
    {
      "cell_type": "code",
      "metadata": {
        "id": "1Zibl40rD6Qg",
        "colab_type": "code",
        "outputId": "cb2b08c7-6009-4bc6-e28d-3d1c4f436897",
        "colab": {
          "base_uri": "https://localhost:8080/",
          "height": 381
        }
      },
      "source": [
        "import this"
      ],
      "execution_count": 0,
      "outputs": [
        {
          "output_type": "stream",
          "text": [
            "The Zen of Python, by Tim Peters\n",
            "\n",
            "Beautiful is better than ugly.\n",
            "Explicit is better than implicit.\n",
            "Simple is better than complex.\n",
            "Complex is better than complicated.\n",
            "Flat is better than nested.\n",
            "Sparse is better than dense.\n",
            "Readability counts.\n",
            "Special cases aren't special enough to break the rules.\n",
            "Although practicality beats purity.\n",
            "Errors should never pass silently.\n",
            "Unless explicitly silenced.\n",
            "In the face of ambiguity, refuse the temptation to guess.\n",
            "There should be one-- and preferably only one --obvious way to do it.\n",
            "Although that way may not be obvious at first unless you're Dutch.\n",
            "Now is better than never.\n",
            "Although never is often better than *right* now.\n",
            "If the implementation is hard to explain, it's a bad idea.\n",
            "If the implementation is easy to explain, it may be a good idea.\n",
            "Namespaces are one honking great idea -- let's do more of those!\n"
          ],
          "name": "stdout"
        }
      ]
    },
    {
      "cell_type": "code",
      "metadata": {
        "id": "dEvuisbJ-tc2",
        "colab_type": "code",
        "outputId": "717a48c7-fcb9-4db4-f1d0-c1d4b990fc9a",
        "colab": {
          "base_uri": "https://localhost:8080/",
          "height": 35
        }
      },
      "source": [
        "func = lambda x: x**2\n",
        "func(4)"
      ],
      "execution_count": 0,
      "outputs": [
        {
          "output_type": "execute_result",
          "data": {
            "text/plain": [
              "16"
            ]
          },
          "metadata": {
            "tags": []
          },
          "execution_count": 146
        }
      ]
    },
    {
      "cell_type": "code",
      "metadata": {
        "id": "Cq9-b_1N-tpI",
        "colab_type": "code",
        "outputId": "2efdb7db-759c-45ca-d8f0-54f152cbe534",
        "colab": {
          "base_uri": "https://localhost:8080/",
          "height": 35
        }
      },
      "source": [
        "def regular_func(x):\n",
        "  return x**2\n",
        "\n",
        "regular_func(4)"
      ],
      "execution_count": 0,
      "outputs": [
        {
          "output_type": "execute_result",
          "data": {
            "text/plain": [
              "16"
            ]
          },
          "metadata": {
            "tags": []
          },
          "execution_count": 147
        }
      ]
    },
    {
      "cell_type": "code",
      "metadata": {
        "id": "FlIAJo2GK7KL",
        "colab_type": "code",
        "colab": {}
      },
      "source": [
        "def regular_func2(x):\n",
        "  \"\"\"This makes my variable go to the second power\"\"\"\n",
        "  return x**2"
      ],
      "execution_count": 0,
      "outputs": []
    },
    {
      "cell_type": "code",
      "metadata": {
        "id": "ZOMmTXtSLF9W",
        "colab_type": "code",
        "outputId": "4089a1d4-a04b-4e56-c949-2496b8740d60",
        "colab": {
          "base_uri": "https://localhost:8080/",
          "height": 35
        }
      },
      "source": [
        "regular_func2(2)"
      ],
      "execution_count": 0,
      "outputs": [
        {
          "output_type": "execute_result",
          "data": {
            "text/plain": [
              "4"
            ]
          },
          "metadata": {
            "tags": []
          },
          "execution_count": 178
        }
      ]
    },
    {
      "cell_type": "code",
      "metadata": {
        "id": "rnXLQ6rZLKj5",
        "colab_type": "code",
        "colab": {}
      },
      "source": [
        ""
      ],
      "execution_count": 0,
      "outputs": []
    },
    {
      "cell_type": "code",
      "metadata": {
        "id": "QS-zJFR-DlPI",
        "colab_type": "code",
        "colab": {}
      },
      "source": [
        "import random"
      ],
      "execution_count": 0,
      "outputs": []
    },
    {
      "cell_type": "code",
      "metadata": {
        "id": "YAcj5rn5DnEI",
        "colab_type": "code",
        "colab": {}
      },
      "source": [
        "random.seed"
      ],
      "execution_count": 0,
      "outputs": []
    },
    {
      "cell_type": "markdown",
      "metadata": {
        "id": "1EBc2ohAonjw",
        "colab_type": "text"
      },
      "source": [
        "## Homework Excercises\n",
        "\n"
      ]
    },
    {
      "cell_type": "markdown",
      "metadata": {
        "id": "10NtU6hV4nT6",
        "colab_type": "text"
      },
      "source": [
        "### Watch Colab Videos on Safari Live Lesson:  *Essential Machine Learning and AI with Python and Jupyter Notebook*\n"
      ]
    },
    {
      "cell_type": "markdown",
      "metadata": {
        "id": "BwCKU8ug4sNB",
        "colab_type": "text"
      },
      "source": [
        "Get Familiar with Colab and Master basic and advanced Features\n",
        "\n",
        "* [12.1 Perform Colaboratory basics ](https://www.safaribooksonline.com/videos/essential-machine-learning/9780135261118/9780135261118-EMLA_01_12_01)\n",
        "\n",
        "* [12.2 Use Advanced Colab Features](https://www.safaribooksonline.com/videos/essential-machine-learning/9780135261118/9780135261118-EMLA_01_12_02)\n"
      ]
    },
    {
      "cell_type": "markdown",
      "metadata": {
        "id": "fdm3kA-Fo4pI",
        "colab_type": "text"
      },
      "source": [
        "### Can you Return random attacks without repeating?\n",
        "\n"
      ]
    },
    {
      "cell_type": "markdown",
      "metadata": {
        "id": "btp0LY4U5fhY",
        "colab_type": "text"
      },
      "source": [
        "* keep track of previous calls and run random again if it finds a previous\n",
        "\n",
        "```\n",
        "def lazy_return_random_attacks():\n",
        "    \"\"\"Yield attacks each time\"\"\"\n",
        "    import random\n",
        "    attacks = {\"kimura\": \"upper_body\",\n",
        "           \"straight_ankle_lock\":\"lower_body\", \n",
        "           \"arm_triangle\":\"upper_body\",\n",
        "            \"keylock\": \"upper_body\",\n",
        "            \"knee_bar\": \"lower_body\"}\n",
        "    while True:\n",
        "        random_attack = random.choices(list(attacks.keys()))\n",
        "        yield random_attack\n",
        "        \n",
        "```\n",
        "\n",
        "pseudo code:  if attack in previous_attacks:\n",
        "                              ...new random\n",
        "                          random_attack    "
      ]
    },
    {
      "cell_type": "code",
      "metadata": {
        "id": "jTj3ny5vo8GN",
        "colab_type": "code",
        "outputId": "fcc7db55-7d83-4807-dd58-a2f9585549a5",
        "colab": {
          "base_uri": "https://localhost:8080/",
          "height": 34
        }
      },
      "source": [
        "def func():\n",
        "  l = [1,2,3]\n",
        "  return l\n",
        "func()\n",
        "  "
      ],
      "execution_count": 0,
      "outputs": [
        {
          "output_type": "execute_result",
          "data": {
            "text/plain": [
              "[1, 2, 3]"
            ]
          },
          "metadata": {
            "tags": []
          },
          "execution_count": 156
        }
      ]
    },
    {
      "cell_type": "code",
      "metadata": {
        "id": "uLKSr48YKgSR",
        "colab_type": "code",
        "colab": {}
      },
      "source": [
        "def lazy_func():\n",
        "  l = [1,2,3]\n",
        "  for item in l:\n",
        "    yield item\n",
        "gen = lazy_func()"
      ],
      "execution_count": 0,
      "outputs": []
    },
    {
      "cell_type": "code",
      "metadata": {
        "id": "G4mJZ3TnKmbd",
        "colab_type": "code",
        "outputId": "ed742705-ba31-42bf-8415-0cfb1c165866",
        "colab": {
          "base_uri": "https://localhost:8080/",
          "height": 166
        }
      },
      "source": [
        "next(gen)"
      ],
      "execution_count": 0,
      "outputs": [
        {
          "output_type": "error",
          "ename": "StopIteration",
          "evalue": "ignored",
          "traceback": [
            "\u001b[0;31m---------------------------------------------------------------------------\u001b[0m",
            "\u001b[0;31mStopIteration\u001b[0m                             Traceback (most recent call last)",
            "\u001b[0;32m<ipython-input-162-6e72e47198db>\u001b[0m in \u001b[0;36m<module>\u001b[0;34m()\u001b[0m\n\u001b[0;32m----> 1\u001b[0;31m \u001b[0mnext\u001b[0m\u001b[0;34m(\u001b[0m\u001b[0mgen\u001b[0m\u001b[0;34m)\u001b[0m\u001b[0;34m\u001b[0m\u001b[0m\n\u001b[0m",
            "\u001b[0;31mStopIteration\u001b[0m: "
          ]
        }
      ]
    },
    {
      "cell_type": "code",
      "metadata": {
        "id": "2IoYYSGXKsnR",
        "colab_type": "code",
        "colab": {}
      },
      "source": [
        ""
      ],
      "execution_count": 0,
      "outputs": []
    },
    {
      "cell_type": "markdown",
      "metadata": {
        "id": "EO5CzCfH5ejj",
        "colab_type": "text"
      },
      "source": [
        ""
      ]
    },
    {
      "cell_type": "code",
      "metadata": {
        "id": "2Q_zzw-nXHWE",
        "colab_type": "code",
        "outputId": "8a78d301-8ed9-4bdb-9ebe-48bebc39d752",
        "colab": {
          "base_uri": "https://localhost:8080/",
          "height": 52
        }
      },
      "source": [
        "def myfunc():\n",
        "  return \"apple\"\n",
        "\n",
        "def myfunc2():\n",
        "  return 1\n",
        "\n",
        "print(myfunc())\n",
        "print(myfunc2())\n"
      ],
      "execution_count": 0,
      "outputs": [
        {
          "output_type": "stream",
          "text": [
            "apple\n",
            "1\n"
          ],
          "name": "stdout"
        }
      ]
    },
    {
      "cell_type": "code",
      "metadata": {
        "id": "B-gzLbJfXnuf",
        "colab_type": "code",
        "outputId": "24b7af1d-83cb-4bce-b312-1ee806974ea1",
        "colab": {
          "base_uri": "https://localhost:8080/",
          "height": 132
        }
      },
      "source": [
        "def practise(times):\n",
        "    print(f\"I like to exercise {times} a day\")"
      ],
      "execution_count": 0,
      "outputs": [
        {
          "output_type": "error",
          "ename": "SyntaxError",
          "evalue": "ignored",
          "traceback": [
            "\u001b[0;36m  File \u001b[0;32m\"<ipython-input-1-a3e816d8793c>\"\u001b[0;36m, line \u001b[0;32m2\u001b[0m\n\u001b[0;31m    print(f\"I like to exercise {times} a day\")\u001b[0m\n\u001b[0m                                            ^\u001b[0m\n\u001b[0;31mSyntaxError\u001b[0m\u001b[0;31m:\u001b[0m invalid syntax\n"
          ]
        }
      ]
    },
    {
      "cell_type": "markdown",
      "metadata": {
        "id": "0F-jzlBYeOKC",
        "colab_type": "text"
      },
      "source": [
        "## FAQ"
      ]
    },
    {
      "cell_type": "markdown",
      "metadata": {
        "id": "anKepcmNg4TE",
        "colab_type": "text"
      },
      "source": [
        "### Q:  Magic Commands"
      ]
    },
    {
      "cell_type": "code",
      "metadata": {
        "id": "sSSaqHFXg7wI",
        "colab_type": "code",
        "outputId": "1522a1b3-21d6-4bc1-9f70-5bd4a428d1b7",
        "colab": {
          "base_uri": "https://localhost:8080/",
          "height": 35
        }
      },
      "source": [
        "#shell command (import subprocess)\n",
        "!pwd"
      ],
      "execution_count": 0,
      "outputs": [
        {
          "output_type": "stream",
          "text": [
            "/content\n"
          ],
          "name": "stdout"
        }
      ]
    },
    {
      "cell_type": "code",
      "metadata": {
        "id": "EcX2XQAphB2c",
        "colab_type": "code",
        "outputId": "983bf4d1-cb09-49d3-b68c-db934735597e",
        "colab": {
          "base_uri": "https://localhost:8080/",
          "height": 35
        }
      },
      "source": [
        "# magic\n",
        "%%python2\n",
        "print \"hello\""
      ],
      "execution_count": 0,
      "outputs": [
        {
          "output_type": "stream",
          "text": [
            "hello\n"
          ],
          "name": "stdout"
        }
      ]
    },
    {
      "cell_type": "code",
      "metadata": {
        "id": "fJi5VdlqhHlG",
        "colab_type": "code",
        "outputId": "8ad61fe5-8f18-4c4c-f336-1e828c6fba14",
        "colab": {
          "base_uri": "https://localhost:8080/",
          "height": 193
        }
      },
      "source": [
        "#built into IPython\n",
        "who"
      ],
      "execution_count": 0,
      "outputs": [
        {
          "output_type": "stream",
          "text": [
            "AttackFinder\t Decimal\t Foo\t Use_Python\t alt\t attack\t attack_counter\t attack_location\t attack_one\t \n",
            "attack_techniques\t attack_this\t attack_two\t attacks\t attacks_set_one\t attacks_set_two\t basic_string\t belt\t belts\t \n",
            "bjj_dominant_positions\t bjj_position_matrix\t body_fat_percentage\t body_part\t body_parts\t cars\t data\t df\t drive\t \n",
            "f\t fat_total\t favorite_martial_art\t favorite_martial_art_with_docstring\t fight\t files\t func\t getcontext\t guard_list\t \n",
            "guards\t iris\t item\t items\t lazy_return_random_attacks\t list_of_bjj_positions\t math\t multiple_attacks\t multiply_by_100\t \n",
            "my_attack\t my_string\t my_variable\t myfunc\t new_dict\t new_dictionary\t np\t num_type\t number\t \n",
            "os\t partial\t pd\t position\t practice\t randomized_speed_attack_decorator\t regular_func\t regular_func2\t res\t \n",
            "some_attacks\t steps\t string_with_hyphen\t submission\t submissions\t sys\t time\t timing\t too_many_decimals\t \n",
            "unique_attacks\t unique_set_one_attacks\t uploaded\t var1\t variable\t weight\t wraps\t \n"
          ],
          "name": "stdout"
        }
      ]
    },
    {
      "cell_type": "code",
      "metadata": {
        "id": "r7z3bvOVhO0D",
        "colab_type": "code",
        "outputId": "58511e2e-b76f-485f-f936-a5354bc04483",
        "colab": {
          "base_uri": "https://localhost:8080/",
          "height": 35
        }
      },
      "source": [
        "#built in python function\n",
        "l = [1]\n",
        "len(l)\n",
        "max(l)\n",
        "min(l)"
      ],
      "execution_count": 0,
      "outputs": [
        {
          "output_type": "execute_result",
          "data": {
            "text/plain": [
              "1"
            ]
          },
          "metadata": {
            "tags": []
          },
          "execution_count": 186
        }
      ]
    },
    {
      "cell_type": "markdown",
      "metadata": {
        "id": "QtSOcXrOh62G",
        "colab_type": "text"
      },
      "source": [
        "### None"
      ]
    },
    {
      "cell_type": "code",
      "metadata": {
        "id": "dQgi83s0h9Po",
        "colab_type": "code",
        "outputId": "7b22bd9f-d18d-464c-d5b0-2bbf79155dd2",
        "colab": {
          "base_uri": "https://localhost:8080/",
          "height": 35
        }
      },
      "source": [
        "var = None\n",
        "if var == None:\n",
        "  print(\"this is None\")"
      ],
      "execution_count": 0,
      "outputs": [
        {
          "output_type": "stream",
          "text": [
            "this is None\n"
          ],
          "name": "stdout"
        }
      ]
    },
    {
      "cell_type": "code",
      "metadata": {
        "id": "kVCOi8BYiEyk",
        "colab_type": "code",
        "outputId": "8a37c934-52af-44a7-b6a6-06e6859226e5",
        "colab": {
          "base_uri": "https://localhost:8080/",
          "height": 35
        }
      },
      "source": [
        "ll = []\n",
        "ll == None\n"
      ],
      "execution_count": 0,
      "outputs": [
        {
          "output_type": "execute_result",
          "data": {
            "text/plain": [
              "False"
            ]
          },
          "metadata": {
            "tags": []
          },
          "execution_count": 188
        }
      ]
    },
    {
      "cell_type": "code",
      "metadata": {
        "id": "jG30QNNpiMpd",
        "colab_type": "code",
        "outputId": "03e1bb34-8bd3-4d21-cf78-d0d31074ed5d",
        "colab": {
          "base_uri": "https://localhost:8080/",
          "height": 35
        }
      },
      "source": [
        "ll == True"
      ],
      "execution_count": 0,
      "outputs": [
        {
          "output_type": "execute_result",
          "data": {
            "text/plain": [
              "False"
            ]
          },
          "metadata": {
            "tags": []
          },
          "execution_count": 189
        }
      ]
    },
    {
      "cell_type": "code",
      "metadata": {
        "id": "HAV0VvUDiU-N",
        "colab_type": "code",
        "outputId": "dab18184-b775-4005-e247-5bf427fb547b",
        "colab": {
          "base_uri": "https://localhost:8080/",
          "height": 35
        }
      },
      "source": [
        "def my_func():\n",
        "  return 1\n",
        "my_func() == None"
      ],
      "execution_count": 0,
      "outputs": [
        {
          "output_type": "execute_result",
          "data": {
            "text/plain": [
              "False"
            ]
          },
          "metadata": {
            "tags": []
          },
          "execution_count": 192
        }
      ]
    },
    {
      "cell_type": "code",
      "metadata": {
        "id": "Ms2AzZCPindt",
        "colab_type": "code",
        "outputId": "315e3eb0-1948-480a-e396-1c1022b64501",
        "colab": {
          "base_uri": "https://localhost:8080/",
          "height": 35
        }
      },
      "source": [
        "def my_func2():\n",
        "  \"\"\"Returns None\"\"\"\n",
        "  pass\n",
        "my_func2() == None"
      ],
      "execution_count": 0,
      "outputs": [
        {
          "output_type": "execute_result",
          "data": {
            "text/plain": [
              "True"
            ]
          },
          "metadata": {
            "tags": []
          },
          "execution_count": 193
        }
      ]
    },
    {
      "cell_type": "markdown",
      "metadata": {
        "id": "01P38heKj_H_",
        "colab_type": "text"
      },
      "source": [
        "### Next"
      ]
    },
    {
      "cell_type": "code",
      "metadata": {
        "id": "qbwF5dzaj-R0",
        "colab_type": "code",
        "colab": {}
      },
      "source": [
        "def funky():\n",
        "  l = [1,2,3]\n",
        "  for item in l:\n",
        "    yield item\n",
        "    "
      ],
      "execution_count": 0,
      "outputs": []
    },
    {
      "cell_type": "code",
      "metadata": {
        "id": "pAVSHP_kkMhC",
        "colab_type": "code",
        "outputId": "aec43c1f-2d43-4369-ade6-05c136ec31e7",
        "colab": {
          "base_uri": "https://localhost:8080/",
          "height": 35
        }
      },
      "source": [
        "f = funky()\n",
        "next(f)"
      ],
      "execution_count": 0,
      "outputs": [
        {
          "output_type": "execute_result",
          "data": {
            "text/plain": [
              "1"
            ]
          },
          "metadata": {
            "tags": []
          },
          "execution_count": 196
        }
      ]
    },
    {
      "cell_type": "code",
      "metadata": {
        "id": "Og3Yn8uJkQ4w",
        "colab_type": "code",
        "outputId": "a3681e06-477d-4e88-f25b-e5bf87cfa702",
        "colab": {
          "base_uri": "https://localhost:8080/",
          "height": 35
        }
      },
      "source": [
        "next(f)"
      ],
      "execution_count": 0,
      "outputs": [
        {
          "output_type": "execute_result",
          "data": {
            "text/plain": [
              "2"
            ]
          },
          "metadata": {
            "tags": []
          },
          "execution_count": 197
        }
      ]
    },
    {
      "cell_type": "code",
      "metadata": {
        "id": "qteWFePOkYwF",
        "colab_type": "code",
        "colab": {}
      },
      "source": [
        "##check value\n",
        "val = False\n",
        "if val == True:\n",
        "  print(\"yes\")"
      ],
      "execution_count": 0,
      "outputs": []
    },
    {
      "cell_type": "markdown",
      "metadata": {
        "id": "Y_pr0ArieP7-",
        "colab_type": "text"
      },
      "source": [
        "### Q:  Why are Python Dictionaries so commonly used vs other data structures?"
      ]
    },
    {
      "cell_type": "markdown",
      "metadata": {
        "id": "0k7pv2zFeZ2p",
        "colab_type": "text"
      },
      "source": [
        "A:  They are highly performant, easy to use, and flexible to program with"
      ]
    },
    {
      "cell_type": "code",
      "metadata": {
        "id": "laOR73PneuHn",
        "colab_type": "code",
        "colab": {}
      },
      "source": [
        ""
      ],
      "execution_count": 0,
      "outputs": []
    },
    {
      "cell_type": "markdown",
      "metadata": {
        "id": "P3xpdAnD3aqo",
        "colab_type": "text"
      },
      "source": [
        "### Q: Can use ‘+=1’ to keep adding to the variable instead of replacing it with ‘upper_body_counter = upper_body_counter + 1’?\n",
        "\n",
        "A:  yes ```var +=1``` is *syntatic sugar*\n"
      ]
    },
    {
      "cell_type": "code",
      "metadata": {
        "id": "XVYPRQHE3uUJ",
        "colab_type": "code",
        "outputId": "c92ef341-5580-4c9f-8033-e04c35784a71",
        "colab": {
          "base_uri": "https://localhost:8080/",
          "height": 69
        }
      },
      "source": [
        "count = 0\n",
        "for i in range(3):\n",
        "  count +=1\n",
        "  print(count)"
      ],
      "execution_count": 0,
      "outputs": [
        {
          "output_type": "stream",
          "text": [
            "1\n",
            "2\n",
            "3\n"
          ],
          "name": "stdout"
        }
      ]
    },
    {
      "cell_type": "code",
      "metadata": {
        "id": "nKvaFr4T32T6",
        "colab_type": "code",
        "outputId": "aa1f333e-e3c5-4f41-f694-0da6341e560f",
        "colab": {
          "base_uri": "https://localhost:8080/",
          "height": 69
        }
      },
      "source": [
        "count = 3\n",
        "for i in range(3):\n",
        "  count -=1\n",
        "  print(count)"
      ],
      "execution_count": 0,
      "outputs": [
        {
          "output_type": "stream",
          "text": [
            "2\n",
            "1\n",
            "0\n"
          ],
          "name": "stdout"
        }
      ]
    },
    {
      "cell_type": "code",
      "metadata": {
        "id": "nSZHcS0x37yc",
        "colab_type": "code",
        "colab": {}
      },
      "source": [
        ""
      ],
      "execution_count": 0,
      "outputs": []
    },
    {
      "cell_type": "markdown",
      "metadata": {
        "id": "5Kh5LRGT4CA1",
        "colab_type": "text"
      },
      "source": [
        "### Q: Does a function with ‘return’ instead of using ‘print’ do the same thing?\n",
        "\n",
        "A:  No, these are different mostly"
      ]
    },
    {
      "cell_type": "code",
      "metadata": {
        "id": "3KmJMZvt4HLT",
        "colab_type": "code",
        "outputId": "01a2f350-080f-4e3c-f6ec-8d6d4dc5bc42",
        "colab": {
          "base_uri": "https://localhost:8080/",
          "height": 35
        }
      },
      "source": [
        "#in jupyter notebook, the last line prints automatically\n",
        "var = \"blue\"\n",
        "var"
      ],
      "execution_count": 0,
      "outputs": [
        {
          "output_type": "execute_result",
          "data": {
            "text/plain": [
              "'blue'"
            ]
          },
          "metadata": {
            "tags": []
          },
          "execution_count": 87
        }
      ]
    },
    {
      "cell_type": "code",
      "metadata": {
        "id": "udtd73bF4Mbr",
        "colab_type": "code",
        "colab": {}
      },
      "source": [
        "def simple_color():\n",
        "  print(\"blue\")"
      ],
      "execution_count": 0,
      "outputs": []
    },
    {
      "cell_type": "code",
      "metadata": {
        "id": "3DRH-i3b4YWP",
        "colab_type": "code",
        "outputId": "3fa220e0-2f1f-4fc2-e4b6-3ee018fcc279",
        "colab": {
          "base_uri": "https://localhost:8080/",
          "height": 35
        }
      },
      "source": [
        "simple_color()"
      ],
      "execution_count": 0,
      "outputs": [
        {
          "output_type": "stream",
          "text": [
            "blue\n"
          ],
          "name": "stdout"
        }
      ]
    },
    {
      "cell_type": "code",
      "metadata": {
        "id": "0P7FTeA24aUE",
        "colab_type": "code",
        "colab": {}
      },
      "source": [
        "def simple_color_with_return():\n",
        "  return \"blue\""
      ],
      "execution_count": 0,
      "outputs": []
    },
    {
      "cell_type": "code",
      "metadata": {
        "id": "Cy_LkeXc4iA4",
        "colab_type": "code",
        "outputId": "09818a86-836b-430a-b837-dffcdc9e27bf",
        "colab": {
          "base_uri": "https://localhost:8080/",
          "height": 35
        }
      },
      "source": [
        "simple_color_with_return()"
      ],
      "execution_count": 0,
      "outputs": [
        {
          "output_type": "execute_result",
          "data": {
            "text/plain": [
              "'blue'"
            ]
          },
          "metadata": {
            "tags": []
          },
          "execution_count": 91
        }
      ]
    },
    {
      "cell_type": "code",
      "metadata": {
        "id": "rsvZudbT4lb8",
        "colab_type": "code",
        "outputId": "7226c525-9b46-43b3-80c9-52c3dd354cfb",
        "colab": {
          "base_uri": "https://localhost:8080/",
          "height": 35
        }
      },
      "source": [
        "if simple_color_with_return() == \"blue\":\n",
        "  print(\"green\")"
      ],
      "execution_count": 0,
      "outputs": [
        {
          "output_type": "stream",
          "text": [
            "green\n"
          ],
          "name": "stdout"
        }
      ]
    },
    {
      "cell_type": "code",
      "metadata": {
        "id": "Fnq5fmgH4r0m",
        "colab_type": "code",
        "outputId": "23da5e12-8918-45fe-eed1-8964ca08127f",
        "colab": {
          "base_uri": "https://localhost:8080/",
          "height": 52
        }
      },
      "source": [
        "if simple_color() == \"blue\":\n",
        "  print(\"green\")\n",
        "else:\n",
        "  print(\"the function had no return value\")"
      ],
      "execution_count": 0,
      "outputs": [
        {
          "output_type": "stream",
          "text": [
            "blue\n",
            "the function had no return value\n"
          ],
          "name": "stdout"
        }
      ]
    },
    {
      "cell_type": "code",
      "metadata": {
        "id": "yV2-t0f742vt",
        "colab_type": "code",
        "outputId": "41078e3e-5e2d-4cad-cf2c-84299cd93258",
        "colab": {
          "base_uri": "https://localhost:8080/",
          "height": 69
        }
      },
      "source": [
        "simple_color() == None\n",
        "simple_color() == \"blue\""
      ],
      "execution_count": 0,
      "outputs": [
        {
          "output_type": "stream",
          "text": [
            "blue\n",
            "blue\n"
          ],
          "name": "stdout"
        },
        {
          "output_type": "execute_result",
          "data": {
            "text/plain": [
              "False"
            ]
          },
          "metadata": {
            "tags": []
          },
          "execution_count": 95
        }
      ]
    },
    {
      "cell_type": "markdown",
      "metadata": {
        "id": "SBJKnr3h5P0L",
        "colab_type": "text"
      },
      "source": [
        "A function with no Return value in python return None"
      ]
    },
    {
      "cell_type": "code",
      "metadata": {
        "id": "kutwVeaP47b-",
        "colab_type": "code",
        "colab": {}
      },
      "source": [
        "def some_function_with_no_return():\n",
        "  var = \"blue\""
      ],
      "execution_count": 0,
      "outputs": []
    },
    {
      "cell_type": "code",
      "metadata": {
        "id": "dO9To4Kd5XdR",
        "colab_type": "code",
        "outputId": "849480ec-f1d0-40af-a799-959814d252fb",
        "colab": {
          "base_uri": "https://localhost:8080/",
          "height": 35
        }
      },
      "source": [
        "print(some_function_with_no_return())"
      ],
      "execution_count": 0,
      "outputs": [
        {
          "output_type": "stream",
          "text": [
            "None\n"
          ],
          "name": "stdout"
        }
      ]
    },
    {
      "cell_type": "code",
      "metadata": {
        "id": "Cg0DIphT5bBQ",
        "colab_type": "code",
        "colab": {}
      },
      "source": [
        "def some_function_with_return():\n",
        "  var = \"blue\"\n",
        "  return var"
      ],
      "execution_count": 0,
      "outputs": []
    },
    {
      "cell_type": "code",
      "metadata": {
        "id": "COjEYIo15f2g",
        "colab_type": "code",
        "outputId": "bbfeb73e-d538-4772-e100-b1b65baffa87",
        "colab": {
          "base_uri": "https://localhost:8080/",
          "height": 35
        }
      },
      "source": [
        "print(some_function_with_return())"
      ],
      "execution_count": 0,
      "outputs": [
        {
          "output_type": "stream",
          "text": [
            "blue\n"
          ],
          "name": "stdout"
        }
      ]
    },
    {
      "cell_type": "code",
      "metadata": {
        "id": "RekRZ8485hGB",
        "colab_type": "code",
        "outputId": "8261d591-bad9-4f16-ea44-7710ac1eb98f",
        "colab": {
          "base_uri": "https://localhost:8080/",
          "height": 35
        }
      },
      "source": [
        "result = some_function_with_return()\n",
        "print(f\"The color that is my favorite is {result}, but I also like green\")"
      ],
      "execution_count": 0,
      "outputs": [
        {
          "output_type": "stream",
          "text": [
            "The color that is my favorite is blue, but I also like green\n"
          ],
          "name": "stdout"
        }
      ]
    },
    {
      "cell_type": "code",
      "metadata": {
        "id": "gYqiw7R45zm4",
        "colab_type": "code",
        "colab": {}
      },
      "source": [
        ""
      ],
      "execution_count": 0,
      "outputs": []
    },
    {
      "cell_type": "markdown",
      "metadata": {
        "id": "N9zJtAd5K8AK",
        "colab_type": "text"
      },
      "source": [
        "### Q: the concept of **args and **Kwargs is unclear \n",
        "A:  See below, it allows arbitrary or \"N\" arguments"
      ]
    },
    {
      "cell_type": "code",
      "metadata": {
        "id": "DvyV5WfuK7Qo",
        "colab_type": "code",
        "colab": {}
      },
      "source": [
        "def func_kwargs(**kwargs):\n",
        "  for k,v in kwargs.items():\n",
        "    print(k)\n",
        "    print(v)\n"
      ],
      "execution_count": 0,
      "outputs": []
    },
    {
      "cell_type": "code",
      "metadata": {
        "id": "UwztjJyMLH4i",
        "colab_type": "code",
        "outputId": "9d7c15cc-0824-4b0c-b691-b0584c17f7c5",
        "colab": {
          "base_uri": "https://localhost:8080/",
          "height": 52
        }
      },
      "source": [
        "func_kwargs(one=1)"
      ],
      "execution_count": 0,
      "outputs": [
        {
          "output_type": "stream",
          "text": [
            "one\n",
            "1\n"
          ],
          "name": "stdout"
        }
      ]
    },
    {
      "cell_type": "code",
      "metadata": {
        "id": "APp3w_bPLLEO",
        "colab_type": "code",
        "outputId": "6de40486-8bd2-4b01-f5e1-6368536ba919",
        "colab": {
          "base_uri": "https://localhost:8080/",
          "height": 87
        }
      },
      "source": [
        "func_kwargs(one=1, two=2)"
      ],
      "execution_count": 0,
      "outputs": [
        {
          "output_type": "stream",
          "text": [
            "one\n",
            "1\n",
            "two\n",
            "2\n"
          ],
          "name": "stdout"
        }
      ]
    },
    {
      "cell_type": "code",
      "metadata": {
        "id": "5UrKgeVuLOnG",
        "colab_type": "code",
        "colab": {}
      },
      "source": [
        ""
      ],
      "execution_count": 0,
      "outputs": []
    },
    {
      "cell_type": "markdown",
      "metadata": {
        "id": "378G9oDxLd7J",
        "colab_type": "text"
      },
      "source": [
        "### Q: What is a dataframe\n",
        "A:  Another data structure in Python, but like an excel spreadsheet:  columns and rows."
      ]
    },
    {
      "cell_type": "code",
      "metadata": {
        "id": "QkKST1NYLfS3",
        "colab_type": "code",
        "colab": {}
      },
      "source": [
        "import pandas as pd\n",
        "mydict= {}\n",
        "mylist = []\n",
        "mydf = pd.DataFrame()"
      ],
      "execution_count": 0,
      "outputs": []
    },
    {
      "cell_type": "code",
      "metadata": {
        "id": "N-a8rJmRLlBg",
        "colab_type": "code",
        "colab": {}
      },
      "source": [
        ""
      ],
      "execution_count": 0,
      "outputs": []
    },
    {
      "cell_type": "markdown",
      "metadata": {
        "id": "Cs7ArpjKLuwo",
        "colab_type": "text"
      },
      "source": [
        "####Q: how to call python from Java ? Is it common to do that ? "
      ]
    },
    {
      "cell_type": "markdown",
      "metadata": {
        "id": "ZrumlDYtLygc",
        "colab_type": "text"
      },
      "source": [
        "* use jython\n",
        "* common in Spark"
      ]
    },
    {
      "cell_type": "markdown",
      "metadata": {
        "id": "LfUglt-sMJYX",
        "colab_type": "text"
      },
      "source": [
        "How does the performance effect while handling huge files in python?"
      ]
    },
    {
      "cell_type": "code",
      "metadata": {
        "id": "7YfphOknLw3I",
        "colab_type": "code",
        "colab": {}
      },
      "source": [
        ""
      ],
      "execution_count": 0,
      "outputs": []
    },
    {
      "cell_type": "markdown",
      "metadata": {
        "id": "QDEkX_VWYNWb",
        "colab_type": "text"
      },
      "source": [
        "#### Q: How to import module written in Colab into another Colab script?"
      ]
    },
    {
      "cell_type": "markdown",
      "metadata": {
        "id": "QJ5nd70ib29V",
        "colab_type": "text"
      },
      "source": [
        ""
      ]
    },
    {
      "cell_type": "markdown",
      "metadata": {
        "id": "yhFN9Oi3k8jX",
        "colab_type": "text"
      },
      "source": [
        "### How is a string stored in Memory is it like Java?"
      ]
    },
    {
      "cell_type": "markdown",
      "metadata": {
        "id": "jcCijtOYlMK2",
        "colab_type": "text"
      },
      "source": [
        ""
      ]
    },
    {
      "cell_type": "markdown",
      "metadata": {
        "id": "30kFSdZDmw1H",
        "colab_type": "text"
      },
      "source": [
        "### How do I format a number with f-string"
      ]
    },
    {
      "cell_type": "markdown",
      "metadata": {
        "id": "xGks5H3hm4YE",
        "colab_type": "text"
      },
      "source": [
        "I want 1.200 with the two trailing zeros, rather than the default 1.2.\n",
        "\n",
        "Check out this [stackoverflow article](https://stackoverflow.com/questions/45310254/fixed-digits-after-decimal-with-f-strings).\n"
      ]
    },
    {
      "cell_type": "code",
      "metadata": {
        "id": "qTPw7MjaPcVc",
        "colab_type": "code",
        "outputId": "59f14533-3021-4fbe-88e3-102d143c6761",
        "colab": {
          "base_uri": "https://localhost:8080/",
          "height": 34
        }
      },
      "source": [
        "fancy_formatting = 3.141592653\n",
        "print(f'Only print two digits: {fancy_formatting:.2f}')"
      ],
      "execution_count": 0,
      "outputs": [
        {
          "output_type": "stream",
          "text": [
            "Only print two digits: 3.14\n"
          ],
          "name": "stdout"
        }
      ]
    },
    {
      "cell_type": "markdown",
      "metadata": {
        "id": "cr5eNnd8lLiO",
        "colab_type": "text"
      },
      "source": [
        "## Could give me an example of OOP kind of idea implemented in functional style"
      ]
    },
    {
      "cell_type": "markdown",
      "metadata": {
        "id": "jx9nJqXSlUQ8",
        "colab_type": "text"
      },
      "source": [
        "Yes, the nested function with local state is an example of keeping and modify"
      ]
    },
    {
      "cell_type": "markdown",
      "metadata": {
        "id": "HWYlnEcaoGfx",
        "colab_type": "text"
      },
      "source": [
        "### What are some examples of filtering rows in a pandas DataFrame\n"
      ]
    },
    {
      "cell_type": "markdown",
      "metadata": {
        "id": "T7PLV9pJoL4f",
        "colab_type": "text"
      },
      "source": [
        ""
      ]
    },
    {
      "cell_type": "markdown",
      "metadata": {
        "id": "fQhEoJu1tNRe",
        "colab_type": "text"
      },
      "source": [
        "## References"
      ]
    },
    {
      "cell_type": "markdown",
      "metadata": {
        "id": "u6BaXDS7tQTD",
        "colab_type": "text"
      },
      "source": [
        "*   [Pragmatic AI: An Introduction to Cloud-Based Machine Learning-Physical Book](http://www.informit.com/store/pragmatic-ai-an-introduction-to-cloud-based-machine-9780134863917)\n",
        "*   [Pragmatic AI: Pragmatic AI: An Introduction to Cloud-Based Machine Learning-SafariOnline Book](https://www.safaribooksonline.com/library/view/pragmatic-ai-an/9780134863924/)\n",
        "*  [Essential Machine Learning and AI with Python and Jupyter Notebook-Video-SafariOnline](https://www.safaribooksonline.com/videos/essential-machine-learning/9780135261118)\n",
        "* [Essential Machine Learning and AI with Python and Jupyter Notebook- Purchase Video](http://www.informit.com/store/essential-machine-learning-and-ai-with-python-and-jupyter-9780135261095)\n",
        "*   [noahgift.com](https://noahgift.com/)\n",
        "*   [paiml.com](https://paiml.com/)\n",
        "* [Forbes:  Here come the notebooks](https://www.forbes.com/sites/forbestechcouncil/2018/08/17/here-come-the-notebooks/#766563807609)\n",
        "* [Circleci:  Increase reliability in data science and ML projects](https://circleci.com/blog/increase-reliability-in-data-science-and-machine-learning-projects-with-circleci/)"
      ]
    },
    {
      "cell_type": "markdown",
      "metadata": {
        "id": "dfXrpizuK5Sm",
        "colab_type": "text"
      },
      "source": [
        "![ecosystem](https://user-images.githubusercontent.com/58792/64554498-8a4d5100-d309-11e9-8aa5-bbbd8ebcf130.png)"
      ]
    },
    {
      "cell_type": "code",
      "metadata": {
        "id": "AfEYCS0MK-15",
        "colab_type": "code",
        "colab": {}
      },
      "source": [
        ""
      ],
      "execution_count": 0,
      "outputs": []
    }
  ]
}